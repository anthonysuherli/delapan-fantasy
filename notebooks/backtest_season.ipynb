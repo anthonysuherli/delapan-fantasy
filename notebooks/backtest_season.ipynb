{
 "cells": [
  {
   "cell_type": "markdown",
   "metadata": {},
   "source": [
    "# NBA DFS Season Backtest - Per Player Models with Benchmark Comparison\n",
    "\n",
    "Walk-forward backtesting across multiple slates using per-player XGBoost models and season average benchmark comparison.\n",
    "\n",
    "## Methodology\n",
    "\n",
    "1. Load historical data for training\n",
    "2. Build features using YAML-configured rolling statistics\n",
    "3. Train separate XGBoost model per player on historical data\n",
    "4. Calculate season average benchmark for comparison\n",
    "5. Walk forward through test period, generating predictions for each slate\n",
    "6. Compare predictions to actual results\n",
    "7. Analyze model vs benchmark performance overall and by salary tier\n",
    "8. Statistical significance testing across all slates"
   ]
  },
  {
   "cell_type": "markdown",
   "metadata": {},
   "source": [
    "## Setup"
   ]
  },
  {
   "cell_type": "code",
   "execution_count": 6,
   "metadata": {},
   "outputs": [
    {
     "name": "stdout",
     "output_type": "stream",
     "text": [
      "Setup complete\n"
     ]
    }
   ],
   "source": [
    "import sys\n",
    "from pathlib import Path\n",
    "import logging\n",
    "import pandas as pd\n",
    "import numpy as np\n",
    "import plotly.graph_objects as go\n",
    "import plotly.express as px\n",
    "from plotly.subplots import make_subplots\n",
    "from datetime import datetime, timedelta\n",
    "from tqdm import tqdm\n",
    "from scipy import stats\n",
    "\n",
    "repo_root = Path.cwd().parent\n",
    "if str(repo_root) not in sys.path:\n",
    "    sys.path.insert(0, str(repo_root))\n",
    "\n",
    "from src.data.storage.sqlite_storage import SQLiteStorage\n",
    "from src.data.loaders.historical_loader import HistoricalDataLoader\n",
    "from src.models.xgboost_model import XGBoostModel\n",
    "from src.features.pipeline import FeaturePipeline\n",
    "from src.features.transformers.rolling_stats import RollingStatsTransformer\n",
    "from src.features.transformers.ewma import EWMATransformer\n",
    "from src.utils.fantasy_points import calculate_dk_fantasy_points\n",
    "from src.evaluation.metrics.accuracy import MAPEMetric, RMSEMetric, MAEMetric, CorrelationMetric\n",
    "from src.evaluation.benchmarks.season_average import SeasonAverageBenchmark\n",
    "from src.utils.feature_config import load_feature_config\n",
    "\n",
    "pd.set_option('display.max_rows', 20)\n",
    "pd.set_option('display.max_columns', None)\n",
    "pd.set_option('display.width', None)\n",
    "\n",
    "logging.basicConfig(\n",
    "    level=logging.INFO,\n",
    "    format='%(asctime)s - %(name)s - %(levelname)s - %(message)s'\n",
    ")\n",
    "logger = logging.getLogger(__name__)\n",
    "\n",
    "print('Setup complete')"
   ]
  },
  {
   "cell_type": "markdown",
   "metadata": {},
   "source": [
    "## Configuration"
   ]
  },
  {
   "cell_type": "code",
   "execution_count": 12,
   "metadata": {},
   "outputs": [
    {
     "name": "stderr",
     "output_type": "stream",
     "text": [
      "2025-10-13 03:54:33,661 - src.utils.feature_config - INFO - Loaded feature config: Default Feature Set\n"
     ]
    },
    {
     "name": "stdout",
     "output_type": "stream",
     "text": [
      "Configuration:\n",
      "  Database: c:\\Users\\antho\\OneDrive\\Documents\\Repositories\\delapan-fantasy\\nba_dfs.db\n",
      "  Output Directory: c:\\Users\\antho\\OneDrive\\Documents\\Repositories\\delapan-fantasy\\data\\outputs\n",
      "  Models Directory: c:\\Users\\antho\\OneDrive\\Documents\\Repositories\\delapan-fantasy\\data\\models\n",
      "  Save Models: True\n",
      "  Feature Config: default_features\n",
      "  Training Period: 20241001 to 20250205\n",
      "  Testing Period: 20250205 to 20250206\n",
      "  Number of Seasons: 1\n",
      "  Min Player Games: 10\n",
      "  Min Benchmark Games: 5\n",
      "  Salary Tiers: [0, 4000, 6000, 8000, 15000]\n"
     ]
    }
   ],
   "source": [
    "DB_PATH = repo_root / 'nba_dfs.db'\n",
    "OUTPUT_DIR = repo_root / 'data' / 'outputs'\n",
    "MODELS_DIR = repo_root / 'data' / 'models'\n",
    "\n",
    "NUM_SEASONS = 1\n",
    "FEATURE_CONFIG = 'default_features'\n",
    "MIN_PLAYER_GAMES = 10\n",
    "MIN_GAMES_FOR_BENCHMARK = 5\n",
    "\n",
    "# Model saving configuration\n",
    "SAVE_MODELS = True  # Set to True to save models during backtesting\n",
    "\n",
    "feature_config = load_feature_config(FEATURE_CONFIG)\n",
    "\n",
    "TEST_START = '20250205'\n",
    "TEST_END = '20250206'\n",
    "\n",
    "TRAIN_START = HistoricalDataLoader.get_season_start_date(TEST_START) if NUM_SEASONS == 1 else HistoricalDataLoader.get_previous_season_start_date(TEST_START)\n",
    "TEST_END_DT = datetime.strptime(TEST_END, '%Y%m%d')\n",
    "TRAIN_END = (TEST_END_DT - timedelta(days=1)).strftime('%Y%m%d')\n",
    "\n",
    "SALARY_TIERS = [0, 4000, 6000, 8000, 15000]\n",
    "\n",
    "print(f'Configuration:')\n",
    "print(f'  Database: {DB_PATH}')\n",
    "print(f'  Output Directory: {OUTPUT_DIR}')\n",
    "print(f'  Models Directory: {MODELS_DIR}')\n",
    "print(f'  Save Models: {SAVE_MODELS}')\n",
    "print(f'  Feature Config: {FEATURE_CONFIG}')\n",
    "print(f'  Training Period: {TRAIN_START} to {TRAIN_END}')\n",
    "print(f'  Testing Period: {TEST_START} to {TEST_END}')\n",
    "print(f'  Number of Seasons: {NUM_SEASONS}')\n",
    "print(f'  Min Player Games: {MIN_PLAYER_GAMES}')\n",
    "print(f'  Min Benchmark Games: {MIN_GAMES_FOR_BENCHMARK}')\n",
    "print(f'  Salary Tiers: {SALARY_TIERS}')"
   ]
  },
  {
   "cell_type": "markdown",
   "metadata": {},
   "source": [
    "## Data Loading"
   ]
  },
  {
   "cell_type": "code",
   "execution_count": 13,
   "metadata": {},
   "outputs": [
    {
     "name": "stderr",
     "output_type": "stream",
     "text": [
      "2025-10-13 03:54:34,736 - src.data.storage.sqlite_storage - INFO - Initialized SQLiteStorage with database: c:\\Users\\antho\\OneDrive\\Documents\\Repositories\\delapan-fantasy\\nba_dfs.db\n",
      "2025-10-13 03:54:34,736 - src.data.loaders.historical_loader - INFO - Loading historical player logs (from 20241001 to 20250205)\n",
      "2025-10-13 03:54:34,845 - src.data.loaders.historical_loader - INFO - Loaded 16022 player logs from 2024-10-22 00:00:00 to 2025-02-04 00:00:00\n"
     ]
    },
    {
     "name": "stdout",
     "output_type": "stream",
     "text": [
      "Loading historical training data...\n",
      "Loaded 16022 training samples\n",
      "Players: 528\n",
      "Date range: 2024-10-22 00:00:00 to 2025-02-04 00:00:00\n",
      "\n",
      "Sample training data:\n",
      "       playerID                  longName team teamAbv teamID  \\\n",
      "0   28968646399             Rui Hachimura  LAL     LAL     14   \n",
      "1   28828385129              Gabe Vincent  LAL     LAL     14   \n",
      "2   28858866027                  Naz Reid  MIN     MIN     18   \n",
      "3  942947235539              Max Christie  LAL     LAL     14   \n",
      "4   28236562792               Mike Conley  MIN     MIN     18   \n",
      "5   28268636399             Austin Reaves  LAL     LAL     14   \n",
      "6   28438011729             Julius Randle  MIN     MIN     18   \n",
      "7   28838935349               Rudy Gobert  MIN     MIN     18   \n",
      "8   28198607869  Nickeil Alexander-Walker  MIN     MIN     18   \n",
      "9   94344202027           Anthony Edwards  MIN     MIN     18   \n",
      "\n",
      "             gameID   gameDate pos mins pts reb ast stl blk TOV PF fga fgm  \\\n",
      "0  20241022_MIN@LAL 2024-10-22       35  18   5   1   2   1   0  2  14   7   \n",
      "1  20241022_MIN@LAL 2024-10-22       17   2   2   2   0   0   2  1   2   1   \n",
      "2  20241022_MIN@LAL 2024-10-22       26  12   4   1   0   0   1  3   8   3   \n",
      "3  20241022_MIN@LAL 2024-10-22       11   2   2   0   0   0   0  5   3   0   \n",
      "4  20241022_MIN@LAL 2024-10-22       20   5   4   2   1   0   3  1   7   1   \n",
      "5  20241022_MIN@LAL 2024-10-22       36  12   9   4   1   1   0  4  14   6   \n",
      "6  20241022_MIN@LAL 2024-10-22       34  16   9   4   0   0   2  3  10   5   \n",
      "7  20241022_MIN@LAL 2024-10-22       35  13  14   2   0   1   1  4   8   5   \n",
      "8  20241022_MIN@LAL 2024-10-22       28  14   5   0   0   0   2  0   7   5   \n",
      "9  20241022_MIN@LAL 2024-10-22       41  27   6   3   0   0   4  3  25  10   \n",
      "\n",
      "    fgp fta ftm    ftp tptfga tptfgm tptfgp OffReb DefReb fantasyPoints  \\\n",
      "0  50.0   4   3   75.0      4      1   25.0      3      2         34.75   \n",
      "1  50.0   0   0      0      0      0      0      0      2           5.5   \n",
      "2  37.5   4   4  100.0      4      2   50.0      1      3          17.5   \n",
      "3   0.0   2   2  100.0      3      0    0.0      1      1           4.5   \n",
      "4  14.3   3   3  100.0      5      0    0.0      2      2          13.0   \n",
      "5  42.9   1   0    0.0      5      0    0.0      4      5         35.25   \n",
      "6  50.0   7   5   71.4      3      1   33.3      3      6         31.25   \n",
      "7  62.5   4   3   75.0      0      0      0      3     11          35.5   \n",
      "8  71.4   2   1   50.0      4      3   75.0      2      3         18.25   \n",
      "9  40.0   3   2   66.7     13      5   38.5      0      6          35.0   \n",
      "\n",
      "  fantasyPts plusMinus  usage tech           created_at   fpts  \n",
      "0                  +19  19.13    0  2025-10-06 12:32:44  31.75  \n",
      "1                   -2   9.99    0  2025-10-06 12:32:44   6.50  \n",
      "2                   -6   17.6    0  2025-10-06 12:32:44  18.00  \n",
      "3                   -5  14.98    0  2025-10-06 12:32:44   4.50  \n",
      "4                  -22  24.07    0  2025-10-06 12:32:44  13.50  \n",
      "5                  +12  17.04    0  2025-10-06 12:32:44  33.25  \n",
      "6                   +2  18.86    0  2025-10-06 12:32:44  32.25  \n",
      "7                  -10  13.07    0  2025-10-06 12:32:44  36.50  \n",
      "8                  +13   15.0    0  2025-10-06 12:32:44  19.25  \n",
      "9                    0  31.45    0  2025-10-06 12:32:44  37.00  \n"
     ]
    }
   ],
   "source": [
    "storage = SQLiteStorage(str(DB_PATH))\n",
    "loader = HistoricalDataLoader(storage)\n",
    "\n",
    "print('Loading historical training data...')\n",
    "training_data = loader.load_historical_player_logs(start_date=TRAIN_START, end_date=TRAIN_END)\n",
    "\n",
    "print(f'Loaded {len(training_data)} training samples')\n",
    "print(f'Players: {training_data[\"playerID\"].nunique()}')\n",
    "print(f'Date range: {training_data[\"gameDate\"].min()} to {training_data[\"gameDate\"].max()}')\n",
    "\n",
    "training_data['gameDate'] = pd.to_datetime(training_data['gameDate'], format='%Y%m%d', errors='coerce')\n",
    "\n",
    "if 'fpts' not in training_data.columns:\n",
    "    training_data['fpts'] = training_data.apply(calculate_dk_fantasy_points, axis=1)\n",
    "\n",
    "print(f'\\nSample training data:')\n",
    "print(training_data.head(10))"
   ]
  },
  {
   "cell_type": "markdown",
   "metadata": {},
   "source": [
    "## Feature Pipeline"
   ]
  },
  {
   "cell_type": "code",
   "execution_count": 14,
   "metadata": {},
   "outputs": [
    {
     "name": "stderr",
     "output_type": "stream",
     "text": [
      "2025-10-13 03:54:35,941 - src.utils.feature_config - INFO - Added RollingStatsTransformer: windows=[3, 5, 10], stats=21, include_std=True\n",
      "2025-10-13 03:54:35,941 - src.utils.feature_config - INFO - Added EWMATransformer: span=5, stats=21\n"
     ]
    },
    {
     "name": "stdout",
     "output_type": "stream",
     "text": [
      "Feature pipeline configured with 2 transformers:\n",
      "  1. RollingStatsTransformer\n",
      "  2. EWMATransformer\n",
      "\n",
      "Building features from training data...\n"
     ]
    },
    {
     "name": "stderr",
     "output_type": "stream",
     "text": [
      "                                                                    "
     ]
    },
    {
     "name": "stdout",
     "output_type": "stream",
     "text": [
      "Generated 16022 feature rows\n",
      "Feature columns: 147\n",
      "\n",
      "Feature columns:\n",
      "  ewma_DefReb_5\n",
      "  ewma_OffReb_5\n",
      "  ewma_PF_5\n",
      "  ewma_TOV_5\n",
      "  ewma_ast_5\n",
      "  ewma_blk_5\n",
      "  ewma_fga_5\n",
      "  ewma_fgm_5\n",
      "  ewma_fgp_5\n",
      "  ewma_fta_5\n",
      "  ewma_ftm_5\n",
      "  ewma_ftp_5\n",
      "  ewma_mins_5\n",
      "  ewma_plusMinus_5\n",
      "  ewma_pts_5\n",
      "  ewma_reb_5\n",
      "  ewma_stl_5\n",
      "  ewma_tptfga_5\n",
      "  ewma_tptfgm_5\n",
      "  ewma_tptfgp_5\n",
      "  ... and 127 more\n"
     ]
    },
    {
     "name": "stderr",
     "output_type": "stream",
     "text": [
      "\r"
     ]
    }
   ],
   "source": [
    "pipeline = feature_config.build_pipeline(FeaturePipeline)\n",
    "\n",
    "print(f'Feature pipeline configured with {len(pipeline.transformers)} transformers:')\n",
    "for i, transformer in enumerate(pipeline.transformers, 1):\n",
    "    print(f'  {i}. {transformer.__class__.__name__}')\n",
    "\n",
    "print('\\nBuilding features from training data...')\n",
    "training_data_sorted = training_data.sort_values(['playerID', 'gameDate'])\n",
    "training_features = pipeline.fit_transform(training_data_sorted)\n",
    "\n",
    "print(f'Generated {len(training_features)} feature rows')\n",
    "print(f'Feature columns: {len([col for col in training_features.columns if col.startswith((\"rolling_\", \"ewma_\"))])}')\n",
    "\n",
    "print(f'\\nFeature columns:')\n",
    "feature_cols = [col for col in training_features.columns if col.startswith((\"rolling_\", \"ewma_\"))]\n",
    "for col in sorted(feature_cols)[:20]:\n",
    "    print(f'  {col}')\n",
    "if len(feature_cols) > 20:\n",
    "    print(f'  ... and {len(feature_cols) - 20} more')"
   ]
  },
  {
   "cell_type": "markdown",
   "metadata": {},
   "source": [
    "## Initialize Benchmark\n",
    "\n",
    "Create season average benchmark for comparison with per-player models."
   ]
  },
  {
   "cell_type": "code",
   "execution_count": 15,
   "metadata": {},
   "outputs": [
    {
     "name": "stderr",
     "output_type": "stream",
     "text": [
      "2025-10-13 03:54:48,008 - src.evaluation.benchmarks.season_average - INFO - Fitted benchmark for 493 players (min_games=5)\n"
     ]
    },
    {
     "name": "stdout",
     "output_type": "stream",
     "text": [
      "Benchmark fitted for 493 players\n",
      "  (min_games=5)\n",
      "\n",
      "Top 10 player averages:\n",
      "  Nikola Jokic: 66.59 fpts\n",
      "  Giannis Antetokounmpo: 60.13 fpts\n",
      "  Luka Doncic: 54.26 fpts\n",
      "  Victor Wembanyama: 53.06 fpts\n",
      "  Anthony Davis: 52.52 fpts\n",
      "  Shai Gilgeous-Alexander: 52.34 fpts\n",
      "  Domantas Sabonis: 50.48 fpts\n",
      "  Karl-Anthony Towns: 49.87 fpts\n",
      "  Cade Cunningham: 49.41 fpts\n",
      "  LeBron James: 49.09 fpts\n"
     ]
    }
   ],
   "source": [
    "df_qualified = training_features[training_features.groupby('playerID')['playerID'].transform('size') >= MIN_GAMES_FOR_BENCHMARK].copy()\n",
    "\n",
    "benchmark = SeasonAverageBenchmark(min_games=MIN_GAMES_FOR_BENCHMARK)\n",
    "benchmark.fit(df_qualified)\n",
    "\n",
    "print(f'Benchmark fitted for {len(benchmark.player_averages)} players')\n",
    "print(f'  (min_games={MIN_GAMES_FOR_BENCHMARK})')\n",
    "\n",
    "print(f'\\nTop 10 player averages:')\n",
    "top_averages = sorted(benchmark.player_averages.items(), key=lambda x: x[1], reverse=True)[:10]\n",
    "for player_id, avg_fpts in top_averages:\n",
    "    player_name = df_qualified[df_qualified['playerID'] == player_id]['longName'].iloc[0] if player_id in df_qualified['playerID'].values else 'Unknown'\n",
    "    print(f'  {player_name}: {avg_fpts:.2f} fpts')"
   ]
  },
  {
   "cell_type": "markdown",
   "metadata": {},
   "source": [
    "## Walk-Forward Validation\n",
    "\n",
    "Train per-player models and generate predictions for each test slate."
   ]
  },
  {
   "cell_type": "code",
   "execution_count": 16,
   "metadata": {},
   "outputs": [
    {
     "name": "stderr",
     "output_type": "stream",
     "text": [
      "2025-10-13 03:54:48,053 - src.data.loaders.historical_loader - INFO - Found 1 slate dates from 20250205 to 20250206\n"
     ]
    },
    {
     "name": "stdout",
     "output_type": "stream",
     "text": [
      "Found 1 slates to backtest\n",
      "Date range: 20250205 to 20250205\n"
     ]
    },
    {
     "name": "stderr",
     "output_type": "stream",
     "text": [
      "Backtesting slates:   0%|          | 0/1 [00:00<?, ?it/s]2025-10-13 03:54:48,056 - src.data.loaders.historical_loader - INFO - Loading slate data for 20250205\n"
     ]
    },
    {
     "name": "stdout",
     "output_type": "stream",
     "text": [
      "\n",
      "============================================================\n",
      "Processing Slate: 20250205\n",
      "============================================================\n"
     ]
    },
    {
     "name": "stderr",
     "output_type": "stream",
     "text": [
      "2025-10-13 03:54:48,086 - src.data.loaders.historical_loader - INFO - Loaded slate data: 1139 salaries, 11 games\n"
     ]
    },
    {
     "name": "stdout",
     "output_type": "stream",
     "text": [
      "  Found 1139 players with salaries\n",
      "  Saving models to: c:\\Users\\antho\\OneDrive\\Documents\\Repositories\\delapan-fantasy\\data\\models\\per_player\\20250205\n",
      "  Training slate-wide model with 33862 samples from 985 players\n"
     ]
    },
    {
     "name": "stderr",
     "output_type": "stream",
     "text": [
      "Backtesting slates: 100%|██████████| 1/1 [03:28<00:00, 208.78s/it]"
     ]
    },
    {
     "name": "stdout",
     "output_type": "stream",
     "text": [
      "  Saved slate-wide model to: c:\\Users\\antho\\OneDrive\\Documents\\Repositories\\delapan-fantasy\\data\\models\\per_slate\\20250205_slate_model.pkl\n",
      "  Models trained: 985\n",
      "  Per-player models saved: 985\n",
      "  Players skipped (insufficient data): 154\n",
      "  Generated 985 predictions\n",
      "  Saved slate predictions to: c:\\Users\\antho\\OneDrive\\Documents\\Repositories\\delapan-fantasy\\data\\models\\per_slate\\20250205.parquet\n",
      "  Matched 705 players with actual results\n",
      "\n",
      "  Performance Metrics:\n",
      "  ========================================\n",
      "  Model Performance:\n",
      "    MAPE: 92.85%\n",
      "    RMSE: 12.35\n",
      "    MAE:  9.68\n",
      "    Correlation: 0.663\n",
      "\n",
      "  Benchmark Performance:\n",
      "    MAPE: 87.28%\n",
      "    RMSE: 10.30\n",
      "\n",
      "  Improvement over Benchmark:\n",
      "    MAPE: -5.57% (Worse)\n",
      "\n",
      "  Fantasy Points Summary:\n",
      "    Mean Actual: 21.40\n",
      "    Mean Projected: 21.14\n",
      "    Mean Error: -0.26\n",
      "\n",
      "  Performance by Salary Tier:\n",
      "    Low: MAPE=102.3% (n=432)\n",
      "    Elite: MAPE=37.5% (n=52)\n",
      "    High: MAPE=54.9% (n=60)\n",
      "    Mid: MAPE=100.8% (n=161)\n",
      "\n",
      "============================================================\n",
      "Completed backtest for 1 slates\n",
      "Total predictions: 705\n",
      "Total per-player models saved: 985\n",
      "Models directory: c:\\Users\\antho\\OneDrive\\Documents\\Repositories\\delapan-fantasy\\data\\models\n",
      "============================================================\n"
     ]
    },
    {
     "name": "stderr",
     "output_type": "stream",
     "text": [
      "\n"
     ]
    }
   ],
   "source": [
    "import pickle\n",
    "import os\n",
    "\n",
    "slate_dates = loader.load_slate_dates(TEST_START, TEST_END)\n",
    "\n",
    "print(f'Found {len(slate_dates)} slates to backtest')\n",
    "print(f'Date range: {slate_dates[0]} to {slate_dates[-1]}')\n",
    "\n",
    "results_list = []\n",
    "all_predictions = []\n",
    "\n",
    "mape_metric = MAPEMetric()\n",
    "rmse_metric = RMSEMetric()\n",
    "mae_metric = MAEMetric()\n",
    "corr_metric = CorrelationMetric()\n",
    "\n",
    "for test_date in tqdm(slate_dates, desc='Backtesting slates'):\n",
    "    print(f'\\n{\"=\"*60}')\n",
    "    print(f'Processing Slate: {test_date}')\n",
    "    print(f'{\"=\"*60}')\n",
    "\n",
    "    slate_data = loader.load_slate_data(test_date)\n",
    "    salaries_df = slate_data.get('dfs_salaries', pd.DataFrame())\n",
    "\n",
    "    if salaries_df.empty:\n",
    "        logger.warning(f'No salary data for {test_date}, skipping')\n",
    "        continue\n",
    "\n",
    "    print(f'  Found {len(salaries_df)} players with salaries')\n",
    "\n",
    "    # Create directory for this date's models if saving\n",
    "    if SAVE_MODELS:\n",
    "        date_models_dir = MODELS_DIR / 'per_player' / test_date\n",
    "        date_models_dir.mkdir(parents=True, exist_ok=True)\n",
    "        slate_models_dir = MODELS_DIR / 'per_slate'\n",
    "        slate_models_dir.mkdir(parents=True, exist_ok=True)\n",
    "        print(f'  Saving models to: {date_models_dir}')\n",
    "\n",
    "    slate_predictions = []\n",
    "    models_trained = 0\n",
    "    models_saved = 0\n",
    "    players_skipped_insufficient_data = 0\n",
    "    \n",
    "    # Collect all slate training data for slate-wide model\n",
    "    slate_X_train_list = []\n",
    "    slate_y_train_list = []\n",
    "    slate_playerid_list = []\n",
    "\n",
    "    for _, player_row in salaries_df.iterrows():\n",
    "        player_id = player_row.get('playerID')\n",
    "        player_name = player_row.get('longName', player_row.get('playerName', ''))\n",
    "\n",
    "        player_training_data = training_features[training_features['playerID'] == player_id].copy()\n",
    "\n",
    "        if len(player_training_data) < MIN_PLAYER_GAMES:\n",
    "            players_skipped_insufficient_data += 1\n",
    "            continue\n",
    "\n",
    "        try:\n",
    "            metadata_cols = ['playerID', 'longName', 'playerName', 'team', 'pos', 'gameDate', 'fpts']\n",
    "            feature_cols = [col for col in player_training_data.columns if col not in metadata_cols and col.startswith(('rolling_', 'ewma_'))]\n",
    "\n",
    "            X_train = player_training_data[feature_cols].fillna(0)\n",
    "            y_train = player_training_data['fpts']\n",
    "\n",
    "            if len(X_train) < 3 or y_train.isna().all():\n",
    "                continue\n",
    "\n",
    "            # Add to slate-wide training data\n",
    "            slate_X_train_list.append(X_train)\n",
    "            slate_y_train_list.append(y_train)\n",
    "            slate_playerid_list.extend([player_id] * len(X_train))\n",
    "\n",
    "            # Train per-player model\n",
    "            model = XGBoostModel()\n",
    "            model.train(X_train, y_train)\n",
    "            models_trained += 1\n",
    "\n",
    "            # Save the per-player model if configured\n",
    "            if SAVE_MODELS:\n",
    "                try:\n",
    "                    # Clean player name for filename (remove special characters)\n",
    "                    clean_name = ''.join(c if c.isalnum() or c in (' ', '-', '_') else '_' for c in player_name)\n",
    "                    clean_name = clean_name.replace(' ', '_').lower()\n",
    "                    \n",
    "                    # Create filename with player ID and name\n",
    "                    model_filename = f\"{player_id}_{clean_name}.pkl\"\n",
    "                    model_path = date_models_dir / model_filename\n",
    "                    \n",
    "                    # Save model\n",
    "                    model.save(str(model_path))\n",
    "                    \n",
    "                    # Also save feature columns for this model\n",
    "                    feature_cols_path = date_models_dir / f\"{player_id}_{clean_name}_features.pkl\"\n",
    "                    with open(feature_cols_path, 'wb') as f:\n",
    "                        pickle.dump(feature_cols, f)\n",
    "                    \n",
    "                    models_saved += 1\n",
    "                    \n",
    "                except Exception as save_error:\n",
    "                    logger.warning(f'Error saving model for {player_name}: {str(save_error)}')\n",
    "\n",
    "            latest_features = X_train.iloc[[-1]]\n",
    "            prediction = model.predict(latest_features)[0]\n",
    "\n",
    "            slate_predictions.append({\n",
    "                'date': test_date,\n",
    "                'playerID': player_id,\n",
    "                'playerName': player_name,\n",
    "                'team': player_row.get('team', ''),\n",
    "                'pos': player_row.get('pos', ''),\n",
    "                'salary': player_row.get('salary', 0),\n",
    "                'projected_fpts': prediction,\n",
    "                'benchmark_pred': benchmark.player_averages.get(player_id, 0)\n",
    "            })\n",
    "\n",
    "        except Exception as e:\n",
    "            logger.warning(f'Error training model for {player_name} on {test_date}: {str(e)}')\n",
    "            continue\n",
    "\n",
    "    # Train and save slate-wide model if we have data\n",
    "    if SAVE_MODELS and slate_X_train_list:\n",
    "        try:\n",
    "            # Combine all player data for slate-wide model\n",
    "            slate_X_combined = pd.concat(slate_X_train_list, ignore_index=True)\n",
    "            slate_y_combined = pd.concat(slate_y_train_list, ignore_index=True)\n",
    "            \n",
    "            print(f'  Training slate-wide model with {len(slate_X_combined)} samples from {len(slate_X_train_list)} players')\n",
    "            \n",
    "            # Train slate-wide model\n",
    "            slate_model = XGBoostModel()\n",
    "            slate_model.train(slate_X_combined, slate_y_combined)\n",
    "            \n",
    "            # Save slate-wide model\n",
    "            slate_model_path = slate_models_dir / f\"{test_date}_slate_model.pkl\"\n",
    "            slate_model.save(str(slate_model_path))\n",
    "            \n",
    "            # Save feature columns for slate model\n",
    "            slate_features_path = slate_models_dir / f\"{test_date}_slate_features.pkl\"\n",
    "            with open(slate_features_path, 'wb') as f:\n",
    "                pickle.dump(feature_cols, f)\n",
    "            \n",
    "            # Save player ID mapping for slate model\n",
    "            slate_playerids_path = slate_models_dir / f\"{test_date}_slate_playerids.pkl\"\n",
    "            with open(slate_playerids_path, 'wb') as f:\n",
    "                pickle.dump(slate_playerid_list, f)\n",
    "            \n",
    "            print(f'  Saved slate-wide model to: {slate_model_path}')\n",
    "            \n",
    "        except Exception as slate_error:\n",
    "            logger.warning(f'Error saving slate-wide model for {test_date}: {str(slate_error)}')\n",
    "\n",
    "    print(f'  Models trained: {models_trained}')\n",
    "    if SAVE_MODELS:\n",
    "        print(f'  Per-player models saved: {models_saved}')\n",
    "    print(f'  Players skipped (insufficient data): {players_skipped_insufficient_data}')\n",
    "\n",
    "    if not slate_predictions:\n",
    "        print(f'  WARNING: No predictions generated for this slate')\n",
    "        continue\n",
    "\n",
    "    predictions_df = pd.DataFrame(slate_predictions)\n",
    "    print(f'  Generated {len(predictions_df)} predictions')\n",
    "\n",
    "    # Save predictions to parquet for this slate\n",
    "    if SAVE_MODELS:\n",
    "        predictions_path = slate_models_dir / f\"{test_date}.parquet\"\n",
    "        predictions_df.to_parquet(predictions_path)\n",
    "        print(f'  Saved slate predictions to: {predictions_path}')\n",
    "\n",
    "    filters = {'start_date': test_date, 'end_date': test_date}\n",
    "    actuals_df = loader.storage.load('box_scores', filters)\n",
    "\n",
    "    if actuals_df.empty:\n",
    "        logger.warning(f'No actuals for {test_date}')\n",
    "        continue\n",
    "\n",
    "    actuals_df['actual_fpts'] = actuals_df.apply(calculate_dk_fantasy_points, axis=1)\n",
    "\n",
    "    merged = predictions_df.merge(\n",
    "        actuals_df[['playerID', 'actual_fpts']],\n",
    "        on='playerID',\n",
    "        how='inner'\n",
    "    )\n",
    "\n",
    "    if len(merged) == 0:\n",
    "        print(f'  WARNING: No matching actual results found')\n",
    "        continue\n",
    "\n",
    "    print(f'  Matched {len(merged)} players with actual results')\n",
    "\n",
    "    model_mape = mape_metric.calculate(merged['actual_fpts'], merged['projected_fpts'])\n",
    "    model_rmse = rmse_metric.calculate(merged['actual_fpts'], merged['projected_fpts'])\n",
    "    model_mae = mae_metric.calculate(merged['actual_fpts'], merged['projected_fpts'])\n",
    "    model_corr = corr_metric.calculate(merged['actual_fpts'], merged['projected_fpts'])\n",
    "\n",
    "    has_benchmark = (merged['benchmark_pred'] > 0)\n",
    "    benchmark_mape = mape_metric.calculate(merged[has_benchmark]['actual_fpts'], merged[has_benchmark]['benchmark_pred']) if has_benchmark.any() else np.nan\n",
    "    benchmark_rmse = rmse_metric.calculate(merged[has_benchmark]['actual_fpts'], merged[has_benchmark]['benchmark_pred']) if has_benchmark.any() else np.nan\n",
    "\n",
    "    print(f'\\n  Performance Metrics:')\n",
    "    print(f'  {\"=\"*40}')\n",
    "    print(f'  Model Performance:')\n",
    "    print(f'    MAPE: {model_mape:.2f}%')\n",
    "    print(f'    RMSE: {model_rmse:.2f}')\n",
    "    print(f'    MAE:  {model_mae:.2f}')\n",
    "    print(f'    Correlation: {model_corr:.3f}')\n",
    "\n",
    "    if not np.isnan(benchmark_mape):\n",
    "        print(f'\\n  Benchmark Performance:')\n",
    "        print(f'    MAPE: {benchmark_mape:.2f}%')\n",
    "        print(f'    RMSE: {benchmark_rmse:.2f}')\n",
    "        print(f'\\n  Improvement over Benchmark:')\n",
    "        print(f'    MAPE: {benchmark_mape - model_mape:+.2f}% {\"(Better)\" if benchmark_mape > model_mape else \"(Worse)\"}')\n",
    "\n",
    "    print(f'\\n  Fantasy Points Summary:')\n",
    "    print(f'    Mean Actual: {merged[\"actual_fpts\"].mean():.2f}')\n",
    "    print(f'    Mean Projected: {merged[\"projected_fpts\"].mean():.2f}')\n",
    "    print(f'    Mean Error: {(merged[\"projected_fpts\"] - merged[\"actual_fpts\"]).mean():+.2f}')\n",
    "\n",
    "    # Analyze by salary tier for this date\n",
    "    merged['salary'] = merged['salary'].astype(int)\n",
    "    merged['salary_bin'] = pd.cut(merged['salary'], bins=SALARY_TIERS, labels=['Low', 'Mid', 'High', 'Elite'][:len(SALARY_TIERS)-1])\n",
    "\n",
    "    print(f'\\n  Performance by Salary Tier:')\n",
    "    for tier in merged['salary_bin'].unique():\n",
    "        if pd.isna(tier):\n",
    "            continue\n",
    "        tier_data = merged[merged['salary_bin'] == tier]\n",
    "        if len(tier_data) > 0:\n",
    "            tier_mape = mape_metric.calculate(tier_data['actual_fpts'], tier_data['projected_fpts'])\n",
    "            print(f'    {tier}: MAPE={tier_mape:.1f}% (n={len(tier_data)})')\n",
    "\n",
    "    # Save merged results with actuals for analysis\n",
    "    if SAVE_MODELS:\n",
    "        results_with_actuals_path = slate_models_dir / f\"{test_date}_with_actuals.parquet\"\n",
    "        merged.to_parquet(results_with_actuals_path)\n",
    "\n",
    "    results_list.append({\n",
    "        'date': test_date,\n",
    "        'num_players': len(merged),\n",
    "        'models_trained': models_trained,\n",
    "        'models_saved': models_saved if SAVE_MODELS else 0,\n",
    "        'model_mape': model_mape,\n",
    "        'model_rmse': model_rmse,\n",
    "        'model_mae': model_mae,\n",
    "        'model_corr': model_corr,\n",
    "        'benchmark_mape': benchmark_mape,\n",
    "        'benchmark_rmse': benchmark_rmse,\n",
    "        'mean_actual': merged['actual_fpts'].mean(),\n",
    "        'mean_projected': merged['projected_fpts'].mean(),\n",
    "        'mean_benchmark': merged['benchmark_pred'].mean()\n",
    "    })\n",
    "\n",
    "    all_predictions.append(merged)\n",
    "\n",
    "results_df = pd.DataFrame(results_list)\n",
    "all_predictions_df = pd.concat(all_predictions, ignore_index=True) if all_predictions else pd.DataFrame()\n",
    "\n",
    "print(f'\\n{\"=\"*60}')\n",
    "print(f'Completed backtest for {len(results_df)} slates')\n",
    "print(f'Total predictions: {len(all_predictions_df)}')\n",
    "if SAVE_MODELS:\n",
    "    print(f'Total per-player models saved: {results_df[\"models_saved\"].sum():.0f}')\n",
    "    print(f'Models directory: {MODELS_DIR}')\n",
    "print(f'{\"=\"*60}')"
   ]
  },
  {
   "cell_type": "markdown",
   "metadata": {},
   "source": [
    "## Overall Results Summary"
   ]
  },
  {
   "cell_type": "code",
   "execution_count": 17,
   "metadata": {},
   "outputs": [
    {
     "name": "stdout",
     "output_type": "stream",
     "text": [
      "================================================================================\n",
      "BACKTEST RESULTS SUMMARY\n",
      "================================================================================\n",
      "\n",
      "Number of Slates: 1\n",
      "Date Range: 20250205 to 20250205\n",
      "\n",
      "Total Players Evaluated: 705\n",
      "Average Players per Slate: 705.0\n",
      "Total Models Trained: 985\n",
      "Total Per-Player Models Saved: 985\n",
      "\n",
      "Model Performance:\n",
      "  Mean MAPE: 92.85%\n",
      "  Median MAPE: 92.85%\n",
      "  Std MAPE: nan%\n",
      "  Mean RMSE: 12.35\n",
      "  Std RMSE: nan\n",
      "  Mean MAE: 9.68\n",
      "  Mean Correlation: 0.663\n",
      "  Std Correlation: nan\n",
      "\n",
      "Benchmark Performance:\n",
      "  Mean MAPE: 87.28%\n",
      "  Median MAPE: 87.28%\n",
      "\n",
      "Improvement (Model vs Benchmark):\n",
      "  MAPE Improvement: -5.57% (Benchmark better)\n",
      "\n",
      "Model Storage:\n",
      "  Per-player models: c:\\Users\\antho\\OneDrive\\Documents\\Repositories\\delapan-fantasy\\data\\models/per_player/[date]/[playerID]_[name].pkl\n",
      "  Slate-wide models: c:\\Users\\antho\\OneDrive\\Documents\\Repositories\\delapan-fantasy\\data\\models/per_slate/[date]_slate_model.pkl\n",
      "  Predictions: c:\\Users\\antho\\OneDrive\\Documents\\Repositories\\delapan-fantasy\\data\\models/per_slate/[date].parquet\n",
      "  Results with actuals: c:\\Users\\antho\\OneDrive\\Documents\\Repositories\\delapan-fantasy\\data\\models/per_slate/[date]_with_actuals.parquet\n",
      "\n",
      "================================================================================\n",
      "DAILY PERFORMANCE LOG\n",
      "================================================================================\n",
      "Date          Players  Saved     MAPE     RMSE      MAE     Corr    Bench      Imp\n",
      "--------------------------------------------------------------------------------\n",
      "20250205          705    985    92.8%    12.35     9.68    0.663    87.3%    -5.6%\n",
      "================================================================================\n"
     ]
    }
   ],
   "source": [
    "print('='*80)\n",
    "print('BACKTEST RESULTS SUMMARY')\n",
    "print('='*80)\n",
    "print(f'\\nNumber of Slates: {len(results_df)}')\n",
    "print(f'Date Range: {results_df[\"date\"].min()} to {results_df[\"date\"].max()}')\n",
    "print(f'\\nTotal Players Evaluated: {results_df[\"num_players\"].sum():.0f}')\n",
    "print(f'Average Players per Slate: {results_df[\"num_players\"].mean():.1f}')\n",
    "print(f'Total Models Trained: {results_df[\"models_trained\"].sum():.0f}')\n",
    "if 'models_saved' in results_df.columns:\n",
    "    print(f'Total Per-Player Models Saved: {results_df[\"models_saved\"].sum():.0f}')\n",
    "print(f'\\nModel Performance:')\n",
    "print(f'  Mean MAPE: {results_df[\"model_mape\"].mean():.2f}%')\n",
    "print(f'  Median MAPE: {results_df[\"model_mape\"].median():.2f}%')\n",
    "print(f'  Std MAPE: {results_df[\"model_mape\"].std():.2f}%')\n",
    "print(f'  Mean RMSE: {results_df[\"model_rmse\"].mean():.2f}')\n",
    "print(f'  Std RMSE: {results_df[\"model_rmse\"].std():.2f}')\n",
    "if 'model_mae' in results_df.columns:\n",
    "    print(f'  Mean MAE: {results_df[\"model_mae\"].mean():.2f}')\n",
    "print(f'  Mean Correlation: {results_df[\"model_corr\"].mean():.3f}')\n",
    "print(f'  Std Correlation: {results_df[\"model_corr\"].std():.3f}')\n",
    "print(f'\\nBenchmark Performance:')\n",
    "print(f'  Mean MAPE: {results_df[\"benchmark_mape\"].mean():.2f}%')\n",
    "print(f'  Median MAPE: {results_df[\"benchmark_mape\"].median():.2f}%')\n",
    "print(f'\\nImprovement (Model vs Benchmark):')\n",
    "mape_improvement = results_df[\"benchmark_mape\"].mean() - results_df[\"model_mape\"].mean()\n",
    "print(f'  MAPE Improvement: {mape_improvement:+.2f}% {\"(Model better)\" if mape_improvement > 0 else \"(Benchmark better)\"}')\n",
    "\n",
    "if SAVE_MODELS:\n",
    "    print(f'\\nModel Storage:')\n",
    "    print(f'  Per-player models: {MODELS_DIR}/per_player/[date]/[playerID]_[name].pkl')\n",
    "    print(f'  Slate-wide models: {MODELS_DIR}/per_slate/[date]_slate_model.pkl')\n",
    "    print(f'  Predictions: {MODELS_DIR}/per_slate/[date].parquet')\n",
    "    print(f'  Results with actuals: {MODELS_DIR}/per_slate/[date]_with_actuals.parquet')\n",
    "\n",
    "print('\\n' + '='*80)\n",
    "print('DAILY PERFORMANCE LOG')\n",
    "print('='*80)\n",
    "\n",
    "# Check which columns are available for the daily log\n",
    "has_mae = 'model_mae' in results_df.columns\n",
    "has_saved = 'models_saved' in results_df.columns\n",
    "\n",
    "if has_mae and has_saved:\n",
    "    print(f'{\"Date\":12} {\"Players\":>8} {\"Saved\":>6} {\"MAPE\":>8} {\"RMSE\":>8} {\"MAE\":>8} {\"Corr\":>8} {\"Bench\":>8} {\"Imp\":>8}')\n",
    "elif has_mae:\n",
    "    print(f'{\"Date\":12} {\"Players\":>8} {\"MAPE\":>8} {\"RMSE\":>8} {\"MAE\":>8} {\"Corr\":>8} {\"Bench MAPE\":>11} {\"Improvement\":>12}')\n",
    "elif has_saved:\n",
    "    print(f'{\"Date\":12} {\"Players\":>8} {\"Saved\":>6} {\"MAPE\":>8} {\"RMSE\":>8} {\"Corr\":>8} {\"Bench\":>8} {\"Imp\":>8}')\n",
    "else:\n",
    "    print(f'{\"Date\":12} {\"Players\":>8} {\"MAPE\":>8} {\"RMSE\":>8} {\"Corr\":>8} {\"Bench MAPE\":>11} {\"Improvement\":>12}')\n",
    "    \n",
    "print('-'*80)\n",
    "for _, row in results_df.iterrows():\n",
    "    improvement = row[\"benchmark_mape\"] - row[\"model_mape\"] if not pd.isna(row[\"benchmark_mape\"]) else 0\n",
    "    bench_str = f'{row[\"benchmark_mape\"]:.1f}%' if not pd.isna(row[\"benchmark_mape\"]) else 'N/A'\n",
    "    imp_str = f'{improvement:+.1f}%' if not pd.isna(row[\"benchmark_mape\"]) else 'N/A'\n",
    "    \n",
    "    if has_mae and has_saved:\n",
    "        print(f'{row[\"date\"]:12} {row[\"num_players\"]:>8} {row.get(\"models_saved\", 0):>6} {row[\"model_mape\"]:>7.1f}% {row[\"model_rmse\"]:>8.2f} {row.get(\"model_mae\", 0):>8.2f} {row[\"model_corr\"]:>8.3f} {bench_str:>8} {imp_str:>8}')\n",
    "    elif has_mae:\n",
    "        print(f'{row[\"date\"]:12} {row[\"num_players\"]:>8} {row[\"model_mape\"]:>7.1f}% {row[\"model_rmse\"]:>8.2f} {row.get(\"model_mae\", 0):>8.2f} {row[\"model_corr\"]:>8.3f} {bench_str:>11} {imp_str:>12}')\n",
    "    elif has_saved:\n",
    "        print(f'{row[\"date\"]:12} {row[\"num_players\"]:>8} {row.get(\"models_saved\", 0):>6} {row[\"model_mape\"]:>7.1f}% {row[\"model_rmse\"]:>8.2f} {row[\"model_corr\"]:>8.3f} {bench_str:>8} {imp_str:>8}')\n",
    "    else:\n",
    "        print(f'{row[\"date\"]:12} {row[\"num_players\"]:>8} {row[\"model_mape\"]:>7.1f}% {row[\"model_rmse\"]:>8.2f} {row[\"model_corr\"]:>8.3f} {bench_str:>11} {imp_str:>12}')\n",
    "        \n",
    "print('='*80)"
   ]
  },
  {
   "cell_type": "markdown",
   "metadata": {},
   "source": [
    "## Benchmark Comparison Analysis"
   ]
  },
  {
   "cell_type": "code",
   "execution_count": 18,
   "metadata": {},
   "outputs": [
    {
     "name": "stdout",
     "output_type": "stream",
     "text": [
      "\n",
      "Benchmark Comparison\n",
      "============================================================\n",
      "\n",
      "Model Performance:\n",
      "  MAPE: 92.81%\n",
      "  RMSE: 12.33\n",
      "  MAE:  9.65\n",
      "\n",
      "Benchmark Performance:\n",
      "  MAPE: 87.46%\n",
      "  RMSE: 10.31\n",
      "  MAE:  8.02\n",
      "\n",
      "Improvement (positive = model better):\n",
      "  MAPE: -5.36% \n",
      "  RMSE: -2.02\n",
      "  MAE:  -1.63\n",
      "\n"
     ]
    }
   ],
   "source": [
    "comparison_df = all_predictions_df[(all_predictions_df['projected_fpts'] > 0) & (all_predictions_df['benchmark_pred'] > 0)].copy()\n",
    "\n",
    "comparison_results = benchmark.compare_with_model(\n",
    "    actual=comparison_df['actual_fpts'],\n",
    "    model_pred=comparison_df['projected_fpts'],\n",
    "    benchmark_pred=comparison_df['benchmark_pred']\n",
    ")\n",
    "\n",
    "print(comparison_results['summary'])"
   ]
  },
  {
   "cell_type": "code",
   "execution_count": 19,
   "metadata": {},
   "outputs": [
    {
     "name": "stdout",
     "output_type": "stream",
     "text": [
      "Performance by Salary Tier:\n",
      "================================================================================\n",
      "salary_tier  count  model_mape  benchmark_mape  mape_improvement\n",
      "        Low    429  102.320978       95.719187         -6.601791\n",
      "      Elite     52   37.486085       27.334682        -10.151403\n",
      "       High     60   54.861061       44.166952        -10.694110\n",
      "        Mid    161  100.778741      102.156383          1.377642\n",
      "\n",
      "Detailed Breakdown:\n",
      "Low                    -6.6% WORSE    (Model: 102.3%, Benchmark: 95.7%)\n",
      "Elite                 -10.2% WORSE    (Model: 37.5%, Benchmark: 27.3%)\n",
      "High                  -10.7% WORSE    (Model: 54.9%, Benchmark: 44.2%)\n",
      "Mid                  +   1.4% BETTER   (Model: 100.8%, Benchmark: 102.2%)\n"
     ]
    }
   ],
   "source": [
    "tier_data = comparison_df.copy()\n",
    "tier_data = tier_data.rename(columns={\n",
    "    'projected_fpts': 'model_pred',\n",
    "    'actual_fpts': 'actual'\n",
    "})\n",
    "\n",
    "# Ensure salary column is numeric\n",
    "tier_data['salary'] = pd.to_numeric(tier_data['salary'], errors='coerce')\n",
    "tier_data = tier_data[tier_data['salary'].notna()]\n",
    "\n",
    "tier_comparison = benchmark.compare_by_salary_tier(tier_data, SALARY_TIERS)\n",
    "\n",
    "print('Performance by Salary Tier:')\n",
    "print('='*80)\n",
    "print(tier_comparison[['salary_tier', 'count', 'model_mape', 'benchmark_mape', 'mape_improvement']].to_string(index=False))\n",
    "print('\\nDetailed Breakdown:')\n",
    "for _, row in tier_comparison.iterrows():\n",
    "    improvement = row['mape_improvement']\n",
    "    status = 'BETTER' if improvement > 0 else 'WORSE'\n",
    "    symbol = '+' if improvement > 0 else ''\n",
    "    \n",
    "    print(f'{str(row[\"salary_tier\"]):20} {symbol}{improvement:6.1f}% {status:8} '\n",
    "          f'(Model: {row[\"model_mape\"]:.1f}%, Benchmark: {row[\"benchmark_mape\"]:.1f}%)')"
   ]
  },
  {
   "cell_type": "code",
   "execution_count": 20,
   "metadata": {},
   "outputs": [
    {
     "name": "stdout",
     "output_type": "stream",
     "text": [
      "Statistical Significance Test (Paired t-test):\n",
      "  t-statistic: 6.2303\n",
      "  p-value: 0.000000\n",
      "\n",
      "  Result: Model is SIGNIFICANTLY WORSE than benchmark (p < 0.05)\n",
      "\n",
      "  Cohen's d: 0.2295\n",
      "  Effect size: small\n",
      "\n",
      "Error Statistics:\n",
      "  Model MAE: 9.65\n",
      "  Benchmark MAE: 8.02\n",
      "  Difference: -1.63 (positive = model better)\n"
     ]
    }
   ],
   "source": [
    "comparison_df['model_error'] = np.abs(comparison_df['projected_fpts'] - comparison_df['actual_fpts'])\n",
    "comparison_df['benchmark_error'] = np.abs(comparison_df['benchmark_pred'] - comparison_df['actual_fpts'])\n",
    "\n",
    "model_errors = comparison_df['model_error'].values\n",
    "benchmark_errors = comparison_df['benchmark_error'].values\n",
    "\n",
    "t_stat, p_value = stats.ttest_rel(model_errors, benchmark_errors)\n",
    "\n",
    "print('Statistical Significance Test (Paired t-test):')\n",
    "print(f'  t-statistic: {t_stat:.4f}')\n",
    "print(f'  p-value: {p_value:.6f}')\n",
    "print()\n",
    "if p_value < 0.05:\n",
    "    if t_stat < 0:\n",
    "        print('  Result: Model is SIGNIFICANTLY BETTER than benchmark (p < 0.05)')\n",
    "    else:\n",
    "        print('  Result: Model is SIGNIFICANTLY WORSE than benchmark (p < 0.05)')\n",
    "else:\n",
    "    print('  Result: No significant difference between model and benchmark (p >= 0.05)')\n",
    "\n",
    "cohens_d = (model_errors.mean() - benchmark_errors.mean()) / np.sqrt((model_errors.std()**2 + benchmark_errors.std()**2) / 2)\n",
    "print(f'\\n  Cohen\\'s d: {cohens_d:.4f}')\n",
    "\n",
    "if abs(cohens_d) < 0.2:\n",
    "    effect_size = 'negligible'\n",
    "elif abs(cohens_d) < 0.5:\n",
    "    effect_size = 'small'\n",
    "elif abs(cohens_d) < 0.8:\n",
    "    effect_size = 'medium'\n",
    "else:\n",
    "    effect_size = 'large'\n",
    "print(f'  Effect size: {effect_size}')\n",
    "\n",
    "print(f'\\nError Statistics:')\n",
    "print(f'  Model MAE: {model_errors.mean():.2f}')\n",
    "print(f'  Benchmark MAE: {benchmark_errors.mean():.2f}')\n",
    "print(f'  Difference: {benchmark_errors.mean() - model_errors.mean():.2f} (positive = model better)')"
   ]
  },
  {
   "cell_type": "markdown",
   "metadata": {},
   "source": [
    "## Visualizations"
   ]
  },
  {
   "cell_type": "code",
   "execution_count": 27,
   "metadata": {},
   "outputs": [
    {
     "data": {
      "application/vnd.plotly.v1+json": {
       "config": {
        "plotlyServerURL": "https://plot.ly"
       },
       "data": [
        {
         "line": {
          "color": "#9AFF6E",
          "width": 2
         },
         "marker": {
          "color": "#9AFF6E",
          "line": {
           "color": "black",
           "width": 1
          },
          "size": 10,
          "symbol": "circle"
         },
         "mode": "lines+markers",
         "name": "Model",
         "type": "scatter",
         "x": [
          "20250205"
         ],
         "xaxis": "x",
         "y": {
          "bdata": "KoOHGB02V0A=",
          "dtype": "f8"
         },
         "yaxis": "y"
        },
        {
         "line": {
          "color": "#3ABEFF",
          "width": 2
         },
         "marker": {
          "color": "#3ABEFF",
          "line": {
           "color": "black",
           "width": 1
          },
          "size": 10,
          "symbol": "square"
         },
         "mode": "lines+markers",
         "name": "Benchmark",
         "opacity": 0.85,
         "type": "scatter",
         "x": [
          "20250205"
         ],
         "xaxis": "x",
         "y": {
          "bdata": "t8z7ibbRVUA=",
          "dtype": "f8"
         },
         "yaxis": "y"
        },
        {
         "line": {
          "color": "#00FFC2",
          "width": 2
         },
         "marker": {
          "color": "#00FFC2",
          "line": {
           "color": "black",
           "width": 1
          },
          "size": 10,
          "symbol": "diamond"
         },
         "mode": "lines+markers",
         "name": "RMSE",
         "type": "scatter",
         "x": [
          "20250205"
         ],
         "xaxis": "x2",
         "y": {
          "bdata": "vShWAt2xKEA=",
          "dtype": "f8"
         },
         "yaxis": "y2"
        },
        {
         "line": {
          "color": "#FBBF24",
          "width": 2
         },
         "marker": {
          "color": "#FBBF24",
          "line": {
           "color": "black",
           "width": 1
          },
          "size": 10,
          "symbol": "cross"
         },
         "mode": "lines+markers",
         "name": "Correlation",
         "type": "scatter",
         "x": [
          "20250205"
         ],
         "xaxis": "x3",
         "y": {
          "bdata": "g1BL5WQ35T8=",
          "dtype": "f8"
         },
         "yaxis": "y3"
        },
        {
         "marker": {
          "color": "#FF53A1",
          "line": {
           "color": "white",
           "width": 0.5
          },
          "opacity": 0.85
         },
         "name": "Players",
         "type": "bar",
         "x": [
          "20250205"
         ],
         "xaxis": "x4",
         "y": {
          "bdata": "wQI=",
          "dtype": "i2"
         },
         "yaxis": "y4"
        }
       ],
       "layout": {
        "annotations": [
         {
          "font": {
           "size": 16
          },
          "showarrow": false,
          "text": "<b>MAPE Over Time</b>",
          "x": 0.225,
          "xanchor": "center",
          "xref": "paper",
          "y": 1,
          "yanchor": "bottom",
          "yref": "paper"
         },
         {
          "font": {
           "size": 16
          },
          "showarrow": false,
          "text": "<b>RMSE Over Time</b>",
          "x": 0.775,
          "xanchor": "center",
          "xref": "paper",
          "y": 1,
          "yanchor": "bottom",
          "yref": "paper"
         },
         {
          "font": {
           "size": 16
          },
          "showarrow": false,
          "text": "<b>Correlation Over Time</b>",
          "x": 0.225,
          "xanchor": "center",
          "xref": "paper",
          "y": 0.425,
          "yanchor": "bottom",
          "yref": "paper"
         },
         {
          "font": {
           "size": 16
          },
          "showarrow": false,
          "text": "<b>Players Evaluated Per Slate</b>",
          "x": 0.775,
          "xanchor": "center",
          "xref": "paper",
          "y": 0.425,
          "yanchor": "bottom",
          "yref": "paper"
         },
         {
          "showarrow": false,
          "text": "Model Mean",
          "x": 1,
          "xanchor": "left",
          "xref": "x domain",
          "y": 92.84552586778287,
          "yanchor": "middle",
          "yref": "y"
         },
         {
          "showarrow": false,
          "text": "Benchmark Mean",
          "x": 1,
          "xanchor": "left",
          "xref": "x domain",
          "y": 87.27676629628955,
          "yanchor": "middle",
          "yref": "y"
         },
         {
          "showarrow": false,
          "text": "Mean: 12.35",
          "x": 1,
          "xanchor": "left",
          "xref": "x2 domain",
          "y": 12.347389290826294,
          "yanchor": "middle",
          "yref": "y2"
         },
         {
          "showarrow": false,
          "text": "Mean: 0.663",
          "x": 1,
          "xanchor": "left",
          "xref": "x3 domain",
          "y": 0.6630119779970446,
          "yanchor": "middle",
          "yref": "y3"
         },
         {
          "showarrow": false,
          "text": "Mean: 705.0",
          "x": 1,
          "xanchor": "left",
          "xref": "x4 domain",
          "y": 705,
          "yanchor": "middle",
          "yref": "y4"
         }
        ],
        "font": {
         "color": "white",
         "family": "Segoe UI, Roboto, Arial",
         "size": 14
        },
        "height": 800,
        "legend": {
         "font": {
          "color": "white",
          "size": 14
         },
         "orientation": "h",
         "x": 0.5,
         "xanchor": "center",
         "y": 1.05,
         "yanchor": "bottom"
        },
        "margin": {
         "b": 40,
         "l": 40,
         "r": 40,
         "t": 110
        },
        "paper_bgcolor": "#22272e",
        "plot_bgcolor": "#22272e",
        "shapes": [
         {
          "line": {
           "color": "#FFFF35",
           "dash": "dash"
          },
          "opacity": 0.7,
          "type": "line",
          "x0": 0,
          "x1": 1,
          "xref": "x domain",
          "y0": 92.84552586778287,
          "y1": 92.84552586778287,
          "yref": "y"
         },
         {
          "line": {
           "color": "#FD5A66",
           "dash": "dash"
          },
          "opacity": 0.7,
          "type": "line",
          "x0": 0,
          "x1": 1,
          "xref": "x domain",
          "y0": 87.27676629628955,
          "y1": 87.27676629628955,
          "yref": "y"
         },
         {
          "line": {
           "color": "#EA00FF",
           "dash": "dash"
          },
          "type": "line",
          "x0": 0,
          "x1": 1,
          "xref": "x2 domain",
          "y0": 12.347389290826294,
          "y1": 12.347389290826294,
          "yref": "y2"
         },
         {
          "line": {
           "color": "#FF7A00",
           "dash": "dash"
          },
          "type": "line",
          "x0": 0,
          "x1": 1,
          "xref": "x3 domain",
          "y0": 0.6630119779970446,
          "y1": 0.6630119779970446,
          "yref": "y3"
         },
         {
          "line": {
           "color": "#25FFF1",
           "dash": "dash"
          },
          "type": "line",
          "x0": 0,
          "x1": 1,
          "xref": "x4 domain",
          "y0": 705,
          "y1": 705,
          "yref": "y4"
         }
        ],
        "showlegend": true,
        "template": {
         "data": {
          "bar": [
           {
            "error_x": {
             "color": "#f2f5fa"
            },
            "error_y": {
             "color": "#f2f5fa"
            },
            "marker": {
             "line": {
              "color": "rgb(17,17,17)",
              "width": 0.5
             },
             "pattern": {
              "fillmode": "overlay",
              "size": 10,
              "solidity": 0.2
             }
            },
            "type": "bar"
           }
          ],
          "barpolar": [
           {
            "marker": {
             "line": {
              "color": "rgb(17,17,17)",
              "width": 0.5
             },
             "pattern": {
              "fillmode": "overlay",
              "size": 10,
              "solidity": 0.2
             }
            },
            "type": "barpolar"
           }
          ],
          "carpet": [
           {
            "aaxis": {
             "endlinecolor": "#A2B1C6",
             "gridcolor": "#506784",
             "linecolor": "#506784",
             "minorgridcolor": "#506784",
             "startlinecolor": "#A2B1C6"
            },
            "baxis": {
             "endlinecolor": "#A2B1C6",
             "gridcolor": "#506784",
             "linecolor": "#506784",
             "minorgridcolor": "#506784",
             "startlinecolor": "#A2B1C6"
            },
            "type": "carpet"
           }
          ],
          "choropleth": [
           {
            "colorbar": {
             "outlinewidth": 0,
             "ticks": ""
            },
            "type": "choropleth"
           }
          ],
          "contour": [
           {
            "colorbar": {
             "outlinewidth": 0,
             "ticks": ""
            },
            "colorscale": [
             [
              0,
              "#0d0887"
             ],
             [
              0.1111111111111111,
              "#46039f"
             ],
             [
              0.2222222222222222,
              "#7201a8"
             ],
             [
              0.3333333333333333,
              "#9c179e"
             ],
             [
              0.4444444444444444,
              "#bd3786"
             ],
             [
              0.5555555555555556,
              "#d8576b"
             ],
             [
              0.6666666666666666,
              "#ed7953"
             ],
             [
              0.7777777777777778,
              "#fb9f3a"
             ],
             [
              0.8888888888888888,
              "#fdca26"
             ],
             [
              1,
              "#f0f921"
             ]
            ],
            "type": "contour"
           }
          ],
          "contourcarpet": [
           {
            "colorbar": {
             "outlinewidth": 0,
             "ticks": ""
            },
            "type": "contourcarpet"
           }
          ],
          "heatmap": [
           {
            "colorbar": {
             "outlinewidth": 0,
             "ticks": ""
            },
            "colorscale": [
             [
              0,
              "#0d0887"
             ],
             [
              0.1111111111111111,
              "#46039f"
             ],
             [
              0.2222222222222222,
              "#7201a8"
             ],
             [
              0.3333333333333333,
              "#9c179e"
             ],
             [
              0.4444444444444444,
              "#bd3786"
             ],
             [
              0.5555555555555556,
              "#d8576b"
             ],
             [
              0.6666666666666666,
              "#ed7953"
             ],
             [
              0.7777777777777778,
              "#fb9f3a"
             ],
             [
              0.8888888888888888,
              "#fdca26"
             ],
             [
              1,
              "#f0f921"
             ]
            ],
            "type": "heatmap"
           }
          ],
          "histogram": [
           {
            "marker": {
             "pattern": {
              "fillmode": "overlay",
              "size": 10,
              "solidity": 0.2
             }
            },
            "type": "histogram"
           }
          ],
          "histogram2d": [
           {
            "colorbar": {
             "outlinewidth": 0,
             "ticks": ""
            },
            "colorscale": [
             [
              0,
              "#0d0887"
             ],
             [
              0.1111111111111111,
              "#46039f"
             ],
             [
              0.2222222222222222,
              "#7201a8"
             ],
             [
              0.3333333333333333,
              "#9c179e"
             ],
             [
              0.4444444444444444,
              "#bd3786"
             ],
             [
              0.5555555555555556,
              "#d8576b"
             ],
             [
              0.6666666666666666,
              "#ed7953"
             ],
             [
              0.7777777777777778,
              "#fb9f3a"
             ],
             [
              0.8888888888888888,
              "#fdca26"
             ],
             [
              1,
              "#f0f921"
             ]
            ],
            "type": "histogram2d"
           }
          ],
          "histogram2dcontour": [
           {
            "colorbar": {
             "outlinewidth": 0,
             "ticks": ""
            },
            "colorscale": [
             [
              0,
              "#0d0887"
             ],
             [
              0.1111111111111111,
              "#46039f"
             ],
             [
              0.2222222222222222,
              "#7201a8"
             ],
             [
              0.3333333333333333,
              "#9c179e"
             ],
             [
              0.4444444444444444,
              "#bd3786"
             ],
             [
              0.5555555555555556,
              "#d8576b"
             ],
             [
              0.6666666666666666,
              "#ed7953"
             ],
             [
              0.7777777777777778,
              "#fb9f3a"
             ],
             [
              0.8888888888888888,
              "#fdca26"
             ],
             [
              1,
              "#f0f921"
             ]
            ],
            "type": "histogram2dcontour"
           }
          ],
          "mesh3d": [
           {
            "colorbar": {
             "outlinewidth": 0,
             "ticks": ""
            },
            "type": "mesh3d"
           }
          ],
          "parcoords": [
           {
            "line": {
             "colorbar": {
              "outlinewidth": 0,
              "ticks": ""
             }
            },
            "type": "parcoords"
           }
          ],
          "pie": [
           {
            "automargin": true,
            "type": "pie"
           }
          ],
          "scatter": [
           {
            "marker": {
             "line": {
              "color": "#283442"
             }
            },
            "type": "scatter"
           }
          ],
          "scatter3d": [
           {
            "line": {
             "colorbar": {
              "outlinewidth": 0,
              "ticks": ""
             }
            },
            "marker": {
             "colorbar": {
              "outlinewidth": 0,
              "ticks": ""
             }
            },
            "type": "scatter3d"
           }
          ],
          "scattercarpet": [
           {
            "marker": {
             "colorbar": {
              "outlinewidth": 0,
              "ticks": ""
             }
            },
            "type": "scattercarpet"
           }
          ],
          "scattergeo": [
           {
            "marker": {
             "colorbar": {
              "outlinewidth": 0,
              "ticks": ""
             }
            },
            "type": "scattergeo"
           }
          ],
          "scattergl": [
           {
            "marker": {
             "line": {
              "color": "#283442"
             }
            },
            "type": "scattergl"
           }
          ],
          "scattermap": [
           {
            "marker": {
             "colorbar": {
              "outlinewidth": 0,
              "ticks": ""
             }
            },
            "type": "scattermap"
           }
          ],
          "scattermapbox": [
           {
            "marker": {
             "colorbar": {
              "outlinewidth": 0,
              "ticks": ""
             }
            },
            "type": "scattermapbox"
           }
          ],
          "scatterpolar": [
           {
            "marker": {
             "colorbar": {
              "outlinewidth": 0,
              "ticks": ""
             }
            },
            "type": "scatterpolar"
           }
          ],
          "scatterpolargl": [
           {
            "marker": {
             "colorbar": {
              "outlinewidth": 0,
              "ticks": ""
             }
            },
            "type": "scatterpolargl"
           }
          ],
          "scatterternary": [
           {
            "marker": {
             "colorbar": {
              "outlinewidth": 0,
              "ticks": ""
             }
            },
            "type": "scatterternary"
           }
          ],
          "surface": [
           {
            "colorbar": {
             "outlinewidth": 0,
             "ticks": ""
            },
            "colorscale": [
             [
              0,
              "#0d0887"
             ],
             [
              0.1111111111111111,
              "#46039f"
             ],
             [
              0.2222222222222222,
              "#7201a8"
             ],
             [
              0.3333333333333333,
              "#9c179e"
             ],
             [
              0.4444444444444444,
              "#bd3786"
             ],
             [
              0.5555555555555556,
              "#d8576b"
             ],
             [
              0.6666666666666666,
              "#ed7953"
             ],
             [
              0.7777777777777778,
              "#fb9f3a"
             ],
             [
              0.8888888888888888,
              "#fdca26"
             ],
             [
              1,
              "#f0f921"
             ]
            ],
            "type": "surface"
           }
          ],
          "table": [
           {
            "cells": {
             "fill": {
              "color": "#506784"
             },
             "line": {
              "color": "rgb(17,17,17)"
             }
            },
            "header": {
             "fill": {
              "color": "#2a3f5f"
             },
             "line": {
              "color": "rgb(17,17,17)"
             }
            },
            "type": "table"
           }
          ]
         },
         "layout": {
          "annotationdefaults": {
           "arrowcolor": "#f2f5fa",
           "arrowhead": 0,
           "arrowwidth": 1
          },
          "autotypenumbers": "strict",
          "coloraxis": {
           "colorbar": {
            "outlinewidth": 0,
            "ticks": ""
           }
          },
          "colorscale": {
           "diverging": [
            [
             0,
             "#8e0152"
            ],
            [
             0.1,
             "#c51b7d"
            ],
            [
             0.2,
             "#de77ae"
            ],
            [
             0.3,
             "#f1b6da"
            ],
            [
             0.4,
             "#fde0ef"
            ],
            [
             0.5,
             "#f7f7f7"
            ],
            [
             0.6,
             "#e6f5d0"
            ],
            [
             0.7,
             "#b8e186"
            ],
            [
             0.8,
             "#7fbc41"
            ],
            [
             0.9,
             "#4d9221"
            ],
            [
             1,
             "#276419"
            ]
           ],
           "sequential": [
            [
             0,
             "#0d0887"
            ],
            [
             0.1111111111111111,
             "#46039f"
            ],
            [
             0.2222222222222222,
             "#7201a8"
            ],
            [
             0.3333333333333333,
             "#9c179e"
            ],
            [
             0.4444444444444444,
             "#bd3786"
            ],
            [
             0.5555555555555556,
             "#d8576b"
            ],
            [
             0.6666666666666666,
             "#ed7953"
            ],
            [
             0.7777777777777778,
             "#fb9f3a"
            ],
            [
             0.8888888888888888,
             "#fdca26"
            ],
            [
             1,
             "#f0f921"
            ]
           ],
           "sequentialminus": [
            [
             0,
             "#0d0887"
            ],
            [
             0.1111111111111111,
             "#46039f"
            ],
            [
             0.2222222222222222,
             "#7201a8"
            ],
            [
             0.3333333333333333,
             "#9c179e"
            ],
            [
             0.4444444444444444,
             "#bd3786"
            ],
            [
             0.5555555555555556,
             "#d8576b"
            ],
            [
             0.6666666666666666,
             "#ed7953"
            ],
            [
             0.7777777777777778,
             "#fb9f3a"
            ],
            [
             0.8888888888888888,
             "#fdca26"
            ],
            [
             1,
             "#f0f921"
            ]
           ]
          },
          "colorway": [
           "#636efa",
           "#EF553B",
           "#00cc96",
           "#ab63fa",
           "#FFA15A",
           "#19d3f3",
           "#FF6692",
           "#B6E880",
           "#FF97FF",
           "#FECB52"
          ],
          "font": {
           "color": "#f2f5fa"
          },
          "geo": {
           "bgcolor": "rgb(17,17,17)",
           "lakecolor": "rgb(17,17,17)",
           "landcolor": "rgb(17,17,17)",
           "showlakes": true,
           "showland": true,
           "subunitcolor": "#506784"
          },
          "hoverlabel": {
           "align": "left"
          },
          "hovermode": "closest",
          "mapbox": {
           "style": "dark"
          },
          "paper_bgcolor": "rgb(17,17,17)",
          "plot_bgcolor": "rgb(17,17,17)",
          "polar": {
           "angularaxis": {
            "gridcolor": "#506784",
            "linecolor": "#506784",
            "ticks": ""
           },
           "bgcolor": "rgb(17,17,17)",
           "radialaxis": {
            "gridcolor": "#506784",
            "linecolor": "#506784",
            "ticks": ""
           }
          },
          "scene": {
           "xaxis": {
            "backgroundcolor": "rgb(17,17,17)",
            "gridcolor": "#506784",
            "gridwidth": 2,
            "linecolor": "#506784",
            "showbackground": true,
            "ticks": "",
            "zerolinecolor": "#C8D4E3"
           },
           "yaxis": {
            "backgroundcolor": "rgb(17,17,17)",
            "gridcolor": "#506784",
            "gridwidth": 2,
            "linecolor": "#506784",
            "showbackground": true,
            "ticks": "",
            "zerolinecolor": "#C8D4E3"
           },
           "zaxis": {
            "backgroundcolor": "rgb(17,17,17)",
            "gridcolor": "#506784",
            "gridwidth": 2,
            "linecolor": "#506784",
            "showbackground": true,
            "ticks": "",
            "zerolinecolor": "#C8D4E3"
           }
          },
          "shapedefaults": {
           "line": {
            "color": "#f2f5fa"
           }
          },
          "sliderdefaults": {
           "bgcolor": "#C8D4E3",
           "bordercolor": "rgb(17,17,17)",
           "borderwidth": 1,
           "tickwidth": 0
          },
          "ternary": {
           "aaxis": {
            "gridcolor": "#506784",
            "linecolor": "#506784",
            "ticks": ""
           },
           "baxis": {
            "gridcolor": "#506784",
            "linecolor": "#506784",
            "ticks": ""
           },
           "bgcolor": "rgb(17,17,17)",
           "caxis": {
            "gridcolor": "#506784",
            "linecolor": "#506784",
            "ticks": ""
           }
          },
          "title": {
           "x": 0.05
          },
          "updatemenudefaults": {
           "bgcolor": "#506784",
           "borderwidth": 0
          },
          "xaxis": {
           "automargin": true,
           "gridcolor": "#283442",
           "linecolor": "#506784",
           "ticks": "",
           "title": {
            "standoff": 15
           },
           "zerolinecolor": "#283442",
           "zerolinewidth": 2
          },
          "yaxis": {
           "automargin": true,
           "gridcolor": "#283442",
           "linecolor": "#506784",
           "ticks": "",
           "title": {
            "standoff": 15
           },
           "zerolinecolor": "#283442",
           "zerolinewidth": 2
          }
         }
        },
        "title": {
         "text": "<b>Backtest Performance Metrics</b>",
         "x": 0.5
        },
        "xaxis": {
         "anchor": "y",
         "color": "white",
         "domain": [
          0,
          0.45
         ],
         "linecolor": "#666",
         "linewidth": 1.5,
         "showline": true,
         "tickangle": 45,
         "title": {
          "text": "<b>Date</b>"
         },
         "zerolinecolor": "#444"
        },
        "xaxis2": {
         "anchor": "y2",
         "color": "white",
         "domain": [
          0.55,
          1
         ],
         "linecolor": "#666",
         "linewidth": 1.5,
         "showline": true,
         "tickangle": 45,
         "title": {
          "text": "<b>Date</b>"
         },
         "zerolinecolor": "#444"
        },
        "xaxis3": {
         "anchor": "y3",
         "color": "white",
         "domain": [
          0,
          0.45
         ],
         "linecolor": "#666",
         "linewidth": 1.5,
         "showline": true,
         "tickangle": 45,
         "title": {
          "text": "<b>Date</b>"
         },
         "zerolinecolor": "#444"
        },
        "xaxis4": {
         "anchor": "y4",
         "color": "white",
         "domain": [
          0.55,
          1
         ],
         "linecolor": "#666",
         "linewidth": 1.5,
         "showline": true,
         "tickangle": 45,
         "title": {
          "text": "<b>Date</b>"
         },
         "zerolinecolor": "#444"
        },
        "yaxis": {
         "anchor": "x",
         "color": "white",
         "domain": [
          0.575,
          1
         ],
         "linecolor": "#666",
         "linewidth": 1.5,
         "showline": true,
         "title": {
          "text": "<b>MAPE (%)</b>"
         },
         "zerolinecolor": "#444"
        },
        "yaxis2": {
         "anchor": "x2",
         "color": "white",
         "domain": [
          0.575,
          1
         ],
         "linecolor": "#666",
         "linewidth": 1.5,
         "showline": true,
         "title": {
          "text": "<b>RMSE</b>"
         },
         "zerolinecolor": "#444"
        },
        "yaxis3": {
         "anchor": "x3",
         "color": "white",
         "domain": [
          0,
          0.425
         ],
         "linecolor": "#666",
         "linewidth": 1.5,
         "showline": true,
         "title": {
          "text": "<b>Correlation</b>"
         },
         "zerolinecolor": "#444"
        },
        "yaxis4": {
         "anchor": "x4",
         "color": "white",
         "domain": [
          0,
          0.425
         ],
         "linecolor": "#666",
         "linewidth": 1.5,
         "showline": true,
         "title": {
          "text": "<b>Number of Players</b>"
         },
         "zerolinecolor": "#444"
        }
       }
      }
     },
     "metadata": {},
     "output_type": "display_data"
    }
   ],
   "source": [
    "# Use plotly dark theme and vibrant custom colors for all traces and lines.\n",
    "\n",
    "import plotly.io as pio\n",
    "pio.templates.default = \"plotly_dark\"\n",
    "\n",
    "vibrant_colors = {\n",
    "    \"model\": \"#9AFF6E\",        # Vibrant light green\n",
    "    \"benchmark\": \"#3ABEFF\",    # Vibrant blue/cyan\n",
    "    \"model_mean\": \"#FFFF35\",   # Lime Yellow\n",
    "    \"benchmark_mean\": \"#FD5A66\", # Vibrant Red\n",
    "    \"rmse\": \"#00FFC2\",         # Aqua\n",
    "    \"rmse_mean\": \"#EA00FF\",    # Vibrant Magenta\n",
    "    \"corr\": \"#FBBF24\",         # Vibrant Gold\n",
    "    \"corr_mean\": \"#FF7A00\",    # Orange\n",
    "    \"players_bar\": \"#FF53A1\",  # Hot Pink\n",
    "    \"players_mean\": \"#25FFF1\", # Electric Cyan\n",
    "}\n",
    "\n",
    "fig = make_subplots(\n",
    "    rows=2, cols=2,\n",
    "    subplot_titles=(\n",
    "        '<b>MAPE Over Time</b>', \n",
    "        '<b>RMSE Over Time</b>', \n",
    "        '<b>Correlation Over Time</b>', \n",
    "        '<b>Players Evaluated Per Slate</b>'),\n",
    "    vertical_spacing=0.15,\n",
    "    horizontal_spacing=0.1\n",
    ")\n",
    "\n",
    "# MAPE Over Time\n",
    "fig.add_trace(\n",
    "    go.Scatter(\n",
    "        x=results_df['date'], \n",
    "        y=results_df['model_mape'], \n",
    "        mode='lines+markers', \n",
    "        name='Model', \n",
    "        line=dict(width=2, color=vibrant_colors[\"model\"]), \n",
    "        marker=dict(size=10, color=vibrant_colors[\"model\"], symbol='circle', line=dict(width=1, color='black'))\n",
    "    ),\n",
    "    row=1, col=1\n",
    ")\n",
    "fig.add_trace(\n",
    "    go.Scatter(\n",
    "        x=results_df['date'], \n",
    "        y=results_df['benchmark_mape'], \n",
    "        mode='lines+markers', \n",
    "        name='Benchmark', \n",
    "        line=dict(width=2, color=vibrant_colors[\"benchmark\"]),\n",
    "        marker=dict(size=10, color=vibrant_colors[\"benchmark\"], symbol='square', line=dict(width=1, color='black')),\n",
    "        opacity=0.85\n",
    "    ),\n",
    "    row=1, col=1\n",
    ")\n",
    "fig.add_hline(\n",
    "    y=results_df['model_mape'].mean(),\n",
    "    line_dash=\"dash\",\n",
    "    line_color=vibrant_colors[\"model_mean\"],\n",
    "    opacity=0.7,\n",
    "    row=1, col=1,\n",
    "    annotation_text=\"Model Mean\",\n",
    "    annotation_position=\"right\"\n",
    ")\n",
    "fig.add_hline(\n",
    "    y=results_df['benchmark_mape'].mean(),\n",
    "    line_dash=\"dash\",\n",
    "    line_color=vibrant_colors[\"benchmark_mean\"],\n",
    "    opacity=0.7,\n",
    "    row=1, col=1,\n",
    "    annotation_text=\"Benchmark Mean\",\n",
    "    annotation_position=\"right\"\n",
    ")\n",
    "\n",
    "# RMSE Over Time  \n",
    "fig.add_trace(\n",
    "    go.Scatter(\n",
    "        x=results_df['date'], \n",
    "        y=results_df['model_rmse'], \n",
    "        mode='lines+markers', \n",
    "        name='RMSE',\n",
    "        line=dict(color=vibrant_colors[\"rmse\"], width=2), \n",
    "        marker=dict(size=10, color=vibrant_colors[\"rmse\"], symbol='diamond', line=dict(width=1, color='black'))\n",
    "    ),\n",
    "    row=1, col=2\n",
    ")\n",
    "fig.add_hline(\n",
    "    y=results_df['model_rmse'].mean(), \n",
    "    line_dash=\"dash\", \n",
    "    line_color=vibrant_colors[\"rmse_mean\"], \n",
    "    row=1, col=2,\n",
    "    annotation_text=f\"Mean: {results_df['model_rmse'].mean():.2f}\",\n",
    "    annotation_position=\"right\"\n",
    ")\n",
    "\n",
    "# Correlation Over Time\n",
    "fig.add_trace(\n",
    "    go.Scatter(\n",
    "        x=results_df['date'], \n",
    "        y=results_df['model_corr'], \n",
    "        mode='lines+markers', \n",
    "        name='Correlation',\n",
    "        line=dict(color=vibrant_colors[\"corr\"], width=2), \n",
    "        marker=dict(size=10, color=vibrant_colors[\"corr\"], symbol='cross', line=dict(width=1, color='black'))\n",
    "    ),\n",
    "    row=2, col=1\n",
    ")\n",
    "fig.add_hline(\n",
    "    y=results_df['model_corr'].mean(), \n",
    "    line_dash=\"dash\", \n",
    "    line_color=vibrant_colors[\"corr_mean\"], \n",
    "    row=2, col=1,\n",
    "    annotation_text=f\"Mean: {results_df['model_corr'].mean():.3f}\",\n",
    "    annotation_position=\"right\"\n",
    ")\n",
    "\n",
    "# Players Evaluated Per Slate\n",
    "fig.add_trace(\n",
    "    go.Bar(\n",
    "        x=results_df['date'], \n",
    "        y=results_df['num_players'], \n",
    "        name='Players', \n",
    "        marker=dict(color=vibrant_colors[\"players_bar\"], opacity=0.85, line=dict(color=\"white\", width=0.5))\n",
    "    ),\n",
    "    row=2, col=2\n",
    ")\n",
    "fig.add_hline(\n",
    "    y=results_df['num_players'].mean(), \n",
    "    line_dash=\"dash\", \n",
    "    line_color=vibrant_colors[\"players_mean\"], \n",
    "    row=2, col=2,\n",
    "    annotation_text=f\"Mean: {results_df['num_players'].mean():.1f}\",\n",
    "    annotation_position=\"right\"\n",
    ")\n",
    "\n",
    "# Update layout for dark theme and axis/legend colors\n",
    "axis_style = dict(color=\"white\", showline=True, linewidth=1.5, linecolor='#666', zerolinecolor=\"#444\")\n",
    "fig.update_xaxes(title_text=\"<b>Date</b>\", row=1, col=1, tickangle=45, **axis_style)\n",
    "fig.update_xaxes(title_text=\"<b>Date</b>\", row=1, col=2, tickangle=45, **axis_style)\n",
    "fig.update_xaxes(title_text=\"<b>Date</b>\", row=2, col=1, tickangle=45, **axis_style)\n",
    "fig.update_xaxes(title_text=\"<b>Date</b>\", row=2, col=2, tickangle=45, **axis_style)\n",
    "\n",
    "fig.update_yaxes(title_text=\"<b>MAPE (%)</b>\", row=1, col=1, **axis_style)\n",
    "fig.update_yaxes(title_text=\"<b>RMSE</b>\", row=1, col=2, **axis_style)\n",
    "fig.update_yaxes(title_text=\"<b>Correlation</b>\", row=2, col=1, **axis_style)\n",
    "fig.update_yaxes(title_text=\"<b>Number of Players</b>\", row=2, col=2, **axis_style)\n",
    "\n",
    "fig.update_layout(\n",
    "    height=800,\n",
    "    showlegend=True,\n",
    "    legend=dict(\n",
    "        orientation=\"h\",\n",
    "        yanchor=\"bottom\",\n",
    "        y=1.05,\n",
    "        xanchor=\"center\",\n",
    "        x=0.5,\n",
    "        font=dict(color=\"white\", size=14)\n",
    "    ),\n",
    "    plot_bgcolor=\"#22272e\",\n",
    "    paper_bgcolor=\"#22272e\",\n",
    "    font=dict(family=\"Segoe UI, Roboto, Arial\", size=14, color=\"white\"),\n",
    "    title_text=\"<b>Backtest Performance Metrics</b>\",\n",
    "    title_x=0.5,\n",
    "    margin=dict(l=40, r=40, t=40, b=40)  # Reduced top margin to prevent title overlap\n",
    ")\n",
    "\n",
    "# Move the title lower by adding extra top padding to the subplot area, \n",
    "# so title does not overlap with subplot titles or legend.\n",
    "fig.update_layout(\n",
    "    margin=dict(t=110)  # Increase only top margin for extra spacing for title\n",
    ")\n",
    "\n",
    "fig.show()"
   ]
  },
  {
   "cell_type": "code",
   "execution_count": 30,
   "metadata": {},
   "outputs": [
    {
     "data": {
      "application/vnd.plotly.v1+json": {
       "config": {
        "plotlyServerURL": "https://plot.ly"
       },
       "data": [
        {
         "marker": {
          "color": "#00D7FF",
          "line": {
           "width": 0
          },
          "opacity": 0.7,
          "size": 7
         },
         "mode": "markers",
         "name": "Errors",
         "showlegend": true,
         "type": "scatter",
         "x": {
          "bdata": "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",
          "dtype": "f8"
         },
         "xaxis": "x",
         "y": {
          "bdata": "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",
          "dtype": "f8"
         },
         "yaxis": "y"
        },
        {
         "line": {
          "color": "#FF0080",
          "dash": "dash",
          "width": 2
         },
         "mode": "lines",
         "name": "Equal error",
         "showlegend": true,
         "type": "scatter",
         "x": [
          0,
          43.161637954711914
         ],
         "xaxis": "x",
         "y": [
          0,
          43.161637954711914
         ],
         "yaxis": "y"
        },
        {
         "marker": {
          "color": "#18FF6D",
          "line": {
           "color": "#22272e",
           "width": 1.2
          },
          "opacity": 0.85
         },
         "name": "Error Difference",
         "nbinsx": 30,
         "showlegend": true,
         "type": "histogram",
         "x": {
          "bdata": "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",
          "dtype": "f8"
         },
         "xaxis": "x2",
         "yaxis": "y2"
        }
       ],
       "layout": {
        "annotations": [
         {
          "font": {
           "size": 16
          },
          "showarrow": false,
          "text": "<span style=\"color:white\"><b>Model vs Benchmark Error Comparison</b></span>",
          "x": 0.2125,
          "xanchor": "center",
          "xref": "paper",
          "y": 1,
          "yanchor": "bottom",
          "yref": "paper"
         },
         {
          "font": {
           "size": 16
          },
          "showarrow": false,
          "text": "<span style=\"color:white\"><b>Error Difference Distribution</b><br>(Positive = Model Better)</span>",
          "x": 0.7875,
          "xanchor": "center",
          "xref": "paper",
          "y": 1,
          "yanchor": "bottom",
          "yref": "paper"
         },
         {
          "showarrow": false,
          "text": "<b style='color:#FF0080'>No difference</b>",
          "x": 0,
          "xanchor": "center",
          "xref": "x2",
          "y": 1,
          "yanchor": "bottom",
          "yref": "y2 domain"
         },
         {
          "showarrow": false,
          "text": "<b style='color:#FFD700'>Mean: -1.63</b>",
          "x": -1.6295327016528132,
          "xanchor": "left",
          "xref": "x2",
          "y": 1,
          "yanchor": "top",
          "yref": "y2 domain"
         }
        ],
        "font": {
         "color": "white",
         "family": "Segoe UI, Roboto, Arial",
         "size": 15
        },
        "height": 800,
        "legend": {
         "font": {
          "color": "white",
          "size": 13
         },
         "orientation": "h",
         "x": 0.5,
         "xanchor": "center",
         "y": 1.05,
         "yanchor": "bottom"
        },
        "margin": {
         "b": 55,
         "l": 60,
         "r": 60,
         "t": 80
        },
        "paper_bgcolor": "#22272e",
        "plot_bgcolor": "#22272e",
        "shapes": [
         {
          "line": {
           "color": "#FF0080",
           "dash": "dash"
          },
          "type": "line",
          "x0": 0,
          "x1": 0,
          "xref": "x2",
          "y0": 0,
          "y1": 1,
          "yref": "y2 domain"
         },
         {
          "line": {
           "color": "#FFD700",
           "dash": "dash"
          },
          "type": "line",
          "x0": -1.6295327016528132,
          "x1": -1.6295327016528132,
          "xref": "x2",
          "y0": 0,
          "y1": 1,
          "yref": "y2 domain"
         }
        ],
        "showlegend": true,
        "template": {
         "data": {
          "bar": [
           {
            "error_x": {
             "color": "#f2f5fa"
            },
            "error_y": {
             "color": "#f2f5fa"
            },
            "marker": {
             "line": {
              "color": "rgb(17,17,17)",
              "width": 0.5
             },
             "pattern": {
              "fillmode": "overlay",
              "size": 10,
              "solidity": 0.2
             }
            },
            "type": "bar"
           }
          ],
          "barpolar": [
           {
            "marker": {
             "line": {
              "color": "rgb(17,17,17)",
              "width": 0.5
             },
             "pattern": {
              "fillmode": "overlay",
              "size": 10,
              "solidity": 0.2
             }
            },
            "type": "barpolar"
           }
          ],
          "carpet": [
           {
            "aaxis": {
             "endlinecolor": "#A2B1C6",
             "gridcolor": "#506784",
             "linecolor": "#506784",
             "minorgridcolor": "#506784",
             "startlinecolor": "#A2B1C6"
            },
            "baxis": {
             "endlinecolor": "#A2B1C6",
             "gridcolor": "#506784",
             "linecolor": "#506784",
             "minorgridcolor": "#506784",
             "startlinecolor": "#A2B1C6"
            },
            "type": "carpet"
           }
          ],
          "choropleth": [
           {
            "colorbar": {
             "outlinewidth": 0,
             "ticks": ""
            },
            "type": "choropleth"
           }
          ],
          "contour": [
           {
            "colorbar": {
             "outlinewidth": 0,
             "ticks": ""
            },
            "colorscale": [
             [
              0,
              "#0d0887"
             ],
             [
              0.1111111111111111,
              "#46039f"
             ],
             [
              0.2222222222222222,
              "#7201a8"
             ],
             [
              0.3333333333333333,
              "#9c179e"
             ],
             [
              0.4444444444444444,
              "#bd3786"
             ],
             [
              0.5555555555555556,
              "#d8576b"
             ],
             [
              0.6666666666666666,
              "#ed7953"
             ],
             [
              0.7777777777777778,
              "#fb9f3a"
             ],
             [
              0.8888888888888888,
              "#fdca26"
             ],
             [
              1,
              "#f0f921"
             ]
            ],
            "type": "contour"
           }
          ],
          "contourcarpet": [
           {
            "colorbar": {
             "outlinewidth": 0,
             "ticks": ""
            },
            "type": "contourcarpet"
           }
          ],
          "heatmap": [
           {
            "colorbar": {
             "outlinewidth": 0,
             "ticks": ""
            },
            "colorscale": [
             [
              0,
              "#0d0887"
             ],
             [
              0.1111111111111111,
              "#46039f"
             ],
             [
              0.2222222222222222,
              "#7201a8"
             ],
             [
              0.3333333333333333,
              "#9c179e"
             ],
             [
              0.4444444444444444,
              "#bd3786"
             ],
             [
              0.5555555555555556,
              "#d8576b"
             ],
             [
              0.6666666666666666,
              "#ed7953"
             ],
             [
              0.7777777777777778,
              "#fb9f3a"
             ],
             [
              0.8888888888888888,
              "#fdca26"
             ],
             [
              1,
              "#f0f921"
             ]
            ],
            "type": "heatmap"
           }
          ],
          "histogram": [
           {
            "marker": {
             "pattern": {
              "fillmode": "overlay",
              "size": 10,
              "solidity": 0.2
             }
            },
            "type": "histogram"
           }
          ],
          "histogram2d": [
           {
            "colorbar": {
             "outlinewidth": 0,
             "ticks": ""
            },
            "colorscale": [
             [
              0,
              "#0d0887"
             ],
             [
              0.1111111111111111,
              "#46039f"
             ],
             [
              0.2222222222222222,
              "#7201a8"
             ],
             [
              0.3333333333333333,
              "#9c179e"
             ],
             [
              0.4444444444444444,
              "#bd3786"
             ],
             [
              0.5555555555555556,
              "#d8576b"
             ],
             [
              0.6666666666666666,
              "#ed7953"
             ],
             [
              0.7777777777777778,
              "#fb9f3a"
             ],
             [
              0.8888888888888888,
              "#fdca26"
             ],
             [
              1,
              "#f0f921"
             ]
            ],
            "type": "histogram2d"
           }
          ],
          "histogram2dcontour": [
           {
            "colorbar": {
             "outlinewidth": 0,
             "ticks": ""
            },
            "colorscale": [
             [
              0,
              "#0d0887"
             ],
             [
              0.1111111111111111,
              "#46039f"
             ],
             [
              0.2222222222222222,
              "#7201a8"
             ],
             [
              0.3333333333333333,
              "#9c179e"
             ],
             [
              0.4444444444444444,
              "#bd3786"
             ],
             [
              0.5555555555555556,
              "#d8576b"
             ],
             [
              0.6666666666666666,
              "#ed7953"
             ],
             [
              0.7777777777777778,
              "#fb9f3a"
             ],
             [
              0.8888888888888888,
              "#fdca26"
             ],
             [
              1,
              "#f0f921"
             ]
            ],
            "type": "histogram2dcontour"
           }
          ],
          "mesh3d": [
           {
            "colorbar": {
             "outlinewidth": 0,
             "ticks": ""
            },
            "type": "mesh3d"
           }
          ],
          "parcoords": [
           {
            "line": {
             "colorbar": {
              "outlinewidth": 0,
              "ticks": ""
             }
            },
            "type": "parcoords"
           }
          ],
          "pie": [
           {
            "automargin": true,
            "type": "pie"
           }
          ],
          "scatter": [
           {
            "marker": {
             "line": {
              "color": "#283442"
             }
            },
            "type": "scatter"
           }
          ],
          "scatter3d": [
           {
            "line": {
             "colorbar": {
              "outlinewidth": 0,
              "ticks": ""
             }
            },
            "marker": {
             "colorbar": {
              "outlinewidth": 0,
              "ticks": ""
             }
            },
            "type": "scatter3d"
           }
          ],
          "scattercarpet": [
           {
            "marker": {
             "colorbar": {
              "outlinewidth": 0,
              "ticks": ""
             }
            },
            "type": "scattercarpet"
           }
          ],
          "scattergeo": [
           {
            "marker": {
             "colorbar": {
              "outlinewidth": 0,
              "ticks": ""
             }
            },
            "type": "scattergeo"
           }
          ],
          "scattergl": [
           {
            "marker": {
             "line": {
              "color": "#283442"
             }
            },
            "type": "scattergl"
           }
          ],
          "scattermap": [
           {
            "marker": {
             "colorbar": {
              "outlinewidth": 0,
              "ticks": ""
             }
            },
            "type": "scattermap"
           }
          ],
          "scattermapbox": [
           {
            "marker": {
             "colorbar": {
              "outlinewidth": 0,
              "ticks": ""
             }
            },
            "type": "scattermapbox"
           }
          ],
          "scatterpolar": [
           {
            "marker": {
             "colorbar": {
              "outlinewidth": 0,
              "ticks": ""
             }
            },
            "type": "scatterpolar"
           }
          ],
          "scatterpolargl": [
           {
            "marker": {
             "colorbar": {
              "outlinewidth": 0,
              "ticks": ""
             }
            },
            "type": "scatterpolargl"
           }
          ],
          "scatterternary": [
           {
            "marker": {
             "colorbar": {
              "outlinewidth": 0,
              "ticks": ""
             }
            },
            "type": "scatterternary"
           }
          ],
          "surface": [
           {
            "colorbar": {
             "outlinewidth": 0,
             "ticks": ""
            },
            "colorscale": [
             [
              0,
              "#0d0887"
             ],
             [
              0.1111111111111111,
              "#46039f"
             ],
             [
              0.2222222222222222,
              "#7201a8"
             ],
             [
              0.3333333333333333,
              "#9c179e"
             ],
             [
              0.4444444444444444,
              "#bd3786"
             ],
             [
              0.5555555555555556,
              "#d8576b"
             ],
             [
              0.6666666666666666,
              "#ed7953"
             ],
             [
              0.7777777777777778,
              "#fb9f3a"
             ],
             [
              0.8888888888888888,
              "#fdca26"
             ],
             [
              1,
              "#f0f921"
             ]
            ],
            "type": "surface"
           }
          ],
          "table": [
           {
            "cells": {
             "fill": {
              "color": "#506784"
             },
             "line": {
              "color": "rgb(17,17,17)"
             }
            },
            "header": {
             "fill": {
              "color": "#2a3f5f"
             },
             "line": {
              "color": "rgb(17,17,17)"
             }
            },
            "type": "table"
           }
          ]
         },
         "layout": {
          "annotationdefaults": {
           "arrowcolor": "#f2f5fa",
           "arrowhead": 0,
           "arrowwidth": 1
          },
          "autotypenumbers": "strict",
          "coloraxis": {
           "colorbar": {
            "outlinewidth": 0,
            "ticks": ""
           }
          },
          "colorscale": {
           "diverging": [
            [
             0,
             "#8e0152"
            ],
            [
             0.1,
             "#c51b7d"
            ],
            [
             0.2,
             "#de77ae"
            ],
            [
             0.3,
             "#f1b6da"
            ],
            [
             0.4,
             "#fde0ef"
            ],
            [
             0.5,
             "#f7f7f7"
            ],
            [
             0.6,
             "#e6f5d0"
            ],
            [
             0.7,
             "#b8e186"
            ],
            [
             0.8,
             "#7fbc41"
            ],
            [
             0.9,
             "#4d9221"
            ],
            [
             1,
             "#276419"
            ]
           ],
           "sequential": [
            [
             0,
             "#0d0887"
            ],
            [
             0.1111111111111111,
             "#46039f"
            ],
            [
             0.2222222222222222,
             "#7201a8"
            ],
            [
             0.3333333333333333,
             "#9c179e"
            ],
            [
             0.4444444444444444,
             "#bd3786"
            ],
            [
             0.5555555555555556,
             "#d8576b"
            ],
            [
             0.6666666666666666,
             "#ed7953"
            ],
            [
             0.7777777777777778,
             "#fb9f3a"
            ],
            [
             0.8888888888888888,
             "#fdca26"
            ],
            [
             1,
             "#f0f921"
            ]
           ],
           "sequentialminus": [
            [
             0,
             "#0d0887"
            ],
            [
             0.1111111111111111,
             "#46039f"
            ],
            [
             0.2222222222222222,
             "#7201a8"
            ],
            [
             0.3333333333333333,
             "#9c179e"
            ],
            [
             0.4444444444444444,
             "#bd3786"
            ],
            [
             0.5555555555555556,
             "#d8576b"
            ],
            [
             0.6666666666666666,
             "#ed7953"
            ],
            [
             0.7777777777777778,
             "#fb9f3a"
            ],
            [
             0.8888888888888888,
             "#fdca26"
            ],
            [
             1,
             "#f0f921"
            ]
           ]
          },
          "colorway": [
           "#636efa",
           "#EF553B",
           "#00cc96",
           "#ab63fa",
           "#FFA15A",
           "#19d3f3",
           "#FF6692",
           "#B6E880",
           "#FF97FF",
           "#FECB52"
          ],
          "font": {
           "color": "#f2f5fa"
          },
          "geo": {
           "bgcolor": "rgb(17,17,17)",
           "lakecolor": "rgb(17,17,17)",
           "landcolor": "rgb(17,17,17)",
           "showlakes": true,
           "showland": true,
           "subunitcolor": "#506784"
          },
          "hoverlabel": {
           "align": "left"
          },
          "hovermode": "closest",
          "mapbox": {
           "style": "dark"
          },
          "paper_bgcolor": "rgb(17,17,17)",
          "plot_bgcolor": "rgb(17,17,17)",
          "polar": {
           "angularaxis": {
            "gridcolor": "#506784",
            "linecolor": "#506784",
            "ticks": ""
           },
           "bgcolor": "rgb(17,17,17)",
           "radialaxis": {
            "gridcolor": "#506784",
            "linecolor": "#506784",
            "ticks": ""
           }
          },
          "scene": {
           "xaxis": {
            "backgroundcolor": "rgb(17,17,17)",
            "gridcolor": "#506784",
            "gridwidth": 2,
            "linecolor": "#506784",
            "showbackground": true,
            "ticks": "",
            "zerolinecolor": "#C8D4E3"
           },
           "yaxis": {
            "backgroundcolor": "rgb(17,17,17)",
            "gridcolor": "#506784",
            "gridwidth": 2,
            "linecolor": "#506784",
            "showbackground": true,
            "ticks": "",
            "zerolinecolor": "#C8D4E3"
           },
           "zaxis": {
            "backgroundcolor": "rgb(17,17,17)",
            "gridcolor": "#506784",
            "gridwidth": 2,
            "linecolor": "#506784",
            "showbackground": true,
            "ticks": "",
            "zerolinecolor": "#C8D4E3"
           }
          },
          "shapedefaults": {
           "line": {
            "color": "#f2f5fa"
           }
          },
          "sliderdefaults": {
           "bgcolor": "#C8D4E3",
           "bordercolor": "rgb(17,17,17)",
           "borderwidth": 1,
           "tickwidth": 0
          },
          "ternary": {
           "aaxis": {
            "gridcolor": "#506784",
            "linecolor": "#506784",
            "ticks": ""
           },
           "baxis": {
            "gridcolor": "#506784",
            "linecolor": "#506784",
            "ticks": ""
           },
           "bgcolor": "rgb(17,17,17)",
           "caxis": {
            "gridcolor": "#506784",
            "linecolor": "#506784",
            "ticks": ""
           }
          },
          "title": {
           "x": 0.05
          },
          "updatemenudefaults": {
           "bgcolor": "#506784",
           "borderwidth": 0
          },
          "xaxis": {
           "automargin": true,
           "gridcolor": "#283442",
           "linecolor": "#506784",
           "ticks": "",
           "title": {
            "standoff": 15
           },
           "zerolinecolor": "#283442",
           "zerolinewidth": 2
          },
          "yaxis": {
           "automargin": true,
           "gridcolor": "#283442",
           "linecolor": "#506784",
           "ticks": "",
           "title": {
            "standoff": 15
           },
           "zerolinecolor": "#283442",
           "zerolinewidth": 2
          }
         }
        },
        "title": {
         "text": "<b>Model vs Benchmark Error Analysis</b>",
         "x": 0.5
        },
        "width": 1400,
        "xaxis": {
         "anchor": "y",
         "color": "white",
         "domain": [
          0,
          0.425
         ],
         "linecolor": "#666",
         "linewidth": 1.7,
         "showline": true,
         "tickfont": {
          "color": "white"
         },
         "title": {
          "text": "<b style='color:#75eaff'>Benchmark Error</b>"
         },
         "zerolinecolor": "#444"
        },
        "xaxis2": {
         "anchor": "y2",
         "color": "white",
         "domain": [
          0.575,
          1
         ],
         "linecolor": "#666",
         "linewidth": 1.7,
         "showline": true,
         "tickfont": {
          "color": "white"
         },
         "title": {
          "text": "<b style='color:#18FF6D'>Error Difference (Benchmark - Model)</b>"
         },
         "zerolinecolor": "#444"
        },
        "yaxis": {
         "anchor": "x",
         "color": "white",
         "domain": [
          0,
          1
         ],
         "linecolor": "#666",
         "linewidth": 1.7,
         "showline": true,
         "tickfont": {
          "color": "white"
         },
         "title": {
          "text": "<b style='color:#FF0080'>Model Error</b>"
         },
         "zerolinecolor": "#444"
        },
        "yaxis2": {
         "anchor": "x2",
         "color": "white",
         "domain": [
          0,
          1
         ],
         "linecolor": "#666",
         "linewidth": 1.7,
         "showline": true,
         "tickfont": {
          "color": "white"
         },
         "title": {
          "text": "<b style='color:#FFD700'>Frequency</b>"
         },
         "zerolinecolor": "#444"
        }
       }
      }
     },
     "metadata": {},
     "output_type": "display_data"
    }
   ],
   "source": [
    "# --- Dark theme and vibrant colors ---\n",
    "vibrant_colors = {\n",
    "    \"scatter\": \"#00D7FF\",        # Cyan\n",
    "    \"diagonal\": \"#FF0080\",       # Pink/magenta\n",
    "    \"histogram\": \"#18FF6D\",      # Vibrant green\n",
    "    \"histogram_border\": \"#22272e\",\n",
    "    \"vline_zero\": \"#FF0080\",     # Pink/magenta\n",
    "    \"vline_mean\": \"#FFD700\",     # Gold/yellow\n",
    "}\n",
    "\n",
    "fig = make_subplots(\n",
    "    rows=1, cols=2,\n",
    "    subplot_titles=(\n",
    "        '<span style=\"color:white\"><b>Model vs Benchmark Error Comparison</b></span>', \n",
    "        '<span style=\"color:white\"><b>Error Difference Distribution</b><br>(Positive = Model Better)</span>'\n",
    "    ),\n",
    "    horizontal_spacing=0.15\n",
    ")\n",
    "\n",
    "# Scatter plot: Model vs Benchmark Error\n",
    "fig.add_trace(\n",
    "    go.Scatter(\n",
    "        x=comparison_df['benchmark_error'], y=comparison_df['model_error'],\n",
    "        mode='markers',\n",
    "        marker=dict(size=7, opacity=0.7, color=vibrant_colors[\"scatter\"], line=dict(width=0)),\n",
    "        name='Errors',\n",
    "        showlegend=True\n",
    "    ),\n",
    "    row=1, col=1\n",
    ")\n",
    "\n",
    "# Add diagonal line for equal error\n",
    "max_error = max(comparison_df['benchmark_error'].max(), comparison_df['model_error'].max()) * 1.03\n",
    "fig.add_trace(\n",
    "    go.Scatter(\n",
    "        x=[0, max_error], y=[0, max_error],\n",
    "        mode='lines',\n",
    "        line=dict(color=vibrant_colors[\"diagonal\"], dash='dash', width=2),\n",
    "        name='Equal error',\n",
    "        showlegend=True\n",
    "    ),\n",
    "    row=1, col=1\n",
    ")\n",
    "\n",
    "# Histogram of error differences\n",
    "error_diff = comparison_df['benchmark_error'] - comparison_df['model_error']\n",
    "fig.add_trace(\n",
    "    go.Histogram(\n",
    "        x=error_diff, nbinsx=30,\n",
    "        marker=dict(color=vibrant_colors[\"histogram\"], opacity=0.85, \n",
    "                    line=dict(color=vibrant_colors[\"histogram_border\"], width=1.2)),\n",
    "        name='Error Difference',\n",
    "        showlegend=True\n",
    "    ),\n",
    "    row=1, col=2\n",
    ")\n",
    "\n",
    "# Add vertical lines for reference\n",
    "fig.add_vline(\n",
    "    x=0,\n",
    "    line_dash=\"dash\",\n",
    "    line_color=vibrant_colors[\"vline_zero\"],\n",
    "    row=1, col=2,\n",
    "    annotation_text=\"<b style='color:#FF0080'>No difference</b>\",\n",
    "    annotation_position=\"top\"\n",
    ")\n",
    "fig.add_vline(\n",
    "    x=error_diff.mean(),\n",
    "    line_dash=\"dash\",\n",
    "    line_color=vibrant_colors[\"vline_mean\"],\n",
    "    row=1, col=2,\n",
    "    annotation_text=f\"<b style='color:#FFD700'>Mean: {error_diff.mean():.2f}</b>\",\n",
    "    annotation_position=\"top right\"\n",
    ")\n",
    "\n",
    "# Update layout for dark theme and axis/legend colors\n",
    "axis_style = dict(color=\"white\", showline=True, linewidth=1.7, linecolor='#666', zerolinecolor=\"#444\")\n",
    "fig.update_xaxes(title_text=\"<b style='color:#75eaff'>Benchmark Error</b>\", row=1, col=1, tickfont_color=\"white\", **axis_style)\n",
    "fig.update_yaxes(title_text=\"<b style='color:#FF0080'>Model Error</b>\", row=1, col=1, tickfont_color=\"white\", **axis_style)\n",
    "fig.update_xaxes(title_text=\"<b style='color:#18FF6D'>Error Difference (Benchmark - Model)</b>\", row=1, col=2, tickfont_color=\"white\", **axis_style)\n",
    "fig.update_yaxes(title_text=\"<b style='color:#FFD700'>Frequency</b>\", row=1, col=2, tickfont_color=\"white\", **axis_style)\n",
    "\n",
    "fig.update_layout(\n",
    "    height=800,  # Increased from 520 to 800 for bigger plot\n",
    "    width=1400,  # Added width for more horizontal room\n",
    "    showlegend=True,\n",
    "    legend=dict(\n",
    "        orientation=\"h\",\n",
    "        y=1.05,\n",
    "        yanchor=\"bottom\",\n",
    "        xanchor=\"center\",\n",
    "        x=0.5,\n",
    "        font=dict(color=\"white\", size=13)\n",
    "    ),\n",
    "    plot_bgcolor=\"#22272e\",\n",
    "    paper_bgcolor=\"#22272e\",\n",
    "    font=dict(family=\"Segoe UI, Roboto, Arial\", size=15, color=\"white\"),\n",
    "    title_text=\"<b>Model vs Benchmark Error Analysis</b>\",\n",
    "    title_x=0.5,\n",
    "    margin=dict(l=60, r=60, t=80, b=55)  # Added more margin for clarity\n",
    ")\n",
    "\n",
    "fig.show()"
   ]
  },
  {
   "cell_type": "code",
   "execution_count": 31,
   "metadata": {},
   "outputs": [
    {
     "data": {
      "application/vnd.plotly.v1+json": {
       "config": {
        "plotlyServerURL": "https://plot.ly"
       },
       "data": [
        {
         "marker": {
          "opacity": 0.8
         },
         "name": "Model",
         "type": "bar",
         "x": [
          "Low",
          "Elite",
          "High",
          "Mid"
         ],
         "xaxis": "x",
         "y": {
          "bdata": "Bqut5oqUWUB8998FOL5CQEA4WkM3bktApJoq49YxWUA=",
          "dtype": "f8"
         },
         "yaxis": "y"
        },
        {
         "marker": {
          "opacity": 0.8
         },
         "name": "Benchmark",
         "type": "bar",
         "x": [
          "Low",
          "Elite",
          "High",
          "Mid"
         ],
         "xaxis": "x",
         "y": {
          "bdata": "ezVzKQfuV0AiERuyrVU7QPyFVqteFUZAgTvLKwKKWUA=",
          "dtype": "f8"
         },
         "yaxis": "y"
        },
        {
         "marker": {
          "color": [
           "red",
           "red",
           "red",
           "green"
          ],
          "opacity": 0.7
         },
         "showlegend": false,
         "type": "bar",
         "x": [
          "Low",
          "Elite",
          "High",
          "Mid"
         ],
         "xaxis": "x2",
         "y": {
          "bdata": "sFin0ztoGsCsu0mzhE0kwBDJDmBiYyXAQDcoKNIK9j8=",
          "dtype": "f8"
         },
         "yaxis": "y2"
        }
       ],
       "layout": {
        "annotations": [
         {
          "font": {
           "size": 16
          },
          "showarrow": false,
          "text": "MAPE by Salary Tier",
          "x": 0.2125,
          "xanchor": "center",
          "xref": "paper",
          "y": 1,
          "yanchor": "bottom",
          "yref": "paper"
         },
         {
          "font": {
           "size": 16
          },
          "showarrow": false,
          "text": "Model Improvement Over Benchmark<br>(Positive = Model Better)",
          "x": 0.7875,
          "xanchor": "center",
          "xref": "paper",
          "y": 1,
          "yanchor": "bottom",
          "yref": "paper"
         }
        ],
        "barmode": "group",
        "height": 500,
        "shapes": [
         {
          "line": {
           "color": "black",
           "width": 0.8
          },
          "type": "line",
          "x0": 0,
          "x1": 1,
          "xref": "x2 domain",
          "y0": 0,
          "y1": 0,
          "yref": "y2"
         }
        ],
        "template": {
         "data": {
          "bar": [
           {
            "error_x": {
             "color": "#f2f5fa"
            },
            "error_y": {
             "color": "#f2f5fa"
            },
            "marker": {
             "line": {
              "color": "rgb(17,17,17)",
              "width": 0.5
             },
             "pattern": {
              "fillmode": "overlay",
              "size": 10,
              "solidity": 0.2
             }
            },
            "type": "bar"
           }
          ],
          "barpolar": [
           {
            "marker": {
             "line": {
              "color": "rgb(17,17,17)",
              "width": 0.5
             },
             "pattern": {
              "fillmode": "overlay",
              "size": 10,
              "solidity": 0.2
             }
            },
            "type": "barpolar"
           }
          ],
          "carpet": [
           {
            "aaxis": {
             "endlinecolor": "#A2B1C6",
             "gridcolor": "#506784",
             "linecolor": "#506784",
             "minorgridcolor": "#506784",
             "startlinecolor": "#A2B1C6"
            },
            "baxis": {
             "endlinecolor": "#A2B1C6",
             "gridcolor": "#506784",
             "linecolor": "#506784",
             "minorgridcolor": "#506784",
             "startlinecolor": "#A2B1C6"
            },
            "type": "carpet"
           }
          ],
          "choropleth": [
           {
            "colorbar": {
             "outlinewidth": 0,
             "ticks": ""
            },
            "type": "choropleth"
           }
          ],
          "contour": [
           {
            "colorbar": {
             "outlinewidth": 0,
             "ticks": ""
            },
            "colorscale": [
             [
              0,
              "#0d0887"
             ],
             [
              0.1111111111111111,
              "#46039f"
             ],
             [
              0.2222222222222222,
              "#7201a8"
             ],
             [
              0.3333333333333333,
              "#9c179e"
             ],
             [
              0.4444444444444444,
              "#bd3786"
             ],
             [
              0.5555555555555556,
              "#d8576b"
             ],
             [
              0.6666666666666666,
              "#ed7953"
             ],
             [
              0.7777777777777778,
              "#fb9f3a"
             ],
             [
              0.8888888888888888,
              "#fdca26"
             ],
             [
              1,
              "#f0f921"
             ]
            ],
            "type": "contour"
           }
          ],
          "contourcarpet": [
           {
            "colorbar": {
             "outlinewidth": 0,
             "ticks": ""
            },
            "type": "contourcarpet"
           }
          ],
          "heatmap": [
           {
            "colorbar": {
             "outlinewidth": 0,
             "ticks": ""
            },
            "colorscale": [
             [
              0,
              "#0d0887"
             ],
             [
              0.1111111111111111,
              "#46039f"
             ],
             [
              0.2222222222222222,
              "#7201a8"
             ],
             [
              0.3333333333333333,
              "#9c179e"
             ],
             [
              0.4444444444444444,
              "#bd3786"
             ],
             [
              0.5555555555555556,
              "#d8576b"
             ],
             [
              0.6666666666666666,
              "#ed7953"
             ],
             [
              0.7777777777777778,
              "#fb9f3a"
             ],
             [
              0.8888888888888888,
              "#fdca26"
             ],
             [
              1,
              "#f0f921"
             ]
            ],
            "type": "heatmap"
           }
          ],
          "histogram": [
           {
            "marker": {
             "pattern": {
              "fillmode": "overlay",
              "size": 10,
              "solidity": 0.2
             }
            },
            "type": "histogram"
           }
          ],
          "histogram2d": [
           {
            "colorbar": {
             "outlinewidth": 0,
             "ticks": ""
            },
            "colorscale": [
             [
              0,
              "#0d0887"
             ],
             [
              0.1111111111111111,
              "#46039f"
             ],
             [
              0.2222222222222222,
              "#7201a8"
             ],
             [
              0.3333333333333333,
              "#9c179e"
             ],
             [
              0.4444444444444444,
              "#bd3786"
             ],
             [
              0.5555555555555556,
              "#d8576b"
             ],
             [
              0.6666666666666666,
              "#ed7953"
             ],
             [
              0.7777777777777778,
              "#fb9f3a"
             ],
             [
              0.8888888888888888,
              "#fdca26"
             ],
             [
              1,
              "#f0f921"
             ]
            ],
            "type": "histogram2d"
           }
          ],
          "histogram2dcontour": [
           {
            "colorbar": {
             "outlinewidth": 0,
             "ticks": ""
            },
            "colorscale": [
             [
              0,
              "#0d0887"
             ],
             [
              0.1111111111111111,
              "#46039f"
             ],
             [
              0.2222222222222222,
              "#7201a8"
             ],
             [
              0.3333333333333333,
              "#9c179e"
             ],
             [
              0.4444444444444444,
              "#bd3786"
             ],
             [
              0.5555555555555556,
              "#d8576b"
             ],
             [
              0.6666666666666666,
              "#ed7953"
             ],
             [
              0.7777777777777778,
              "#fb9f3a"
             ],
             [
              0.8888888888888888,
              "#fdca26"
             ],
             [
              1,
              "#f0f921"
             ]
            ],
            "type": "histogram2dcontour"
           }
          ],
          "mesh3d": [
           {
            "colorbar": {
             "outlinewidth": 0,
             "ticks": ""
            },
            "type": "mesh3d"
           }
          ],
          "parcoords": [
           {
            "line": {
             "colorbar": {
              "outlinewidth": 0,
              "ticks": ""
             }
            },
            "type": "parcoords"
           }
          ],
          "pie": [
           {
            "automargin": true,
            "type": "pie"
           }
          ],
          "scatter": [
           {
            "marker": {
             "line": {
              "color": "#283442"
             }
            },
            "type": "scatter"
           }
          ],
          "scatter3d": [
           {
            "line": {
             "colorbar": {
              "outlinewidth": 0,
              "ticks": ""
             }
            },
            "marker": {
             "colorbar": {
              "outlinewidth": 0,
              "ticks": ""
             }
            },
            "type": "scatter3d"
           }
          ],
          "scattercarpet": [
           {
            "marker": {
             "colorbar": {
              "outlinewidth": 0,
              "ticks": ""
             }
            },
            "type": "scattercarpet"
           }
          ],
          "scattergeo": [
           {
            "marker": {
             "colorbar": {
              "outlinewidth": 0,
              "ticks": ""
             }
            },
            "type": "scattergeo"
           }
          ],
          "scattergl": [
           {
            "marker": {
             "line": {
              "color": "#283442"
             }
            },
            "type": "scattergl"
           }
          ],
          "scattermap": [
           {
            "marker": {
             "colorbar": {
              "outlinewidth": 0,
              "ticks": ""
             }
            },
            "type": "scattermap"
           }
          ],
          "scattermapbox": [
           {
            "marker": {
             "colorbar": {
              "outlinewidth": 0,
              "ticks": ""
             }
            },
            "type": "scattermapbox"
           }
          ],
          "scatterpolar": [
           {
            "marker": {
             "colorbar": {
              "outlinewidth": 0,
              "ticks": ""
             }
            },
            "type": "scatterpolar"
           }
          ],
          "scatterpolargl": [
           {
            "marker": {
             "colorbar": {
              "outlinewidth": 0,
              "ticks": ""
             }
            },
            "type": "scatterpolargl"
           }
          ],
          "scatterternary": [
           {
            "marker": {
             "colorbar": {
              "outlinewidth": 0,
              "ticks": ""
             }
            },
            "type": "scatterternary"
           }
          ],
          "surface": [
           {
            "colorbar": {
             "outlinewidth": 0,
             "ticks": ""
            },
            "colorscale": [
             [
              0,
              "#0d0887"
             ],
             [
              0.1111111111111111,
              "#46039f"
             ],
             [
              0.2222222222222222,
              "#7201a8"
             ],
             [
              0.3333333333333333,
              "#9c179e"
             ],
             [
              0.4444444444444444,
              "#bd3786"
             ],
             [
              0.5555555555555556,
              "#d8576b"
             ],
             [
              0.6666666666666666,
              "#ed7953"
             ],
             [
              0.7777777777777778,
              "#fb9f3a"
             ],
             [
              0.8888888888888888,
              "#fdca26"
             ],
             [
              1,
              "#f0f921"
             ]
            ],
            "type": "surface"
           }
          ],
          "table": [
           {
            "cells": {
             "fill": {
              "color": "#506784"
             },
             "line": {
              "color": "rgb(17,17,17)"
             }
            },
            "header": {
             "fill": {
              "color": "#2a3f5f"
             },
             "line": {
              "color": "rgb(17,17,17)"
             }
            },
            "type": "table"
           }
          ]
         },
         "layout": {
          "annotationdefaults": {
           "arrowcolor": "#f2f5fa",
           "arrowhead": 0,
           "arrowwidth": 1
          },
          "autotypenumbers": "strict",
          "coloraxis": {
           "colorbar": {
            "outlinewidth": 0,
            "ticks": ""
           }
          },
          "colorscale": {
           "diverging": [
            [
             0,
             "#8e0152"
            ],
            [
             0.1,
             "#c51b7d"
            ],
            [
             0.2,
             "#de77ae"
            ],
            [
             0.3,
             "#f1b6da"
            ],
            [
             0.4,
             "#fde0ef"
            ],
            [
             0.5,
             "#f7f7f7"
            ],
            [
             0.6,
             "#e6f5d0"
            ],
            [
             0.7,
             "#b8e186"
            ],
            [
             0.8,
             "#7fbc41"
            ],
            [
             0.9,
             "#4d9221"
            ],
            [
             1,
             "#276419"
            ]
           ],
           "sequential": [
            [
             0,
             "#0d0887"
            ],
            [
             0.1111111111111111,
             "#46039f"
            ],
            [
             0.2222222222222222,
             "#7201a8"
            ],
            [
             0.3333333333333333,
             "#9c179e"
            ],
            [
             0.4444444444444444,
             "#bd3786"
            ],
            [
             0.5555555555555556,
             "#d8576b"
            ],
            [
             0.6666666666666666,
             "#ed7953"
            ],
            [
             0.7777777777777778,
             "#fb9f3a"
            ],
            [
             0.8888888888888888,
             "#fdca26"
            ],
            [
             1,
             "#f0f921"
            ]
           ],
           "sequentialminus": [
            [
             0,
             "#0d0887"
            ],
            [
             0.1111111111111111,
             "#46039f"
            ],
            [
             0.2222222222222222,
             "#7201a8"
            ],
            [
             0.3333333333333333,
             "#9c179e"
            ],
            [
             0.4444444444444444,
             "#bd3786"
            ],
            [
             0.5555555555555556,
             "#d8576b"
            ],
            [
             0.6666666666666666,
             "#ed7953"
            ],
            [
             0.7777777777777778,
             "#fb9f3a"
            ],
            [
             0.8888888888888888,
             "#fdca26"
            ],
            [
             1,
             "#f0f921"
            ]
           ]
          },
          "colorway": [
           "#636efa",
           "#EF553B",
           "#00cc96",
           "#ab63fa",
           "#FFA15A",
           "#19d3f3",
           "#FF6692",
           "#B6E880",
           "#FF97FF",
           "#FECB52"
          ],
          "font": {
           "color": "#f2f5fa"
          },
          "geo": {
           "bgcolor": "rgb(17,17,17)",
           "lakecolor": "rgb(17,17,17)",
           "landcolor": "rgb(17,17,17)",
           "showlakes": true,
           "showland": true,
           "subunitcolor": "#506784"
          },
          "hoverlabel": {
           "align": "left"
          },
          "hovermode": "closest",
          "mapbox": {
           "style": "dark"
          },
          "paper_bgcolor": "rgb(17,17,17)",
          "plot_bgcolor": "rgb(17,17,17)",
          "polar": {
           "angularaxis": {
            "gridcolor": "#506784",
            "linecolor": "#506784",
            "ticks": ""
           },
           "bgcolor": "rgb(17,17,17)",
           "radialaxis": {
            "gridcolor": "#506784",
            "linecolor": "#506784",
            "ticks": ""
           }
          },
          "scene": {
           "xaxis": {
            "backgroundcolor": "rgb(17,17,17)",
            "gridcolor": "#506784",
            "gridwidth": 2,
            "linecolor": "#506784",
            "showbackground": true,
            "ticks": "",
            "zerolinecolor": "#C8D4E3"
           },
           "yaxis": {
            "backgroundcolor": "rgb(17,17,17)",
            "gridcolor": "#506784",
            "gridwidth": 2,
            "linecolor": "#506784",
            "showbackground": true,
            "ticks": "",
            "zerolinecolor": "#C8D4E3"
           },
           "zaxis": {
            "backgroundcolor": "rgb(17,17,17)",
            "gridcolor": "#506784",
            "gridwidth": 2,
            "linecolor": "#506784",
            "showbackground": true,
            "ticks": "",
            "zerolinecolor": "#C8D4E3"
           }
          },
          "shapedefaults": {
           "line": {
            "color": "#f2f5fa"
           }
          },
          "sliderdefaults": {
           "bgcolor": "#C8D4E3",
           "bordercolor": "rgb(17,17,17)",
           "borderwidth": 1,
           "tickwidth": 0
          },
          "ternary": {
           "aaxis": {
            "gridcolor": "#506784",
            "linecolor": "#506784",
            "ticks": ""
           },
           "baxis": {
            "gridcolor": "#506784",
            "linecolor": "#506784",
            "ticks": ""
           },
           "bgcolor": "rgb(17,17,17)",
           "caxis": {
            "gridcolor": "#506784",
            "linecolor": "#506784",
            "ticks": ""
           }
          },
          "title": {
           "x": 0.05
          },
          "updatemenudefaults": {
           "bgcolor": "#506784",
           "borderwidth": 0
          },
          "xaxis": {
           "automargin": true,
           "gridcolor": "#283442",
           "linecolor": "#506784",
           "ticks": "",
           "title": {
            "standoff": 15
           },
           "zerolinecolor": "#283442",
           "zerolinewidth": 2
          },
          "yaxis": {
           "automargin": true,
           "gridcolor": "#283442",
           "linecolor": "#506784",
           "ticks": "",
           "title": {
            "standoff": 15
           },
           "zerolinecolor": "#283442",
           "zerolinewidth": 2
          }
         }
        },
        "title": {
         "text": "Performance Analysis by Salary Tier",
         "x": 0.5
        },
        "xaxis": {
         "anchor": "y",
         "domain": [
          0,
          0.425
         ],
         "title": {
          "text": "Salary Tier"
         }
        },
        "xaxis2": {
         "anchor": "y2",
         "domain": [
          0.575,
          1
         ],
         "title": {
          "text": "Salary Tier"
         }
        },
        "yaxis": {
         "anchor": "x",
         "domain": [
          0,
          1
         ],
         "title": {
          "text": "MAPE (%)"
         }
        },
        "yaxis2": {
         "anchor": "x2",
         "domain": [
          0,
          1
         ],
         "title": {
          "text": "MAPE Improvement (%)"
         }
        }
       }
      }
     },
     "metadata": {},
     "output_type": "display_data"
    }
   ],
   "source": [
    "fig = make_subplots(\n",
    "    rows=1, cols=2,\n",
    "    subplot_titles=('MAPE by Salary Tier', 'Model Improvement Over Benchmark<br>(Positive = Model Better)'),\n",
    "    horizontal_spacing=0.15\n",
    ")\n",
    "\n",
    "# MAPE by Salary Tier - Grouped Bar Chart\n",
    "x_labels = tier_comparison['salary_tier'].astype(str)\n",
    "x_pos = np.arange(len(x_labels))\n",
    "\n",
    "fig.add_trace(\n",
    "    go.Bar(x=x_labels, y=tier_comparison['model_mape'],\n",
    "           name='Model', marker=dict(opacity=0.8)),\n",
    "    row=1, col=1\n",
    ")\n",
    "fig.add_trace(\n",
    "    go.Bar(x=x_labels, y=tier_comparison['benchmark_mape'],\n",
    "           name='Benchmark', marker=dict(opacity=0.8)),\n",
    "    row=1, col=1\n",
    ")\n",
    "\n",
    "# Improvement Bar Chart\n",
    "colors = ['green' if x > 0 else 'red' for x in tier_comparison['mape_improvement']]\n",
    "fig.add_trace(\n",
    "    go.Bar(x=x_labels, y=tier_comparison['mape_improvement'],\n",
    "           marker=dict(color=colors, opacity=0.7),\n",
    "           showlegend=False),\n",
    "    row=1, col=2\n",
    ")\n",
    "\n",
    "# Add horizontal line at 0 for improvement chart\n",
    "fig.add_hline(y=0, line_color=\"black\", line_width=0.8, row=1, col=2)\n",
    "\n",
    "# Update layout\n",
    "fig.update_xaxes(title_text=\"Salary Tier\", row=1, col=1)\n",
    "fig.update_xaxes(title_text=\"Salary Tier\", row=1, col=2)\n",
    "fig.update_yaxes(title_text=\"MAPE (%)\", row=1, col=1)\n",
    "fig.update_yaxes(title_text=\"MAPE Improvement (%)\", row=1, col=2)\n",
    "\n",
    "fig.update_layout(\n",
    "    height=500,\n",
    "    barmode='group',\n",
    "    title_text=\"Performance Analysis by Salary Tier\",\n",
    "    title_x=0.5\n",
    ")\n",
    "\n",
    "fig.show()"
   ]
  },
  {
   "cell_type": "code",
   "execution_count": 32,
   "metadata": {},
   "outputs": [
    {
     "ename": "NameError",
     "evalue": "name 'MODE' is not defined",
     "output_type": "error",
     "traceback": [
      "\u001b[31m---------------------------------------------------------------------------\u001b[39m",
      "\u001b[31mNameError\u001b[39m                                 Traceback (most recent call last)",
      "\u001b[36mCell\u001b[39m\u001b[36m \u001b[39m\u001b[32mIn[32]\u001b[39m\u001b[32m, line 1\u001b[39m\n\u001b[32m----> \u001b[39m\u001b[32m1\u001b[39m \u001b[38;5;28;01mif\u001b[39;00m \u001b[43mMODE\u001b[49m == \u001b[33m'\u001b[39m\u001b[33mbacktest\u001b[39m\u001b[33m'\u001b[39m \u001b[38;5;129;01mand\u001b[39;00m \u001b[33m'\u001b[39m\u001b[33merror\u001b[39m\u001b[33m'\u001b[39m \u001b[38;5;129;01mnot\u001b[39;00m \u001b[38;5;129;01min\u001b[39;00m results:\n\u001b[32m      2\u001b[39m     \u001b[38;5;28mprint\u001b[39m(\u001b[33m'\u001b[39m\u001b[33m=\u001b[39m\u001b[33m'\u001b[39m*\u001b[32m80\u001b[39m)\n\u001b[32m      3\u001b[39m     \u001b[38;5;28mprint\u001b[39m(\u001b[33m'\u001b[39m\u001b[33mBACKTEST RESULTS SUMMARY\u001b[39m\u001b[33m'\u001b[39m)\n",
      "\u001b[31mNameError\u001b[39m: name 'MODE' is not defined"
     ]
    }
   ],
   "source": [
    "if MODE == 'backtest' and 'error' not in results:\n",
    "    print('='*80)\n",
    "    print('BACKTEST RESULTS SUMMARY')\n",
    "    print('='*80)\n",
    "    print(f\"\\nNumber of Slates: {results['num_slates']}\")\n",
    "    print(f\"Date Range: {results['date_range']}\")\n",
    "    print(f\"\\nTotal Players Evaluated: {results['total_players_evaluated']:.0f}\")\n",
    "    print(f\"Average Players per Slate: {results['avg_players_per_slate']:.1f}\")\n",
    "    print(f\"\\nMean MAPE: {results['mean_mape']:.2f}%\")\n",
    "    print(f\"Median MAPE: {results['median_mape']:.2f}%\")\n",
    "    print(f\"Std MAPE: {results['std_mape']:.2f}%\")\n",
    "    print(f\"\\nMean RMSE: {results['mean_rmse']:.2f}\")\n",
    "    print(f\"Std RMSE: {results['std_rmse']:.2f}\")\n",
    "    print(f\"\\nMean Correlation: {results['mean_correlation']:.3f}\")\n",
    "    print(f\"Std Correlation: {results['std_correlation']:.3f}\")\n",
    "    print('='*80)\n",
    "elif MODE == 'backtest':\n",
    "    print(f\"ERROR: {results.get('error', 'Unknown error')}\")"
   ]
  },
  {
   "cell_type": "code",
   "execution_count": null,
   "metadata": {},
   "outputs": [],
   "source": [
    "if MODE == 'backtest' and 'error' not in results and 'daily_results' in results:\n",
    "    daily_df = results['daily_results']\n",
    "    \n",
    "    fig = make_subplots(\n",
    "        rows=2, cols=2,\n",
    "        subplot_titles=('MAPE Over Time', 'RMSE Over Time', 'Correlation Over Time', 'Players Evaluated Per Slate'),\n",
    "        vertical_spacing=0.15,\n",
    "        horizontal_spacing=0.1\n",
    "    )\n",
    "    \n",
    "    # MAPE Over Time\n",
    "    fig.add_trace(\n",
    "        go.Scatter(x=daily_df['date'], y=daily_df['mape'], \n",
    "                   mode='lines+markers', name='MAPE',\n",
    "                   line=dict(width=2), marker=dict(size=8)),\n",
    "        row=1, col=1\n",
    "    )\n",
    "    fig.add_hline(y=daily_df['mape'].mean(), line_dash=\"dash\", \n",
    "                  line_color=\"red\", row=1, col=1,\n",
    "                  annotation_text=f\"Mean: {daily_df['mape'].mean():.1f}%\",\n",
    "                  annotation_position=\"right\")\n",
    "    \n",
    "    # RMSE Over Time\n",
    "    fig.add_trace(\n",
    "        go.Scatter(x=daily_df['date'], y=daily_df['rmse'], \n",
    "                   mode='lines+markers', name='RMSE',\n",
    "                   line=dict(color='orange', width=2), marker=dict(size=8)),\n",
    "        row=1, col=2\n",
    "    )\n",
    "    fig.add_hline(y=daily_df['rmse'].mean(), line_dash=\"dash\", \n",
    "                  line_color=\"red\", row=1, col=2,\n",
    "                  annotation_text=f\"Mean: {daily_df['rmse'].mean():.2f}\",\n",
    "                  annotation_position=\"right\")\n",
    "    \n",
    "    # Correlation Over Time\n",
    "    fig.add_trace(\n",
    "        go.Scatter(x=daily_df['date'], y=daily_df['correlation'], \n",
    "                   mode='lines+markers', name='Correlation',\n",
    "                   line=dict(color='green', width=2), marker=dict(size=8)),\n",
    "        row=2, col=1\n",
    "    )\n",
    "    fig.add_hline(y=daily_df['correlation'].mean(), line_dash=\"dash\", \n",
    "                  line_color=\"red\", row=2, col=1,\n",
    "                  annotation_text=f\"Mean: {daily_df['correlation'].mean():.3f}\",\n",
    "                  annotation_position=\"right\")\n",
    "    \n",
    "    # Players Evaluated Per Slate\n",
    "    fig.add_trace(\n",
    "        go.Bar(x=daily_df['date'], y=daily_df['num_players'], \n",
    "               name='Players', marker=dict(color='purple', opacity=0.7)),\n",
    "        row=2, col=2\n",
    "    )\n",
    "    fig.add_hline(y=daily_df['num_players'].mean(), line_dash=\"dash\", \n",
    "                  line_color=\"red\", row=2, col=2,\n",
    "                  annotation_text=f\"Mean: {daily_df['num_players'].mean():.1f}\",\n",
    "                  annotation_position=\"right\")\n",
    "    \n",
    "    # Update layout\n",
    "    fig.update_xaxes(title_text=\"Date\", row=1, col=1, tickangle=45)\n",
    "    fig.update_xaxes(title_text=\"Date\", row=1, col=2, tickangle=45)\n",
    "    fig.update_xaxes(title_text=\"Date\", row=2, col=1, tickangle=45)\n",
    "    fig.update_xaxes(title_text=\"Date\", row=2, col=2, tickangle=45)\n",
    "    \n",
    "    fig.update_yaxes(title_text=\"MAPE (%)\", row=1, col=1)\n",
    "    fig.update_yaxes(title_text=\"RMSE\", row=1, col=2)\n",
    "    fig.update_yaxes(title_text=\"Correlation\", row=2, col=1)\n",
    "    fig.update_yaxes(title_text=\"Number of Players\", row=2, col=2)\n",
    "    \n",
    "    fig.update_layout(\n",
    "        height=800,\n",
    "        showlegend=True,\n",
    "        title_text=\"Backtest Daily Performance Metrics\",\n",
    "        title_x=0.5\n",
    "    )\n",
    "    \n",
    "    fig.show()"
   ]
  },
  {
   "cell_type": "code",
   "execution_count": null,
   "metadata": {},
   "outputs": [],
   "source": [
    "if MODE == 'inference':\n",
    "    print(f'Running inference for {TEST_START}')\n",
    "    \n",
    "    storage = SQLiteStorage(str(DB_PATH))\n",
    "    loader = HistoricalDataLoader(storage)\n",
    "    feature_builder = FeatureBuilder()\n",
    "    client = Tank01Client(api_key)\n",
    "    \n",
    "    print('\\nFetching today\\'s slate data...')\n",
    "    \n",
    "    salaries_resp = client.get_dfs_salaries(date=TEST_START, lineup_type='DraftKings')\n",
    "    schedule_resp = client.get_schedule(date=TEST_START)\n",
    "    \n",
    "    if salaries_resp['statusCode'] != 200:\n",
    "        print(f\"ERROR fetching salaries: {salaries_resp}\")\n",
    "    else:\n",
    "        salaries_df = pd.DataFrame(salaries_resp['body'])\n",
    "        print(f\"Found {len(salaries_df)} players on slate\")\n",
    "        \n",
    "        if schedule_resp['statusCode'] == 200:\n",
    "            schedule_df = pd.DataFrame(schedule_resp['body'])\n",
    "            print(f\"Found {len(schedule_df)} games\")\n",
    "        else:\n",
    "            schedule_df = pd.DataFrame()\n",
    "            print('No schedule data available')\n",
    "        \n",
    "        slate_data = {\n",
    "            'dfs_salaries': salaries_df,\n",
    "            'schedule': schedule_df,\n",
    "            'date': TEST_START\n",
    "        }\n",
    "        \n",
    "        print(f'\\nLoading historical data from current and previous seasons...')\n",
    "        training_data = loader.load_historical_player_logs(\n",
    "            end_date=TEST_START\n",
    "        )\n",
    "        print(f\"Loaded {len(training_data)} historical games\")\n",
    "        \n",
    "        projections_list = []\n",
    "        \n",
    "        print(f'\\nGenerating projections for {len(salaries_df)} players...')\n",
    "        \n",
    "        for idx, player_row in salaries_df.iterrows():\n",
    "            player_id = player_row.get('playerID')\n",
    "            player_name = player_row.get('longName') or player_row.get('playerName', '')\n",
    "            \n",
    "            player_training_data = training_data[training_data['playerID'] == player_id].copy()\n",
    "            \n",
    "            if len(player_training_data) < MIN_PLAYER_GAMES:\n",
    "                continue\n",
    "            \n",
    "            try:\n",
    "                X_train, y_train = feature_builder.build_training_features(\n",
    "                    player_training_data,\n",
    "                    window_sizes=ROLLING_WINDOW_SIZES\n",
    "                )\n",
    "                \n",
    "                if X_train.empty or y_train.empty or len(X_train) < 3:\n",
    "                    continue\n",
    "                \n",
    "                if MODEL_TYPE == 'xgboost':\n",
    "                    import xgboost as xgb\n",
    "                    model = xgb.XGBRegressor(**MODEL_PARAMS)\n",
    "                    model.fit(X_train, y_train, verbose=False)\n",
    "                else:\n",
    "                    from sklearn.ensemble import RandomForestRegressor\n",
    "                    model = RandomForestRegressor(\n",
    "                        n_estimators=MODEL_PARAMS.get('n_estimators', 200),\n",
    "                        max_depth=MODEL_PARAMS.get('max_depth', 6),\n",
    "                        random_state=MODEL_PARAMS.get('random_state', 42),\n",
    "                        n_jobs=-1\n",
    "                    )\n",
    "                    model.fit(X_train, y_train)\n",
    "                \n",
    "                slate_data_single = {\n",
    "                    'dfs_salaries': salaries_df.iloc[[idx]],\n",
    "                    'date': TEST_START\n",
    "                }\n",
    "                \n",
    "                slate_features = feature_builder.build_slate_features(\n",
    "                    slate_data_single,\n",
    "                    player_training_data,\n",
    "                    window_sizes=ROLLING_WINDOW_SIZES\n",
    "                )\n",
    "                \n",
    "                if slate_features.empty:\n",
    "                    continue\n",
    "                \n",
    "                metadata_cols = ['playerID', 'playerName', 'team', 'pos', 'salary']\n",
    "                feature_cols = [col for col in slate_features.columns if col not in metadata_cols]\n",
    "                \n",
    "                X = slate_features[feature_cols].fillna(0)\n",
    "                prediction = model.predict(X)[0]\n",
    "                \n",
    "                projection = {\n",
    "                    'playerID': player_id,\n",
    "                    'playerName': player_name,\n",
    "                    'team': player_row.get('team', ''),\n",
    "                    'pos': player_row.get('pos', ''),\n",
    "                    'salary': player_row.get('salary', 0),\n",
    "                    'projected_fpts': prediction,\n",
    "                    'value': prediction / (player_row.get('salary', 1) / 1000)\n",
    "                }\n",
    "                \n",
    "                projections_list.append(projection)\n",
    "                \n",
    "            except Exception as e:\n",
    "                logger.warning(f\"Error generating projection for {player_name}: {str(e)}\")\n",
    "                continue\n",
    "        \n",
    "        projections_df = pd.DataFrame(projections_list)\n",
    "        projections_df = projections_df.sort_values('projected_fpts', ascending=False)\n",
    "        \n",
    "        print(f'\\nGenerated {len(projections_df)} projections')\n",
    "        \n",
    "        OUTPUT_DIR.mkdir(parents=True, exist_ok=True)\n",
    "        output_file = OUTPUT_DIR / f'projections_{TEST_START}.csv'\n",
    "        projections_df.to_csv(output_file, index=False)\n",
    "        print(f'\\nProjections saved to: {output_file}')\n",
    "        \n",
    "        print('\\nTop 20 Projections:')\n",
    "        display(projections_df.head(20))\n",
    "        \n",
    "        print('\\nTop 20 By Value:')\n",
    "        display(projections_df.sort_values('value', ascending=False).head(20))"
   ]
  },
  {
   "cell_type": "code",
   "execution_count": null,
   "metadata": {},
   "outputs": [
    {
     "name": "stdout",
     "output_type": "stream",
     "text": [
      "Results exported to: c:\\Users\\antho\\OneDrive\\Documents\\Repositories\\delapan-fantasy\\data\\outputs\\backtest_results_20250201_to_20250401.csv\n",
      "Summary exported to: c:\\Users\\antho\\OneDrive\\Documents\\Repositories\\delapan-fantasy\\data\\outputs\\summary_20250201_to_20250401.txt\n"
     ]
    }
   ],
   "source": [
    "if MODE == 'backtest' and 'error' not in results and 'daily_results' in results:\n",
    "    OUTPUT_DIR.mkdir(parents=True, exist_ok=True)\n",
    "    \n",
    "    daily_df = results['daily_results']\n",
    "    csv_path = OUTPUT_DIR / f'backtest_results_{TEST_START}_to_{TEST_END}.csv'\n",
    "    daily_df.to_csv(csv_path, index=False)\n",
    "    print(f'Results exported to: {csv_path}')\n",
    "    \n",
    "    summary_path = OUTPUT_DIR / f'summary_{TEST_START}_to_{TEST_END}.txt'\n",
    "    with open(summary_path, 'w') as f:\n",
    "        f.write('='*80 + '\\n')\n",
    "        f.write('BACKTEST RESULTS SUMMARY\\n')\n",
    "        f.write('='*80 + '\\n\\n')\n",
    "        f.write(f\"Date Range: {results['date_range']}\\n\")\n",
    "        f.write(f\"Number of Slates: {results['num_slates']}\\n\")\n",
    "        f.write(f\"Total Players Evaluated: {results['total_players_evaluated']:.0f}\\n\")\n",
    "        f.write(f\"Average Players per Slate: {results['avg_players_per_slate']:.1f}\\n\\n\")\n",
    "        f.write(f\"Mean MAPE: {results['mean_mape']:.2f}%\\n\")\n",
    "        f.write(f\"Median MAPE: {results['median_mape']:.2f}%\\n\")\n",
    "        f.write(f\"Std MAPE: {results['std_mape']:.2f}%\\n\\n\")\n",
    "        f.write(f\"Mean RMSE: {results['mean_rmse']:.2f}\\n\")\n",
    "        f.write(f\"Std RMSE: {results['std_rmse']:.2f}\\n\\n\")\n",
    "        f.write(f\"Mean Correlation: {results['mean_correlation']:.3f}\\n\")\n",
    "        f.write(f\"Std Correlation: {results['std_correlation']:.3f}\\n\")\n",
    "    \n",
    "    print(f'Summary exported to: {summary_path}')"
   ]
  }
 ],
 "metadata": {
  "kernelspec": {
   "display_name": "datascience",
   "language": "python",
   "name": "python3"
  },
  "language_info": {
   "codemirror_mode": {
    "name": "ipython",
    "version": 3
   },
   "file_extension": ".py",
   "mimetype": "text/x-python",
   "name": "python",
   "nbconvert_exporter": "python",
   "pygments_lexer": "ipython3",
   "version": "3.13.5"
  }
 },
 "nbformat": 4,
 "nbformat_minor": 4
}
