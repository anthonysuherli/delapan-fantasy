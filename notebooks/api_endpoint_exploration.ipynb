{
 "cells": [
  {
   "cell_type": "markdown",
   "metadata": {},
   "source": [
    "# Tank01 API Endpoint Exploration\n",
    "\n",
    "Test all Tank01 Fantasy Stats API endpoints and display sample data."
   ]
  },
  {
   "cell_type": "code",
   "execution_count": 4,
   "metadata": {},
   "outputs": [
    {
     "name": "stdout",
     "output_type": "stream",
     "text": [
      "API Client initialized\n",
      "Remaining requests: 1000/1000\n"
     ]
    }
   ],
   "source": [
    "import os\n",
    "import sys\n",
    "import pandas as pd\n",
    "from datetime import datetime\n",
    "from dotenv import load_dotenv\n",
    "\n",
    "sys.path.append('..')\n",
    "from src.data import Tank01Client\n",
    "\n",
    "load_dotenv()\n",
    "\n",
    "api_key = os.getenv('TANK01_API_KEY')\n",
    "if not api_key:\n",
    "    raise ValueError('TANK01_API_KEY not found in .env file')\n",
    "\n",
    "client = Tank01Client(api_key=api_key)\n",
    "\n",
    "TEST_DATE = '20250102'\n",
    "TEST_GAME_ID = '20211019_BKN@MIL'\n",
    "TEST_TEAM_ABV = 'LAL'\n",
    "TEST_PLAYER_ID = '4066336'\n",
    "\n",
    "print(f'API Client initialized')\n",
    "print(f'Remaining requests: {client.get_remaining_requests()}/{client.rate_limit}')"
   ]
  },
  {
   "cell_type": "markdown",
   "metadata": {},
   "source": [
    "## Helper Function"
   ]
  },
  {
   "cell_type": "code",
   "execution_count": 6,
   "metadata": {},
   "outputs": [],
   "source": [
    "def display_response(endpoint_name, response):\n",
    "    print(f'\\n### {endpoint_name}')\n",
    "    print(f'Status Code: {response.get(\"statusCode\")}')\n",
    "    \n",
    "    body = response.get('body', {})\n",
    "    \n",
    "    if isinstance(body, dict):\n",
    "        if len(body) == 0:\n",
    "            print('Empty response body')\n",
    "            return\n",
    "        \n",
    "        first_key = list(body.keys())[0]\n",
    "        first_value = body[first_key]\n",
    "        \n",
    "        if isinstance(first_value, dict):\n",
    "            df = pd.DataFrame.from_dict(body, orient='index')\n",
    "        elif isinstance(first_value, list):\n",
    "            df = pd.DataFrame(first_value)\n",
    "        else:\n",
    "            df = pd.DataFrame([body])\n",
    "    elif isinstance(body, list):\n",
    "        df = pd.DataFrame(body)\n",
    "    else:\n",
    "        print(f'Unexpected body type: {type(body)}')\n",
    "        print(body)\n",
    "        return\n",
    "    \n",
    "    print(f'Shape: {df.shape}')\n",
    "    print(f'Columns: {list(df.columns)[:10]}')\n",
    "    display(df.head())\n",
    "    print(f'\\nRequests used: {client.get_request_count()}, Remaining: {client.get_remaining_requests()}')"
   ]
  },
  {
   "cell_type": "markdown",
   "metadata": {},
   "source": [
    "## 1. NBA Betting Odds"
   ]
  },
  {
   "cell_type": "code",
   "execution_count": 7,
   "metadata": {},
   "outputs": [
    {
     "name": "stdout",
     "output_type": "stream",
     "text": [
      "\n",
      "### NBA Betting Odds\n",
      "Status Code: 200\n",
      "Shape: (6, 14)\n",
      "Columns: ['gameDate', 'caesars_sportsbook', 'ballybet', 'espnbet', 'awayTeam', 'draftkings', 'betmgm', 'teamIDAway', 'fanduel', 'teamIDHome']\n"
     ]
    },
    {
     "data": {
      "application/vnd.microsoft.datawrangler.viewer.v0+json": {
       "columns": [
        {
         "name": "index",
         "rawType": "object",
         "type": "string"
        },
        {
         "name": "gameDate",
         "rawType": "object",
         "type": "string"
        },
        {
         "name": "caesars_sportsbook",
         "rawType": "object",
         "type": "unknown"
        },
        {
         "name": "ballybet",
         "rawType": "object",
         "type": "unknown"
        },
        {
         "name": "espnbet",
         "rawType": "object",
         "type": "unknown"
        },
        {
         "name": "awayTeam",
         "rawType": "object",
         "type": "string"
        },
        {
         "name": "draftkings",
         "rawType": "object",
         "type": "unknown"
        },
        {
         "name": "betmgm",
         "rawType": "object",
         "type": "unknown"
        },
        {
         "name": "teamIDAway",
         "rawType": "object",
         "type": "string"
        },
        {
         "name": "fanduel",
         "rawType": "object",
         "type": "unknown"
        },
        {
         "name": "teamIDHome",
         "rawType": "object",
         "type": "string"
        },
        {
         "name": "last_updated_e_time",
         "rawType": "object",
         "type": "string"
        },
        {
         "name": "homeTeam",
         "rawType": "object",
         "type": "string"
        },
        {
         "name": "gameID",
         "rawType": "object",
         "type": "string"
        },
        {
         "name": "bet365",
         "rawType": "object",
         "type": "unknown"
        }
       ],
       "ref": "6efb8a67-58c8-4705-9110-7c5d5bcaad94",
       "rows": [
        [
         "20250102_BKN@MIL",
         "20250102",
         "{'totalUnder': '223.5', 'awayTeamSpread': '+12', 'awayTeamSpreadOdds': '-110', 'homeTeamSpread': '-12', 'homeTeamSpreadOdds': '-110', 'totalOverOdds': '-110', 'totalUnderOdds': '-110', 'awayTeamMLOdds': '+600', 'homeTeamMLOdds': '-900', 'totalOver': '223.5'}",
         "{'totalUnder': '223.5', 'awayTeamSpread': '+12.5', 'awayTeamSpreadOdds': '-112', 'homeTeamSpread': '-12.5', 'homeTeamSpreadOdds': '-109', 'totalOverOdds': '-110', 'totalUnderOdds': '-110', 'awayTeamMLOdds': '+500', 'homeTeamMLOdds': '-715', 'totalOver': '223.5'}",
         "{'totalUnder': '223.5', 'awayTeamSpread': '+12.5', 'awayTeamSpreadOdds': '-115', 'homeTeamSpread': '-12.5', 'homeTeamSpreadOdds': '-105', 'totalOverOdds': '-110', 'totalUnderOdds': '-110', 'awayTeamMLOdds': '+500', 'homeTeamMLOdds': '-800', 'totalOver': '223.5'}",
         "BKN",
         "{'totalUnder': '223.5', 'awayTeamSpread': '+12.5', 'awayTeamSpreadOdds': '-112', 'homeTeamSpread': '-12.5', 'homeTeamSpreadOdds': '-108', 'totalOverOdds': '-108', 'totalUnderOdds': '-112', 'awayTeamMLOdds': '+500', 'homeTeamMLOdds': '-700', 'totalOver': '223.5'}",
         "{'totalUnder': '223.5', 'awayTeamSpread': '+12.5', 'awayTeamSpreadOdds': '-115', 'homeTeamSpread': '-12.5', 'homeTeamSpreadOdds': '-105', 'totalOverOdds': '-110', 'totalUnderOdds': '-110', 'awayTeamMLOdds': '+525', 'homeTeamMLOdds': '-750', 'totalOver': '223.5'}",
         "3",
         "{'totalUnder': '224', 'awayTeamSpread': '+12.5', 'awayTeamSpreadOdds': '-110', 'homeTeamSpread': '-12.5', 'homeTeamSpreadOdds': '-110', 'totalOverOdds': '-110', 'totalUnderOdds': '-110', 'awayTeamMLOdds': '+520', 'homeTeamMLOdds': '-720', 'totalOver': '224'}",
         "17",
         "1735874956.7800086",
         "MIL",
         "20250102_BKN@MIL",
         "{'totalUnder': '223.5', 'awayTeamSpread': '+12', 'awayTeamSpreadOdds': '-110', 'homeTeamSpread': '-12', 'homeTeamSpreadOdds': '-110', 'totalOverOdds': '-110', 'totalUnderOdds': '-110', 'awayTeamMLOdds': '+550', 'homeTeamMLOdds': '-800', 'totalOver': '223.5'}"
        ],
        [
         "20250102_BOS@MIN",
         "20250102",
         "{'totalUnder': '215.5', 'awayTeamSpread': '-2.5', 'awayTeamSpreadOdds': '-110', 'homeTeamSpread': '+2.5', 'homeTeamSpreadOdds': '-110', 'totalOverOdds': '-105', 'totalUnderOdds': '-115', 'awayTeamMLOdds': '-135', 'homeTeamMLOdds': '+115', 'totalOver': '215.5'}",
         "{'totalUnder': '216.5', 'awayTeamSpread': '-3', 'awayTeamSpreadOdds': '-108', 'homeTeamSpread': '+3', 'homeTeamSpreadOdds': '-113', 'totalOverOdds': '-112', 'totalUnderOdds': '-109', 'awayTeamMLOdds': '-141', 'homeTeamMLOdds': '+120', 'totalOver': '216.5'}",
         "{'totalUnder': '216.5', 'awayTeamSpread': '-2.5', 'awayTeamSpreadOdds': '-120', 'homeTeamSpread': '+2.5', 'homeTeamSpreadOdds': 'even', 'totalOverOdds': '-110', 'totalUnderOdds': '-110', 'awayTeamMLOdds': '-140', 'homeTeamMLOdds': '+120', 'totalOver': '216.5'}",
         "BOS",
         "{'totalUnder': '215.5', 'awayTeamSpread': '-3', 'awayTeamSpreadOdds': '-112', 'homeTeamSpread': '+3', 'homeTeamSpreadOdds': '-108', 'totalOverOdds': '-110', 'totalUnderOdds': '-110', 'awayTeamMLOdds': '-155', 'homeTeamMLOdds': '+130', 'totalOver': '215.5'}",
         "{'totalUnder': '213.5', 'awayTeamSpread': '+3.5', 'awayTeamSpreadOdds': '-225', 'homeTeamSpread': '-3.5', 'homeTeamSpreadOdds': '+180', 'totalOverOdds': '-140', 'totalUnderOdds': '+115', 'awayTeamMLOdds': '-145', 'homeTeamMLOdds': '+120', 'totalOver': '213.5'}",
         "2",
         "{'totalUnder': '216', 'awayTeamSpread': '-3', 'awayTeamSpreadOdds': '-106', 'homeTeamSpread': '+3', 'homeTeamSpreadOdds': '-114', 'totalOverOdds': '-110', 'totalUnderOdds': '-110', 'awayTeamMLOdds': '-138', 'homeTeamMLOdds': '+118', 'totalOver': '216'}",
         "18",
         "1735872489.6600409",
         "MIN",
         "20250102_BOS@MIN",
         "{'totalUnder': '215.5', 'awayTeamSpread': '-2.5', 'awayTeamSpreadOdds': '-115', 'homeTeamSpread': '+2.5', 'homeTeamSpreadOdds': '-105', 'totalOverOdds': '-110', 'totalUnderOdds': '-110', 'awayTeamMLOdds': '-135', 'homeTeamMLOdds': '+115', 'totalOver': '215.5'}"
        ],
        [
         "20250102_IND@MIA",
         "20250102",
         "{'totalUnder': '225', 'awayTeamSpread': '+2', 'awayTeamSpreadOdds': '-105', 'homeTeamSpread': '-2', 'homeTeamSpreadOdds': '-115', 'totalOverOdds': '-105', 'totalUnderOdds': '-115', 'awayTeamMLOdds': '+115', 'homeTeamMLOdds': '-135', 'totalOver': '225'}",
         "{'totalUnder': '225', 'awayTeamSpread': '+2', 'awayTeamSpreadOdds': '-112', 'homeTeamSpread': '-2', 'homeTeamSpreadOdds': '-109', 'totalOverOdds': '-112', 'totalUnderOdds': '-109', 'awayTeamMLOdds': '+105', 'homeTeamMLOdds': '-124', 'totalOver': '225'}",
         "{'totalUnder': '225.5', 'awayTeamSpread': '+2.5', 'awayTeamSpreadOdds': '-110', 'homeTeamSpread': '-2.5', 'homeTeamSpreadOdds': '-110', 'totalOverOdds': '-105', 'totalUnderOdds': '-115', 'awayTeamMLOdds': '+120', 'homeTeamMLOdds': '-140', 'totalOver': '225.5'}",
         "IND",
         "{'totalUnder': '225.5', 'awayTeamSpread': '+2', 'awayTeamSpreadOdds': '-110', 'homeTeamSpread': '-2', 'homeTeamSpreadOdds': '-110', 'totalOverOdds': '-110', 'totalUnderOdds': '-110', 'awayTeamMLOdds': '+114', 'homeTeamMLOdds': '-135', 'totalOver': '225.5'}",
         "{'totalUnder': '225.5', 'awayTeamSpread': '+2.5', 'awayTeamSpreadOdds': '-115', 'homeTeamSpread': '-2.5', 'homeTeamSpreadOdds': '-105', 'totalOverOdds': '-110', 'totalUnderOdds': '-110', 'awayTeamMLOdds': '+115', 'homeTeamMLOdds': '-140', 'totalOver': '225.5'}",
         "12",
         "{'totalUnder': '225.5', 'awayTeamSpread': '+2', 'awayTeamSpreadOdds': '-110', 'homeTeamSpread': '-2', 'homeTeamSpreadOdds': '-110', 'totalOverOdds': '-110', 'totalUnderOdds': '-110', 'awayTeamMLOdds': '+108', 'homeTeamMLOdds': '-126', 'totalOver': '225.5'}",
         "16",
         "1735872489.6612163",
         "MIA",
         "20250102_IND@MIA",
         "{'totalUnder': '224.5', 'awayTeamSpread': '+2', 'awayTeamSpreadOdds': '-110', 'homeTeamSpread': '-2', 'homeTeamSpreadOdds': '-110', 'totalOverOdds': '-110', 'totalUnderOdds': '-110', 'awayTeamMLOdds': '+110', 'homeTeamMLOdds': '-130', 'totalOver': '224.5'}"
        ],
        [
         "20250102_LAC@OKC",
         "20250102",
         "{'totalUnder': '215.5', 'awayTeamSpread': '+12.5', 'awayTeamSpreadOdds': '-110', 'homeTeamSpread': '-12.5', 'homeTeamSpreadOdds': '-110', 'totalOverOdds': '-105', 'totalUnderOdds': '-115', 'awayTeamMLOdds': '+550', 'homeTeamMLOdds': '-800', 'totalOver': '215.5'}",
         null,
         null,
         "LAC",
         "{'totalUnder': '214.5', 'awayTeamSpread': '+12', 'awayTeamSpreadOdds': '-108', 'homeTeamSpread': '-12', 'homeTeamSpreadOdds': '-112', 'totalOverOdds': '-115', 'totalUnderOdds': '-105', 'awayTeamMLOdds': '+500', 'homeTeamMLOdds': '-700', 'totalOver': '214.5'}",
         "{'totalUnder': '215.5', 'awayTeamSpread': '+12.5', 'awayTeamSpreadOdds': '-115', 'homeTeamSpread': '-12.5', 'homeTeamSpreadOdds': '-105', 'totalOverOdds': '-110', 'totalUnderOdds': '-110', 'awayTeamMLOdds': '+500', 'homeTeamMLOdds': '-700', 'totalOver': '215.5'}",
         "13",
         null,
         "21",
         "1735874108.763312",
         "OKC",
         "20250102_LAC@OKC",
         "{'totalUnder': '215', 'awayTeamSpread': '+12', 'awayTeamSpreadOdds': '-110', 'homeTeamSpread': '-12', 'homeTeamSpreadOdds': '-110', 'totalOverOdds': '-110', 'totalUnderOdds': '-110', 'awayTeamMLOdds': '+500', 'homeTeamMLOdds': '-700', 'totalOver': '215'}"
        ],
        [
         "20250102_PHI@GS",
         "20250102",
         "{'totalUnder': '220.5', 'awayTeamSpread': '+4.5', 'awayTeamSpreadOdds': '-105', 'homeTeamSpread': '-4.5', 'homeTeamSpreadOdds': '-115', 'totalOverOdds': '-115', 'totalUnderOdds': '-105', 'awayTeamMLOdds': '+148', 'homeTeamMLOdds': '-175', 'totalOver': '220.5'}",
         "{'totalUnder': '219', 'awayTeamSpread': '+4.5', 'awayTeamSpreadOdds': '-112', 'homeTeamSpread': '-4.5', 'homeTeamSpreadOdds': '-109', 'totalOverOdds': '-109', 'totalUnderOdds': '-112', 'awayTeamMLOdds': '+150', 'homeTeamMLOdds': '-180', 'totalOver': '219'}",
         "{'totalUnder': '219.5', 'awayTeamSpread': '+3.5', 'awayTeamSpreadOdds': '-105', 'homeTeamSpread': '-3.5', 'homeTeamSpreadOdds': '-115', 'totalOverOdds': '-110', 'totalUnderOdds': '-110', 'awayTeamMLOdds': '+135', 'homeTeamMLOdds': '-155', 'totalOver': '219.5'}",
         "PHI",
         "{'totalUnder': '220', 'awayTeamSpread': '+4', 'awayTeamSpreadOdds': '-112', 'homeTeamSpread': '-4', 'homeTeamSpreadOdds': '-108', 'totalOverOdds': '-110', 'totalUnderOdds': '-110', 'awayTeamMLOdds': '+145', 'homeTeamMLOdds': '-175', 'totalOver': '220'}",
         "{'totalUnder': '219.5', 'awayTeamSpread': '+3.5', 'awayTeamSpreadOdds': '-105', 'homeTeamSpread': '-3.5', 'homeTeamSpreadOdds': '-115', 'totalOverOdds': '-110', 'totalUnderOdds': '-110', 'awayTeamMLOdds': '+145', 'homeTeamMLOdds': '-175', 'totalOver': '219.5'}",
         "23",
         "{'totalUnder': '220', 'awayTeamSpread': '+4', 'awayTeamSpreadOdds': '-114', 'homeTeamSpread': '-4', 'homeTeamSpreadOdds': '-106', 'totalOverOdds': '-110', 'totalUnderOdds': '-110', 'awayTeamMLOdds': '+148', 'homeTeamMLOdds': '-174', 'totalOver': '220'}",
         "10",
         "1735874956.7802174",
         "GS",
         "20250102_PHI@GS",
         "{'totalUnder': '219.5', 'awayTeamSpread': '+4', 'awayTeamSpreadOdds': '-115', 'homeTeamSpread': '-4', 'homeTeamSpreadOdds': '-105', 'totalOverOdds': '-110', 'totalUnderOdds': '-110', 'awayTeamMLOdds': '+145', 'homeTeamMLOdds': '-170', 'totalOver': '219.5'}"
        ]
       ],
       "shape": {
        "columns": 14,
        "rows": 5
       }
      },
      "text/html": [
       "<div>\n",
       "<style scoped>\n",
       "    .dataframe tbody tr th:only-of-type {\n",
       "        vertical-align: middle;\n",
       "    }\n",
       "\n",
       "    .dataframe tbody tr th {\n",
       "        vertical-align: top;\n",
       "    }\n",
       "\n",
       "    .dataframe thead th {\n",
       "        text-align: right;\n",
       "    }\n",
       "</style>\n",
       "<table border=\"1\" class=\"dataframe\">\n",
       "  <thead>\n",
       "    <tr style=\"text-align: right;\">\n",
       "      <th></th>\n",
       "      <th>gameDate</th>\n",
       "      <th>caesars_sportsbook</th>\n",
       "      <th>ballybet</th>\n",
       "      <th>espnbet</th>\n",
       "      <th>awayTeam</th>\n",
       "      <th>draftkings</th>\n",
       "      <th>betmgm</th>\n",
       "      <th>teamIDAway</th>\n",
       "      <th>fanduel</th>\n",
       "      <th>teamIDHome</th>\n",
       "      <th>last_updated_e_time</th>\n",
       "      <th>homeTeam</th>\n",
       "      <th>gameID</th>\n",
       "      <th>bet365</th>\n",
       "    </tr>\n",
       "  </thead>\n",
       "  <tbody>\n",
       "    <tr>\n",
       "      <th>20250102_BKN@MIL</th>\n",
       "      <td>20250102</td>\n",
       "      <td>{'totalUnder': '223.5', 'awayTeamSpread': '+12...</td>\n",
       "      <td>{'totalUnder': '223.5', 'awayTeamSpread': '+12...</td>\n",
       "      <td>{'totalUnder': '223.5', 'awayTeamSpread': '+12...</td>\n",
       "      <td>BKN</td>\n",
       "      <td>{'totalUnder': '223.5', 'awayTeamSpread': '+12...</td>\n",
       "      <td>{'totalUnder': '223.5', 'awayTeamSpread': '+12...</td>\n",
       "      <td>3</td>\n",
       "      <td>{'totalUnder': '224', 'awayTeamSpread': '+12.5...</td>\n",
       "      <td>17</td>\n",
       "      <td>1735874956.7800086</td>\n",
       "      <td>MIL</td>\n",
       "      <td>20250102_BKN@MIL</td>\n",
       "      <td>{'totalUnder': '223.5', 'awayTeamSpread': '+12...</td>\n",
       "    </tr>\n",
       "    <tr>\n",
       "      <th>20250102_BOS@MIN</th>\n",
       "      <td>20250102</td>\n",
       "      <td>{'totalUnder': '215.5', 'awayTeamSpread': '-2....</td>\n",
       "      <td>{'totalUnder': '216.5', 'awayTeamSpread': '-3'...</td>\n",
       "      <td>{'totalUnder': '216.5', 'awayTeamSpread': '-2....</td>\n",
       "      <td>BOS</td>\n",
       "      <td>{'totalUnder': '215.5', 'awayTeamSpread': '-3'...</td>\n",
       "      <td>{'totalUnder': '213.5', 'awayTeamSpread': '+3....</td>\n",
       "      <td>2</td>\n",
       "      <td>{'totalUnder': '216', 'awayTeamSpread': '-3', ...</td>\n",
       "      <td>18</td>\n",
       "      <td>1735872489.6600409</td>\n",
       "      <td>MIN</td>\n",
       "      <td>20250102_BOS@MIN</td>\n",
       "      <td>{'totalUnder': '215.5', 'awayTeamSpread': '-2....</td>\n",
       "    </tr>\n",
       "    <tr>\n",
       "      <th>20250102_IND@MIA</th>\n",
       "      <td>20250102</td>\n",
       "      <td>{'totalUnder': '225', 'awayTeamSpread': '+2', ...</td>\n",
       "      <td>{'totalUnder': '225', 'awayTeamSpread': '+2', ...</td>\n",
       "      <td>{'totalUnder': '225.5', 'awayTeamSpread': '+2....</td>\n",
       "      <td>IND</td>\n",
       "      <td>{'totalUnder': '225.5', 'awayTeamSpread': '+2'...</td>\n",
       "      <td>{'totalUnder': '225.5', 'awayTeamSpread': '+2....</td>\n",
       "      <td>12</td>\n",
       "      <td>{'totalUnder': '225.5', 'awayTeamSpread': '+2'...</td>\n",
       "      <td>16</td>\n",
       "      <td>1735872489.6612163</td>\n",
       "      <td>MIA</td>\n",
       "      <td>20250102_IND@MIA</td>\n",
       "      <td>{'totalUnder': '224.5', 'awayTeamSpread': '+2'...</td>\n",
       "    </tr>\n",
       "    <tr>\n",
       "      <th>20250102_LAC@OKC</th>\n",
       "      <td>20250102</td>\n",
       "      <td>{'totalUnder': '215.5', 'awayTeamSpread': '+12...</td>\n",
       "      <td>NaN</td>\n",
       "      <td>NaN</td>\n",
       "      <td>LAC</td>\n",
       "      <td>{'totalUnder': '214.5', 'awayTeamSpread': '+12...</td>\n",
       "      <td>{'totalUnder': '215.5', 'awayTeamSpread': '+12...</td>\n",
       "      <td>13</td>\n",
       "      <td>NaN</td>\n",
       "      <td>21</td>\n",
       "      <td>1735874108.763312</td>\n",
       "      <td>OKC</td>\n",
       "      <td>20250102_LAC@OKC</td>\n",
       "      <td>{'totalUnder': '215', 'awayTeamSpread': '+12',...</td>\n",
       "    </tr>\n",
       "    <tr>\n",
       "      <th>20250102_PHI@GS</th>\n",
       "      <td>20250102</td>\n",
       "      <td>{'totalUnder': '220.5', 'awayTeamSpread': '+4....</td>\n",
       "      <td>{'totalUnder': '219', 'awayTeamSpread': '+4.5'...</td>\n",
       "      <td>{'totalUnder': '219.5', 'awayTeamSpread': '+3....</td>\n",
       "      <td>PHI</td>\n",
       "      <td>{'totalUnder': '220', 'awayTeamSpread': '+4', ...</td>\n",
       "      <td>{'totalUnder': '219.5', 'awayTeamSpread': '+3....</td>\n",
       "      <td>23</td>\n",
       "      <td>{'totalUnder': '220', 'awayTeamSpread': '+4', ...</td>\n",
       "      <td>10</td>\n",
       "      <td>1735874956.7802174</td>\n",
       "      <td>GS</td>\n",
       "      <td>20250102_PHI@GS</td>\n",
       "      <td>{'totalUnder': '219.5', 'awayTeamSpread': '+4'...</td>\n",
       "    </tr>\n",
       "  </tbody>\n",
       "</table>\n",
       "</div>"
      ],
      "text/plain": [
       "                  gameDate                                 caesars_sportsbook  \\\n",
       "20250102_BKN@MIL  20250102  {'totalUnder': '223.5', 'awayTeamSpread': '+12...   \n",
       "20250102_BOS@MIN  20250102  {'totalUnder': '215.5', 'awayTeamSpread': '-2....   \n",
       "20250102_IND@MIA  20250102  {'totalUnder': '225', 'awayTeamSpread': '+2', ...   \n",
       "20250102_LAC@OKC  20250102  {'totalUnder': '215.5', 'awayTeamSpread': '+12...   \n",
       "20250102_PHI@GS   20250102  {'totalUnder': '220.5', 'awayTeamSpread': '+4....   \n",
       "\n",
       "                                                           ballybet  \\\n",
       "20250102_BKN@MIL  {'totalUnder': '223.5', 'awayTeamSpread': '+12...   \n",
       "20250102_BOS@MIN  {'totalUnder': '216.5', 'awayTeamSpread': '-3'...   \n",
       "20250102_IND@MIA  {'totalUnder': '225', 'awayTeamSpread': '+2', ...   \n",
       "20250102_LAC@OKC                                                NaN   \n",
       "20250102_PHI@GS   {'totalUnder': '219', 'awayTeamSpread': '+4.5'...   \n",
       "\n",
       "                                                            espnbet awayTeam  \\\n",
       "20250102_BKN@MIL  {'totalUnder': '223.5', 'awayTeamSpread': '+12...      BKN   \n",
       "20250102_BOS@MIN  {'totalUnder': '216.5', 'awayTeamSpread': '-2....      BOS   \n",
       "20250102_IND@MIA  {'totalUnder': '225.5', 'awayTeamSpread': '+2....      IND   \n",
       "20250102_LAC@OKC                                                NaN      LAC   \n",
       "20250102_PHI@GS   {'totalUnder': '219.5', 'awayTeamSpread': '+3....      PHI   \n",
       "\n",
       "                                                         draftkings  \\\n",
       "20250102_BKN@MIL  {'totalUnder': '223.5', 'awayTeamSpread': '+12...   \n",
       "20250102_BOS@MIN  {'totalUnder': '215.5', 'awayTeamSpread': '-3'...   \n",
       "20250102_IND@MIA  {'totalUnder': '225.5', 'awayTeamSpread': '+2'...   \n",
       "20250102_LAC@OKC  {'totalUnder': '214.5', 'awayTeamSpread': '+12...   \n",
       "20250102_PHI@GS   {'totalUnder': '220', 'awayTeamSpread': '+4', ...   \n",
       "\n",
       "                                                             betmgm  \\\n",
       "20250102_BKN@MIL  {'totalUnder': '223.5', 'awayTeamSpread': '+12...   \n",
       "20250102_BOS@MIN  {'totalUnder': '213.5', 'awayTeamSpread': '+3....   \n",
       "20250102_IND@MIA  {'totalUnder': '225.5', 'awayTeamSpread': '+2....   \n",
       "20250102_LAC@OKC  {'totalUnder': '215.5', 'awayTeamSpread': '+12...   \n",
       "20250102_PHI@GS   {'totalUnder': '219.5', 'awayTeamSpread': '+3....   \n",
       "\n",
       "                 teamIDAway  \\\n",
       "20250102_BKN@MIL          3   \n",
       "20250102_BOS@MIN          2   \n",
       "20250102_IND@MIA         12   \n",
       "20250102_LAC@OKC         13   \n",
       "20250102_PHI@GS          23   \n",
       "\n",
       "                                                            fanduel  \\\n",
       "20250102_BKN@MIL  {'totalUnder': '224', 'awayTeamSpread': '+12.5...   \n",
       "20250102_BOS@MIN  {'totalUnder': '216', 'awayTeamSpread': '-3', ...   \n",
       "20250102_IND@MIA  {'totalUnder': '225.5', 'awayTeamSpread': '+2'...   \n",
       "20250102_LAC@OKC                                                NaN   \n",
       "20250102_PHI@GS   {'totalUnder': '220', 'awayTeamSpread': '+4', ...   \n",
       "\n",
       "                 teamIDHome last_updated_e_time homeTeam            gameID  \\\n",
       "20250102_BKN@MIL         17  1735874956.7800086      MIL  20250102_BKN@MIL   \n",
       "20250102_BOS@MIN         18  1735872489.6600409      MIN  20250102_BOS@MIN   \n",
       "20250102_IND@MIA         16  1735872489.6612163      MIA  20250102_IND@MIA   \n",
       "20250102_LAC@OKC         21   1735874108.763312      OKC  20250102_LAC@OKC   \n",
       "20250102_PHI@GS          10  1735874956.7802174       GS   20250102_PHI@GS   \n",
       "\n",
       "                                                             bet365  \n",
       "20250102_BKN@MIL  {'totalUnder': '223.5', 'awayTeamSpread': '+12...  \n",
       "20250102_BOS@MIN  {'totalUnder': '215.5', 'awayTeamSpread': '-2....  \n",
       "20250102_IND@MIA  {'totalUnder': '224.5', 'awayTeamSpread': '+2'...  \n",
       "20250102_LAC@OKC  {'totalUnder': '215', 'awayTeamSpread': '+12',...  \n",
       "20250102_PHI@GS   {'totalUnder': '219.5', 'awayTeamSpread': '+4'...  "
      ]
     },
     "metadata": {},
     "output_type": "display_data"
    },
    {
     "name": "stdout",
     "output_type": "stream",
     "text": [
      "\n",
      "Requests used: 1, Remaining: 999\n"
     ]
    }
   ],
   "source": [
    "response = client.get_betting_odds(game_date='20250102')\n",
    "display_response('NBA Betting Odds', response)"
   ]
  },
  {
   "cell_type": "markdown",
   "metadata": {},
   "source": [
    "## 2. Game Box Score"
   ]
  },
  {
   "cell_type": "code",
   "execution_count": 8,
   "metadata": {},
   "outputs": [
    {
     "name": "stdout",
     "output_type": "stream",
     "text": [
      "\n",
      "### Game Box Score\n",
      "Status Code: 200\n",
      "Empty response body\n"
     ]
    }
   ],
   "source": [
    "response = client.get_box_score(game_id='BKN@MIL_20250102')\n",
    "display_response('Game Box Score', response)"
   ]
  },
  {
   "cell_type": "markdown",
   "metadata": {},
   "source": [
    "## 3. Teams"
   ]
  },
  {
   "cell_type": "code",
   "execution_count": 9,
   "metadata": {},
   "outputs": [
    {
     "name": "stdout",
     "output_type": "stream",
     "text": [
      "\n",
      "### Teams\n",
      "Status Code: 200\n",
      "Shape: (30, 15)\n",
      "Columns: ['teamAbv', 'teamCity', 'currentStreak', 'loss', 'ppg', 'teamName', 'teamID', 'division', 'conferenceAbv', 'nbaComLogo2']\n"
     ]
    },
    {
     "data": {
      "application/vnd.microsoft.datawrangler.viewer.v0+json": {
       "columns": [
        {
         "name": "index",
         "rawType": "int64",
         "type": "integer"
        },
        {
         "name": "teamAbv",
         "rawType": "object",
         "type": "string"
        },
        {
         "name": "teamCity",
         "rawType": "object",
         "type": "string"
        },
        {
         "name": "currentStreak",
         "rawType": "object",
         "type": "unknown"
        },
        {
         "name": "loss",
         "rawType": "object",
         "type": "string"
        },
        {
         "name": "ppg",
         "rawType": "object",
         "type": "string"
        },
        {
         "name": "teamName",
         "rawType": "object",
         "type": "string"
        },
        {
         "name": "teamID",
         "rawType": "object",
         "type": "string"
        },
        {
         "name": "division",
         "rawType": "object",
         "type": "string"
        },
        {
         "name": "conferenceAbv",
         "rawType": "object",
         "type": "string"
        },
        {
         "name": "nbaComLogo2",
         "rawType": "object",
         "type": "unknown"
        },
        {
         "name": "nbaComLogo1",
         "rawType": "object",
         "type": "string"
        },
        {
         "name": "espnLogo1",
         "rawType": "object",
         "type": "string"
        },
        {
         "name": "oppg",
         "rawType": "object",
         "type": "string"
        },
        {
         "name": "wins",
         "rawType": "object",
         "type": "string"
        },
        {
         "name": "conference",
         "rawType": "object",
         "type": "string"
        }
       ],
       "ref": "07bc0846-17ce-4850-b4d1-c38078594b2f",
       "rows": [
        [
         "0",
         "ORL",
         "Orlando",
         "{'result': '', 'length': '0'}",
         "0",
         "0",
         "Magic",
         "22",
         "Southeast",
         "East",
         "https://cdn.nba.com/teams/uploads/sites/1610612753/2021/12/Magic-Global-Logo-2.svg",
         "https://cdn.nba.com/logos/nba/1610612753/primary/L/logo.svg",
         "https://a.espncdn.com/combiner/i?img=/i/teamlogos/nba/500/orl.png",
         "0",
         "0",
         "Eastern Conference"
        ],
        [
         "1",
         "MIN",
         "Minnesota",
         "{'result': '', 'length': '0'}",
         "0",
         "0",
         "Timberwolves",
         "18",
         "Northwest",
         "West",
         "https://cdn.nba.com/teams/uploads/sites/1610612750/2021/11/logo-1.svg",
         "https://cdn.nba.com/logos/nba/1610612750/primary/L/logo.svg",
         "https://a.espncdn.com/combiner/i?img=/i/teamlogos/nba/500/min.png",
         "0",
         "0",
         "Western Conference"
        ],
        [
         "2",
         "MIA",
         "Miami",
         "{'result': '', 'length': '0'}",
         "0",
         "0",
         "Heat",
         "16",
         "Southeast",
         "East",
         null,
         "https://cdn.nba.com/logos/nba/1610612748/primary/L/logo.svg",
         "https://a.espncdn.com/combiner/i?img=/i/teamlogos/nba/500/mia.png",
         "0",
         "0",
         "Eastern Conference"
        ],
        [
         "3",
         "BOS",
         "Boston",
         "{'result': '', 'length': '0'}",
         "0",
         "0",
         "Celtics",
         "2",
         "Atlantic",
         "East",
         "https://cdn.nba.com/teams/uploads/sites/1610612738/2022/05/celtics_secondary.svg",
         "https://cdn.nba.com/logos/nba/1610612738/primary/L/logo.svg",
         "https://a.espncdn.com/combiner/i?img=/i/teamlogos/nba/500/bos.png",
         "0",
         "0",
         "Eastern Conference"
        ],
        [
         "4",
         "LAC",
         "Los Angeles",
         "{'result': '', 'length': '0'}",
         "0",
         "0",
         "Clippers",
         "13",
         "Pacific",
         "West",
         null,
         "https://cdn.nba.com/logos/nba/1610612746/primary/L/logo.svg",
         "https://a.espncdn.com/combiner/i?img=/i/teamlogos/nba/500/lac.png",
         "0",
         "0",
         "Western Conference"
        ]
       ],
       "shape": {
        "columns": 15,
        "rows": 5
       }
      },
      "text/html": [
       "<div>\n",
       "<style scoped>\n",
       "    .dataframe tbody tr th:only-of-type {\n",
       "        vertical-align: middle;\n",
       "    }\n",
       "\n",
       "    .dataframe tbody tr th {\n",
       "        vertical-align: top;\n",
       "    }\n",
       "\n",
       "    .dataframe thead th {\n",
       "        text-align: right;\n",
       "    }\n",
       "</style>\n",
       "<table border=\"1\" class=\"dataframe\">\n",
       "  <thead>\n",
       "    <tr style=\"text-align: right;\">\n",
       "      <th></th>\n",
       "      <th>teamAbv</th>\n",
       "      <th>teamCity</th>\n",
       "      <th>currentStreak</th>\n",
       "      <th>loss</th>\n",
       "      <th>ppg</th>\n",
       "      <th>teamName</th>\n",
       "      <th>teamID</th>\n",
       "      <th>division</th>\n",
       "      <th>conferenceAbv</th>\n",
       "      <th>nbaComLogo2</th>\n",
       "      <th>nbaComLogo1</th>\n",
       "      <th>espnLogo1</th>\n",
       "      <th>oppg</th>\n",
       "      <th>wins</th>\n",
       "      <th>conference</th>\n",
       "    </tr>\n",
       "  </thead>\n",
       "  <tbody>\n",
       "    <tr>\n",
       "      <th>0</th>\n",
       "      <td>ORL</td>\n",
       "      <td>Orlando</td>\n",
       "      <td>{'result': '', 'length': '0'}</td>\n",
       "      <td>0</td>\n",
       "      <td>0</td>\n",
       "      <td>Magic</td>\n",
       "      <td>22</td>\n",
       "      <td>Southeast</td>\n",
       "      <td>East</td>\n",
       "      <td>https://cdn.nba.com/teams/uploads/sites/161061...</td>\n",
       "      <td>https://cdn.nba.com/logos/nba/1610612753/prima...</td>\n",
       "      <td>https://a.espncdn.com/combiner/i?img=/i/teamlo...</td>\n",
       "      <td>0</td>\n",
       "      <td>0</td>\n",
       "      <td>Eastern Conference</td>\n",
       "    </tr>\n",
       "    <tr>\n",
       "      <th>1</th>\n",
       "      <td>MIN</td>\n",
       "      <td>Minnesota</td>\n",
       "      <td>{'result': '', 'length': '0'}</td>\n",
       "      <td>0</td>\n",
       "      <td>0</td>\n",
       "      <td>Timberwolves</td>\n",
       "      <td>18</td>\n",
       "      <td>Northwest</td>\n",
       "      <td>West</td>\n",
       "      <td>https://cdn.nba.com/teams/uploads/sites/161061...</td>\n",
       "      <td>https://cdn.nba.com/logos/nba/1610612750/prima...</td>\n",
       "      <td>https://a.espncdn.com/combiner/i?img=/i/teamlo...</td>\n",
       "      <td>0</td>\n",
       "      <td>0</td>\n",
       "      <td>Western Conference</td>\n",
       "    </tr>\n",
       "    <tr>\n",
       "      <th>2</th>\n",
       "      <td>MIA</td>\n",
       "      <td>Miami</td>\n",
       "      <td>{'result': '', 'length': '0'}</td>\n",
       "      <td>0</td>\n",
       "      <td>0</td>\n",
       "      <td>Heat</td>\n",
       "      <td>16</td>\n",
       "      <td>Southeast</td>\n",
       "      <td>East</td>\n",
       "      <td>NaN</td>\n",
       "      <td>https://cdn.nba.com/logos/nba/1610612748/prima...</td>\n",
       "      <td>https://a.espncdn.com/combiner/i?img=/i/teamlo...</td>\n",
       "      <td>0</td>\n",
       "      <td>0</td>\n",
       "      <td>Eastern Conference</td>\n",
       "    </tr>\n",
       "    <tr>\n",
       "      <th>3</th>\n",
       "      <td>BOS</td>\n",
       "      <td>Boston</td>\n",
       "      <td>{'result': '', 'length': '0'}</td>\n",
       "      <td>0</td>\n",
       "      <td>0</td>\n",
       "      <td>Celtics</td>\n",
       "      <td>2</td>\n",
       "      <td>Atlantic</td>\n",
       "      <td>East</td>\n",
       "      <td>https://cdn.nba.com/teams/uploads/sites/161061...</td>\n",
       "      <td>https://cdn.nba.com/logos/nba/1610612738/prima...</td>\n",
       "      <td>https://a.espncdn.com/combiner/i?img=/i/teamlo...</td>\n",
       "      <td>0</td>\n",
       "      <td>0</td>\n",
       "      <td>Eastern Conference</td>\n",
       "    </tr>\n",
       "    <tr>\n",
       "      <th>4</th>\n",
       "      <td>LAC</td>\n",
       "      <td>Los Angeles</td>\n",
       "      <td>{'result': '', 'length': '0'}</td>\n",
       "      <td>0</td>\n",
       "      <td>0</td>\n",
       "      <td>Clippers</td>\n",
       "      <td>13</td>\n",
       "      <td>Pacific</td>\n",
       "      <td>West</td>\n",
       "      <td>NaN</td>\n",
       "      <td>https://cdn.nba.com/logos/nba/1610612746/prima...</td>\n",
       "      <td>https://a.espncdn.com/combiner/i?img=/i/teamlo...</td>\n",
       "      <td>0</td>\n",
       "      <td>0</td>\n",
       "      <td>Western Conference</td>\n",
       "    </tr>\n",
       "  </tbody>\n",
       "</table>\n",
       "</div>"
      ],
      "text/plain": [
       "  teamAbv     teamCity                  currentStreak loss ppg      teamName  \\\n",
       "0     ORL      Orlando  {'result': '', 'length': '0'}    0   0         Magic   \n",
       "1     MIN    Minnesota  {'result': '', 'length': '0'}    0   0  Timberwolves   \n",
       "2     MIA        Miami  {'result': '', 'length': '0'}    0   0          Heat   \n",
       "3     BOS       Boston  {'result': '', 'length': '0'}    0   0       Celtics   \n",
       "4     LAC  Los Angeles  {'result': '', 'length': '0'}    0   0      Clippers   \n",
       "\n",
       "  teamID   division conferenceAbv  \\\n",
       "0     22  Southeast          East   \n",
       "1     18  Northwest          West   \n",
       "2     16  Southeast          East   \n",
       "3      2   Atlantic          East   \n",
       "4     13    Pacific          West   \n",
       "\n",
       "                                         nbaComLogo2  \\\n",
       "0  https://cdn.nba.com/teams/uploads/sites/161061...   \n",
       "1  https://cdn.nba.com/teams/uploads/sites/161061...   \n",
       "2                                                NaN   \n",
       "3  https://cdn.nba.com/teams/uploads/sites/161061...   \n",
       "4                                                NaN   \n",
       "\n",
       "                                         nbaComLogo1  \\\n",
       "0  https://cdn.nba.com/logos/nba/1610612753/prima...   \n",
       "1  https://cdn.nba.com/logos/nba/1610612750/prima...   \n",
       "2  https://cdn.nba.com/logos/nba/1610612748/prima...   \n",
       "3  https://cdn.nba.com/logos/nba/1610612738/prima...   \n",
       "4  https://cdn.nba.com/logos/nba/1610612746/prima...   \n",
       "\n",
       "                                           espnLogo1 oppg wins  \\\n",
       "0  https://a.espncdn.com/combiner/i?img=/i/teamlo...    0    0   \n",
       "1  https://a.espncdn.com/combiner/i?img=/i/teamlo...    0    0   \n",
       "2  https://a.espncdn.com/combiner/i?img=/i/teamlo...    0    0   \n",
       "3  https://a.espncdn.com/combiner/i?img=/i/teamlo...    0    0   \n",
       "4  https://a.espncdn.com/combiner/i?img=/i/teamlo...    0    0   \n",
       "\n",
       "           conference  \n",
       "0  Eastern Conference  \n",
       "1  Western Conference  \n",
       "2  Eastern Conference  \n",
       "3  Eastern Conference  \n",
       "4  Western Conference  "
      ]
     },
     "metadata": {},
     "output_type": "display_data"
    },
    {
     "name": "stdout",
     "output_type": "stream",
     "text": [
      "\n",
      "Requests used: 3, Remaining: 997\n"
     ]
    }
   ],
   "source": [
    "response = client.get_teams()\n",
    "display_response('Teams', response)"
   ]
  },
  {
   "cell_type": "markdown",
   "metadata": {},
   "source": [
    "## 4. Daily Schedule"
   ]
  },
  {
   "cell_type": "code",
   "execution_count": 3,
   "metadata": {},
   "outputs": [
    {
     "ename": "NameError",
     "evalue": "name 'client' is not defined",
     "output_type": "error",
     "traceback": [
      "\u001b[31m---------------------------------------------------------------------------\u001b[39m",
      "\u001b[31mNameError\u001b[39m                                 Traceback (most recent call last)",
      "\u001b[36mCell\u001b[39m\u001b[36m \u001b[39m\u001b[32mIn[3]\u001b[39m\u001b[32m, line 1\u001b[39m\n\u001b[32m----> \u001b[39m\u001b[32m1\u001b[39m \u001b[43mclient\u001b[49m.get_schedule(game_date=\u001b[33m'\u001b[39m\u001b[33m20250102\u001b[39m\u001b[33m'\u001b[39m)\n",
      "\u001b[31mNameError\u001b[39m: name 'client' is not defined"
     ]
    }
   ],
   "source": []
  },
  {
   "cell_type": "code",
   "execution_count": 10,
   "metadata": {},
   "outputs": [
    {
     "name": "stdout",
     "output_type": "stream",
     "text": [
      "\n",
      "### Daily Schedule\n",
      "Status Code: 200\n",
      "Shape: (6, 6)\n",
      "Columns: ['gameID', 'teamIDAway', 'away', 'gameDate', 'teamIDHome', 'home']\n"
     ]
    },
    {
     "data": {
      "application/vnd.microsoft.datawrangler.viewer.v0+json": {
       "columns": [
        {
         "name": "index",
         "rawType": "int64",
         "type": "integer"
        },
        {
         "name": "gameID",
         "rawType": "object",
         "type": "string"
        },
        {
         "name": "teamIDAway",
         "rawType": "object",
         "type": "string"
        },
        {
         "name": "away",
         "rawType": "object",
         "type": "string"
        },
        {
         "name": "gameDate",
         "rawType": "object",
         "type": "string"
        },
        {
         "name": "teamIDHome",
         "rawType": "object",
         "type": "string"
        },
        {
         "name": "home",
         "rawType": "object",
         "type": "string"
        }
       ],
       "ref": "40429c06-2cc7-455b-9fd2-28d0c1512201",
       "rows": [
        [
         "0",
         "20250102_BKN@MIL",
         "3",
         "BKN",
         "20250102",
         "17",
         "MIL"
        ],
        [
         "1",
         "20250102_BOS@MIN",
         "2",
         "BOS",
         "20250102",
         "18",
         "MIN"
        ],
        [
         "2",
         "20250102_IND@MIA",
         "12",
         "IND",
         "20250102",
         "16",
         "MIA"
        ],
        [
         "3",
         "20250102_POR@LAL",
         "25",
         "POR",
         "20250102",
         "14",
         "LAL"
        ],
        [
         "4",
         "20250102_PHI@GS",
         "23",
         "PHI",
         "20250102",
         "10",
         "GS"
        ]
       ],
       "shape": {
        "columns": 6,
        "rows": 5
       }
      },
      "text/html": [
       "<div>\n",
       "<style scoped>\n",
       "    .dataframe tbody tr th:only-of-type {\n",
       "        vertical-align: middle;\n",
       "    }\n",
       "\n",
       "    .dataframe tbody tr th {\n",
       "        vertical-align: top;\n",
       "    }\n",
       "\n",
       "    .dataframe thead th {\n",
       "        text-align: right;\n",
       "    }\n",
       "</style>\n",
       "<table border=\"1\" class=\"dataframe\">\n",
       "  <thead>\n",
       "    <tr style=\"text-align: right;\">\n",
       "      <th></th>\n",
       "      <th>gameID</th>\n",
       "      <th>teamIDAway</th>\n",
       "      <th>away</th>\n",
       "      <th>gameDate</th>\n",
       "      <th>teamIDHome</th>\n",
       "      <th>home</th>\n",
       "    </tr>\n",
       "  </thead>\n",
       "  <tbody>\n",
       "    <tr>\n",
       "      <th>0</th>\n",
       "      <td>20250102_BKN@MIL</td>\n",
       "      <td>3</td>\n",
       "      <td>BKN</td>\n",
       "      <td>20250102</td>\n",
       "      <td>17</td>\n",
       "      <td>MIL</td>\n",
       "    </tr>\n",
       "    <tr>\n",
       "      <th>1</th>\n",
       "      <td>20250102_BOS@MIN</td>\n",
       "      <td>2</td>\n",
       "      <td>BOS</td>\n",
       "      <td>20250102</td>\n",
       "      <td>18</td>\n",
       "      <td>MIN</td>\n",
       "    </tr>\n",
       "    <tr>\n",
       "      <th>2</th>\n",
       "      <td>20250102_IND@MIA</td>\n",
       "      <td>12</td>\n",
       "      <td>IND</td>\n",
       "      <td>20250102</td>\n",
       "      <td>16</td>\n",
       "      <td>MIA</td>\n",
       "    </tr>\n",
       "    <tr>\n",
       "      <th>3</th>\n",
       "      <td>20250102_POR@LAL</td>\n",
       "      <td>25</td>\n",
       "      <td>POR</td>\n",
       "      <td>20250102</td>\n",
       "      <td>14</td>\n",
       "      <td>LAL</td>\n",
       "    </tr>\n",
       "    <tr>\n",
       "      <th>4</th>\n",
       "      <td>20250102_PHI@GS</td>\n",
       "      <td>23</td>\n",
       "      <td>PHI</td>\n",
       "      <td>20250102</td>\n",
       "      <td>10</td>\n",
       "      <td>GS</td>\n",
       "    </tr>\n",
       "  </tbody>\n",
       "</table>\n",
       "</div>"
      ],
      "text/plain": [
       "             gameID teamIDAway away  gameDate teamIDHome home\n",
       "0  20250102_BKN@MIL          3  BKN  20250102         17  MIL\n",
       "1  20250102_BOS@MIN          2  BOS  20250102         18  MIN\n",
       "2  20250102_IND@MIA         12  IND  20250102         16  MIA\n",
       "3  20250102_POR@LAL         25  POR  20250102         14  LAL\n",
       "4   20250102_PHI@GS         23  PHI  20250102         10   GS"
      ]
     },
     "metadata": {},
     "output_type": "display_data"
    },
    {
     "name": "stdout",
     "output_type": "stream",
     "text": [
      "\n",
      "Requests used: 4, Remaining: 996\n"
     ]
    }
   ],
   "source": [
    "response = client.get_schedule(game_date=TEST_DATE)\n",
    "display_response('Daily Schedule', response)"
   ]
  },
  {
   "cell_type": "markdown",
   "metadata": {},
   "source": [
    "## 5. Team Roster"
   ]
  },
  {
   "cell_type": "code",
   "execution_count": 11,
   "metadata": {},
   "outputs": [
    {
     "name": "stdout",
     "output_type": "stream",
     "text": [
      "\n",
      "### Team Roster\n",
      "Status Code: 200\n",
      "Shape: (1, 3)\n",
      "Columns: ['team', 'teamID', 'roster']\n"
     ]
    },
    {
     "data": {
      "application/vnd.microsoft.datawrangler.viewer.v0+json": {
       "columns": [
        {
         "name": "index",
         "rawType": "int64",
         "type": "integer"
        },
        {
         "name": "team",
         "rawType": "object",
         "type": "string"
        },
        {
         "name": "teamID",
         "rawType": "object",
         "type": "string"
        },
        {
         "name": "roster",
         "rawType": "object",
         "type": "unknown"
        }
       ],
       "ref": "6b2d2b9c-5c6d-44e1-9e3b-adc9f467d7d5",
       "rows": [
        [
         "0",
         "LAL",
         "14",
         "[{'college': 'Gonzaga', 'fantasyProsLink': 'https://www.fantasypros.com/nba/players/rui-hachimura.php', 'jerseyNum': '28', 'bRefID': 'hachiru01', 'espnName': 'Rui Hachimura', 'yahooLink': 'https://sports.yahoo.com/nba/players/6171', 'sleeperBotID': '2020', 'fantasyProsPlayerID': '4491', 'nbaComLink': 'https://www.nba.com/player/1629060', 'nbaComHeadshot': 'https://cdn.nba.com/headshots/nba/latest/1040x760/1629060.png', 'lastGamePlayed': '20250430_MIN@LAL', 'espnLink': 'https://www.espn.com/nba/player/_/id/4066648/rui-hachimura', 'yahooPlayerID': '6171', 'pos': 'PF', 'teamID': '14', 'injury': {'injReturnDate': '', 'description': '', 'injDate': '', 'designation': ''}, 'nbaComName': 'Rui Hachimura', 'rotoWirePlayerIDFull': 'rui-hachimura-4778', 'rotoWirePlayerID': '4778', 'exp': '6', 'height': '6-8', 'nbaComID': '1629060', 'espnHeadshot': 'https://a.espncdn.com/i/headshots/nba/players/full/4066648.png', 'espnID': '4066648', 'weight': '230', 'team': 'LAL', 'bRefName': 'Rui Hachimura', 'espnShortName': 'R. Hachimura', 'bDay': '2/8/1998', 'shortName': 'R. Hachimura', 'longName': 'Rui Hachimura', 'playerID': '28968646399'}, {'college': 'California-Santa Barbara', 'fantasyProsLink': 'https://www.fantasypros.com/nba/players/gabe-vincent.php', 'jerseyNum': '7', 'bRefID': 'vincega01', 'espnName': 'Gabe Vincent', 'yahooLink': 'https://sports.yahoo.com/nba/players/6353', 'sleeperBotID': '2084', 'fantasyProsPlayerID': '3635', 'nbaComLink': 'https://www.nba.com/player/1629216', 'nbaComHeadshot': 'https://cdn.nba.com/headshots/nba/latest/1040x760/1629216.png', 'lastGamePlayed': '20250430_MIN@LAL', 'espnLink': 'https://www.espn.com/nba/player/_/id/3137259/gabe-vincent', 'yahooPlayerID': '6353', 'pos': 'PG', 'teamID': '14', 'injury': {'injReturnDate': '', 'description': '', 'injDate': '', 'designation': ''}, 'nbaComName': 'Gabe Vincent', 'rotoWirePlayerIDFull': 'https://www.rotowire.com/basketball/player/gabe-vincent-4631', 'rotoWirePlayerID': '4631', 'exp': '6', 'height': '6-2', 'nbaComID': '1629216', 'rotoWireName': '', 'espnHeadshot': 'https://a.espncdn.com/i/headshots/nba/players/full/3137259.png', 'espnID': '3137259', 'weight': '200', 'team': 'LAL', 'bRefName': 'Gabe Vincent', 'espnShortName': 'G. Vincent', 'bDay': '6/14/1996', 'shortName': 'G. Vincent', 'longName': 'Gabe Vincent', 'playerID': '28828385129'}, {'college': 'Arizona', 'fantasyProsLink': 'https://www.fantasypros.com/nba/players/christian-koloko.php', 'jerseyNum': '10', 'bRefID': 'kolokch01', 'espnName': 'Christian Koloko', 'yahooLink': 'https://sports.yahoo.com/nba/players/6723', 'sleeperBotID': '2473', 'fantasyProsPlayerID': '5465', 'nbaComLink': 'https://www.nba.com/player/1631132', 'nbaComHeadshot': 'https://cdn.nba.com/headshots/nba/latest/1040x760/1631132.png', 'lastGamePlayed': '20250413_LAL@POR', 'espnLink': 'https://www.espn.com/nba/player/_/id/4431778/christian-koloko', 'yahooPlayerID': '6723', 'pos': 'C', 'teamID': '14', 'injury': {'injReturnDate': '', 'description': '', 'injDate': '', 'designation': ''}, 'nbaComName': 'Christian Koloko', 'rotoWirePlayerIDFull': 'christian-koloko-5645', 'rotoWirePlayerID': '5645', 'exp': '2', 'height': '7-0', 'nbaComID': '1631132', 'espnHeadshot': 'https://a.espncdn.com/i/headshots/nba/players/full/4431778.png', 'espnID': '4431778', 'weight': '230', 'team': 'LAL', 'bRefName': 'Christian Koloko', 'espnShortName': 'C. Koloko', 'bDay': '6/20/2000', 'shortName': 'C. Koloko', 'longName': 'Christian Koloko', 'playerID': '94454426027'}, {'college': 'Arkansas', 'fantasyProsLink': 'https://www.fantasypros.com/nba/players/adou-thiero.php', 'jerseyNum': '1', 'espnName': 'Adou Thiero', 'yahooLink': 'https://sports.yahoo.com/nba/players/10488', 'sleeperBotID': '4781', 'fantasyProsPlayerID': '6332', 'nbaComLink': 'https://www.nba.com/player/1642876', 'nbaComHeadshot': 'https://cdn.nba.com/headshots/nba/latest/1040x760/1642876.png', 'espnLink': 'https://www.espn.com/nba/player/_/id/5060631/adou-thiero', 'yahooPlayerID': '10488', 'pos': 'SF', 'teamID': '14', 'injury': {'injReturnDate': '20251003', 'description': \"Sep 30: Thiero (knee) did not participate in Tuesday's practice, Dave McMenamin of ESPN.com reports.\", 'designation': 'Day-To-Day'}, 'nbaComName': 'Adou Thiero', 'rotoWirePlayerIDFull': 'adou-thiero-6578', 'rotoWirePlayerID': '6578', 'exp': 'R', 'height': '6-6', 'nbaComID': '1642876', 'espnHeadshot': 'https://a.espncdn.com/i/headshots/nba/players/full/5060631.png', 'espnID': '5060631', 'weight': '218', 'team': 'LAL', 'espnShortName': 'A. Thiero', 'bDay': '5/8/2004', 'shortName': 'A. Thiero', 'longName': 'Adou Thiero', 'playerID': '942240431869'}, {'college': 'Vanderbilt', 'fantasyProsLink': 'https://www.fantasypros.com/nba/players/chris-manon.php', 'jerseyNum': '30', 'espnName': 'Chris Manon', 'fantasyProsPlayerID': '6402', 'nbaComLink': 'https://www.nba.com/player/1643024', 'nbaComHeadshot': 'https://cdn.nba.com/headshots/nba/latest/1040x760/1643024.png', 'espnLink': 'https://www.espn.com/nba/player/_/id/4702972/chris-manon', 'pos': 'SG', 'teamID': '14', 'injury': {'injReturnDate': '', 'description': '', 'designation': ''}, 'nbaComName': 'Chris Manon', 'rotoWirePlayerIDFull': 'chris-manon-6714', 'rotoWirePlayerID': '6714', 'exp': 'R', 'height': '6-5', 'nbaComID': '1643024', 'espnHeadshot': 'https://a.espncdn.com/combiner/i?img=/i/headshots/nophoto.png&w=200&h=146', 'espnID': '4702972', 'weight': '215', 'team': 'LAL', 'espnShortName': 'C. Manon', 'bDay': '12/9/2001', 'shortName': 'C. Manon', 'longName': 'Chris Manon', 'playerID': '948742035539'}, {'college': 'N. Carolina', 'fantasyProsLink': 'https://www.fantasypros.com/nba/players/rj-davis.php', 'jerseyNum': '55', 'espnName': 'RJ Davis', 'sleeperBotID': '4816', 'fantasyProsPlayerID': '6406', 'nbaComLink': 'https://www.nba.com/player/1642930', 'nbaComHeadshot': 'https://cdn.nba.com/headshots/nba/latest/1040x760/1642930.png', 'espnLink': 'https://www.espn.com/nba/player/_/id/4433176/rj-davis', 'pos': 'PG', 'teamID': '14', 'injury': {'injReturnDate': '', 'description': '', 'designation': ''}, 'nbaComName': 'R.J. Davis', 'rotoWirePlayerIDFull': 'rj-davis-6640', 'rotoWirePlayerID': '6640', 'exp': 'R', 'height': '6-0', 'nbaComID': '1642930', 'espnHeadshot': 'https://a.espncdn.com/combiner/i?img=/i/headshots/nophoto.png&w=200&h=146', 'espnID': '4433176', 'weight': '180', 'team': 'LAL', 'espnShortName': 'R. Davis', 'bDay': '10/21/2001', 'shortName': 'R. Davis', 'longName': 'RJ Davis', 'playerID': '94294255527'}, {'college': 'Oklahoma', 'fantasyProsLink': 'https://www.fantasypros.com/nba/players/austin-reaves.php', 'jerseyNum': '15', 'bRefID': 'reaveau01', 'espnName': 'Austin Reaves', 'yahooLink': 'https://sports.yahoo.com/nba/players/6606', 'sleeperBotID': '2316', 'fantasyProsPlayerID': '5342', 'nbaComLink': 'https://www.nba.com/player/1630559', 'nbaComHeadshot': 'https://cdn.nba.com/headshots/nba/latest/1040x760/1630559.png', 'lastGamePlayed': '20250430_MIN@LAL', 'espnLink': 'https://www.espn.com/nba/player/_/id/4066457/austin-reaves', 'yahooPlayerID': '6606', 'pos': 'SG', 'teamID': '14', 'injury': {'injReturnDate': '', 'description': '', 'injDate': '', 'designation': ''}, 'nbaComName': 'Austin Reaves', 'rotoWirePlayerIDFull': 'austin-reaves-5334', 'rotoWirePlayerID': '5334', 'exp': '4', 'height': '6-5', 'nbaComID': '1630559', 'espnHeadshot': 'https://a.espncdn.com/i/headshots/nba/players/full/4066457.png', 'espnID': '4066457', 'weight': '197', 'team': 'LAL', 'bRefName': 'Austin Reaves', 'espnShortName': 'A. Reaves', 'bDay': '5/29/1998', 'shortName': 'A. Reaves', 'longName': 'Austin Reaves', 'playerID': '28268636399'}, {'college': '—', 'fantasyProsLink': 'https://www.fantasypros.com/nba/players/luka-doncic.php', 'jerseyNum': '77', 'bRefID': 'doncilu01', 'espnName': 'Luka Doncic', 'yahooLink': 'https://sports.yahoo.com/nba/players/6014', 'sleeperBotID': '1970', 'fantasyProsPlayerID': '3469', 'nbaComLink': 'https://www.nba.com/player/1629029', 'nbaComHeadshot': 'https://cdn.nba.com/headshots/nba/latest/1040x760/1629029.png', 'lastGamePlayed': '20250430_MIN@LAL', 'espnLink': 'https://www.espn.com/nba/player/_/id/3945274/luka-doncic', 'yahooPlayerID': '6014', 'pos': 'PG', 'teamID': '14', 'injury': {'injReturnDate': '', 'description': '', 'injDate': '', 'designation': ''}, 'nbaComName': 'Luka Doncic', 'rotoWirePlayerIDFull': 'luka-doncic-4396', 'rotoWirePlayerID': '4396', 'exp': '7', 'height': '6-6', 'nbaComID': '1629029', 'espnHeadshot': 'https://a.espncdn.com/i/headshots/nba/players/full/3945274.png', 'espnID': '3945274', 'weight': '230', 'team': 'LAL', 'bRefName': 'Luka Dončić', 'espnShortName': 'L. Doncic', 'bDay': '2/28/1999', 'shortName': 'L. Doncic', 'longName': 'Luka Doncic', 'playerID': '28398804489'}, {'college': 'Arkansas', 'fantasyProsLink': 'https://www.fantasypros.com/nba/players/nick-smith-jr.php', 'jerseyNum': '20', 'bRefID': 'smithni01', 'espnName': 'Nick Smith Jr.', 'yahooLink': 'https://sports.yahoo.com/nba/players/10120', 'sleeperBotID': '2569', 'fantasyProsPlayerID': '5983', 'nbaComLink': 'https://www.nba.com/player/1641733', 'nbaComHeadshot': 'https://cdn.nba.com/headshots/nba/latest/1040x760/1641733.png', 'lastGamePlayed': '20250411_CHA@BOS', 'espnLink': 'https://www.espn.com/nba/player/_/id/4683686/nick-smith-jr', 'yahooPlayerID': '10120', 'pos': 'PG', 'teamID': '14', 'injury': {'injReturnDate': '', 'description': '', 'injDate': '', 'designation': ''}, 'nbaComName': 'Nick Smith Jr.', 'rotoWirePlayerIDFull': 'nick-smith-5909', 'rotoWirePlayerID': '5909', 'exp': '2', 'height': '6-2', 'nbaComID': '1641733', 'espnHeadshot': 'https://a.espncdn.com/combiner/i?img=/i/headshots/nophoto.png&w=200&h=146', 'espnID': '4683686', 'weight': '185', 'team': 'LAL', 'espnShortName': 'N. Smith Jr.', 'bDay': '4/18/2004', 'shortName': 'N. Smith Jr.', 'longName': 'Nick Smith Jr.', 'playerID': '942740271869'}, {'college': 'Kentucky', 'fantasyProsLink': 'https://www.fantasypros.com/nba/players/jarred-vanderbilt.php', 'jerseyNum': '2', 'bRefID': 'vandeja01', 'espnName': 'Jarred Vanderbilt', 'yahooLink': 'https://sports.yahoo.com/nba/players/6052', 'sleeperBotID': '1987', 'fantasyProsPlayerID': '3525', 'nbaComLink': 'https://www.nba.com/player/1629020', 'nbaComHeadshot': 'https://cdn.nba.com/headshots/nba/latest/1040x760/1629020.png', 'lastGamePlayed': '20250430_MIN@LAL', 'espnLink': 'https://www.espn.com/nba/player/_/id/4278077/jarred-vanderbilt', 'yahooPlayerID': '6052', 'pos': 'PF', 'teamID': '14', 'injury': {'injReturnDate': '', 'description': '', 'injDate': '', 'designation': ''}, 'nbaComName': 'Jarred Vanderbilt', 'rotoWirePlayerIDFull': 'jarred-vanderbilt-4458', 'rotoWirePlayerID': '4458', 'exp': '7', 'height': '6-8', 'nbaComID': '1629020', 'espnHeadshot': 'https://a.espncdn.com/i/headshots/nba/players/full/4278077.png', 'espnID': '4278077', 'weight': '214', 'team': 'LAL', 'bRefName': 'Jarred Vanderbilt', 'espnShortName': 'J. Vanderbilt', 'bDay': '4/3/1999', 'shortName': 'J. Vanderbilt', 'longName': 'Jarred Vanderbilt', 'playerID': '28608819869'}, {'college': \"Saint Mary's\", 'fantasyProsLink': 'https://www.fantasypros.com/nba/players/augustas-marciulionis.php', 'jerseyNum': '31', 'espnName': 'Augustas Marciulionis', 'yahooLink': 'https://sports.yahoo.com/nba/players/10518', 'sleeperBotID': '4814', 'fantasyProsPlayerID': '6404', 'nbaComLink': 'https://www.nba.com/player/1643051', 'nbaComHeadshot': 'https://cdn.nba.com/headshots/nba/latest/1040x760/1643051.png', 'espnLink': 'https://www.espn.com/nba/player/_/id/4897197/augustas-marciulionis', 'yahooPlayerID': '10518', 'pos': 'PG', 'teamID': '14', 'injury': {'injReturnDate': '20251003', 'description': '', 'designation': 'Day-To-Day'}, 'nbaComName': 'Augustas Marčiulionis', 'rotoWirePlayerIDFull': 'augustas-marciulionis-6675#:~:text=The%206-foot-4%20guard%20put%20up%20strong%20numbers%20with,5.9%20assists%20and%201.3%20steals%20in%2035%20appearances.', 'rotoWirePlayerID': '4%20guard%20put%20up%20strong%20numbers%20with,5.9%20assists%20and%201.3%20steals%20in%2035%20appearances.', 'exp': 'R', 'height': '6-4', 'nbaComID': '1643051', 'espnHeadshot': 'https://a.espncdn.com/combiner/i?img=/i/headshots/nophoto.png&w=200&h=146', 'espnID': '4897197', 'weight': '200', 'team': 'LAL', 'espnShortName': 'A. Marciulionis', 'bDay': '3/21/2002', 'shortName': 'A. Marciulionis', 'longName': 'Augustas Marciulionis', 'playerID': '942249465539'}, {'college': '—', 'fantasyProsLink': 'https://www.fantasypros.com/nba/players/maxi-kleber.php', 'jerseyNum': '14', 'bRefID': 'klebima01', 'espnName': 'Maxi Kleber', 'yahooLink': 'https://sports.yahoo.com/nba/players/5892', 'sleeperBotID': '1852', 'fantasyProsPlayerID': '3432', 'nbaComLink': 'https://www.nba.com/player/1628467', 'nbaComHeadshot': 'https://cdn.nba.com/headshots/nba/latest/1040x760/1628467.png', 'lastGamePlayed': '20250430_MIN@LAL', 'espnLink': 'https://www.espn.com/nba/player/_/id/2960236/maxi-kleber', 'yahooPlayerID': '5892', 'pos': 'C', 'teamID': '14', 'injury': {'injReturnDate': '20251003', 'description': \"Oct 1: Kleber tweaked a quadriceps muscle during Wednesday's practice, Mike Trudell of Spectrum SportsNet reports.\", 'injDate': '20240413', 'designation': 'Day-To-Day'}, 'nbaComName': 'Maxi Kleber', 'rotoWirePlayerIDFull': 'maxi-kleber-3658', 'rotoWirePlayerID': '3658', 'exp': '8', 'height': '6-10', 'nbaComID': '1628467', 'espnHeadshot': 'https://a.espncdn.com/i/headshots/nba/players/full/2960236.png', 'espnID': '2960236', 'weight': '240', 'team': 'LAL', 'bRefName': 'Maxi Kleber', 'espnShortName': 'M. Kleber', 'bDay': '1/29/1992', 'shortName': 'M. Kleber', 'longName': 'Maxi Kleber', 'playerID': '28148908169'}, {'college': 'Buffalo', 'fantasyProsLink': 'https://www.fantasypros.com/nba/players/jeenathan-williams.php', 'jerseyNum': '50', 'bRefID': 'willije02', 'espnName': 'Jeenathan Williams', 'yahooLink': 'https://sports.yahoo.com/nba/players/6806', 'sleeperBotID': '2543', 'fantasyProsPlayerID': '5602', 'nbaComLink': 'https://www.nba.com/player/1631466', 'nbaComHeadshot': 'https://cdn.nba.com/headshots/nba/latest/1040x760/1631466.png', 'lastGamePlayed': '20250502_HOU@GS', 'espnLink': 'https://www.espn.com/nba/player/_/id/4397821/jeenathan-williams', 'yahooPlayerID': '6806', 'pos': 'SG', 'teamID': '14', 'injury': {'injReturnDate': '', 'description': '', 'injDate': '', 'designation': ''}, 'nbaComName': 'Jeenathan Williams', 'rotoWirePlayerIDFull': 'jeenathan-williams-5777', 'rotoWirePlayerID': '5777', 'exp': '3', 'height': '6-5', 'nbaComID': '1631466', 'espnHeadshot': 'https://a.espncdn.com/combiner/i?img=/i/headshots/nophoto.png&w=200&h=146', 'espnID': '4397821', 'weight': '205', 'team': 'LAL', 'bRefName': 'Jeenathan Williams', 'espnShortName': 'J. Williams', 'bDay': '2/12/1999', 'shortName': 'N. Williams', 'longName': 'Nate Williams', 'playerID': '28888802047'}, {'college': 'Texas', 'fantasyProsLink': 'https://www.fantasypros.com/nba/players/jaxson-hayes.php', 'jerseyNum': '11', 'bRefID': 'hayesja02', 'espnName': 'Jaxson Hayes', 'yahooLink': 'https://sports.yahoo.com/nba/players/6170', 'sleeperBotID': '2053', 'fantasyProsPlayerID': '4481', 'nbaComLink': 'https://www.nba.com/player/1629637', 'nbaComHeadshot': 'https://cdn.nba.com/headshots/nba/latest/1040x760/1629637.png', 'lastGamePlayed': '20250427_LAL@MIN', 'espnLink': 'https://www.espn.com/nba/player/_/id/4397077/jaxson-hayes', 'yahooPlayerID': '6170', 'pos': 'C', 'teamID': '14', 'injury': {'injReturnDate': '', 'description': '', 'injDate': '', 'designation': ''}, 'nbaComName': 'Jaxson Hayes', 'rotoWirePlayerIDFull': 'https://www.rotowire.com/basketball/player/jaxson-hayes-4771', 'rotoWirePlayerID': '4771', 'exp': '6', 'height': '7-0', 'nbaComID': '1629637', 'rotoWireName': '', 'espnHeadshot': 'https://a.espncdn.com/i/headshots/nba/players/full/4397077.png', 'espnID': '4397077', 'weight': '220', 'team': 'LAL', 'bRefName': 'Jaxson Hayes', 'espnShortName': 'J. Hayes', 'bDay': '5/23/2000', 'shortName': 'J. Hayes', 'longName': 'Jaxson Hayes', 'playerID': '94944402047'}, {'college': 'USC', 'fantasyProsLink': 'https://www.fantasypros.com/nba/players/bronny-james.php', 'jerseyNum': '9', 'bRefID': 'jamesbr02', 'espnName': 'Bronny James', 'yahooLink': 'https://sports.yahoo.com/nba/players/10339', 'sleeperBotID': '2755', 'fantasyProsPlayerID': '6206', 'nbaComLink': 'https://www.nba.com/player/1642355', 'nbaComHeadshot': 'https://cdn.nba.com/headshots/nba/latest/1040x760/1642355.png', 'lastGamePlayed': '20250425_LAL@MIN', 'espnLink': 'https://www.espn.com/nba/player/_/id/4683774/bronny-james', 'yahooPlayerID': '10339', 'pos': 'PG', 'teamID': '14', 'injury': {'injReturnDate': '20251003', 'description': \"Jul 19: James (undisclosed) will not play in Friday's Summer League game against the Nuggets, Tomer Azarly of ClutchPoints.com reports.\", 'injDate': '', 'designation': 'Day-To-Day'}, 'nbaComName': 'Bronny James', 'rotoWirePlayerIDFull': 'bronny-james-6251', 'rotoWirePlayerID': '6251', 'exp': 'R', 'height': '6-2', 'nbaComID': '1642355', 'espnHeadshot': 'https://a.espncdn.com/combiner/i?img=/i/headshots/nophoto.png&w=200&h=146', 'espnID': '4683774', 'weight': '210', 'team': 'LAL', 'bRefName': 'Bronny James', 'espnShortName': 'B. James', 'bDay': '10/6/2004', 'shortName': 'B. James', 'longName': 'Bronny James', 'playerID': '946740307989'}, {'college': '—', 'fantasyProsLink': 'https://www.fantasypros.com/nba/players/lebron-james.php', 'jerseyNum': '23', 'bRefID': 'jamesle01', 'espnName': 'LeBron James', 'yahooLink': 'https://sports.yahoo.com/nba/players/3704', 'sleeperBotID': '1362', 'fantasyProsPlayerID': '2239', 'nbaComLink': 'https://www.nba.com/player/2544', 'nbaComHeadshot': 'https://cdn.nba.com/headshots/nba/latest/1040x760/2544.png', 'lastGamePlayed': '20250430_MIN@LAL', 'espnLink': 'https://www.espn.com/nba/player/_/id/1966/lebron-james', 'yahooPlayerID': '3704', 'pos': 'SF', 'teamID': '14', 'injury': {'injReturnDate': '20251021', 'description': \"Oct 1: James (glute) participated in some on-court work during Wednesday's practice, Mike Trudell of Spectrum SportsNetreports.\", 'injDate': '20250411', 'designation': 'Day-To-Day'}, 'nbaComName': 'LeBron James', 'rotoWirePlayerIDFull': 'lebron-james-2344', 'rotoWirePlayerID': '2344', 'exp': '22', 'height': '6-9', 'nbaComID': '2544', 'espnHeadshot': 'https://a.espncdn.com/i/headshots/nba/players/full/1966.png', 'espnID': '1966', 'weight': '250', 'team': 'LAL', 'bRefName': 'LeBron James', 'espnShortName': 'L. James', 'bDay': '12/30/1984', 'shortName': 'L. James', 'longName': 'LeBron James', 'playerID': '2871601440'}, {'college': 'Wake Forest', 'fantasyProsLink': 'https://www.fantasypros.com/nba/players/jake-laravia.php', 'jerseyNum': '12', 'bRefID': 'laravja01', 'espnName': 'Jake LaRavia', 'yahooLink': 'https://sports.yahoo.com/nba/players/6709', 'sleeperBotID': '2444', 'fantasyProsPlayerID': '5486', 'nbaComLink': 'https://www.nba.com/player/1631222', 'nbaComHeadshot': 'https://cdn.nba.com/headshots/nba/latest/1040x760/1631222.png', 'lastGamePlayed': '20250325_OKC@SAC', 'espnLink': 'https://www.espn.com/nba/player/_/id/4592691/jake-laravia', 'yahooPlayerID': '6709', 'pos': 'SF', 'teamID': '14', 'injury': {'injReturnDate': '', 'description': '', 'injDate': '20240413', 'designation': ''}, 'nbaComName': 'Jake LaRavia', 'rotoWirePlayerIDFull': 'jake-laravia-5694', 'rotoWirePlayerID': '5694', 'exp': '3', 'height': '6-7', 'nbaComID': '1631222', 'espnHeadshot': 'https://a.espncdn.com/i/headshots/nba/players/full/4592691.png', 'espnID': '4592691', 'weight': '235', 'team': 'LAL', 'bRefName': 'Jake LaRavia', 'espnShortName': 'J. LaRavia', 'bDay': '11/3/2001', 'shortName': 'J. LaRavia', 'longName': 'Jake LaRavia', 'playerID': '94364229027'}, {'college': 'Arizona', 'fantasyProsLink': 'https://www.fantasypros.com/nba/players/deandre-ayton.php', 'jerseyNum': '5', 'bRefID': 'aytonde01', 'espnName': 'Deandre Ayton', 'yahooLink': 'https://sports.yahoo.com/nba/players/5958', 'sleeperBotID': '1974', 'fantasyProsPlayerID': '3464', 'nbaComLink': 'https://www.nba.com/player/1629028', 'nbaComHeadshot': 'https://cdn.nba.com/headshots/nba/latest/1040x760/1629028.png', 'lastGamePlayed': '20250327_POR@SAC', 'espnLink': 'https://www.espn.com/nba/player/_/id/4278129/deandre-ayton', 'yahooPlayerID': '5958', 'pos': 'C', 'teamID': '14', 'injury': {'injReturnDate': '', 'description': '', 'injDate': '20240413', 'designation': ''}, 'nbaComName': 'Deandre Ayton', 'rotoWirePlayerIDFull': 'deandre-ayton-4372', 'rotoWirePlayerID': '4372', 'exp': '7', 'height': '7-0', 'nbaComID': '1629028', 'espnHeadshot': 'https://a.espncdn.com/i/headshots/nba/players/full/4278129.png', 'espnID': '4278129', 'weight': '252', 'team': 'LAL', 'bRefName': 'Deandre Ayton', 'espnShortName': 'D. Ayton', 'bDay': '7/23/1998', 'shortName': 'D. Ayton', 'longName': 'Deandre Ayton', 'playerID': '28288682869'}, {'college': 'Okla. St.', 'fantasyProsLink': 'https://www.fantasypros.com/nba/players/marcus-smart.php', 'jerseyNum': '36', 'bRefID': 'smartma01', 'espnName': 'Marcus Smart', 'yahooLink': 'https://sports.yahoo.com/nba/players/5317', 'sleeperBotID': '1546', 'fantasyProsPlayerID': '2901', 'nbaComLink': 'https://www.nba.com/player/203935', 'nbaComHeadshot': 'https://cdn.nba.com/headshots/nba/latest/1040x760/203935.png', 'lastGamePlayed': '20250403_ORL@WAS', 'espnLink': 'https://www.espn.com/nba/player/_/id/2990992/marcus-smart', 'yahooPlayerID': '5317', 'pos': 'PG', 'teamID': '14', 'injury': {'injReturnDate': '20251003', 'description': 'Sep 30: Smart is dealing with Achilles tendinopathy, though head coach JJ Reddick said Tuesday that the Lakers \"expect him to be fine by next week,\" Brian Robb of MassLive.com reports.', 'injDate': '', 'designation': 'Day-To-Day'}, 'nbaComName': 'Marcus Smart', 'rotoWirePlayerIDFull': 'marcus-smart-3575', 'rotoWirePlayerID': '3575', 'exp': '11', 'height': '6-3', 'nbaComID': '203935', 'espnHeadshot': 'https://a.espncdn.com/i/headshots/nba/players/full/2990992.png', 'espnID': '2990992', 'weight': '220', 'team': 'LAL', 'bRefName': 'Marcus Smart', 'espnShortName': 'M. Smart', 'bDay': '3/6/1994', 'shortName': 'M. Smart', 'longName': 'Marcus Smart', 'playerID': '28738011729'}, {'college': 'Tennessee', 'fantasyProsLink': 'https://www.fantasypros.com/nba/players/dalton-knecht.php', 'jerseyNum': '4', 'bRefID': 'knechda01', 'espnName': 'Dalton Knecht', 'yahooLink': 'https://sports.yahoo.com/nba/players/10291', 'sleeperBotID': '2709', 'fantasyProsPlayerID': '6154', 'nbaComLink': 'https://www.nba.com/player/1642261', 'nbaComHeadshot': 'https://cdn.nba.com/headshots/nba/latest/1040x760/1642261.png', 'lastGamePlayed': '20250425_LAL@MIN', 'espnLink': 'https://www.espn.com/nba/player/_/id/4897943/dalton-knecht', 'yahooPlayerID': '10291', 'pos': 'SF', 'teamID': '14', 'injury': {'injReturnDate': '', 'description': '', 'injDate': '', 'designation': ''}, 'nbaComName': 'Dalton Knecht', 'rotoWirePlayerIDFull': 'dalton-knecht-6258', 'rotoWirePlayerID': '6258', 'exp': '1', 'height': '6-6', 'nbaComID': '1642261', 'espnHeadshot': 'https://a.espncdn.com/combiner/i?img=/i/headshots/nophoto.png&w=200&h=146', 'espnID': '4897943', 'weight': '215', 'team': 'LAL', 'bRefName': 'Dalton Knecht', 'espnShortName': 'D. Knecht', 'bDay': '4/19/2001', 'shortName': 'D. Knecht', 'longName': 'Dalton Knecht', 'playerID': '942342335539'}]"
        ]
       ],
       "shape": {
        "columns": 3,
        "rows": 1
       }
      },
      "text/html": [
       "<div>\n",
       "<style scoped>\n",
       "    .dataframe tbody tr th:only-of-type {\n",
       "        vertical-align: middle;\n",
       "    }\n",
       "\n",
       "    .dataframe tbody tr th {\n",
       "        vertical-align: top;\n",
       "    }\n",
       "\n",
       "    .dataframe thead th {\n",
       "        text-align: right;\n",
       "    }\n",
       "</style>\n",
       "<table border=\"1\" class=\"dataframe\">\n",
       "  <thead>\n",
       "    <tr style=\"text-align: right;\">\n",
       "      <th></th>\n",
       "      <th>team</th>\n",
       "      <th>teamID</th>\n",
       "      <th>roster</th>\n",
       "    </tr>\n",
       "  </thead>\n",
       "  <tbody>\n",
       "    <tr>\n",
       "      <th>0</th>\n",
       "      <td>LAL</td>\n",
       "      <td>14</td>\n",
       "      <td>[{'college': 'Gonzaga', 'fantasyProsLink': 'ht...</td>\n",
       "    </tr>\n",
       "  </tbody>\n",
       "</table>\n",
       "</div>"
      ],
      "text/plain": [
       "  team teamID                                             roster\n",
       "0  LAL     14  [{'college': 'Gonzaga', 'fantasyProsLink': 'ht..."
      ]
     },
     "metadata": {},
     "output_type": "display_data"
    },
    {
     "name": "stdout",
     "output_type": "stream",
     "text": [
      "\n",
      "Requests used: 5, Remaining: 995\n"
     ]
    }
   ],
   "source": [
    "response = client.get_team_roster(team_abv=TEST_TEAM_ABV)\n",
    "display_response('Team Roster', response)"
   ]
  },
  {
   "cell_type": "markdown",
   "metadata": {},
   "source": [
    "## 6. Injury List"
   ]
  },
  {
   "cell_type": "code",
   "execution_count": 12,
   "metadata": {},
   "outputs": [
    {
     "name": "stdout",
     "output_type": "stream",
     "text": [
      "\n",
      "### Injury List\n",
      "Status Code: 200\n",
      "Shape: (73, 5)\n",
      "Columns: ['designation', 'injDate', 'injReturnDate', 'playerID', 'description']\n"
     ]
    },
    {
     "data": {
      "application/vnd.microsoft.datawrangler.viewer.v0+json": {
       "columns": [
        {
         "name": "index",
         "rawType": "int64",
         "type": "integer"
        },
        {
         "name": "designation",
         "rawType": "object",
         "type": "string"
        },
        {
         "name": "injDate",
         "rawType": "object",
         "type": "string"
        },
        {
         "name": "injReturnDate",
         "rawType": "object",
         "type": "string"
        },
        {
         "name": "playerID",
         "rawType": "object",
         "type": "string"
        },
        {
         "name": "description",
         "rawType": "object",
         "type": "string"
        }
       ],
       "ref": "3b0b0d24-2999-45df-a647-4516af6bc0cb",
       "rows": [
        [
         "0",
         "Day-To-Day",
         "20250917",
         "20251001",
         "94914298027",
         "Jun 24: The Hornets announced Wednesday that Ball has undergone successful surgeries on his right wrist and right ankle, Roderick Boone of The Charlotte Observer reports."
        ],
        [
         "1",
         "Day-To-Day",
         "20250917",
         "20251001",
         "887288811189",
         "Jul 19: Bryant (undisclosed) won't play in Saturday's Summer League game against the Pistons, Paul Garcia of ProjectSpurs.com reports."
        ],
        [
         "2",
         "Day-To-Day",
         "20250917",
         "20251001",
         "947640262289",
         "Jul 20: Durisic (hip/calf) won't play in Sunday's Summer League game against the Celtics, Brad Rowland of the Locked On Podcast Network reports."
        ],
        [
         "3",
         "Day-To-Day",
         "20250917",
         "20251001",
         "28728269882",
         "Jul 3: Middleton (knee) picked up his $33.3 million player option for the 2025-26 season on Monday, ESPN's Shams Charania reports."
        ],
        [
         "4",
         "Day-To-Day",
         "20250917",
         "20251001",
         "28788121429",
         "Jul 16: Hart (finger) underwent surgery and is expected to resume basketball activities later in the summer, Brett Siegel of ClutchPoints.com reports."
        ]
       ],
       "shape": {
        "columns": 5,
        "rows": 5
       }
      },
      "text/html": [
       "<div>\n",
       "<style scoped>\n",
       "    .dataframe tbody tr th:only-of-type {\n",
       "        vertical-align: middle;\n",
       "    }\n",
       "\n",
       "    .dataframe tbody tr th {\n",
       "        vertical-align: top;\n",
       "    }\n",
       "\n",
       "    .dataframe thead th {\n",
       "        text-align: right;\n",
       "    }\n",
       "</style>\n",
       "<table border=\"1\" class=\"dataframe\">\n",
       "  <thead>\n",
       "    <tr style=\"text-align: right;\">\n",
       "      <th></th>\n",
       "      <th>designation</th>\n",
       "      <th>injDate</th>\n",
       "      <th>injReturnDate</th>\n",
       "      <th>playerID</th>\n",
       "      <th>description</th>\n",
       "    </tr>\n",
       "  </thead>\n",
       "  <tbody>\n",
       "    <tr>\n",
       "      <th>0</th>\n",
       "      <td>Day-To-Day</td>\n",
       "      <td>20250917</td>\n",
       "      <td>20251001</td>\n",
       "      <td>94914298027</td>\n",
       "      <td>Jun 24: The Hornets announced Wednesday that B...</td>\n",
       "    </tr>\n",
       "    <tr>\n",
       "      <th>1</th>\n",
       "      <td>Day-To-Day</td>\n",
       "      <td>20250917</td>\n",
       "      <td>20251001</td>\n",
       "      <td>887288811189</td>\n",
       "      <td>Jul 19: Bryant (undisclosed) won't play in Sat...</td>\n",
       "    </tr>\n",
       "    <tr>\n",
       "      <th>2</th>\n",
       "      <td>Day-To-Day</td>\n",
       "      <td>20250917</td>\n",
       "      <td>20251001</td>\n",
       "      <td>947640262289</td>\n",
       "      <td>Jul 20: Durisic (hip/calf) won't play in Sunda...</td>\n",
       "    </tr>\n",
       "    <tr>\n",
       "      <th>3</th>\n",
       "      <td>Day-To-Day</td>\n",
       "      <td>20250917</td>\n",
       "      <td>20251001</td>\n",
       "      <td>28728269882</td>\n",
       "      <td>Jul 3: Middleton (knee) picked up his $33.3 mi...</td>\n",
       "    </tr>\n",
       "    <tr>\n",
       "      <th>4</th>\n",
       "      <td>Day-To-Day</td>\n",
       "      <td>20250917</td>\n",
       "      <td>20251001</td>\n",
       "      <td>28788121429</td>\n",
       "      <td>Jul 16: Hart (finger) underwent surgery and is...</td>\n",
       "    </tr>\n",
       "  </tbody>\n",
       "</table>\n",
       "</div>"
      ],
      "text/plain": [
       "  designation   injDate injReturnDate      playerID  \\\n",
       "0  Day-To-Day  20250917      20251001   94914298027   \n",
       "1  Day-To-Day  20250917      20251001  887288811189   \n",
       "2  Day-To-Day  20250917      20251001  947640262289   \n",
       "3  Day-To-Day  20250917      20251001   28728269882   \n",
       "4  Day-To-Day  20250917      20251001   28788121429   \n",
       "\n",
       "                                         description  \n",
       "0  Jun 24: The Hornets announced Wednesday that B...  \n",
       "1  Jul 19: Bryant (undisclosed) won't play in Sat...  \n",
       "2  Jul 20: Durisic (hip/calf) won't play in Sunda...  \n",
       "3  Jul 3: Middleton (knee) picked up his $33.3 mi...  \n",
       "4  Jul 16: Hart (finger) underwent surgery and is...  "
      ]
     },
     "metadata": {},
     "output_type": "display_data"
    },
    {
     "name": "stdout",
     "output_type": "stream",
     "text": [
      "\n",
      "Requests used: 6, Remaining: 994\n"
     ]
    }
   ],
   "source": [
    "response = client.get_injuries()\n",
    "display_response('Injury List', response)"
   ]
  },
  {
   "cell_type": "markdown",
   "metadata": {},
   "source": [
    "## 7. Player Info"
   ]
  },
  {
   "cell_type": "code",
   "execution_count": 13,
   "metadata": {},
   "outputs": [
    {
     "name": "stdout",
     "output_type": "stream",
     "text": [
      "\n",
      "### Player Info\n",
      "Status Code: 200\n",
      "Empty response body\n"
     ]
    }
   ],
   "source": [
    "response = client.get_player_info(player_id=TEST_PLAYER_ID)\n",
    "display_response('Player Info', response)"
   ]
  },
  {
   "cell_type": "markdown",
   "metadata": {},
   "source": [
    "## 8. Player List"
   ]
  },
  {
   "cell_type": "code",
   "execution_count": 14,
   "metadata": {},
   "outputs": [
    {
     "name": "stdout",
     "output_type": "stream",
     "text": [
      "\n",
      "### Player List\n",
      "Status Code: 200\n",
      "Shape: (1139, 5)\n",
      "Columns: ['pos', 'playerID', 'team', 'longName', 'teamID']\n"
     ]
    },
    {
     "data": {
      "application/vnd.microsoft.datawrangler.viewer.v0+json": {
       "columns": [
        {
         "name": "index",
         "rawType": "int64",
         "type": "integer"
        },
        {
         "name": "pos",
         "rawType": "object",
         "type": "string"
        },
        {
         "name": "playerID",
         "rawType": "object",
         "type": "string"
        },
        {
         "name": "team",
         "rawType": "object",
         "type": "string"
        },
        {
         "name": "longName",
         "rawType": "object",
         "type": "string"
        },
        {
         "name": "teamID",
         "rawType": "object",
         "type": "string"
        }
       ],
       "ref": "3a5cdece-9bb8-4a76-9b77-1d8552991801",
       "rows": [
        [
         "0",
         "PF",
         "28368569499",
         "",
         "Aric Holman",
         ""
        ],
        [
         "1",
         "PG",
         "94914298027",
         "CHA",
         "LaMelo Ball",
         "4"
        ],
        [
         "2",
         "PG",
         "94914479047",
         "MIA",
         "Tyler Herro",
         "16"
        ],
        [
         "3",
         "PG",
         "28798327499",
         "ORL",
         "Devin Cannady",
         "22"
        ],
        [
         "4",
         "PF",
         "28456813032",
         "LAL",
         "Markieff Morris",
         "14"
        ]
       ],
       "shape": {
        "columns": 5,
        "rows": 5
       }
      },
      "text/html": [
       "<div>\n",
       "<style scoped>\n",
       "    .dataframe tbody tr th:only-of-type {\n",
       "        vertical-align: middle;\n",
       "    }\n",
       "\n",
       "    .dataframe tbody tr th {\n",
       "        vertical-align: top;\n",
       "    }\n",
       "\n",
       "    .dataframe thead th {\n",
       "        text-align: right;\n",
       "    }\n",
       "</style>\n",
       "<table border=\"1\" class=\"dataframe\">\n",
       "  <thead>\n",
       "    <tr style=\"text-align: right;\">\n",
       "      <th></th>\n",
       "      <th>pos</th>\n",
       "      <th>playerID</th>\n",
       "      <th>team</th>\n",
       "      <th>longName</th>\n",
       "      <th>teamID</th>\n",
       "    </tr>\n",
       "  </thead>\n",
       "  <tbody>\n",
       "    <tr>\n",
       "      <th>0</th>\n",
       "      <td>PF</td>\n",
       "      <td>28368569499</td>\n",
       "      <td></td>\n",
       "      <td>Aric Holman</td>\n",
       "      <td></td>\n",
       "    </tr>\n",
       "    <tr>\n",
       "      <th>1</th>\n",
       "      <td>PG</td>\n",
       "      <td>94914298027</td>\n",
       "      <td>CHA</td>\n",
       "      <td>LaMelo Ball</td>\n",
       "      <td>4</td>\n",
       "    </tr>\n",
       "    <tr>\n",
       "      <th>2</th>\n",
       "      <td>PG</td>\n",
       "      <td>94914479047</td>\n",
       "      <td>MIA</td>\n",
       "      <td>Tyler Herro</td>\n",
       "      <td>16</td>\n",
       "    </tr>\n",
       "    <tr>\n",
       "      <th>3</th>\n",
       "      <td>PG</td>\n",
       "      <td>28798327499</td>\n",
       "      <td>ORL</td>\n",
       "      <td>Devin Cannady</td>\n",
       "      <td>22</td>\n",
       "    </tr>\n",
       "    <tr>\n",
       "      <th>4</th>\n",
       "      <td>PF</td>\n",
       "      <td>28456813032</td>\n",
       "      <td>LAL</td>\n",
       "      <td>Markieff Morris</td>\n",
       "      <td>14</td>\n",
       "    </tr>\n",
       "  </tbody>\n",
       "</table>\n",
       "</div>"
      ],
      "text/plain": [
       "  pos     playerID team         longName teamID\n",
       "0  PF  28368569499           Aric Holman       \n",
       "1  PG  94914298027  CHA      LaMelo Ball      4\n",
       "2  PG  94914479047  MIA      Tyler Herro     16\n",
       "3  PG  28798327499  ORL    Devin Cannady     22\n",
       "4  PF  28456813032  LAL  Markieff Morris     14"
      ]
     },
     "metadata": {},
     "output_type": "display_data"
    },
    {
     "name": "stdout",
     "output_type": "stream",
     "text": [
      "\n",
      "Requests used: 8, Remaining: 992\n"
     ]
    }
   ],
   "source": [
    "response = client.get_player_list()\n",
    "display_response('Player List', response)"
   ]
  },
  {
   "cell_type": "markdown",
   "metadata": {},
   "source": [
    "## 9. Team Schedule"
   ]
  },
  {
   "cell_type": "code",
   "execution_count": 15,
   "metadata": {},
   "outputs": [
    {
     "name": "stdout",
     "output_type": "stream",
     "text": [
      "\n",
      "### Team Schedule\n",
      "Status Code: 200\n",
      "Shape: (1, 3)\n",
      "Columns: ['team', 'teamID', 'schedule']\n"
     ]
    },
    {
     "data": {
      "application/vnd.microsoft.datawrangler.viewer.v0+json": {
       "columns": [
        {
         "name": "index",
         "rawType": "int64",
         "type": "integer"
        },
        {
         "name": "team",
         "rawType": "object",
         "type": "string"
        },
        {
         "name": "teamID",
         "rawType": "object",
         "type": "string"
        },
        {
         "name": "schedule",
         "rawType": "object",
         "type": "unknown"
        }
       ],
       "ref": "b21fa7bd-34c1-4638-9ae9-7abc1f0a5732",
       "rows": [
        [
         "0",
         "LAL",
         "14",
         "[{'gameID': '20251021_GS@LAL', 'seasonType': 'Regular Season', 'away': 'GS', 'gameTime': '10:00p', 'teamIDHome': '14', 'gameDate': '20251021', 'gameStatus': 'Scheduled', 'gameTime_epoch': '1761098400.0', 'teamIDAway': '10', 'isTournamentGame': 'False', 'neutralSite': 'False', 'home': 'LAL', 'gameStatusCode': '0'}, {'gameID': '20251024_MIN@LAL', 'seasonType': 'Regular Season', 'away': 'MIN', 'gameTime': '10:00p', 'teamIDHome': '14', 'gameDate': '20251024', 'gameStatus': 'Scheduled', 'gameTime_epoch': '1761357600.0', 'teamIDAway': '18', 'isTournamentGame': 'False', 'neutralSite': 'False', 'home': 'LAL', 'gameStatusCode': '0'}, {'gameID': '20251026_LAL@SAC', 'seasonType': 'Regular Season', 'away': 'LAL', 'gameTime': '9:00p', 'teamIDHome': '26', 'gameDate': '20251026', 'gameStatus': 'Scheduled', 'gameTime_epoch': '1761526800.0', 'teamIDAway': '14', 'isTournamentGame': 'False', 'neutralSite': 'False', 'home': 'SAC', 'gameStatusCode': '0'}, {'gameID': '20251027_POR@LAL', 'seasonType': 'Regular Season', 'away': 'POR', 'gameTime': '10:30p', 'teamIDHome': '14', 'gameDate': '20251027', 'gameStatus': 'Scheduled', 'gameTime_epoch': '1761618600.0', 'teamIDAway': '25', 'isTournamentGame': 'False', 'neutralSite': 'False', 'home': 'LAL', 'gameStatusCode': '0'}, {'gameID': '20251029_LAL@MIN', 'seasonType': 'Regular Season', 'away': 'LAL', 'gameTime': '9:30p', 'teamIDHome': '18', 'gameDate': '20251029', 'gameStatus': 'Scheduled', 'gameTime_epoch': '1761787800.0', 'teamIDAway': '14', 'isTournamentGame': 'False', 'neutralSite': 'False', 'home': 'MIN', 'gameStatusCode': '0'}, {'gameID': '20251031_LAL@MEM', 'seasonType': 'Regular Season', 'away': 'LAL', 'teamIDHome': '15', 'gameDate': '20251031', 'gameStatus': 'Scheduled', 'teamIDAway': '14', 'isTournamentGame': 'True', 'home': 'MEM', 'gameTime': '9:30p', 'gameTime_epoch': '1761960600.0', 'tournamentRound': 'Group Play', 'neutralSite': 'False', 'gameStatusCode': '0'}, {'gameID': '20251102_MIA@LAL', 'seasonType': 'Regular Season', 'away': 'MIA', 'gameTime': '9:30p', 'teamIDHome': '14', 'gameDate': '20251102', 'gameStatus': 'Scheduled', 'gameTime_epoch': '1762137000.0', 'teamIDAway': '16', 'isTournamentGame': 'False', 'neutralSite': 'False', 'home': 'LAL', 'gameStatusCode': '0'}, {'gameID': '20251103_LAL@POR', 'seasonType': 'Regular Season', 'away': 'LAL', 'gameTime': '10:00p', 'teamIDHome': '25', 'gameDate': '20251103', 'gameStatus': 'Scheduled', 'gameTime_epoch': '1762225200.0', 'teamIDAway': '14', 'isTournamentGame': 'False', 'neutralSite': 'False', 'home': 'POR', 'gameStatusCode': '0'}, {'gameID': '20251105_SA@LAL', 'seasonType': 'Regular Season', 'away': 'SA', 'gameTime': '10:00p', 'teamIDHome': '14', 'gameDate': '20251105', 'gameStatus': 'Scheduled', 'gameTime_epoch': '1762398000.0', 'teamIDAway': '27', 'isTournamentGame': 'False', 'neutralSite': 'False', 'home': 'LAL', 'gameStatusCode': '0'}, {'gameID': '20251108_LAL@ATL', 'seasonType': 'Regular Season', 'away': 'LAL', 'gameTime': '8:00p', 'teamIDHome': '1', 'gameDate': '20251108', 'gameStatus': 'Scheduled', 'gameTime_epoch': '1762650000.0', 'teamIDAway': '14', 'isTournamentGame': 'False', 'neutralSite': 'False', 'home': 'ATL', 'gameStatusCode': '0'}, {'gameID': '20251110_LAL@CHA', 'seasonType': 'Regular Season', 'away': 'LAL', 'gameTime': '7:00p', 'teamIDHome': '4', 'gameDate': '20251110', 'gameStatus': 'Scheduled', 'gameTime_epoch': '1762819200.0', 'teamIDAway': '14', 'isTournamentGame': 'False', 'neutralSite': 'False', 'home': 'CHA', 'gameStatusCode': '0'}, {'gameID': '20251112_LAL@OKC', 'seasonType': 'Regular Season', 'away': 'LAL', 'gameTime': '9:30p', 'teamIDHome': '21', 'gameDate': '20251112', 'gameStatus': 'Scheduled', 'gameTime_epoch': '1763001000.0', 'teamIDAway': '14', 'isTournamentGame': 'False', 'neutralSite': 'False', 'home': 'OKC', 'gameStatusCode': '0'}, {'gameID': '20251114_LAL@NO', 'seasonType': 'Regular Season', 'away': 'LAL', 'teamIDHome': '19', 'gameDate': '20251114', 'gameStatus': 'Scheduled', 'teamIDAway': '14', 'isTournamentGame': 'True', 'home': 'NO', 'gameTime': '8:00p', 'gameTime_epoch': '1763168400.0', 'tournamentRound': 'Group Play', 'neutralSite': 'False', 'gameStatusCode': '0'}, {'gameID': '20251115_LAL@MIL', 'seasonType': 'Regular Season', 'away': 'LAL', 'gameTime': '8:00p', 'teamIDHome': '17', 'gameDate': '20251115', 'gameStatus': 'Scheduled', 'gameTime_epoch': '1763254800.0', 'teamIDAway': '14', 'isTournamentGame': 'False', 'neutralSite': 'False', 'home': 'MIL', 'gameStatusCode': '0'}, {'gameID': '20251118_UTA@LAL', 'seasonType': 'Regular Season', 'away': 'UTA', 'gameTime': '10:30p', 'teamIDHome': '14', 'gameDate': '20251118', 'gameStatus': 'Scheduled', 'gameTime_epoch': '1763523000.0', 'teamIDAway': '29', 'isTournamentGame': 'False', 'neutralSite': 'False', 'home': 'LAL', 'gameStatusCode': '0'}, {'gameID': '20251123_LAL@UTA', 'seasonType': 'Regular Season', 'away': 'LAL', 'gameTime': '8:00p', 'teamIDHome': '29', 'gameDate': '20251123', 'gameStatus': 'Scheduled', 'gameTime_epoch': '1763946000.0', 'teamIDAway': '14', 'isTournamentGame': 'False', 'neutralSite': 'False', 'home': 'UTA', 'gameStatusCode': '0'}, {'gameID': '20251125_LAC@LAL', 'seasonType': 'Regular Season', 'away': 'LAC', 'teamIDHome': '14', 'gameDate': '20251125', 'gameStatus': 'Scheduled', 'teamIDAway': '13', 'isTournamentGame': 'True', 'home': 'LAL', 'gameTime': '11:00p', 'gameTime_epoch': '1764129600.0', 'tournamentRound': 'Group Play', 'neutralSite': 'False', 'gameStatusCode': '0'}, {'gameID': '20251128_DAL@LAL', 'seasonType': 'Regular Season', 'away': 'DAL', 'teamIDHome': '14', 'gameDate': '20251128', 'gameStatus': 'Scheduled', 'teamIDAway': '7', 'isTournamentGame': 'True', 'home': 'LAL', 'gameTime': '10:00p', 'gameTime_epoch': '1764385200.0', 'tournamentRound': 'Group Play', 'neutralSite': 'False', 'gameStatusCode': '0'}, {'gameID': '20251130_NO@LAL', 'seasonType': 'Regular Season', 'away': 'NO', 'gameTime': '9:30p', 'teamIDHome': '14', 'gameDate': '20251130', 'gameStatus': 'Scheduled', 'gameTime_epoch': '1764556200.0', 'teamIDAway': '19', 'isTournamentGame': 'False', 'neutralSite': 'False', 'home': 'LAL', 'gameStatusCode': '0'}, {'gameID': '20251201_PHO@LAL', 'seasonType': 'Regular Season', 'away': 'PHO', 'gameTime': '10:00p', 'teamIDHome': '14', 'gameDate': '20251201', 'gameStatus': 'Scheduled', 'gameTime_epoch': '1764644400.0', 'teamIDAway': '24', 'isTournamentGame': 'False', 'neutralSite': 'False', 'home': 'LAL', 'gameStatusCode': '0'}, {'gameID': '20251204_LAL@TOR', 'seasonType': 'Regular Season', 'away': 'LAL', 'gameTime': '7:30p', 'teamIDHome': '28', 'gameDate': '20251204', 'gameStatus': 'Scheduled', 'gameTime_epoch': '1764894600.0', 'teamIDAway': '14', 'isTournamentGame': 'False', 'neutralSite': 'False', 'home': 'TOR', 'gameStatusCode': '0'}, {'gameID': '20251205_LAL@BOS', 'seasonType': 'Regular Season', 'away': 'LAL', 'gameTime': '7:00p', 'teamIDHome': '2', 'gameDate': '20251205', 'gameStatus': 'Scheduled', 'gameTime_epoch': '1764979200.0', 'teamIDAway': '14', 'isTournamentGame': 'False', 'neutralSite': 'False', 'home': 'BOS', 'gameStatusCode': '0'}, {'gameID': '20251207_LAL@PHI', 'seasonType': 'Regular Season', 'away': 'LAL', 'gameTime': '7:30p', 'teamIDHome': '23', 'gameDate': '20251207', 'gameStatus': 'Scheduled', 'gameTime_epoch': '1765153800.0', 'teamIDAway': '14', 'isTournamentGame': 'False', 'neutralSite': 'False', 'home': 'PHI', 'gameStatusCode': '0'}, {'gameID': '20251218_LAL@UTA', 'seasonType': 'Regular Season', 'away': 'LAL', 'gameTime': '9:00p', 'teamIDHome': '29', 'gameDate': '20251218', 'gameStatus': 'Scheduled', 'gameTime_epoch': '1766109600.0', 'teamIDAway': '14', 'isTournamentGame': 'False', 'neutralSite': 'False', 'home': 'UTA', 'gameStatusCode': '0'}, {'gameID': '20251220_LAL@LAC', 'seasonType': 'Regular Season', 'away': 'LAL', 'gameTime': '10:30p', 'teamIDHome': '13', 'gameDate': '20251220', 'gameStatus': 'Scheduled', 'gameTime_epoch': '1766287800.0', 'teamIDAway': '14', 'isTournamentGame': 'False', 'neutralSite': 'False', 'home': 'LAC', 'gameStatusCode': '0'}, {'gameID': '20251223_LAL@PHO', 'seasonType': 'Regular Season', 'away': 'LAL', 'gameTime': '9:00p', 'teamIDHome': '24', 'gameDate': '20251223', 'gameStatus': 'Scheduled', 'gameTime_epoch': '1766541600.0', 'teamIDAway': '14', 'isTournamentGame': 'False', 'neutralSite': 'False', 'home': 'PHO', 'gameStatusCode': '0'}, {'gameID': '20251225_HOU@LAL', 'seasonType': 'Regular Season', 'away': 'HOU', 'gameTime': '8:00p', 'teamIDHome': '14', 'gameDate': '20251225', 'gameStatus': 'Scheduled', 'gameTime_epoch': '1766710800.0', 'teamIDAway': '11', 'isTournamentGame': 'False', 'neutralSite': 'False', 'home': 'LAL', 'gameStatusCode': '0'}, {'gameID': '20251228_SAC@LAL', 'seasonType': 'Regular Season', 'away': 'SAC', 'gameTime': '9:30p', 'teamIDHome': '14', 'gameDate': '20251228', 'gameStatus': 'Scheduled', 'gameTime_epoch': '1766975400.0', 'teamIDAway': '26', 'isTournamentGame': 'False', 'neutralSite': 'False', 'home': 'LAL', 'gameStatusCode': '0'}, {'gameID': '20251230_DET@LAL', 'seasonType': 'Regular Season', 'away': 'DET', 'gameTime': '10:30p', 'teamIDHome': '14', 'gameDate': '20251230', 'gameStatus': 'Scheduled', 'gameTime_epoch': '1767151800.0', 'teamIDAway': '9', 'isTournamentGame': 'False', 'neutralSite': 'False', 'home': 'LAL', 'gameStatusCode': '0'}, {'gameID': '20260102_MEM@LAL', 'seasonType': 'Regular Season', 'away': 'MEM', 'gameTime': '10:30p', 'teamIDHome': '14', 'gameDate': '20260102', 'gameStatus': 'Scheduled', 'gameTime_epoch': '1767411000.0', 'teamIDAway': '15', 'isTournamentGame': 'False', 'neutralSite': 'False', 'home': 'LAL', 'gameStatusCode': '0'}, {'gameID': '20260104_MEM@LAL', 'seasonType': 'Regular Season', 'away': 'MEM', 'gameTime': '9:30p', 'teamIDHome': '14', 'gameDate': '20260104', 'gameStatus': 'Scheduled', 'gameTime_epoch': '1767580200.0', 'teamIDAway': '15', 'isTournamentGame': 'False', 'neutralSite': 'False', 'home': 'LAL', 'gameStatusCode': '0'}, {'gameID': '20260106_LAL@NO', 'seasonType': 'Regular Season', 'away': 'LAL', 'gameTime': '8:00p', 'teamIDHome': '19', 'gameDate': '20260106', 'gameStatus': 'Scheduled', 'gameTime_epoch': '1767747600.0', 'teamIDAway': '14', 'isTournamentGame': 'False', 'neutralSite': 'False', 'home': 'NO', 'gameStatusCode': '0'}, {'gameID': '20260107_LAL@SA', 'seasonType': 'Regular Season', 'away': 'LAL', 'gameTime': '7:30p', 'teamIDHome': '27', 'gameDate': '20260107', 'gameStatus': 'Scheduled', 'gameTime_epoch': '1767832200.0', 'teamIDAway': '14', 'isTournamentGame': 'False', 'neutralSite': 'False', 'home': 'SA', 'gameStatusCode': '0'}, {'gameID': '20260109_MIL@LAL', 'seasonType': 'Regular Season', 'away': 'MIL', 'gameTime': '10:30p', 'teamIDHome': '14', 'gameDate': '20260109', 'gameStatus': 'Scheduled', 'gameTime_epoch': '1768015800.0', 'teamIDAway': '17', 'isTournamentGame': 'False', 'neutralSite': 'False', 'home': 'LAL', 'gameStatusCode': '0'}, {'gameID': '20260112_LAL@SAC', 'seasonType': 'Regular Season', 'away': 'LAL', 'gameTime': '10:00p', 'teamIDHome': '26', 'gameDate': '20260112', 'gameStatus': 'Scheduled', 'gameTime_epoch': '1768273200.0', 'teamIDAway': '14', 'isTournamentGame': 'False', 'neutralSite': 'False', 'home': 'SAC', 'gameStatusCode': '0'}, {'gameID': '20260113_ATL@LAL', 'seasonType': 'Regular Season', 'away': 'ATL', 'gameTime': '10:30p', 'teamIDHome': '14', 'gameDate': '20260113', 'gameStatus': 'Scheduled', 'gameTime_epoch': '1768361400.0', 'teamIDAway': '1', 'isTournamentGame': 'False', 'neutralSite': 'False', 'home': 'LAL', 'gameStatusCode': '0'}, {'gameID': '20260115_CHA@LAL', 'seasonType': 'Regular Season', 'away': 'CHA', 'gameTime': '10:30p', 'teamIDHome': '14', 'gameDate': '20260115', 'gameStatus': 'Scheduled', 'gameTime_epoch': '1768534200.0', 'teamIDAway': '4', 'isTournamentGame': 'False', 'neutralSite': 'False', 'home': 'LAL', 'gameStatusCode': '0'}, {'gameID': '20260117_LAL@POR', 'seasonType': 'Regular Season', 'away': 'LAL', 'gameTime': '10:00p', 'teamIDHome': '25', 'gameDate': '20260117', 'gameStatus': 'Scheduled', 'gameTime_epoch': '1768705200.0', 'teamIDAway': '14', 'isTournamentGame': 'False', 'neutralSite': 'False', 'home': 'POR', 'gameStatusCode': '0'}, {'gameID': '20260118_TOR@LAL', 'seasonType': 'Regular Season', 'away': 'TOR', 'gameTime': '9:30p', 'teamIDHome': '14', 'gameDate': '20260118', 'gameStatus': 'Scheduled', 'gameTime_epoch': '1768789800.0', 'teamIDAway': '28', 'isTournamentGame': 'False', 'neutralSite': 'False', 'home': 'LAL', 'gameStatusCode': '0'}, {'gameID': '20260120_LAL@DEN', 'seasonType': 'Regular Season', 'away': 'LAL', 'gameTime': '10:00p', 'teamIDHome': '8', 'gameDate': '20260120', 'gameStatus': 'Scheduled', 'gameTime_epoch': '1768964400.0', 'teamIDAway': '14', 'isTournamentGame': 'False', 'neutralSite': 'False', 'home': 'DEN', 'gameStatusCode': '0'}, {'gameID': '20260122_LAL@LAC', 'seasonType': 'Regular Season', 'away': 'LAL', 'gameTime': '10:00p', 'teamIDHome': '13', 'gameDate': '20260122', 'gameStatus': 'Scheduled', 'gameTime_epoch': '1769137200.0', 'teamIDAway': '14', 'isTournamentGame': 'False', 'neutralSite': 'False', 'home': 'LAC', 'gameStatusCode': '0'}, {'gameID': '20260124_LAL@DAL', 'seasonType': 'Regular Season', 'away': 'LAL', 'gameTime': '8:30p', 'teamIDHome': '7', 'gameDate': '20260124', 'gameStatus': 'Scheduled', 'gameTime_epoch': '1769304600.0', 'teamIDAway': '14', 'isTournamentGame': 'False', 'neutralSite': 'False', 'home': 'DAL', 'gameStatusCode': '0'}, {'gameID': '20260126_LAL@CHI', 'seasonType': 'Regular Season', 'away': 'LAL', 'gameTime': '8:00p', 'teamIDHome': '5', 'gameDate': '20260126', 'gameStatus': 'Scheduled', 'gameTime_epoch': '1769475600.0', 'teamIDAway': '14', 'isTournamentGame': 'False', 'neutralSite': 'False', 'home': 'CHI', 'gameStatusCode': '0'}, {'gameID': '20260128_LAL@CLE', 'seasonType': 'Regular Season', 'away': 'LAL', 'gameTime': '7:00p', 'teamIDHome': '6', 'gameDate': '20260128', 'gameStatus': 'Scheduled', 'gameTime_epoch': '1769644800.0', 'teamIDAway': '14', 'isTournamentGame': 'False', 'neutralSite': 'False', 'home': 'CLE', 'gameStatusCode': '0'}, {'gameID': '20260130_LAL@WAS', 'seasonType': 'Regular Season', 'away': 'LAL', 'gameTime': '7:00p', 'teamIDHome': '30', 'gameDate': '20260130', 'gameStatus': 'Scheduled', 'gameTime_epoch': '1769817600.0', 'teamIDAway': '14', 'isTournamentGame': 'False', 'neutralSite': 'False', 'home': 'WAS', 'gameStatusCode': '0'}, {'gameID': '20260201_LAL@NY', 'seasonType': 'Regular Season', 'away': 'LAL', 'gameTime': '7:00p', 'teamIDHome': '20', 'gameDate': '20260201', 'gameStatus': 'Scheduled', 'gameTime_epoch': '1769990400.0', 'teamIDAway': '14', 'isTournamentGame': 'False', 'neutralSite': 'False', 'home': 'NY', 'gameStatusCode': '0'}, {'gameID': '20260203_LAL@BKN', 'seasonType': 'Regular Season', 'away': 'LAL', 'gameTime': '7:30p', 'teamIDHome': '3', 'gameDate': '20260203', 'gameStatus': 'Scheduled', 'gameTime_epoch': '1770165000.0', 'teamIDAway': '14', 'isTournamentGame': 'False', 'neutralSite': 'False', 'home': 'BKN', 'gameStatusCode': '0'}, {'gameID': '20260205_PHI@LAL', 'seasonType': 'Regular Season', 'away': 'PHI', 'gameTime': '10:00p', 'teamIDHome': '14', 'gameDate': '20260205', 'gameStatus': 'Scheduled', 'gameTime_epoch': '1770346800.0', 'teamIDAway': '23', 'isTournamentGame': 'False', 'neutralSite': 'False', 'home': 'LAL', 'gameStatusCode': '0'}, {'gameID': '20260207_GS@LAL', 'seasonType': 'Regular Season', 'away': 'GS', 'gameTime': '8:30p', 'teamIDHome': '14', 'gameDate': '20260207', 'gameStatus': 'Scheduled', 'gameTime_epoch': '1770514200.0', 'teamIDAway': '10', 'isTournamentGame': 'False', 'neutralSite': 'False', 'home': 'LAL', 'gameStatusCode': '0'}, {'gameID': '20260209_OKC@LAL', 'seasonType': 'Regular Season', 'away': 'OKC', 'gameTime': '10:00p', 'teamIDHome': '14', 'gameDate': '20260209', 'gameStatus': 'Scheduled', 'gameTime_epoch': '1770692400.0', 'teamIDAway': '21', 'isTournamentGame': 'False', 'neutralSite': 'False', 'home': 'LAL', 'gameStatusCode': '0'}, {'gameID': '20260210_SA@LAL', 'seasonType': 'Regular Season', 'away': 'SA', 'gameTime': '10:30p', 'teamIDHome': '14', 'gameDate': '20260210', 'gameStatus': 'Scheduled', 'gameTime_epoch': '1770780600.0', 'teamIDAway': '27', 'isTournamentGame': 'False', 'neutralSite': 'False', 'home': 'LAL', 'gameStatusCode': '0'}, {'gameID': '20260212_DAL@LAL', 'seasonType': 'Regular Season', 'away': 'DAL', 'gameTime': '10:00p', 'teamIDHome': '14', 'gameDate': '20260212', 'gameStatus': 'Scheduled', 'gameTime_epoch': '1770951600.0', 'teamIDAway': '7', 'isTournamentGame': 'False', 'neutralSite': 'False', 'home': 'LAL', 'gameStatusCode': '0'}, {'gameID': '20260220_LAC@LAL', 'seasonType': 'Regular Season', 'away': 'LAC', 'gameTime': '10:00p', 'teamIDHome': '14', 'gameDate': '20260220', 'gameStatus': 'Scheduled', 'gameTime_epoch': '1771642800.0', 'teamIDAway': '13', 'isTournamentGame': 'False', 'neutralSite': 'False', 'home': 'LAL', 'gameStatusCode': '0'}, {'gameID': '20260222_BOS@LAL', 'seasonType': 'Regular Season', 'away': 'BOS', 'gameTime': '6:30p', 'teamIDHome': '14', 'gameDate': '20260222', 'gameStatus': 'Scheduled', 'gameTime_epoch': '1771803000.0', 'teamIDAway': '2', 'isTournamentGame': 'False', 'neutralSite': 'False', 'home': 'LAL', 'gameStatusCode': '0'}, {'gameID': '20260224_ORL@LAL', 'seasonType': 'Regular Season', 'away': 'ORL', 'gameTime': '10:30p', 'teamIDHome': '14', 'gameDate': '20260224', 'gameStatus': 'Scheduled', 'gameTime_epoch': '1771990200.0', 'teamIDAway': '22', 'isTournamentGame': 'False', 'neutralSite': 'False', 'home': 'LAL', 'gameStatusCode': '0'}, {'gameID': '20260226_LAL@PHO', 'seasonType': 'Regular Season', 'away': 'LAL', 'gameTime': '9:00p', 'teamIDHome': '24', 'gameDate': '20260226', 'gameStatus': 'Scheduled', 'gameTime_epoch': '1772157600.0', 'teamIDAway': '14', 'isTournamentGame': 'False', 'neutralSite': 'False', 'home': 'PHO', 'gameStatusCode': '0'}, {'gameID': '20260228_LAL@GS', 'seasonType': 'Regular Season', 'away': 'LAL', 'gameTime': '8:30p', 'teamIDHome': '10', 'gameDate': '20260228', 'gameStatus': 'Scheduled', 'gameTime_epoch': '1772328600.0', 'teamIDAway': '14', 'isTournamentGame': 'False', 'neutralSite': 'False', 'home': 'GS', 'gameStatusCode': '0'}, {'gameID': '20260301_SAC@LAL', 'seasonType': 'Regular Season', 'away': 'SAC', 'gameTime': '9:30p', 'teamIDHome': '14', 'gameDate': '20260301', 'gameStatus': 'Scheduled', 'gameTime_epoch': '1772418600.0', 'teamIDAway': '26', 'isTournamentGame': 'False', 'neutralSite': 'False', 'home': 'LAL', 'gameStatusCode': '0'}, {'gameID': '20260303_NO@LAL', 'seasonType': 'Regular Season', 'away': 'NO', 'gameTime': '10:30p', 'teamIDHome': '14', 'gameDate': '20260303', 'gameStatus': 'Scheduled', 'gameTime_epoch': '1772595000.0', 'teamIDAway': '19', 'isTournamentGame': 'False', 'neutralSite': 'False', 'home': 'LAL', 'gameStatusCode': '0'}, {'gameID': '20260305_LAL@DEN', 'seasonType': 'Regular Season', 'away': 'LAL', 'gameTime': '10:00p', 'teamIDHome': '8', 'gameDate': '20260305', 'gameStatus': 'Scheduled', 'gameTime_epoch': '1772766000.0', 'teamIDAway': '14', 'isTournamentGame': 'False', 'neutralSite': 'False', 'home': 'DEN', 'gameStatusCode': '0'}, {'gameID': '20260306_IND@LAL', 'seasonType': 'Regular Season', 'away': 'IND', 'gameTime': '10:30p', 'teamIDHome': '14', 'gameDate': '20260306', 'gameStatus': 'Scheduled', 'gameTime_epoch': '1772854200.0', 'teamIDAway': '12', 'isTournamentGame': 'False', 'neutralSite': 'False', 'home': 'LAL', 'gameStatusCode': '0'}, {'gameID': '20260308_NY@LAL', 'seasonType': 'Regular Season', 'away': 'NY', 'gameTime': '3:30p', 'teamIDHome': '14', 'gameDate': '20260308', 'gameStatus': 'Scheduled', 'gameTime_epoch': '1772998200.0', 'teamIDAway': '20', 'isTournamentGame': 'False', 'neutralSite': 'False', 'home': 'LAL', 'gameStatusCode': '0'}, {'gameID': '20260310_MIN@LAL', 'seasonType': 'Regular Season', 'away': 'MIN', 'gameTime': '11:00p', 'teamIDHome': '14', 'gameDate': '20260310', 'gameStatus': 'Scheduled', 'gameTime_epoch': '1773198000.0', 'teamIDAway': '18', 'isTournamentGame': 'False', 'neutralSite': 'False', 'home': 'LAL', 'gameStatusCode': '0'}, {'gameID': '20260312_CHI@LAL', 'seasonType': 'Regular Season', 'away': 'CHI', 'gameTime': '10:30p', 'teamIDHome': '14', 'gameDate': '20260312', 'gameStatus': 'Scheduled', 'gameTime_epoch': '1773369000.0', 'teamIDAway': '5', 'isTournamentGame': 'False', 'neutralSite': 'False', 'home': 'LAL', 'gameStatusCode': '0'}, {'gameID': '20260314_DEN@LAL', 'seasonType': 'Regular Season', 'away': 'DEN', 'gameTime': '8:30p', 'teamIDHome': '14', 'gameDate': '20260314', 'gameStatus': 'Scheduled', 'gameTime_epoch': '1773534600.0', 'teamIDAway': '8', 'isTournamentGame': 'False', 'neutralSite': 'False', 'home': 'LAL', 'gameStatusCode': '0'}, {'gameID': '20260316_LAL@HOU', 'seasonType': 'Regular Season', 'away': 'LAL', 'gameTime': '9:00p', 'teamIDHome': '11', 'gameDate': '20260316', 'gameStatus': 'Scheduled', 'gameTime_epoch': '1773709200.0', 'teamIDAway': '14', 'isTournamentGame': 'False', 'neutralSite': 'False', 'home': 'HOU', 'gameStatusCode': '0'}, {'gameID': '20260318_LAL@HOU', 'seasonType': 'Regular Season', 'away': 'LAL', 'gameTime': '9:30p', 'teamIDHome': '11', 'gameDate': '20260318', 'gameStatus': 'Scheduled', 'gameTime_epoch': '1773883800.0', 'teamIDAway': '14', 'isTournamentGame': 'False', 'neutralSite': 'False', 'home': 'HOU', 'gameStatusCode': '0'}, {'gameID': '20260319_LAL@MIA', 'seasonType': 'Regular Season', 'away': 'LAL', 'gameTime': '8:00p', 'teamIDHome': '16', 'gameDate': '20260319', 'gameStatus': 'Scheduled', 'gameTime_epoch': '1773964800.0', 'teamIDAway': '14', 'isTournamentGame': 'False', 'neutralSite': 'False', 'home': 'MIA', 'gameStatusCode': '0'}, {'gameID': '20260321_LAL@ORL', 'seasonType': 'Regular Season', 'away': 'LAL', 'gameTime': '7:00p', 'teamIDHome': '22', 'gameDate': '20260321', 'gameStatus': 'Scheduled', 'gameTime_epoch': '1774134000.0', 'teamIDAway': '14', 'isTournamentGame': 'False', 'neutralSite': 'False', 'home': 'ORL', 'gameStatusCode': '0'}, {'gameID': '20260323_LAL@DET', 'seasonType': 'Regular Season', 'away': 'LAL', 'gameTime': '7:00p', 'teamIDHome': '9', 'gameDate': '20260323', 'gameStatus': 'Scheduled', 'gameTime_epoch': '1774306800.0', 'teamIDAway': '14', 'isTournamentGame': 'False', 'neutralSite': 'False', 'home': 'DET', 'gameStatusCode': '0'}, {'gameID': '20260325_LAL@IND', 'seasonType': 'Regular Season', 'away': 'LAL', 'gameTime': '7:00p', 'teamIDHome': '12', 'gameDate': '20260325', 'gameStatus': 'Scheduled', 'gameTime_epoch': '1774479600.0', 'teamIDAway': '14', 'isTournamentGame': 'False', 'neutralSite': 'False', 'home': 'IND', 'gameStatusCode': '0'}, {'gameID': '20260327_BKN@LAL', 'seasonType': 'Regular Season', 'away': 'BKN', 'gameTime': '10:30p', 'teamIDHome': '14', 'gameDate': '20260327', 'gameStatus': 'Scheduled', 'gameTime_epoch': '1774665000.0', 'teamIDAway': '3', 'isTournamentGame': 'False', 'neutralSite': 'False', 'home': 'LAL', 'gameStatusCode': '0'}, {'gameID': '20260330_WAS@LAL', 'seasonType': 'Regular Season', 'away': 'WAS', 'gameTime': '10:00p', 'teamIDHome': '14', 'gameDate': '20260330', 'gameStatus': 'Scheduled', 'gameTime_epoch': '1774922400.0', 'teamIDAway': '30', 'isTournamentGame': 'False', 'neutralSite': 'False', 'home': 'LAL', 'gameStatusCode': '0'}, {'gameID': '20260331_CLE@LAL', 'seasonType': 'Regular Season', 'away': 'CLE', 'gameTime': '10:30p', 'teamIDHome': '14', 'gameDate': '20260331', 'gameStatus': 'Scheduled', 'gameTime_epoch': '1775010600.0', 'teamIDAway': '6', 'isTournamentGame': 'False', 'neutralSite': 'False', 'home': 'LAL', 'gameStatusCode': '0'}, {'gameID': '20260402_LAL@OKC', 'seasonType': 'Regular Season', 'away': 'LAL', 'gameTime': '7:30p', 'teamIDHome': '21', 'gameDate': '20260402', 'gameStatus': 'Scheduled', 'gameTime_epoch': '1775172600.0', 'teamIDAway': '14', 'isTournamentGame': 'False', 'neutralSite': 'False', 'home': 'OKC', 'gameStatusCode': '0'}, {'gameID': '20260405_LAL@DAL', 'seasonType': 'Regular Season', 'away': 'LAL', 'gameTime': '7:30p', 'teamIDHome': '7', 'gameDate': '20260405', 'gameStatus': 'Scheduled', 'gameTime_epoch': '1775431800.0', 'teamIDAway': '14', 'isTournamentGame': 'False', 'neutralSite': 'False', 'home': 'DAL', 'gameStatusCode': '0'}, {'gameID': '20260407_OKC@LAL', 'seasonType': 'Regular Season', 'away': 'OKC', 'gameTime': '10:30p', 'teamIDHome': '14', 'gameDate': '20260407', 'gameStatus': 'Scheduled', 'gameTime_epoch': '1775615400.0', 'teamIDAway': '21', 'isTournamentGame': 'False', 'neutralSite': 'False', 'home': 'LAL', 'gameStatusCode': '0'}, {'gameID': '20260409_LAL@GS', 'seasonType': 'Regular Season', 'away': 'LAL', 'gameTime': '10:00p', 'teamIDHome': '10', 'gameDate': '20260409', 'gameStatus': 'Scheduled', 'gameTime_epoch': '1775786400.0', 'teamIDAway': '14', 'isTournamentGame': 'False', 'neutralSite': 'False', 'home': 'GS', 'gameStatusCode': '0'}, {'gameID': '20260410_PHO@LAL', 'seasonType': 'Regular Season', 'away': 'PHO', 'gameTime': '10:30p', 'teamIDHome': '14', 'gameDate': '20260410', 'gameStatus': 'Scheduled', 'gameTime_epoch': '1775874600.0', 'teamIDAway': '24', 'isTournamentGame': 'False', 'neutralSite': 'False', 'home': 'LAL', 'gameStatusCode': '0'}, {'gameID': '20260412_UTA@LAL', 'seasonType': 'Regular Season', 'away': 'UTA', 'gameTime': '8:30p', 'teamIDHome': '14', 'gameDate': '20260412', 'gameStatus': 'Scheduled', 'gameTime_epoch': '1776040200.0', 'teamIDAway': '29', 'isTournamentGame': 'False', 'neutralSite': 'False', 'home': 'LAL', 'gameStatusCode': '0'}]"
        ]
       ],
       "shape": {
        "columns": 3,
        "rows": 1
       }
      },
      "text/html": [
       "<div>\n",
       "<style scoped>\n",
       "    .dataframe tbody tr th:only-of-type {\n",
       "        vertical-align: middle;\n",
       "    }\n",
       "\n",
       "    .dataframe tbody tr th {\n",
       "        vertical-align: top;\n",
       "    }\n",
       "\n",
       "    .dataframe thead th {\n",
       "        text-align: right;\n",
       "    }\n",
       "</style>\n",
       "<table border=\"1\" class=\"dataframe\">\n",
       "  <thead>\n",
       "    <tr style=\"text-align: right;\">\n",
       "      <th></th>\n",
       "      <th>team</th>\n",
       "      <th>teamID</th>\n",
       "      <th>schedule</th>\n",
       "    </tr>\n",
       "  </thead>\n",
       "  <tbody>\n",
       "    <tr>\n",
       "      <th>0</th>\n",
       "      <td>LAL</td>\n",
       "      <td>14</td>\n",
       "      <td>[{'gameID': '20251021_GS@LAL', 'seasonType': '...</td>\n",
       "    </tr>\n",
       "  </tbody>\n",
       "</table>\n",
       "</div>"
      ],
      "text/plain": [
       "  team teamID                                           schedule\n",
       "0  LAL     14  [{'gameID': '20251021_GS@LAL', 'seasonType': '..."
      ]
     },
     "metadata": {},
     "output_type": "display_data"
    },
    {
     "name": "stdout",
     "output_type": "stream",
     "text": [
      "\n",
      "Requests used: 9, Remaining: 991\n"
     ]
    }
   ],
   "source": [
    "response = client.get_team_schedule(team_abv=TEST_TEAM_ABV)\n",
    "display_response('Team Schedule', response)"
   ]
  },
  {
   "cell_type": "markdown",
   "metadata": {},
   "source": [
    "## 10. DFS Salaries"
   ]
  },
  {
   "cell_type": "code",
   "execution_count": 16,
   "metadata": {},
   "outputs": [
    {
     "name": "stdout",
     "output_type": "stream",
     "text": [
      "\n",
      "### DFS Salaries\n",
      "Status Code: 200\n",
      "Empty response body\n"
     ]
    }
   ],
   "source": [
    "response = client.get_dfs_salaries(game_date=TEST_DATE)\n",
    "display_response('DFS Salaries', response)"
   ]
  },
  {
   "cell_type": "markdown",
   "metadata": {},
   "source": [
    "## 11. Depth Charts"
   ]
  },
  {
   "cell_type": "code",
   "execution_count": 17,
   "metadata": {},
   "outputs": [
    {
     "name": "stdout",
     "output_type": "stream",
     "text": [
      "\n",
      "### Depth Charts\n",
      "Status Code: 200\n",
      "Shape: (30, 3)\n",
      "Columns: ['depthChart', 'teamAbv', 'teamID']\n"
     ]
    },
    {
     "data": {
      "application/vnd.microsoft.datawrangler.viewer.v0+json": {
       "columns": [
        {
         "name": "index",
         "rawType": "int64",
         "type": "integer"
        },
        {
         "name": "depthChart",
         "rawType": "object",
         "type": "unknown"
        },
        {
         "name": "teamAbv",
         "rawType": "object",
         "type": "string"
        },
        {
         "name": "teamID",
         "rawType": "object",
         "type": "string"
        }
       ],
       "ref": "9a8f92bc-d2f0-4e70-9750-31d3f85db53e",
       "rows": [
        [
         "0",
         "{'SF': [{'depthPosition': 'SF1', 'longName': 'Zaccharie Risacher', 'playerID': '943541715989'}, {'depthPosition': 'SF2', 'longName': 'Vit Krejci', 'playerID': '941044811139'}, {'depthPosition': 'SF3', 'longName': 'Terance Mann', 'playerID': '28558319499'}, {'depthPosition': 'SF4', 'longName': 'Caris LeVert', 'playerID': '28838048249'}, {'depthPosition': 'SF5', 'longName': 'Georges Niang', 'playerID': '28428786249'}], 'C': [{'depthPosition': 'C1', 'longName': 'Onyeka Okongwu', 'playerID': '94054452027'}, {'depthPosition': 'C2', 'longName': 'Dom Barlow', 'playerID': '948647045669'}, {'depthPosition': 'C3', 'longName': 'Mouhamed Gueye', 'playerID': '943649135539'}, {'depthPosition': 'C4', 'longName': 'Clint Capela', 'playerID': '28218011729'}, {'depthPosition': 'C5', 'longName': 'Larry Nance Jr.', 'playerID': '28538771482'}], 'SG': [{'depthPosition': 'SG1', 'longName': 'Dyson Daniels', 'playerID': '940747982639'}, {'depthPosition': 'SG2', 'longName': 'Caris LeVert', 'playerID': '28838048249'}, {'depthPosition': 'SG3', 'longName': 'Vit Krejci', 'playerID': '941044811139'}, {'depthPosition': 'SG4', 'longName': 'Garrison Mathews', 'playerID': '28848343927'}, {'depthPosition': 'SG5', 'longName': 'Terance Mann', 'playerID': '28558319499'}], 'PF': [{'depthPosition': 'PF1', 'longName': 'Mouhamed Gueye', 'playerID': '943649135539'}, {'depthPosition': 'PF2', 'longName': 'Georges Niang', 'playerID': '28428786249'}, {'depthPosition': 'PF3', 'longName': 'Zaccharie Risacher', 'playerID': '943541715989'}, {'depthPosition': 'PF4', 'longName': 'Dom Barlow', 'playerID': '948647045669'}, {'depthPosition': 'PF5', 'longName': 'Onyeka Okongwu', 'playerID': '94054452027'}], 'PG': [{'depthPosition': 'PG1', 'longName': 'Trae Young', 'playerID': '28978646789'}, {'depthPosition': 'PG2', 'longName': 'Terance Mann', 'playerID': '28558319499'}, {'depthPosition': 'PG3', 'longName': 'Dyson Daniels', 'playerID': '940747982639'}, {'depthPosition': 'PG4', 'longName': 'Caris LeVert', 'playerID': '28838048249'}, {'depthPosition': 'PG5', 'longName': 'Vit Krejci', 'playerID': '941044811139'}]}",
         "ATL",
         "1"
        ],
        [
         "1",
         "{'SF': [{'depthPosition': 'SF1', 'longName': 'Jaylen Brown', 'playerID': '28138379499'}, {'depthPosition': 'SF2', 'longName': 'Sam Hauser', 'playerID': '28298596399'}, {'depthPosition': 'SF3', 'longName': 'Baylor Scheierman', 'playerID': '94244482027'}, {'depthPosition': 'SF4', 'longName': 'Jordan Walsh', 'playerID': '942740191869'}, {'depthPosition': 'SF5', 'longName': 'Torrey Craig', 'playerID': '28118432369'}], 'C': [{'depthPosition': 'C1', 'longName': 'Kristaps Porzingis', 'playerID': '28498106429'}, {'depthPosition': 'C2', 'longName': 'Luke Kornet', 'playerID': '28768121429'}, {'depthPosition': 'C3', 'longName': 'Al Horford', 'playerID': '28556362792'}, {'depthPosition': 'C4', 'longName': 'Neemias Queta', 'playerID': '28928862047'}, {'depthPosition': 'C5', 'longName': 'Xavier Tillman', 'playerID': '28088839869'}], 'SG': [{'depthPosition': 'SG1', 'longName': 'Anfernee Simons', 'playerID': '28468846789'}, {'depthPosition': 'SG2', 'longName': 'Payton Pritchard', 'playerID': '28058676399'}, {'depthPosition': 'SG3', 'longName': 'Derrick White', 'playerID': '28478050069'}, {'depthPosition': 'SG4', 'longName': 'Jaylen Brown', 'playerID': '28138379499'}, {'depthPosition': 'SG5', 'longName': 'Baylor Scheierman', 'playerID': '94244482027'}], 'PF': [{'depthPosition': 'PF1', 'longName': 'Al Horford', 'playerID': '28556362792'}, {'depthPosition': 'PF2', 'longName': 'Sam Hauser', 'playerID': '28298596399'}, {'depthPosition': 'PF3', 'longName': 'Kristaps Porzingis', 'playerID': '28498106429'}, {'depthPosition': 'PF4', 'longName': 'Xavier Tillman', 'playerID': '28088839869'}, {'depthPosition': 'PF5', 'longName': 'Torrey Craig', 'playerID': '28118432369'}], 'PG': [{'depthPosition': 'PG1', 'longName': 'Derrick White', 'playerID': '28478050069'}, {'depthPosition': 'PG2', 'longName': 'Anfernee Simons', 'playerID': '28468846789'}, {'depthPosition': 'PG3', 'longName': 'Payton Pritchard', 'playerID': '28058676399'}, {'depthPosition': 'PG4', 'longName': 'JD Davison', 'playerID': '946749465539'}]}",
         "BOS",
         "2"
        ],
        [
         "2",
         "{'SF': [{'depthPosition': 'SF1', 'longName': 'Ziaire Williams', 'playerID': '94324235527'}, {'depthPosition': 'SF2', 'longName': 'Maxwell Lewis', 'playerID': '946849255539'}, {'depthPosition': 'SF3', 'longName': 'Tosan Evbuomwan', 'playerID': '94674218027'}, {'depthPosition': 'SF4', 'longName': 'Jalen Wilson', 'playerID': '94564412027'}, {'depthPosition': 'SF5', 'longName': 'Cameron Johnson', 'playerID': '28958359129'}], 'C': [{'depthPosition': 'C1', 'longName': 'Nicolas Claxton', 'playerID': '28568879869'}, {'depthPosition': 'C2', 'longName': \"Day'Ron Sharpe\", 'playerID': '94924235527'}, {'depthPosition': 'C3', 'longName': 'Drew Timme', 'playerID': '94254432027'}, {'depthPosition': 'C4', 'longName': 'Trendon Watford', 'playerID': '94684462027'}, {'depthPosition': 'C5', 'longName': 'Noah Clowney', 'playerID': '946840901869'}], 'SG': [{'depthPosition': 'SG1', 'longName': 'Keon Johnson', 'playerID': '94034965527'}, {'depthPosition': 'SG2', 'longName': 'Dariq Whitehead', 'playerID': '945840191869'}, {'depthPosition': 'SG3', 'longName': 'Tyrese Martin', 'playerID': '28398879047'}, {'depthPosition': 'SG4', 'longName': 'Jalen Wilson', 'playerID': '94564412027'}, {'depthPosition': 'SG5', 'longName': 'Ziaire Williams', 'playerID': '94324235527'}], 'PF': [{'depthPosition': 'PF1', 'longName': 'Cameron Johnson', 'playerID': '28958359129'}, {'depthPosition': 'PF2', 'longName': 'Trendon Watford', 'playerID': '94684462027'}, {'depthPosition': 'PF3', 'longName': 'Tosan Evbuomwan', 'playerID': '94674218027'}, {'depthPosition': 'PF4', 'longName': 'Jalen Wilson', 'playerID': '94564412027'}, {'depthPosition': 'PF5', 'longName': 'Drew Timme', 'playerID': '94254432027'}], 'PG': [{'depthPosition': 'PG1', 'longName': \"D'Angelo Russell\", 'playerID': '28478359129'}, {'depthPosition': 'PG2', 'longName': 'Keon Johnson', 'playerID': '94034965527'}, {'depthPosition': 'PG3', 'longName': 'Reece Beekman', 'playerID': '94704216527'}, {'depthPosition': 'PG4', 'longName': 'Tyson Etienne', 'playerID': '28358849027'}, {'depthPosition': 'PG5', 'longName': 'Cam Thomas', 'playerID': '94514265527'}]}",
         "BKN",
         "3"
        ],
        [
         "3",
         "{'SF': [{'depthPosition': 'SF1', 'longName': 'Josh Green', 'playerID': '94014426027'}, {'depthPosition': 'SF2', 'longName': 'DaQuan Jeffries', 'playerID': '28158547499'}, {'depthPosition': 'SF3', 'longName': 'Josh Okogie', 'playerID': '28468646399'}, {'depthPosition': 'SF4', 'longName': 'Wendell Moore Jr.', 'playerID': '94534299027'}, {'depthPosition': 'SF5', 'longName': 'Nick Smith Jr.', 'playerID': '942740271869'}], 'C': [{'depthPosition': 'C1', 'longName': 'Mark Williams', 'playerID': '94384226527'}, {'depthPosition': 'C2', 'longName': 'Jusuf Nurkic', 'playerID': '28718011729'}, {'depthPosition': 'C3', 'longName': 'Moussa Diabate', 'playerID': '943549335539'}, {'depthPosition': 'C4', 'longName': 'Taj Gibson', 'playerID': '28426191632'}, {'depthPosition': 'C5', 'longName': 'Tidjane Salaun', 'playerID': '946841877789'}], 'SG': [{'depthPosition': 'SG1', 'longName': 'Nick Smith Jr.', 'playerID': '942740271869'}, {'depthPosition': 'SG2', 'longName': 'Seth Curry', 'playerID': '28798418649'}, {'depthPosition': 'SG3', 'longName': 'Josh Green', 'playerID': '94014426027'}, {'depthPosition': 'SG4', 'longName': 'Josh Okogie', 'playerID': '28468646399'}, {'depthPosition': 'SG5', 'longName': 'Damion Baugh', 'playerID': '94844409027'}], 'PF': [{'depthPosition': 'PF1', 'longName': 'Miles Bridges', 'playerID': '28068641179'}, {'depthPosition': 'PF2', 'longName': 'Tidjane Salaun', 'playerID': '946841877789'}, {'depthPosition': 'PF3', 'longName': 'Wendell Moore Jr.', 'playerID': '94534299027'}, {'depthPosition': 'PF4', 'longName': 'DaQuan Jeffries', 'playerID': '28158547499'}, {'depthPosition': 'PF5', 'longName': 'Josh Green', 'playerID': '94014426027'}], 'PG': [{'depthPosition': 'PG1', 'longName': 'KJ Simpson', 'playerID': '947849615539'}, {'depthPosition': 'PG2', 'longName': 'Damion Baugh', 'playerID': '94844409027'}, {'depthPosition': 'PG3', 'longName': 'Jaylen Sims', 'playerID': '28978642047'}, {'depthPosition': 'PG4', 'longName': 'Nick Smith Jr.', 'playerID': '942740271869'}, {'depthPosition': 'PG5', 'longName': 'Wendell Moore Jr.', 'playerID': '94534299027'}]}",
         "CHA",
         "4"
        ],
        [
         "4",
         "{'SF': [{'depthPosition': 'SF1', 'longName': 'Coby White', 'playerID': '94704402047'}, {'depthPosition': 'SF2', 'longName': 'Dalen Terry', 'playerID': '94954916527'}, {'depthPosition': 'SF3', 'longName': 'Julian Phillips', 'playerID': '941447431869'}, {'depthPosition': 'SF4', 'longName': 'Kevin Huerter', 'playerID': '28598696399'}, {'depthPosition': 'SF5', 'longName': 'Josh Giddey', 'playerID': '941649430339'}], 'C': [{'depthPosition': 'C1', 'longName': 'Nikola Vucevic', 'playerID': '28268405032'}, {'depthPosition': 'C2', 'longName': 'Zach Collins', 'playerID': '28268546399'}, {'depthPosition': 'C3', 'longName': 'Jalen Smith', 'playerID': '94424472047'}, {'depthPosition': 'C4', 'longName': 'E.J. Liddell', 'playerID': '94424452027'}], 'SG': [{'depthPosition': 'SG1', 'longName': 'Lonzo Ball', 'playerID': '28368516399'}, {'depthPosition': 'SG2', 'longName': 'Kevin Huerter', 'playerID': '28598696399'}, {'depthPosition': 'SG3', 'longName': 'Coby White', 'playerID': '94704402047'}, {'depthPosition': 'SG4', 'longName': 'Dalen Terry', 'playerID': '94954916527'}, {'depthPosition': 'SG5', 'longName': 'Talen Horton-Tucker', 'playerID': '94864419047'}], 'PF': [{'depthPosition': 'PF1', 'longName': 'Matas Buzelis', 'playerID': '947540715989'}, {'depthPosition': 'PF2', 'longName': 'Patrick Williams', 'playerID': '94134262027'}, {'depthPosition': 'PF3', 'longName': 'Julian Phillips', 'playerID': '941447431869'}, {'depthPosition': 'PF4', 'longName': 'Dalen Terry', 'playerID': '94954916527'}, {'depthPosition': 'PF5', 'longName': 'Zach Collins', 'playerID': '28268546399'}], 'PG': [{'depthPosition': 'PG1', 'longName': 'Josh Giddey', 'playerID': '941649430339'}, {'depthPosition': 'PG2', 'longName': 'Tre Jones', 'playerID': '94884492047'}, {'depthPosition': 'PG3', 'longName': 'Coby White', 'playerID': '94704402047'}, {'depthPosition': 'PG4', 'longName': 'Jevon Carter', 'playerID': '28968147129'}, {'depthPosition': 'PG5', 'longName': 'Talen Horton-Tucker', 'playerID': '94864419047'}]}",
         "CHI",
         "5"
        ]
       ],
       "shape": {
        "columns": 3,
        "rows": 5
       }
      },
      "text/html": [
       "<div>\n",
       "<style scoped>\n",
       "    .dataframe tbody tr th:only-of-type {\n",
       "        vertical-align: middle;\n",
       "    }\n",
       "\n",
       "    .dataframe tbody tr th {\n",
       "        vertical-align: top;\n",
       "    }\n",
       "\n",
       "    .dataframe thead th {\n",
       "        text-align: right;\n",
       "    }\n",
       "</style>\n",
       "<table border=\"1\" class=\"dataframe\">\n",
       "  <thead>\n",
       "    <tr style=\"text-align: right;\">\n",
       "      <th></th>\n",
       "      <th>depthChart</th>\n",
       "      <th>teamAbv</th>\n",
       "      <th>teamID</th>\n",
       "    </tr>\n",
       "  </thead>\n",
       "  <tbody>\n",
       "    <tr>\n",
       "      <th>0</th>\n",
       "      <td>{'SF': [{'depthPosition': 'SF1', 'longName': '...</td>\n",
       "      <td>ATL</td>\n",
       "      <td>1</td>\n",
       "    </tr>\n",
       "    <tr>\n",
       "      <th>1</th>\n",
       "      <td>{'SF': [{'depthPosition': 'SF1', 'longName': '...</td>\n",
       "      <td>BOS</td>\n",
       "      <td>2</td>\n",
       "    </tr>\n",
       "    <tr>\n",
       "      <th>2</th>\n",
       "      <td>{'SF': [{'depthPosition': 'SF1', 'longName': '...</td>\n",
       "      <td>BKN</td>\n",
       "      <td>3</td>\n",
       "    </tr>\n",
       "    <tr>\n",
       "      <th>3</th>\n",
       "      <td>{'SF': [{'depthPosition': 'SF1', 'longName': '...</td>\n",
       "      <td>CHA</td>\n",
       "      <td>4</td>\n",
       "    </tr>\n",
       "    <tr>\n",
       "      <th>4</th>\n",
       "      <td>{'SF': [{'depthPosition': 'SF1', 'longName': '...</td>\n",
       "      <td>CHI</td>\n",
       "      <td>5</td>\n",
       "    </tr>\n",
       "  </tbody>\n",
       "</table>\n",
       "</div>"
      ],
      "text/plain": [
       "                                          depthChart teamAbv teamID\n",
       "0  {'SF': [{'depthPosition': 'SF1', 'longName': '...     ATL      1\n",
       "1  {'SF': [{'depthPosition': 'SF1', 'longName': '...     BOS      2\n",
       "2  {'SF': [{'depthPosition': 'SF1', 'longName': '...     BKN      3\n",
       "3  {'SF': [{'depthPosition': 'SF1', 'longName': '...     CHA      4\n",
       "4  {'SF': [{'depthPosition': 'SF1', 'longName': '...     CHI      5"
      ]
     },
     "metadata": {},
     "output_type": "display_data"
    },
    {
     "name": "stdout",
     "output_type": "stream",
     "text": [
      "\n",
      "Requests used: 11, Remaining: 989\n"
     ]
    }
   ],
   "source": [
    "response = client.get_depth_charts()\n",
    "display_response('Depth Charts', response)"
   ]
  },
  {
   "cell_type": "markdown",
   "metadata": {},
   "source": [
    "## 12. Fantasy Projections"
   ]
  },
  {
   "cell_type": "code",
   "execution_count": 19,
   "metadata": {},
   "outputs": [
    {
     "ename": "TypeError",
     "evalue": "Tank01Client.get_projections() got an unexpected keyword argument 'numOfDays'",
     "output_type": "error",
     "traceback": [
      "\u001b[31m---------------------------------------------------------------------------\u001b[39m",
      "\u001b[31mTypeError\u001b[39m                                 Traceback (most recent call last)",
      "\u001b[36mCell\u001b[39m\u001b[36m \u001b[39m\u001b[32mIn[19]\u001b[39m\u001b[32m, line 1\u001b[39m\n\u001b[32m----> \u001b[39m\u001b[32m1\u001b[39m response = \u001b[43mclient\u001b[49m\u001b[43m.\u001b[49m\u001b[43mget_projections\u001b[49m\u001b[43m(\u001b[49m\u001b[43mgame_date\u001b[49m\u001b[43m=\u001b[49m\u001b[43mTEST_DATE\u001b[49m\u001b[43m,\u001b[49m\u001b[43m \u001b[49m\u001b[43mnumOfDays\u001b[49m\u001b[43m=\u001b[49m\u001b[32;43m7\u001b[39;49m\u001b[43m)\u001b[49m\n\u001b[32m      2\u001b[39m display_response(\u001b[33m'\u001b[39m\u001b[33mFantasy Projections\u001b[39m\u001b[33m'\u001b[39m, response)\n",
      "\u001b[31mTypeError\u001b[39m: Tank01Client.get_projections() got an unexpected keyword argument 'numOfDays'"
     ]
    }
   ],
   "source": [
    "response = client.get_projections(game_date=TEST_DATE, numOfDays=7)\n",
    "display_response('Fantasy Projections', response)"
   ]
  },
  {
   "cell_type": "markdown",
   "metadata": {},
   "source": [
    "## Summary"
   ]
  },
  {
   "cell_type": "code",
   "execution_count": null,
   "metadata": {},
   "outputs": [],
   "source": [
    "print(f'\\nTotal API requests used: {client.get_request_count()}')\n",
    "print(f'Remaining requests: {client.get_remaining_requests()}/{client.rate_limit}')"
   ]
  }
 ],
 "metadata": {
  "kernelspec": {
   "display_name": "datascience",
   "language": "python",
   "name": "python3"
  },
  "language_info": {
   "codemirror_mode": {
    "name": "ipython",
    "version": 3
   },
   "file_extension": ".py",
   "mimetype": "text/x-python",
   "name": "python",
   "nbconvert_exporter": "python",
   "pygments_lexer": "ipython3",
   "version": "3.13.5"
  }
 },
 "nbformat": 4,
 "nbformat_minor": 4
}
