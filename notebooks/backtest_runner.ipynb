{
 "cells": [
  {
   "cell_type": "markdown",
   "metadata": {},
   "source": [
    "# NBA DFS Backtest Runner\n",
    "\n",
    "Run backtests using the DailyBacktest and BacktestRunner classes from src.backtest module.\n",
    "\n",
    "**Data Source**: Local SQLite database at `nba_dfs.db`"
   ]
  },
  {
   "cell_type": "code",
   "execution_count": 1,
   "metadata": {},
   "outputs": [
    {
     "name": "stdout",
     "output_type": "stream",
     "text": [
      "================================================================================\n",
      "NOTEBOOK INITIALIZED\n",
      "================================================================================\n",
      "Logging level: INFO\n",
      "Backtest logging: DEBUG\n",
      "================================================================================\n"
     ]
    }
   ],
   "source": [
    "import os\n",
    "import sys\n",
    "import pandas as pd\n",
    "import numpy as np\n",
    "import logging\n",
    "from datetime import datetime, timedelta\n",
    "\n",
    "sys.path.append('..')\n",
    "\n",
    "from src.backtest.backtest import DailyBacktest, BacktestRunner, WalkForwardValidator\n",
    "from src.data.backtest_data_prep import BacktestDataPrep\n",
    "from src.data.collectors.tank01_client import Tank01Client\n",
    "from src.data.collectors.local_data_client import LocalDataClient\n",
    "from dotenv import load_dotenv\n",
    "\n",
    "load_dotenv()\n",
    "\n",
    "# Configure logging for Jupyter notebook with detailed output\n",
    "logging.basicConfig(\n",
    "    level=logging.INFO,\n",
    "    format='%(asctime)s | %(name)-30s | %(levelname)-8s | %(message)s',\n",
    "    datefmt='%H:%M:%S',\n",
    "    force=True  # Force reconfiguration if already configured\n",
    ")\n",
    "\n",
    "# Set specific log levels for different modules\n",
    "logging.getLogger('src.backtest.backtest').setLevel(logging.DEBUG)\n",
    "logging.getLogger('src.evaluation.feature_builder').setLevel(logging.INFO)\n",
    "logging.getLogger('src.evaluation.data_loader').setLevel(logging.INFO)\n",
    "\n",
    "logger = logging.getLogger(__name__)\n",
    "\n",
    "\n",
    "class MockStorage:\n",
    "    \"\"\"Mock storage for testing.\"\"\"\n",
    "    \n",
    "    def __init__(self, base_path='../data'):\n",
    "        self.base_path = base_path\n",
    "\n",
    "\n",
    "print('=' * 80)\n",
    "print('NOTEBOOK INITIALIZED')\n",
    "print('=' * 80)\n",
    "print(f'Logging level: {logging.getLevelName(logging.getLogger().level)}')\n",
    "print(f'Backtest logging: {logging.getLevelName(logging.getLogger(\"src.backtest.backtest\").level)}')\n",
    "print('=' * 80)"
   ]
  },
  {
   "cell_type": "markdown",
   "metadata": {},
   "source": [
    "## Initialize Components\n",
    "\n",
    "Initialize LocalDataClient to read from local database and storage handler."
   ]
  },
  {
   "cell_type": "code",
   "execution_count": 2,
   "metadata": {},
   "outputs": [
    {
     "name": "stdout",
     "output_type": "stream",
     "text": [
      "LocalDataClient initialized\n",
      "Database: C:\\Users\\antho\\OneDrive\\Documents\\Repositories\\delapan-fantasy\\nba_dfs.db\n",
      "Data directory: C:\\Users\\antho\\OneDrive\\Documents\\Repositories\\delapan-fantasy\\data\n",
      "Storage base path: ../data/tmp\n"
     ]
    }
   ],
   "source": [
    "client = LocalDataClient()\n",
    "storage = MockStorage(base_path='../data/tmp')\n",
    "\n",
    "print('LocalDataClient initialized')\n",
    "print(f'Database: {client.db_path}')\n",
    "print(f'Data directory: {client.data_dir}')\n",
    "print(f'Storage base path: {storage.base_path}')"
   ]
  },
  {
   "cell_type": "markdown",
   "metadata": {},
   "source": [
    "## Option 1: Daily Backtest\n",
    "\n",
    "Run backtest for single slate with data preparation and feature generation."
   ]
  },
  {
   "cell_type": "code",
   "execution_count": 3,
   "metadata": {},
   "outputs": [
    {
     "name": "stdout",
     "output_type": "stream",
     "text": [
      "================================================================================\n",
      "DailyBacktest initialized\n",
      "================================================================================\n",
      "Data prep: BacktestDataPrep\n",
      "Storage: MockStorage\n",
      "Seasons: ['2023', '2024']\n",
      "================================================================================\n"
     ]
    }
   ],
   "source": [
    "data_prep = BacktestDataPrep(\n",
    "    api_client=client\n",
    ")\n",
    "\n",
    "daily_backtest = DailyBacktest(\n",
    "    data_prep=data_prep,\n",
    "    storage=storage,\n",
    "    seasons=['2023', '2024']  # Use valid seasons\n",
    ")\n",
    "\n",
    "print('=' * 80)\n",
    "print('DailyBacktest initialized')\n",
    "print('=' * 80)\n",
    "print(f'Data prep: {type(data_prep).__name__}')\n",
    "print(f'Storage: {type(storage).__name__}')\n",
    "print(f'Seasons: {daily_backtest.seasons}')\n",
    "print('=' * 80)"
   ]
  },
  {
   "cell_type": "markdown",
   "metadata": {},
   "source": [
    "### Run Single Date Backtest\n",
    "\n",
    "**Note:** Database contains games from 2021-10-19 to 2024-04-30.\n",
    "\n",
    "Use dates like:\n",
    "- `20240412` (15 games)\n",
    "- `20240414` (15 games) \n",
    "- `20240409` (14 games)"
   ]
  },
  {
   "cell_type": "code",
   "execution_count": 5,
   "metadata": {},
   "outputs": [
    {
     "name": "stderr",
     "output_type": "stream",
     "text": [
      "07:41:53 | src.backtest.backtest          | INFO     | Starting daily backtest for 20250120\n",
      "07:41:53 | src.backtest.backtest          | INFO     | Preparing slate data for 20250120\n"
     ]
    },
    {
     "name": "stdout",
     "output_type": "stream",
     "text": [
      "\n",
      "================================================================================\n",
      "RUNNING BACKTEST FOR 20250120\n",
      "================================================================================\n",
      "\n",
      "\n",
      "=== Running Backtest for 20250120 ===\n",
      "\n",
      "[STEP 1] Checking games for 20250120...\n",
      "  Found 8 games in database\n",
      "  Games: 20250120_BOS@GS, 20250120_UTA@NO, 20250120_ATL@NY, 20250120_CHI@LAC, 20250120_MIN@MEM, 20250120_DAL@CHA, 20250120_DET@HOU, 20250120_PHO@CLE\n",
      "\n",
      "  Sample game data:\n",
      "          gameID away gameDate home teamIDAway teamIDHome\n",
      " 20250120_BOS@GS  BOS 20250120   GS          2         10\n",
      " 20250120_UTA@NO  UTA 20250120   NO         29         19\n",
      " 20250120_ATL@NY  ATL 20250120   NY          1         20\n",
      "20250120_CHI@LAC  CHI 20250120  LAC          5         13\n",
      "20250120_MIN@MEM  MIN 20250120  MEM         18         15\n",
      "\n",
      "[STEP 2] Preparing slate data...\n",
      "Preparing data for 20250120\n",
      "Seasons to collect: ['2023', '2024']\n",
      "Teams playing: 16 teams, 16 total (home+away)\n"
     ]
    },
    {
     "ename": "FileNotFoundError",
     "evalue": "Players file not found: data\\players\\players_current.parquet",
     "output_type": "error",
     "traceback": [
      "\u001b[31m---------------------------------------------------------------------------\u001b[39m",
      "\u001b[31mFileNotFoundError\u001b[39m                         Traceback (most recent call last)",
      "\u001b[36mCell\u001b[39m\u001b[36m \u001b[39m\u001b[32mIn[5]\u001b[39m\u001b[32m, line 8\u001b[39m\n\u001b[32m      5\u001b[39m \u001b[38;5;28mprint\u001b[39m(\u001b[33mf\u001b[39m\u001b[33m'\u001b[39m\u001b[33mRUNNING BACKTEST FOR \u001b[39m\u001b[38;5;132;01m{\u001b[39;00mgame_date\u001b[38;5;132;01m}\u001b[39;00m\u001b[33m'\u001b[39m)\n\u001b[32m      6\u001b[39m \u001b[38;5;28mprint\u001b[39m(\u001b[33mf\u001b[39m\u001b[33m'\u001b[39m\u001b[38;5;132;01m{\u001b[39;00m\u001b[33m\"\u001b[39m\u001b[33m=\u001b[39m\u001b[33m\"\u001b[39m\u001b[38;5;250m \u001b[39m*\u001b[38;5;250m \u001b[39m\u001b[32m80\u001b[39m\u001b[38;5;132;01m}\u001b[39;00m\u001b[38;5;130;01m\\n\u001b[39;00m\u001b[33m'\u001b[39m)\n\u001b[32m----> \u001b[39m\u001b[32m8\u001b[39m result = \u001b[43mdaily_backtest\u001b[49m\u001b[43m.\u001b[49m\u001b[43mrun_daily_backtest\u001b[49m\u001b[43m(\u001b[49m\n\u001b[32m      9\u001b[39m \u001b[43m    \u001b[49m\u001b[43mgame_date\u001b[49m\u001b[43m=\u001b[49m\u001b[43mgame_date\u001b[49m\u001b[43m,\u001b[49m\n\u001b[32m     10\u001b[39m \u001b[43m    \u001b[49m\u001b[43mlookback_days\u001b[49m\u001b[43m=\u001b[49m\u001b[32;43m90\u001b[39;49m\u001b[43m,\u001b[49m\n\u001b[32m     11\u001b[39m \u001b[43m    \u001b[49m\u001b[43mtrain_model\u001b[49m\u001b[43m=\u001b[49m\u001b[38;5;28;43;01mTrue\u001b[39;49;00m\u001b[43m,\u001b[49m\n\u001b[32m     12\u001b[39m \u001b[43m    \u001b[49m\u001b[43mevaluate_actuals\u001b[49m\u001b[43m=\u001b[49m\u001b[38;5;28;43;01mTrue\u001b[39;49;00m\u001b[43m,\u001b[49m\n\u001b[32m     13\u001b[39m \u001b[43m    \u001b[49m\u001b[43mmodel_fn\u001b[49m\u001b[43m=\u001b[49m\u001b[38;5;28;43;01mNone\u001b[39;49;00m\u001b[43m,\u001b[49m\n\u001b[32m     14\u001b[39m \u001b[43m    \u001b[49m\u001b[43moptimizer_fn\u001b[49m\u001b[43m=\u001b[49m\u001b[38;5;28;43;01mNone\u001b[39;49;00m\n\u001b[32m     15\u001b[39m \u001b[43m)\u001b[49m\n\u001b[32m     17\u001b[39m \u001b[38;5;28mprint\u001b[39m(\u001b[33mf\u001b[39m\u001b[33m'\u001b[39m\u001b[38;5;130;01m\\n\u001b[39;00m\u001b[38;5;132;01m{\u001b[39;00m\u001b[33m\"\u001b[39m\u001b[33m=\u001b[39m\u001b[33m\"\u001b[39m\u001b[38;5;250m \u001b[39m*\u001b[38;5;250m \u001b[39m\u001b[32m80\u001b[39m\u001b[38;5;132;01m}\u001b[39;00m\u001b[33m'\u001b[39m)\n\u001b[32m     18\u001b[39m \u001b[38;5;28mprint\u001b[39m(\u001b[33m'\u001b[39m\u001b[33mBACKTEST COMPLETE\u001b[39m\u001b[33m'\u001b[39m)\n",
      "\u001b[36mFile \u001b[39m\u001b[32mc:\\Users\\antho\\OneDrive\\Documents\\Repositories\\delapan-fantasy\\notebooks\\..\\src\\backtest\\backtest.py:283\u001b[39m, in \u001b[36mDailyBacktest.run_daily_backtest\u001b[39m\u001b[34m(self, game_date, lookback_days, train_model, evaluate_actuals, model_fn, optimizer_fn)\u001b[39m\n\u001b[32m    277\u001b[39m     \u001b[38;5;28;01mreturn\u001b[39;00m {\n\u001b[32m    278\u001b[39m         \u001b[33m'\u001b[39m\u001b[33mgame_date\u001b[39m\u001b[33m'\u001b[39m: game_date,\n\u001b[32m    279\u001b[39m         \u001b[33m'\u001b[39m\u001b[33merror\u001b[39m\u001b[33m'\u001b[39m: \u001b[33m'\u001b[39m\u001b[33mNo games found for this date\u001b[39m\u001b[33m'\u001b[39m\n\u001b[32m    280\u001b[39m     }\n\u001b[32m    282\u001b[39m \u001b[38;5;28mprint\u001b[39m(\u001b[33mf\u001b[39m\u001b[33m\"\u001b[39m\u001b[38;5;130;01m\\n\u001b[39;00m\u001b[33m[STEP 2] Preparing slate data...\u001b[39m\u001b[33m\"\u001b[39m)\n\u001b[32m--> \u001b[39m\u001b[32m283\u001b[39m prep_summary = \u001b[38;5;28;43mself\u001b[39;49m\u001b[43m.\u001b[49m\u001b[43mprepare_slate_data\u001b[49m\u001b[43m(\u001b[49m\u001b[43mgame_date\u001b[49m\u001b[43m)\u001b[49m\n\u001b[32m    284\u001b[39m \u001b[38;5;28mprint\u001b[39m(\u001b[33mf\u001b[39m\u001b[33m\"\u001b[39m\u001b[33m  Teams: \u001b[39m\u001b[38;5;132;01m{\u001b[39;00mprep_summary.get(\u001b[33m'\u001b[39m\u001b[33mteams\u001b[39m\u001b[33m'\u001b[39m,\u001b[38;5;250m \u001b[39m[])\u001b[38;5;132;01m}\u001b[39;00m\u001b[33m\"\u001b[39m)\n\u001b[32m    285\u001b[39m \u001b[38;5;28mprint\u001b[39m(\u001b[33mf\u001b[39m\u001b[33m\"\u001b[39m\u001b[33m  Total players: \u001b[39m\u001b[38;5;132;01m{\u001b[39;00mprep_summary.get(\u001b[33m'\u001b[39m\u001b[33mtotal_players\u001b[39m\u001b[33m'\u001b[39m,\u001b[38;5;250m \u001b[39m\u001b[32m0\u001b[39m)\u001b[38;5;132;01m}\u001b[39;00m\u001b[33m\"\u001b[39m)\n",
      "\u001b[36mFile \u001b[39m\u001b[32mc:\\Users\\antho\\OneDrive\\Documents\\Repositories\\delapan-fantasy\\notebooks\\..\\src\\backtest\\backtest.py:58\u001b[39m, in \u001b[36mDailyBacktest.prepare_slate_data\u001b[39m\u001b[34m(self, game_date)\u001b[39m\n\u001b[32m     43\u001b[39m \u001b[38;5;250m\u001b[39m\u001b[33;03m\"\"\"\u001b[39;00m\n\u001b[32m     44\u001b[39m \u001b[33;03mPrepare all data for specific slate date.\u001b[39;00m\n\u001b[32m     45\u001b[39m \n\u001b[32m   (...)\u001b[39m\u001b[32m     55\u001b[39m \u001b[33;03m    Dict with data preparation summary\u001b[39;00m\n\u001b[32m     56\u001b[39m \u001b[33;03m\"\"\"\u001b[39;00m\n\u001b[32m     57\u001b[39m logger.info(\u001b[33mf\u001b[39m\u001b[33m\"\u001b[39m\u001b[33mPreparing slate data for \u001b[39m\u001b[38;5;132;01m{\u001b[39;00mgame_date\u001b[38;5;132;01m}\u001b[39;00m\u001b[33m\"\u001b[39m)\n\u001b[32m---> \u001b[39m\u001b[32m58\u001b[39m prep_summary = \u001b[38;5;28;43mself\u001b[39;49m\u001b[43m.\u001b[49m\u001b[43mdata_prep\u001b[49m\u001b[43m.\u001b[49m\u001b[43mprepare_data_for_date\u001b[49m\u001b[43m(\u001b[49m\n\u001b[32m     59\u001b[39m \u001b[43m    \u001b[49m\u001b[43mgame_date\u001b[49m\u001b[43m=\u001b[49m\u001b[43mgame_date\u001b[49m\u001b[43m,\u001b[49m\n\u001b[32m     60\u001b[39m \u001b[43m    \u001b[49m\u001b[43mseasons\u001b[49m\u001b[43m=\u001b[49m\u001b[38;5;28;43mself\u001b[39;49m\u001b[43m.\u001b[49m\u001b[43mseasons\u001b[49m\n\u001b[32m     61\u001b[39m \u001b[43m\u001b[49m\u001b[43m)\u001b[49m\n\u001b[32m     62\u001b[39m logger.info(\u001b[33mf\u001b[39m\u001b[33m\"\u001b[39m\u001b[33mData preparation complete: \u001b[39m\u001b[38;5;132;01m{\u001b[39;00mprep_summary.get(\u001b[33m'\u001b[39m\u001b[33mtotal_players\u001b[39m\u001b[33m'\u001b[39m,\u001b[38;5;250m \u001b[39m\u001b[32m0\u001b[39m)\u001b[38;5;132;01m}\u001b[39;00m\u001b[33m players found\u001b[39m\u001b[33m\"\u001b[39m)\n\u001b[32m     64\u001b[39m \u001b[38;5;28;01mreturn\u001b[39;00m prep_summary\n",
      "\u001b[36mFile \u001b[39m\u001b[32mc:\\Users\\antho\\OneDrive\\Documents\\Repositories\\delapan-fantasy\\notebooks\\..\\src\\data\\backtest_data_prep.py:254\u001b[39m, in \u001b[36mBacktestDataPrep.prepare_data_for_date\u001b[39m\u001b[34m(self, game_date, seasons)\u001b[39m\n\u001b[32m    252\u001b[39m all_players = []\n\u001b[32m    253\u001b[39m \u001b[38;5;28;01mfor\u001b[39;00m team_abv \u001b[38;5;129;01min\u001b[39;00m unique_teams:\n\u001b[32m--> \u001b[39m\u001b[32m254\u001b[39m     players = \u001b[38;5;28;43mself\u001b[39;49m\u001b[43m.\u001b[49m\u001b[43mget_players_for_team\u001b[49m\u001b[43m(\u001b[49m\u001b[43mteam_abv\u001b[49m\u001b[43m)\u001b[49m\n\u001b[32m    255\u001b[39m     all_players.extend(players)\n\u001b[32m    256\u001b[39m     \u001b[38;5;28mprint\u001b[39m(\u001b[33mf\u001b[39m\u001b[33m\"\u001b[39m\u001b[33m  \u001b[39m\u001b[38;5;132;01m{\u001b[39;00mteam_abv\u001b[38;5;132;01m}\u001b[39;00m\u001b[33m: \u001b[39m\u001b[38;5;132;01m{\u001b[39;00m\u001b[38;5;28mlen\u001b[39m(players)\u001b[38;5;132;01m}\u001b[39;00m\u001b[33m players\u001b[39m\u001b[33m\"\u001b[39m)\n",
      "\u001b[36mFile \u001b[39m\u001b[32mc:\\Users\\antho\\OneDrive\\Documents\\Repositories\\delapan-fantasy\\notebooks\\..\\src\\data\\backtest_data_prep.py:93\u001b[39m, in \u001b[36mBacktestDataPrep.get_players_for_team\u001b[39m\u001b[34m(self, team_abv)\u001b[39m\n\u001b[32m     91\u001b[39m \u001b[38;5;28;01mif\u001b[39;00m \u001b[38;5;28mself\u001b[39m._players_df \u001b[38;5;129;01mis\u001b[39;00m \u001b[38;5;28;01mNone\u001b[39;00m:\n\u001b[32m     92\u001b[39m     \u001b[38;5;28;01mif\u001b[39;00m \u001b[38;5;129;01mnot\u001b[39;00m \u001b[38;5;28mself\u001b[39m.players_file.exists():\n\u001b[32m---> \u001b[39m\u001b[32m93\u001b[39m         \u001b[38;5;28;01mraise\u001b[39;00m \u001b[38;5;167;01mFileNotFoundError\u001b[39;00m(\u001b[33mf\u001b[39m\u001b[33m\"\u001b[39m\u001b[33mPlayers file not found: \u001b[39m\u001b[38;5;132;01m{\u001b[39;00m\u001b[38;5;28mself\u001b[39m.players_file\u001b[38;5;132;01m}\u001b[39;00m\u001b[33m\"\u001b[39m)\n\u001b[32m     94\u001b[39m     \u001b[38;5;28mself\u001b[39m._players_df = pd.read_parquet(\u001b[38;5;28mself\u001b[39m.players_file)\n\u001b[32m     96\u001b[39m team_players = \u001b[38;5;28mself\u001b[39m._players_df[\u001b[38;5;28mself\u001b[39m._players_df[\u001b[33m'\u001b[39m\u001b[33mteam\u001b[39m\u001b[33m'\u001b[39m] == team_abv].copy()\n",
      "\u001b[31mFileNotFoundError\u001b[39m: Players file not found: data\\players\\players_current.parquet"
     ]
    }
   ],
   "source": [
    "\n",
    "# Use a valid date from available data range (2021-10-19 to 2024-04-30)\n",
    "game_date = '20250120'  # Date with 15 games\n",
    "\n",
    "print(f'\\n{\"=\" * 80}')\n",
    "print(f'RUNNING BACKTEST FOR {game_date}')\n",
    "print(f'{\"=\" * 80}\\n')\n",
    "\n",
    "result = daily_backtest.run_daily_backtest(\n",
    "    game_date=game_date,\n",
    "    lookback_days=90,\n",
    "    train_model=True,\n",
    "    evaluate_actuals=True,\n",
    "    model_fn=None,\n",
    "    optimizer_fn=None\n",
    ")\n",
    "\n",
    "print(f'\\n{\"=\" * 80}')\n",
    "print('BACKTEST COMPLETE')\n",
    "print(f'{\"=\" * 80}')\n",
    "\n",
    "if 'error' in result:\n",
    "    print(f'\\nERROR: {result[\"error\"]}')\n",
    "else:\n",
    "    print(f'\\n=== Summary ===')\n",
    "    print(f'Game Date: {result.get(\"game_date\")}')\n",
    "    print(f'Teams: {len(result.get(\"teams\", []))}')\n",
    "    print(f'Players with features: {result.get(\"players_with_features\", 0)}')\n",
    "    \n",
    "    if 'mape' in result:\n",
    "        print(f'\\n=== Metrics ===')\n",
    "        print(f'MAPE:        {result[\"mape\"]:.1f}%')\n",
    "        print(f'RMSE:        {result[\"rmse\"]:.2f} points')\n",
    "        print(f'Correlation: {result[\"correlation\"]:.3f}')\n",
    "        print(f'Players evaluated: {result.get(\"num_evaluated\", 0)}')\n",
    "    \n",
    "    if 'training_samples' in result:\n",
    "        print(f'\\n=== Training ===')\n",
    "        print(f'Training samples: {result[\"training_samples\"]}')\n",
    "        print(f'Features: {result[\"num_features\"]}')"
   ]
  },
  {
   "cell_type": "code",
   "execution_count": 5,
   "metadata": {},
   "outputs": [
    {
     "name": "stderr",
     "output_type": "stream",
     "text": [
      "07:30:15 | src.backtest.backtest          | INFO     | Starting daily backtest for 20240412\n",
      "07:30:15 | src.backtest.backtest          | INFO     | Preparing slate data for 20240412\n"
     ]
    },
    {
     "name": "stdout",
     "output_type": "stream",
     "text": [
      "\n",
      "================================================================================\n",
      "RUNNING BACKTEST FOR 20240412\n",
      "================================================================================\n",
      "\n",
      "\n",
      "=== Running Backtest for 20240412 ===\n",
      "\n",
      "[STEP 1] Checking games for 20240412...\n",
      "  Found 15 games in database\n",
      "  Games: 20240412_NO@GS, 20240412_CHI@WAS, 20240412_PHO@SAC, 20240412_TOR@MIA, 20240412_HOU@POR, 20240412_IND@CLE, 20240412_LAL@MEM, 20240412_BKN@NY, 20240412_MIL@OKC, 20240412_DEN@SA, 20240412_ORL@PHI, 20240412_CHA@BOS, 20240412_ATL@MIN, 20240412_DET@DAL, 20240412_UTA@LAC\n",
      "\n",
      "  Sample game data:\n",
      "          gameID away gameDate home teamIDAway teamIDHome\n",
      "  20240412_NO@GS   NO 20240412   GS         19         10\n",
      "20240412_CHI@WAS  CHI 20240412  WAS          5         30\n",
      "20240412_PHO@SAC  PHO 20240412  SAC         24         26\n",
      "20240412_TOR@MIA  TOR 20240412  MIA         28         16\n",
      "20240412_HOU@POR  HOU 20240412  POR         11         25\n",
      "\n",
      "[STEP 2] Preparing slate data...\n",
      "Preparing data for 20240412\n",
      "Seasons to collect: ['2023', '2024']\n",
      "Teams playing: 30 teams, 30 total (home+away)\n"
     ]
    },
    {
     "ename": "FileNotFoundError",
     "evalue": "Players file not found: data\\players\\players_current.parquet",
     "output_type": "error",
     "traceback": [
      "\u001b[31m---------------------------------------------------------------------------\u001b[39m",
      "\u001b[31mFileNotFoundError\u001b[39m                         Traceback (most recent call last)",
      "\u001b[36mCell\u001b[39m\u001b[36m \u001b[39m\u001b[32mIn[5]\u001b[39m\u001b[32m, line 8\u001b[39m\n\u001b[32m      5\u001b[39m \u001b[38;5;28mprint\u001b[39m(\u001b[33mf\u001b[39m\u001b[33m'\u001b[39m\u001b[33mRUNNING BACKTEST FOR \u001b[39m\u001b[38;5;132;01m{\u001b[39;00mgame_date\u001b[38;5;132;01m}\u001b[39;00m\u001b[33m'\u001b[39m)\n\u001b[32m      6\u001b[39m \u001b[38;5;28mprint\u001b[39m(\u001b[33mf\u001b[39m\u001b[33m'\u001b[39m\u001b[38;5;132;01m{\u001b[39;00m\u001b[33m\"\u001b[39m\u001b[33m=\u001b[39m\u001b[33m\"\u001b[39m\u001b[38;5;250m \u001b[39m*\u001b[38;5;250m \u001b[39m\u001b[32m80\u001b[39m\u001b[38;5;132;01m}\u001b[39;00m\u001b[38;5;130;01m\\n\u001b[39;00m\u001b[33m'\u001b[39m)\n\u001b[32m----> \u001b[39m\u001b[32m8\u001b[39m result = \u001b[43mdaily_backtest\u001b[49m\u001b[43m.\u001b[49m\u001b[43mrun_daily_backtest\u001b[49m\u001b[43m(\u001b[49m\n\u001b[32m      9\u001b[39m \u001b[43m    \u001b[49m\u001b[43mgame_date\u001b[49m\u001b[43m=\u001b[49m\u001b[43mgame_date\u001b[49m\u001b[43m,\u001b[49m\n\u001b[32m     10\u001b[39m \u001b[43m    \u001b[49m\u001b[43mlookback_days\u001b[49m\u001b[43m=\u001b[49m\u001b[32;43m90\u001b[39;49m\u001b[43m,\u001b[49m\n\u001b[32m     11\u001b[39m \u001b[43m    \u001b[49m\u001b[43mtrain_model\u001b[49m\u001b[43m=\u001b[49m\u001b[38;5;28;43;01mTrue\u001b[39;49;00m\u001b[43m,\u001b[49m\n\u001b[32m     12\u001b[39m \u001b[43m    \u001b[49m\u001b[43mevaluate_actuals\u001b[49m\u001b[43m=\u001b[49m\u001b[38;5;28;43;01mTrue\u001b[39;49;00m\u001b[43m,\u001b[49m\n\u001b[32m     13\u001b[39m \u001b[43m    \u001b[49m\u001b[43mmodel_fn\u001b[49m\u001b[43m=\u001b[49m\u001b[38;5;28;43;01mNone\u001b[39;49;00m\u001b[43m,\u001b[49m\n\u001b[32m     14\u001b[39m \u001b[43m    \u001b[49m\u001b[43moptimizer_fn\u001b[49m\u001b[43m=\u001b[49m\u001b[38;5;28;43;01mNone\u001b[39;49;00m\n\u001b[32m     15\u001b[39m \u001b[43m)\u001b[49m\n\u001b[32m     17\u001b[39m \u001b[38;5;28mprint\u001b[39m(\u001b[33mf\u001b[39m\u001b[33m'\u001b[39m\u001b[38;5;130;01m\\n\u001b[39;00m\u001b[38;5;132;01m{\u001b[39;00m\u001b[33m\"\u001b[39m\u001b[33m=\u001b[39m\u001b[33m\"\u001b[39m\u001b[38;5;250m \u001b[39m*\u001b[38;5;250m \u001b[39m\u001b[32m80\u001b[39m\u001b[38;5;132;01m}\u001b[39;00m\u001b[33m'\u001b[39m)\n\u001b[32m     18\u001b[39m \u001b[38;5;28mprint\u001b[39m(\u001b[33m'\u001b[39m\u001b[33mBACKTEST COMPLETE\u001b[39m\u001b[33m'\u001b[39m)\n",
      "\u001b[36mFile \u001b[39m\u001b[32mc:\\Users\\antho\\OneDrive\\Documents\\Repositories\\delapan-fantasy\\notebooks\\..\\src\\backtest\\backtest.py:284\u001b[39m, in \u001b[36mDailyBacktest.run_daily_backtest\u001b[39m\u001b[34m(self, game_date, lookback_days, train_model, evaluate_actuals, model_fn, optimizer_fn)\u001b[39m\n\u001b[32m    278\u001b[39m     \u001b[38;5;28;01mreturn\u001b[39;00m {\n\u001b[32m    279\u001b[39m         \u001b[33m'\u001b[39m\u001b[33mgame_date\u001b[39m\u001b[33m'\u001b[39m: game_date,\n\u001b[32m    280\u001b[39m         \u001b[33m'\u001b[39m\u001b[33merror\u001b[39m\u001b[33m'\u001b[39m: \u001b[33m'\u001b[39m\u001b[33mNo games found for this date\u001b[39m\u001b[33m'\u001b[39m\n\u001b[32m    281\u001b[39m     }\n\u001b[32m    283\u001b[39m \u001b[38;5;28mprint\u001b[39m(\u001b[33mf\u001b[39m\u001b[33m\"\u001b[39m\u001b[38;5;130;01m\\n\u001b[39;00m\u001b[33m[STEP 2] Preparing slate data...\u001b[39m\u001b[33m\"\u001b[39m)\n\u001b[32m--> \u001b[39m\u001b[32m284\u001b[39m prep_summary = \u001b[38;5;28;43mself\u001b[39;49m\u001b[43m.\u001b[49m\u001b[43mprepare_slate_data\u001b[49m\u001b[43m(\u001b[49m\u001b[43mgame_date\u001b[49m\u001b[43m)\u001b[49m\n\u001b[32m    285\u001b[39m \u001b[38;5;28mprint\u001b[39m(\u001b[33mf\u001b[39m\u001b[33m\"\u001b[39m\u001b[33m  Teams: \u001b[39m\u001b[38;5;132;01m{\u001b[39;00mprep_summary.get(\u001b[33m'\u001b[39m\u001b[33mteams\u001b[39m\u001b[33m'\u001b[39m,\u001b[38;5;250m \u001b[39m[])\u001b[38;5;132;01m}\u001b[39;00m\u001b[33m\"\u001b[39m)\n\u001b[32m    286\u001b[39m \u001b[38;5;28mprint\u001b[39m(\u001b[33mf\u001b[39m\u001b[33m\"\u001b[39m\u001b[33m  Total players: \u001b[39m\u001b[38;5;132;01m{\u001b[39;00mprep_summary.get(\u001b[33m'\u001b[39m\u001b[33mtotal_players\u001b[39m\u001b[33m'\u001b[39m,\u001b[38;5;250m \u001b[39m\u001b[32m0\u001b[39m)\u001b[38;5;132;01m}\u001b[39;00m\u001b[33m\"\u001b[39m)\n",
      "\u001b[36mFile \u001b[39m\u001b[32mc:\\Users\\antho\\OneDrive\\Documents\\Repositories\\delapan-fantasy\\notebooks\\..\\src\\backtest\\backtest.py:58\u001b[39m, in \u001b[36mDailyBacktest.prepare_slate_data\u001b[39m\u001b[34m(self, game_date)\u001b[39m\n\u001b[32m     43\u001b[39m \u001b[38;5;250m\u001b[39m\u001b[33;03m\"\"\"\u001b[39;00m\n\u001b[32m     44\u001b[39m \u001b[33;03mPrepare all data for specific slate date.\u001b[39;00m\n\u001b[32m     45\u001b[39m \n\u001b[32m   (...)\u001b[39m\u001b[32m     55\u001b[39m \u001b[33;03m    Dict with data preparation summary\u001b[39;00m\n\u001b[32m     56\u001b[39m \u001b[33;03m\"\"\"\u001b[39;00m\n\u001b[32m     57\u001b[39m logger.info(\u001b[33mf\u001b[39m\u001b[33m\"\u001b[39m\u001b[33mPreparing slate data for \u001b[39m\u001b[38;5;132;01m{\u001b[39;00mgame_date\u001b[38;5;132;01m}\u001b[39;00m\u001b[33m\"\u001b[39m)\n\u001b[32m---> \u001b[39m\u001b[32m58\u001b[39m prep_summary = \u001b[38;5;28;43mself\u001b[39;49m\u001b[43m.\u001b[49m\u001b[43mdata_prep\u001b[49m\u001b[43m.\u001b[49m\u001b[43mprepare_data_for_date\u001b[49m\u001b[43m(\u001b[49m\n\u001b[32m     59\u001b[39m \u001b[43m    \u001b[49m\u001b[43mgame_date\u001b[49m\u001b[43m=\u001b[49m\u001b[43mgame_date\u001b[49m\u001b[43m,\u001b[49m\n\u001b[32m     60\u001b[39m \u001b[43m    \u001b[49m\u001b[43mseasons\u001b[49m\u001b[43m=\u001b[49m\u001b[38;5;28;43mself\u001b[39;49m\u001b[43m.\u001b[49m\u001b[43mseasons\u001b[49m\n\u001b[32m     61\u001b[39m \u001b[43m\u001b[49m\u001b[43m)\u001b[49m\n\u001b[32m     62\u001b[39m logger.info(\u001b[33mf\u001b[39m\u001b[33m\"\u001b[39m\u001b[33mData preparation complete: \u001b[39m\u001b[38;5;132;01m{\u001b[39;00mprep_summary.get(\u001b[33m'\u001b[39m\u001b[33mtotal_players\u001b[39m\u001b[33m'\u001b[39m,\u001b[38;5;250m \u001b[39m\u001b[32m0\u001b[39m)\u001b[38;5;132;01m}\u001b[39;00m\u001b[33m players found\u001b[39m\u001b[33m\"\u001b[39m)\n\u001b[32m     64\u001b[39m \u001b[38;5;28;01mreturn\u001b[39;00m prep_summary\n",
      "\u001b[36mFile \u001b[39m\u001b[32mc:\\Users\\antho\\OneDrive\\Documents\\Repositories\\delapan-fantasy\\notebooks\\..\\src\\data\\backtest_data_prep.py:254\u001b[39m, in \u001b[36mBacktestDataPrep.prepare_data_for_date\u001b[39m\u001b[34m(self, game_date, seasons)\u001b[39m\n\u001b[32m    252\u001b[39m all_players = []\n\u001b[32m    253\u001b[39m \u001b[38;5;28;01mfor\u001b[39;00m team_abv \u001b[38;5;129;01min\u001b[39;00m unique_teams:\n\u001b[32m--> \u001b[39m\u001b[32m254\u001b[39m     players = \u001b[38;5;28;43mself\u001b[39;49m\u001b[43m.\u001b[49m\u001b[43mget_players_for_team\u001b[49m\u001b[43m(\u001b[49m\u001b[43mteam_abv\u001b[49m\u001b[43m)\u001b[49m\n\u001b[32m    255\u001b[39m     all_players.extend(players)\n\u001b[32m    256\u001b[39m     \u001b[38;5;28mprint\u001b[39m(\u001b[33mf\u001b[39m\u001b[33m\"\u001b[39m\u001b[33m  \u001b[39m\u001b[38;5;132;01m{\u001b[39;00mteam_abv\u001b[38;5;132;01m}\u001b[39;00m\u001b[33m: \u001b[39m\u001b[38;5;132;01m{\u001b[39;00m\u001b[38;5;28mlen\u001b[39m(players)\u001b[38;5;132;01m}\u001b[39;00m\u001b[33m players\u001b[39m\u001b[33m\"\u001b[39m)\n",
      "\u001b[36mFile \u001b[39m\u001b[32mc:\\Users\\antho\\OneDrive\\Documents\\Repositories\\delapan-fantasy\\notebooks\\..\\src\\data\\backtest_data_prep.py:93\u001b[39m, in \u001b[36mBacktestDataPrep.get_players_for_team\u001b[39m\u001b[34m(self, team_abv)\u001b[39m\n\u001b[32m     91\u001b[39m \u001b[38;5;28;01mif\u001b[39;00m \u001b[38;5;28mself\u001b[39m._players_df \u001b[38;5;129;01mis\u001b[39;00m \u001b[38;5;28;01mNone\u001b[39;00m:\n\u001b[32m     92\u001b[39m     \u001b[38;5;28;01mif\u001b[39;00m \u001b[38;5;129;01mnot\u001b[39;00m \u001b[38;5;28mself\u001b[39m.players_file.exists():\n\u001b[32m---> \u001b[39m\u001b[32m93\u001b[39m         \u001b[38;5;28;01mraise\u001b[39;00m \u001b[38;5;167;01mFileNotFoundError\u001b[39;00m(\u001b[33mf\u001b[39m\u001b[33m\"\u001b[39m\u001b[33mPlayers file not found: \u001b[39m\u001b[38;5;132;01m{\u001b[39;00m\u001b[38;5;28mself\u001b[39m.players_file\u001b[38;5;132;01m}\u001b[39;00m\u001b[33m\"\u001b[39m)\n\u001b[32m     94\u001b[39m     \u001b[38;5;28mself\u001b[39m._players_df = pd.read_parquet(\u001b[38;5;28mself\u001b[39m.players_file)\n\u001b[32m     96\u001b[39m team_players = \u001b[38;5;28mself\u001b[39m._players_df[\u001b[38;5;28mself\u001b[39m._players_df[\u001b[33m'\u001b[39m\u001b[33mteam\u001b[39m\u001b[33m'\u001b[39m] == team_abv].copy()\n",
      "\u001b[31mFileNotFoundError\u001b[39m: Players file not found: data\\players\\players_current.parquet"
     ]
    }
   ],
   "source": [
    "# Use a valid date from available data range (2021-10-19 to 2024-04-30)\n",
    "game_date = '20240412'  # Date with 15 games\n",
    "\n",
    "print(f'\\n{\"=\" * 80}')\n",
    "print(f'RUNNING BACKTEST FOR {game_date}')\n",
    "print(f'{\"=\" * 80}\\n')\n",
    "\n",
    "result = daily_backtest.run_daily_backtest(\n",
    "    game_date=game_date,\n",
    "    lookback_days=90,\n",
    "    train_model=True,\n",
    "    evaluate_actuals=True,\n",
    "    model_fn=None,\n",
    "    optimizer_fn=None\n",
    ")\n",
    "\n",
    "print(f'\\n{\"=\" * 80}')\n",
    "print('BACKTEST COMPLETE')\n",
    "print(f'{\"=\" * 80}')\n",
    "\n",
    "if 'error' in result:\n",
    "    print(f'\\nERROR: {result[\"error\"]}')\n",
    "else:\n",
    "    print(f'\\n=== Summary ===')\n",
    "    print(f'Game Date: {result.get(\"game_date\")}')\n",
    "    print(f'Teams: {len(result.get(\"teams\", []))}')\n",
    "    print(f'Players with features: {result.get(\"players_with_features\", 0)}')\n",
    "    \n",
    "    if 'mape' in result:\n",
    "        print(f'\\n=== Metrics ===')\n",
    "        print(f'MAPE:        {result[\"mape\"]:.1f}%')\n",
    "        print(f'RMSE:        {result[\"rmse\"]:.2f} points')\n",
    "        print(f'Correlation: {result[\"correlation\"]:.3f}')\n",
    "        print(f'Players evaluated: {result.get(\"num_evaluated\", 0)}')\n",
    "    \n",
    "    if 'training_samples' in result:\n",
    "        print(f'\\n=== Training ===')\n",
    "        print(f'Training samples: {result[\"training_samples\"]}')\n",
    "        print(f'Features: {result[\"num_features\"]}')"
   ]
  },
  {
   "cell_type": "markdown",
   "metadata": {},
   "source": [
    "### Run Multi-Date Backtest\n",
    "\n",
    "Run backtest across multiple consecutive dates with walk-forward validation."
   ]
  },
  {
   "cell_type": "code",
   "execution_count": null,
   "metadata": {},
   "outputs": [
    {
     "name": "stderr",
     "output_type": "stream",
     "text": [
      "07:29:05 | src.backtest.backtest          | INFO     | Starting multi-date backtest for 4 dates\n",
      "07:29:05 | src.backtest.backtest          | INFO     | Processing date 1/4: 20250110\n",
      "07:29:05 | src.backtest.backtest          | INFO     | Starting daily backtest for 20250110\n",
      "07:29:05 | src.backtest.backtest          | INFO     | Processing date 2/4: 20250111\n",
      "07:29:05 | src.backtest.backtest          | INFO     | Starting daily backtest for 20250111\n",
      "07:29:05 | src.backtest.backtest          | INFO     | Processing date 3/4: 20250112\n",
      "07:29:05 | src.backtest.backtest          | INFO     | Starting daily backtest for 20250112\n",
      "07:29:05 | src.backtest.backtest          | INFO     | Processing date 4/4: 20250113\n",
      "07:29:05 | src.backtest.backtest          | INFO     | Starting daily backtest for 20250113\n",
      "07:29:05 | src.backtest.backtest          | INFO     | Multi-date backtest complete: 4 successful, 0 failed\n"
     ]
    },
    {
     "name": "stdout",
     "output_type": "stream",
     "text": [
      "================================================================================\n",
      "MULTI-DATE BACKTEST\n",
      "================================================================================\n",
      "Date range: 20250110 to 20250113\n",
      "Total dates: 4\n",
      "================================================================================\n",
      "\n",
      "\n",
      "=== Running Multi-Date Backtest ===\n",
      "Dates to process: 4\n",
      "\n",
      "\n",
      "[1/4] Processing 20250110\n",
      "\n",
      "=== Running Backtest for 20250110 ===\n",
      "\n",
      "[STEP 1] Checking games for 20250110...\n",
      "  Found 0 games in database\n",
      "  WARNING: No games found for 20250110\n",
      "  Available date range: 2021-10-19 to 2024-04-30\n",
      "\n",
      "[2/4] Processing 20250111\n",
      "\n",
      "=== Running Backtest for 20250111 ===\n",
      "\n",
      "[STEP 1] Checking games for 20250111...\n",
      "  Found 0 games in database\n",
      "  WARNING: No games found for 20250111\n",
      "  Available date range: 2021-10-19 to 2024-04-30\n",
      "\n",
      "[3/4] Processing 20250112\n",
      "\n",
      "=== Running Backtest for 20250112 ===\n",
      "\n",
      "[STEP 1] Checking games for 20250112...\n",
      "  Found 0 games in database\n",
      "  WARNING: No games found for 20250112\n",
      "  Available date range: 2021-10-19 to 2024-04-30\n",
      "\n",
      "[4/4] Processing 20250113\n",
      "\n",
      "=== Running Backtest for 20250113 ===\n",
      "\n",
      "[STEP 1] Checking games for 20250113...\n",
      "  Found 0 games in database\n",
      "  WARNING: No games found for 20250113\n",
      "  Available date range: 2021-10-19 to 2024-04-30\n",
      "\n",
      "================================================================================\n",
      "MULTI-DATE BACKTEST COMPLETE\n",
      "================================================================================\n",
      "\n",
      "No results generated\n"
     ]
    }
   ],
   "source": [
    "# Use valid date range from available data\n",
    "start_date = datetime(2025, 1, 10)\n",
    "end_date = datetime(2025, 1, 13)\n",
    "\n",
    "game_dates = []\n",
    "current_date = start_date\n",
    "while current_date <= end_date:\n",
    "    game_dates.append(current_date.strftime('%Y%m%d'))\n",
    "    current_date += timedelta(days=1)\n",
    "\n",
    "print(f'{\"=\" * 80}')\n",
    "print(f'MULTI-DATE BACKTEST')\n",
    "print(f'{\"=\" * 80}')\n",
    "print(f'Date range: {game_dates[0]} to {game_dates[-1]}')\n",
    "print(f'Total dates: {len(game_dates)}')\n",
    "print(f'{\"=\" * 80}\\n')\n",
    "\n",
    "results_df = daily_backtest.run_multi_date_backtest(\n",
    "    game_dates=game_dates,\n",
    "    model_fn=None,\n",
    "    optimizer_fn=None\n",
    ")\n",
    "\n",
    "print(f'\\n{\"=\" * 80}')\n",
    "print('MULTI-DATE BACKTEST COMPLETE')\n",
    "print(f'{\"=\" * 80}')\n",
    "\n",
    "if not results_df.empty:\n",
    "    print(f'\\nProcessed {len(results_df)} slates')\n",
    "    \n",
    "    if 'mape' in results_df.columns:\n",
    "        print(f'\\n=== Aggregate Metrics ===')\n",
    "        print(f'Mean MAPE:   {results_df[\"mape\"].mean():.1f}%')\n",
    "        print(f'Median MAPE: {results_df[\"mape\"].median():.1f}%')\n",
    "        print(f'Std MAPE:    {results_df[\"mape\"].std():.1f}%')\n",
    "        print(f'Mean RMSE:   {results_df[\"rmse\"].mean():.2f}')\n",
    "        print(f'Mean Corr:   {results_df[\"correlation\"].mean():.3f}')\n",
    "        \n",
    "        print(f'\\n=== Daily Results ===')\n",
    "        display_cols = ['game_date', 'players_with_features', 'num_evaluated', 'mape', 'rmse', 'correlation']\n",
    "        available_cols = [col for col in display_cols if col in results_df.columns]\n",
    "        print(results_df[available_cols].to_string(index=False))\n",
    "else:\n",
    "    print('\\nNo results generated')"
   ]
  },
  {
   "cell_type": "markdown",
   "metadata": {},
   "source": [
    "## Option 2: Walk-Forward Validation Backtest\n",
    "\n",
    "Run walk-forward validation with train/test splits."
   ]
  },
  {
   "cell_type": "code",
   "execution_count": null,
   "metadata": {},
   "outputs": [],
   "source": [
    "summary = daily_backtest.get_summary()\n",
    "\n",
    "print(f'\\n{\"=\" * 80}')\n",
    "print('SUMMARY STATISTICS')\n",
    "print(f'{\"=\" * 80}')\n",
    "\n",
    "if summary:\n",
    "    for key, value in summary.items():\n",
    "        print(f'{key}: {value}')\n",
    "        \n",
    "    if 'avg_players_per_slate' in summary:\n",
    "        print(f'\\nAverage processing:')\n",
    "        print(f'  {summary.get(\"avg_players_per_slate\", 0):.1f} players per slate')\n",
    "        print(f'  {summary.get(\"data_completeness_rate\", 0):.1f}% data completeness')\n",
    "else:\n",
    "    print('No summary statistics available (no backtests run yet)')\n",
    "    \n",
    "print(f'{\"=\" * 80}')"
   ]
  },
  {
   "cell_type": "code",
   "execution_count": null,
   "metadata": {},
   "outputs": [],
   "source": [
    "# Visualize multi-date backtest results\n",
    "import matplotlib.pyplot as plt\n",
    "\n",
    "results_df = daily_backtest.get_results()\n",
    "\n",
    "if not results_df.empty and 'mape' in results_df.columns:\n",
    "    fig, axes = plt.subplots(3, 1, figsize=(14, 10))\n",
    "    \n",
    "    # Plot 1: MAPE over time\n",
    "    axes[0].plot(range(len(results_df)), results_df['mape'], 'o-', linewidth=2, markersize=6, color='#2E86AB')\n",
    "    axes[0].axhline(y=30, color='#A23B72', linestyle='--', linewidth=2, label='Target (30%)')\n",
    "    axes[0].fill_between(range(len(results_df)), 0, 30, alpha=0.2, color='#06A77D')\n",
    "    axes[0].set_ylabel('MAPE (%)', fontsize=12, fontweight='bold')\n",
    "    axes[0].set_title('Projection Accuracy Over Time', fontsize=14, fontweight='bold')\n",
    "    axes[0].legend(loc='upper right')\n",
    "    axes[0].grid(True, alpha=0.3)\n",
    "    axes[0].set_xticks(range(len(results_df)))\n",
    "    axes[0].set_xticklabels(results_df['game_date'].values, rotation=45)\n",
    "    \n",
    "    # Plot 2: RMSE over time\n",
    "    axes[1].plot(range(len(results_df)), results_df['rmse'], 's-', linewidth=2, markersize=6, color='#F18F01')\n",
    "    axes[1].set_ylabel('RMSE (points)', fontsize=12, fontweight='bold')\n",
    "    axes[1].set_title('Root Mean Squared Error Over Time', fontsize=14, fontweight='bold')\n",
    "    axes[1].grid(True, alpha=0.3)\n",
    "    axes[1].set_xticks(range(len(results_df)))\n",
    "    axes[1].set_xticklabels(results_df['game_date'].values, rotation=45)\n",
    "    \n",
    "    # Plot 3: Correlation over time\n",
    "    axes[2].plot(range(len(results_df)), results_df['correlation'], '^-', linewidth=2, markersize=6, color='#C73E1D')\n",
    "    axes[2].axhline(y=0.5, color='gray', linestyle='--', linewidth=1, alpha=0.5)\n",
    "    axes[2].set_ylabel('Correlation', fontsize=12, fontweight='bold')\n",
    "    axes[2].set_xlabel('Date', fontsize=12, fontweight='bold')\n",
    "    axes[2].set_title('Prediction Correlation Over Time', fontsize=14, fontweight='bold')\n",
    "    axes[2].grid(True, alpha=0.3)\n",
    "    axes[2].set_ylim(-0.1, 1.0)\n",
    "    axes[2].set_xticks(range(len(results_df)))\n",
    "    axes[2].set_xticklabels(results_df['game_date'].values, rotation=45)\n",
    "    \n",
    "    plt.tight_layout()\n",
    "    plt.show()\n",
    "    \n",
    "    print(f'\\n{\"=\" * 80}')\n",
    "    print('VISUALIZATION COMPLETE')\n",
    "    print(f'{\"=\" * 80}')\n",
    "    print(f'Plotted {len(results_df)} slates')\n",
    "    print(f'Mean MAPE: {results_df[\"mape\"].mean():.1f}%')\n",
    "    print(f'{\"=\" * 80}')\n",
    "else:\n",
    "    print('No results available to plot. Run multi-date backtest first.')\n",
    "    print(f'Current results: {len(results_df)} rows')"
   ]
  },
  {
   "cell_type": "markdown",
   "metadata": {},
   "source": [
    "### Define Feature Columns"
   ]
  },
  {
   "cell_type": "code",
   "execution_count": null,
   "metadata": {},
   "outputs": [
    {
     "name": "stdout",
     "output_type": "stream",
     "text": [
      "Feature columns: 17\n",
      "Target column: fpts\n"
     ]
    }
   ],
   "source": [
    "feature_columns = [\n",
    "    'mins', 'pts', 'reb', 'ast', 'stl', 'blk', 'TOV',\n",
    "    'fga', 'fgm', 'FGP', 'tpa', 'tpm', 'TPP',\n",
    "    'fta', 'ftm', 'FTP', 'PF'\n",
    "]\n",
    "\n",
    "target_column = 'fpts'\n",
    "\n",
    "print(f'Feature columns: {len(feature_columns)}')\n",
    "print(f'Target column: {target_column}')"
   ]
  },
  {
   "cell_type": "markdown",
   "metadata": {},
   "source": [
    "### Run Walk-Forward Backtest"
   ]
  },
  {
   "cell_type": "code",
   "execution_count": null,
   "metadata": {},
   "outputs": [
    {
     "name": "stderr",
     "output_type": "stream",
     "text": [
      "2025-10-06 05:51:11,860 - src.backtest.backtest - INFO - Starting BacktestRunner from 20241201 to 20241231\n",
      "2025-10-06 05:51:11,887 - src.backtest.backtest - INFO - Loaded 4473 rows from database for date range 20241201 to 20241231\n",
      "2025-10-06 05:51:11,888 - src.backtest.backtest - INFO - Loaded 4473 rows of data\n",
      "2025-10-06 05:51:11,889 - src.backtest.backtest - INFO - Creating walk-forward splits: train_window=30, test_window=1, step_size=1\n"
     ]
    },
    {
     "name": "stdout",
     "output_type": "stream",
     "text": [
      "Running walk-forward backtest from 20241201 to 20241231\n"
     ]
    },
    {
     "ename": "KeyError",
     "evalue": "'date'",
     "output_type": "error",
     "traceback": [
      "\u001b[31m---------------------------------------------------------------------------\u001b[39m",
      "\u001b[31mKeyError\u001b[39m                                  Traceback (most recent call last)",
      "\u001b[32m~\\AppData\\Local\\Temp\\ipykernel_15332\\3585917657.py\u001b[39m in \u001b[36m?\u001b[39m\u001b[34m()\u001b[39m\n\u001b[32m      2\u001b[39m backtest_end = \u001b[33m'20241231'\u001b[39m\n\u001b[32m      3\u001b[39m \n\u001b[32m      4\u001b[39m print(f'Running walk-forward backtest from {backtest_start} to {backtest_end}')\n\u001b[32m      5\u001b[39m \n\u001b[32m----> \u001b[39m\u001b[32m6\u001b[39m backtest_results = backtest_runner.run(\n\u001b[32m      7\u001b[39m     start_date=backtest_start,\n\u001b[32m      8\u001b[39m     end_date=backtest_end,\n\u001b[32m      9\u001b[39m     feature_columns=feature_columns,\n",
      "\u001b[32mc:\\Users\\antho\\OneDrive\\Documents\\Repositories\\delapan-fantasy\\notebooks\\..\\src\\backtest\\backtest.py\u001b[39m in \u001b[36m?\u001b[39m\u001b[34m(self, start_date, end_date, feature_columns, target_column, date_column, **kwargs)\u001b[39m\n\u001b[32m    718\u001b[39m             \u001b[38;5;28;01mreturn\u001b[39;00m {\u001b[33m'error'\u001b[39m: \u001b[33m'No data available for date range'\u001b[39m}\n\u001b[32m    719\u001b[39m \n\u001b[32m    720\u001b[39m         logger.info(f\"Loaded {len(data)} rows of data\")\n\u001b[32m    721\u001b[39m \n\u001b[32m--> \u001b[39m\u001b[32m722\u001b[39m         splits = self.validator.split(data, date_column)\n\u001b[32m    723\u001b[39m \n\u001b[32m    724\u001b[39m         \u001b[38;5;28;01mfor\u001b[39;00m idx, (train_data, test_data) \u001b[38;5;28;01min\u001b[39;00m enumerate(splits):\n\u001b[32m    725\u001b[39m             \u001b[38;5;28;01mif\u001b[39;00m train_data.empty \u001b[38;5;28;01mor\u001b[39;00m test_data.empty:\n",
      "\u001b[32mc:\\Users\\antho\\OneDrive\\Documents\\Repositories\\delapan-fantasy\\notebooks\\..\\src\\backtest\\backtest.py\u001b[39m in \u001b[36m?\u001b[39m\u001b[34m(self, data, date_column)\u001b[39m\n\u001b[32m    653\u001b[39m         date_column: str = \u001b[33m'date'\u001b[39m\n\u001b[32m    654\u001b[39m     ) -> List[tuple[pd.DataFrame, pd.DataFrame]]:\n\u001b[32m    655\u001b[39m         logger.info(f\"Creating walk-forward splits: train_window={self.train_window}, test_window={self.test_window}, step_size={self.step_size}\")\n\u001b[32m    656\u001b[39m \n\u001b[32m--> \u001b[39m\u001b[32m657\u001b[39m         data = data.sort_values(date_column).reset_index(drop=\u001b[38;5;28;01mTrue\u001b[39;00m)\n\u001b[32m    658\u001b[39m         dates = pd.to_datetime(data[date_column])\n\u001b[32m    659\u001b[39m         unique_dates = sorted(dates.unique())\n\u001b[32m    660\u001b[39m \n",
      "\u001b[32mc:\\Users\\antho\\anaconda3\\envs\\datascience\\Lib\\site-packages\\pandas\\core\\frame.py\u001b[39m in \u001b[36m?\u001b[39m\u001b[34m(self, by, axis, ascending, inplace, kind, na_position, ignore_index, key)\u001b[39m\n\u001b[32m   7192\u001b[39m             )\n\u001b[32m   7193\u001b[39m         \u001b[38;5;28;01melif\u001b[39;00m len(by):\n\u001b[32m   7194\u001b[39m             \u001b[38;5;66;03m# len(by) == 1\u001b[39;00m\n\u001b[32m   7195\u001b[39m \n\u001b[32m-> \u001b[39m\u001b[32m7196\u001b[39m             k = self._get_label_or_level_values(by[\u001b[32m0\u001b[39m], axis=axis)\n\u001b[32m   7197\u001b[39m \n\u001b[32m   7198\u001b[39m             \u001b[38;5;66;03m# need to rewrap column in Series to apply key function\u001b[39;00m\n\u001b[32m   7199\u001b[39m             \u001b[38;5;28;01mif\u001b[39;00m key \u001b[38;5;28;01mis\u001b[39;00m \u001b[38;5;28;01mnot\u001b[39;00m \u001b[38;5;28;01mNone\u001b[39;00m:\n",
      "\u001b[32mc:\\Users\\antho\\anaconda3\\envs\\datascience\\Lib\\site-packages\\pandas\\core\\generic.py\u001b[39m in \u001b[36m?\u001b[39m\u001b[34m(self, key, axis)\u001b[39m\n\u001b[32m   1907\u001b[39m             values = self.xs(key, axis=other_axes[\u001b[32m0\u001b[39m])._values\n\u001b[32m   1908\u001b[39m         \u001b[38;5;28;01melif\u001b[39;00m self._is_level_reference(key, axis=axis):\n\u001b[32m   1909\u001b[39m             values = self.axes[axis].get_level_values(key)._values\n\u001b[32m   1910\u001b[39m         \u001b[38;5;28;01melse\u001b[39;00m:\n\u001b[32m-> \u001b[39m\u001b[32m1911\u001b[39m             \u001b[38;5;28;01mraise\u001b[39;00m KeyError(key)\n\u001b[32m   1912\u001b[39m \n\u001b[32m   1913\u001b[39m         \u001b[38;5;66;03m# Check for duplicates\u001b[39;00m\n\u001b[32m   1914\u001b[39m         \u001b[38;5;28;01mif\u001b[39;00m values.ndim > \u001b[32m1\u001b[39m:\n",
      "\u001b[31mKeyError\u001b[39m: 'date'"
     ]
    }
   ],
   "source": [
    "backtest_start = '20241201'\n",
    "backtest_end = '20241231'\n",
    "\n",
    "print(f'Running walk-forward backtest from {backtest_start} to {backtest_end}')\n",
    "\n",
    "backtest_results = backtest_runner.run(\n",
    "    start_date=backtest_start,\n",
    "    end_date=backtest_end,\n",
    "    feature_columns=feature_columns,\n",
    "    target_column=target_column\n",
    ")\n",
    "\n",
    "print('\\n=== Walk-Forward Backtest Results ===')\n",
    "for key, value in backtest_results.items():\n",
    "    print(f'{key}: {value}')"
   ]
  },
  {
   "cell_type": "markdown",
   "metadata": {},
   "source": [
    "### View Detailed Fold Results"
   ]
  },
  {
   "cell_type": "code",
   "execution_count": null,
   "metadata": {},
   "outputs": [],
   "source": [
    "fold_results = backtest_runner.get_results()\n",
    "\n",
    "print('\\n=== Fold-by-Fold Results ===')\n",
    "print(fold_results[['fold', 'train_start', 'train_end', 'test_start', 'test_end', 'mape', 'rmse', 'correlation']])"
   ]
  },
  {
   "cell_type": "markdown",
   "metadata": {},
   "source": [
    "### Plot MAPE Over Time"
   ]
  },
  {
   "cell_type": "code",
   "execution_count": null,
   "metadata": {},
   "outputs": [],
   "source": [
    "import matplotlib.pyplot as plt\n",
    "\n",
    "if not fold_results.empty:\n",
    "    plt.figure(figsize=(12, 6))\n",
    "    plt.plot(fold_results['fold'], fold_results['mape'], marker='o', label='MAPE')\n",
    "    plt.axhline(y=30, color='r', linestyle='--', label='30% Target')\n",
    "    plt.xlabel('Fold')\n",
    "    plt.ylabel('MAPE')\n",
    "    plt.title('Model MAPE Across Walk-Forward Folds')\n",
    "    plt.legend()\n",
    "    plt.grid(True, alpha=0.3)\n",
    "    plt.tight_layout()\n",
    "    plt.show()\n",
    "else:\n",
    "    print('No fold results to plot')"
   ]
  },
  {
   "cell_type": "markdown",
   "metadata": {},
   "source": [
    "import matplotlib.pyplot as plt\n",
    "\n",
    "fold_results = backtest_runner.get_results()\n",
    "\n",
    "if not fold_results.empty and 'mape' in fold_results.columns:\n",
    "    fig, axes = plt.subplots(2, 1, figsize=(14, 8))\n",
    "    \n",
    "    # Plot 1: MAPE over folds\n",
    "    axes[0].plot(fold_results['fold'], fold_results['mape'], 'o-', linewidth=2, markersize=6)\n",
    "    axes[0].axhline(y=30, color='r', linestyle='--', linewidth=2, label='30% Target')\n",
    "    axes[0].fill_between(fold_results['fold'], 0, 30, alpha=0.2, color='green')\n",
    "    axes[0].set_xlabel('Fold', fontsize=12)\n",
    "    axes[0].set_ylabel('MAPE (%)', fontsize=12)\n",
    "    axes[0].set_title('Model MAPE Across Walk-Forward Folds', fontsize=14, fontweight='bold')\n",
    "    axes[0].legend()\n",
    "    axes[0].grid(True, alpha=0.3)\n",
    "    \n",
    "    # Plot 2: RMSE over folds\n",
    "    axes[1].plot(fold_results['fold'], fold_results['rmse'], 's-', linewidth=2, markersize=6, color='orange')\n",
    "    axes[1].set_xlabel('Fold', fontsize=12)\n",
    "    axes[1].set_ylabel('RMSE (points)', fontsize=12)\n",
    "    axes[1].set_title('Model RMSE Across Walk-Forward Folds', fontsize=14, fontweight='bold')\n",
    "    axes[1].grid(True, alpha=0.3)\n",
    "    \n",
    "    plt.tight_layout()\n",
    "    plt.show()\n",
    "    \n",
    "    print(f'\\nPlotted {len(fold_results)} folds')\n",
    "    print(f'Mean MAPE: {fold_results[\"mape\"].mean():.2f}%')\n",
    "    print(f'Mean RMSE: {fold_results[\"rmse\"].mean():.2f}')\n",
    "else:\n",
    "    print('No fold results to plot')\n",
    "    print(f'Available columns: {fold_results.columns.tolist() if not fold_results.empty else \"None\"}')"
   ]
  },
  {
   "cell_type": "code",
   "execution_count": null,
   "metadata": {},
   "outputs": [],
   "source": [
    "print(f'\\nTotal data queries: {client.get_request_count()}')\n",
    "print(f'Data source: Local database at {client.db_path}')"
   ]
  }
 ],
 "metadata": {
  "kernelspec": {
   "display_name": "datascience",
   "language": "python",
   "name": "python3"
  },
  "language_info": {
   "codemirror_mode": {
    "name": "ipython",
    "version": 3
   },
   "file_extension": ".py",
   "mimetype": "text/x-python",
   "name": "python",
   "nbconvert_exporter": "python",
   "pygments_lexer": "ipython3",
   "version": "3.13.5"
  }
 },
 "nbformat": 4,
 "nbformat_minor": 4
}
