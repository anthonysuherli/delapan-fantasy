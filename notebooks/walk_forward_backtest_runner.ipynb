{
 "cells": [
  {
   "cell_type": "markdown",
   "metadata": {},
   "source": [
    "# Walk-Forward Backtest Runner\n",
    "\n",
    "Clean, modular backtesting framework using refactored codebase."
   ]
  },
  {
   "cell_type": "markdown",
   "metadata": {},
   "source": [
    "## Setup"
   ]
  },
  {
   "cell_type": "code",
   "execution_count": 1,
   "metadata": {},
   "outputs": [
    {
     "name": "stdout",
     "output_type": "stream",
     "text": [
      "Setup complete\n"
     ]
    }
   ],
   "source": [
    "import sys\n",
    "from pathlib import Path\n",
    "import logging\n",
    "import pandas as pd\n",
    "import numpy as np\n",
    "import matplotlib.pyplot as plt\n",
    "import seaborn as sns\n",
    "\n",
    "repo_root = Path.cwd().parent\n",
    "if str(repo_root) not in sys.path:\n",
    "    sys.path.insert(0, str(repo_root))\n",
    "\n",
    "from src.walk_forward_backtest import WalkForwardBacktest\n",
    "from src.historical_data_loader import HistoricalDataLoader\n",
    "from src.feature_builder_v2 import FeatureBuilder\n",
    "from src.metrics import evaluate_predictions\n",
    "\n",
    "logging.basicConfig(\n",
    "    level=logging.INFO,\n",
    "    format='%(asctime)s - %(name)s - %(levelname)s - %(message)s'\n",
    ")\n",
    "\n",
    "logger = logging.getLogger(__name__)\n",
    "\n",
    "pd.set_option('display.max_columns', None)\n",
    "pd.set_option('display.width', None)\n",
    "pd.set_option('display.max_colwidth', 50)\n",
    "\n",
    "sns.set_style('whitegrid')\n",
    "\n",
    "print('Setup complete')"
   ]
  },
  {
   "cell_type": "markdown",
   "metadata": {},
   "source": [
    "## Configuration"
   ]
  },
  {
   "cell_type": "code",
   "execution_count": null,
   "metadata": {},
   "outputs": [],
   "source": [
    "DB_PATH = repo_root / 'nba_dfs.db'\n",
    "OUTPUT_DIR = repo_root / 'data' / 'backtest_results'\n",
    "\n",
    "START_DATE = '20240101'\n",
    "END_DATE = '20240131'\n",
    "LOOKBACK_DAYS = 90\n",
    "\n",
    "MODEL_TYPE = 'xgboost'\n",
    "MODEL_PARAMS = {\n",
    "    'n_estimators': 200,\n",
    "    'max_depth': 6,\n",
    "    'learning_rate': 0.1,\n",
    "    'random_state': 42\n",
    "}\n",
    "\n",
    "ROLLING_WINDOW_SIZES = [3, 5, 10]\n",
    "\n",
    "PER_PLAYER_MODELS = True\n",
    "MIN_PLAYER_GAMES = 10\n",
    "\n",
    "print(f'Database: {DB_PATH}')\n",
    "print(f'Date Range: {START_DATE} to {END_DATE}')\n",
    "print(f'Lookback: {LOOKBACK_DAYS} days')\n",
    "print(f'Model: {MODEL_TYPE}')\n",
    "print(f'Window Sizes: {ROLLING_WINDOW_SIZES}')\n",
    "print(f'Per-Player Models: {PER_PLAYER_MODELS}')\n",
    "print(f'Min Player Games: {MIN_PLAYER_GAMES}')"
   ]
  },
  {
   "cell_type": "markdown",
   "metadata": {},
   "source": [
    "## Initialize Backtest"
   ]
  },
  {
   "cell_type": "code",
   "execution_count": null,
   "metadata": {},
   "outputs": [],
   "source": [
    "backtest = WalkForwardBacktest(\n",
    "    db_path=str(DB_PATH),\n",
    "    start_date=START_DATE,\n",
    "    end_date=END_DATE,\n",
    "    lookback_days=LOOKBACK_DAYS,\n",
    "    model_type=MODEL_TYPE,\n",
    "    model_params=MODEL_PARAMS,\n",
    "    rolling_window_sizes=ROLLING_WINDOW_SIZES,\n",
    "    output_dir=str(OUTPUT_DIR),\n",
    "    per_player_models=PER_PLAYER_MODELS,\n",
    "    min_player_games=MIN_PLAYER_GAMES\n",
    ")\n",
    "\n",
    "print('Backtest initialized')\n",
    "print(f'Mode: {\"Per-Player Models\" if PER_PLAYER_MODELS else \"Single Global Model\"}')"
   ]
  },
  {
   "cell_type": "markdown",
   "metadata": {},
   "source": [
    "## Run Backtest"
   ]
  },
  {
   "cell_type": "code",
   "execution_count": null,
   "metadata": {},
   "outputs": [
    {
     "name": "stderr",
     "output_type": "stream",
     "text": [
      "2025-10-07 01:28:23,431 - src.walk_forward_backtest - INFO - ================================================================================\n",
      "2025-10-07 01:28:23,432 - src.walk_forward_backtest - INFO - STARTING WALK-FORWARD BACKTEST\n",
      "2025-10-07 01:28:23,432 - src.walk_forward_backtest - INFO - ================================================================================\n",
      "2025-10-07 01:28:23,433 - src.walk_forward_backtest - INFO - Period: 20240101 to 20240131\n",
      "2025-10-07 01:28:23,433 - src.walk_forward_backtest - INFO - Lookback: 90 days\n",
      "2025-10-07 01:28:23,433 - src.walk_forward_backtest - INFO - Model: xgboost\n",
      "2025-10-07 01:28:23,434 - src.walk_forward_backtest - INFO - ================================================================================\n",
      "2025-10-07 01:28:23,441 - src.historical_data_loader - INFO - Found 31 slate dates from 20240101 to 20240131\n",
      "2025-10-07 01:28:23,442 - src.walk_forward_backtest - INFO - Processing slate 1/31: 20240101\n",
      "2025-10-07 01:28:23,442 - src.historical_data_loader - INFO - Loading slate data for 20240101\n",
      "2025-10-07 01:28:23,533 - src.historical_data_loader - INFO - Loaded slate data: 12256 salaries, 16 games\n",
      "2025-10-07 01:28:23,534 - src.historical_data_loader - INFO - Loading historical player logs (up to 20240101, lookback: 90 days)\n",
      "2025-10-07 01:28:23,598 - src.historical_data_loader - INFO - Loaded 10357 player logs from 20231024 to 20231231\n",
      "2025-10-07 01:28:23,599 - src.feature_builder_v2 - INFO - Building training features with strict temporal ordering\n",
      "2025-10-07 01:28:23,617 - src.feature_builder_v2 - INFO - Calculating DK fantasy points for training data\n"
     ]
    },
    {
     "name": "stdout",
     "output_type": "stream",
     "text": [
      "\n",
      "Backtesting 31 slates from 20240101 to 20240131\n",
      "\n",
      "\n",
      "[1/31] Processing 20240101...\n",
      "  Building features from 10357 training games...\n"
     ]
    },
    {
     "name": "stderr",
     "output_type": "stream",
     "text": [
      "2025-10-07 01:28:23,734 - src.feature_builder_v2 - INFO - Calculating rolling features for each player\n",
      "2025-10-07 01:28:52,474 - src.feature_builder_v2 - INFO - Built training features: 8843 samples, 118 features\n"
     ]
    },
    {
     "name": "stdout",
     "output_type": "stream",
     "text": [
      "  Training xgboost model...\n"
     ]
    },
    {
     "name": "stderr",
     "output_type": "stream",
     "text": [
      "2025-10-07 01:28:53,277 - src.feature_builder_v2 - INFO - Building features for slate players\n"
     ]
    },
    {
     "name": "stdout",
     "output_type": "stream",
     "text": [
      "  Building slate features...\n"
     ]
    },
    {
     "name": "stderr",
     "output_type": "stream",
     "text": [
      "2025-10-07 01:29:34,575 - src.feature_builder_v2 - INFO - Built slate features for 9396 players\n",
      "2025-10-07 01:29:34,627 - src.walk_forward_backtest - INFO - Processing slate 2/31: 20240102\n",
      "2025-10-07 01:29:34,628 - src.historical_data_loader - INFO - Loading slate data for 20240102\n",
      "2025-10-07 01:29:34,688 - src.historical_data_loader - INFO - Loaded slate data: 8872 salaries, 12 games\n",
      "2025-10-07 01:29:34,690 - src.historical_data_loader - INFO - Loading historical player logs (up to 20240102, lookback: 90 days)\n",
      "2025-10-07 01:29:34,748 - src.historical_data_loader - INFO - Loaded 10536 player logs from 20231024 to 20240101\n",
      "2025-10-07 01:29:34,750 - src.feature_builder_v2 - INFO - Building training features with strict temporal ordering\n",
      "2025-10-07 01:29:34,766 - src.feature_builder_v2 - INFO - Calculating DK fantasy points for training data\n"
     ]
    },
    {
     "name": "stdout",
     "output_type": "stream",
     "text": [
      "  Generating projections for 9396 players...\n",
      "  Loading actual results...\n",
      "  Evaluating...\n",
      "  MAPE: 138.0%  |  RMSE: 10.34  |  Corr: 0.737\n",
      "\n",
      "[2/31] Processing 20240102...\n",
      "  Building features from 10536 training games...\n"
     ]
    },
    {
     "name": "stderr",
     "output_type": "stream",
     "text": [
      "2025-10-07 01:29:34,884 - src.feature_builder_v2 - INFO - Calculating rolling features for each player\n",
      "2025-10-07 01:30:04,023 - src.feature_builder_v2 - INFO - Built training features: 9021 samples, 118 features\n"
     ]
    },
    {
     "name": "stdout",
     "output_type": "stream",
     "text": [
      "  Training xgboost model...\n"
     ]
    },
    {
     "name": "stderr",
     "output_type": "stream",
     "text": [
      "2025-10-07 01:30:04,465 - src.feature_builder_v2 - INFO - Building features for slate players\n"
     ]
    },
    {
     "name": "stdout",
     "output_type": "stream",
     "text": [
      "  Building slate features...\n"
     ]
    },
    {
     "name": "stderr",
     "output_type": "stream",
     "text": [
      "2025-10-07 01:30:33,026 - src.feature_builder_v2 - INFO - Built slate features for 6311 players\n",
      "2025-10-07 01:30:33,069 - src.walk_forward_backtest - INFO - Processing slate 3/31: 20240103\n",
      "2025-10-07 01:30:33,070 - src.historical_data_loader - INFO - Loading slate data for 20240103\n",
      "2025-10-07 01:30:33,141 - src.historical_data_loader - INFO - Loaded slate data: 18100 salaries, 24 games\n",
      "2025-10-07 01:30:33,142 - src.historical_data_loader - INFO - Loading historical player logs (up to 20240103, lookback: 90 days)\n",
      "2025-10-07 01:30:33,201 - src.historical_data_loader - INFO - Loaded 10673 player logs from 20231024 to 20240102\n",
      "2025-10-07 01:30:33,204 - src.feature_builder_v2 - INFO - Building training features with strict temporal ordering\n",
      "2025-10-07 01:30:33,219 - src.feature_builder_v2 - INFO - Calculating DK fantasy points for training data\n"
     ]
    },
    {
     "name": "stdout",
     "output_type": "stream",
     "text": [
      "  Generating projections for 6311 players...\n",
      "  Loading actual results...\n",
      "  Evaluating...\n",
      "  MAPE: 62.7%  |  RMSE: 9.42  |  Corr: 0.792\n",
      "\n",
      "[3/31] Processing 20240103...\n",
      "  Building features from 10673 training games...\n"
     ]
    },
    {
     "name": "stderr",
     "output_type": "stream",
     "text": [
      "2025-10-07 01:30:33,337 - src.feature_builder_v2 - INFO - Calculating rolling features for each player\n",
      "2025-10-07 01:31:02,467 - src.feature_builder_v2 - INFO - Built training features: 9156 samples, 118 features\n"
     ]
    },
    {
     "name": "stdout",
     "output_type": "stream",
     "text": [
      "  Training xgboost model...\n"
     ]
    },
    {
     "name": "stderr",
     "output_type": "stream",
     "text": [
      "2025-10-07 01:31:02,910 - src.feature_builder_v2 - INFO - Building features for slate players\n"
     ]
    },
    {
     "name": "stdout",
     "output_type": "stream",
     "text": [
      "  Building slate features...\n"
     ]
    },
    {
     "name": "stderr",
     "output_type": "stream",
     "text": [
      "2025-10-07 01:32:03,694 - src.feature_builder_v2 - INFO - Built slate features for 13338 players\n",
      "2025-10-07 01:32:03,764 - src.walk_forward_backtest - INFO - Processing slate 4/31: 20240104\n",
      "2025-10-07 01:32:03,764 - src.historical_data_loader - INFO - Loading slate data for 20240104\n",
      "2025-10-07 01:32:03,824 - src.historical_data_loader - INFO - Loaded slate data: 3160 salaries, 4 games\n",
      "2025-10-07 01:32:03,827 - src.historical_data_loader - INFO - Loading historical player logs (up to 20240104, lookback: 90 days)\n",
      "2025-10-07 01:32:03,889 - src.historical_data_loader - INFO - Loaded 10940 player logs from 20231024 to 20240103\n",
      "2025-10-07 01:32:03,892 - src.feature_builder_v2 - INFO - Building training features with strict temporal ordering\n",
      "2025-10-07 01:32:03,908 - src.feature_builder_v2 - INFO - Calculating DK fantasy points for training data\n"
     ]
    },
    {
     "name": "stdout",
     "output_type": "stream",
     "text": [
      "  Generating projections for 13338 players...\n",
      "  Loading actual results...\n",
      "  Evaluating...\n",
      "  MAPE: 64.5%  |  RMSE: 9.81  |  Corr: 0.781\n",
      "\n",
      "[4/31] Processing 20240104...\n",
      "  Building features from 10940 training games...\n"
     ]
    },
    {
     "name": "stderr",
     "output_type": "stream",
     "text": [
      "2025-10-07 01:32:04,030 - src.feature_builder_v2 - INFO - Calculating rolling features for each player\n",
      "2025-10-07 01:32:34,336 - src.feature_builder_v2 - INFO - Built training features: 9419 samples, 118 features\n"
     ]
    },
    {
     "name": "stdout",
     "output_type": "stream",
     "text": [
      "  Training xgboost model...\n"
     ]
    },
    {
     "name": "stderr",
     "output_type": "stream",
     "text": [
      "2025-10-07 01:32:34,811 - src.feature_builder_v2 - INFO - Building features for slate players\n"
     ]
    },
    {
     "name": "stdout",
     "output_type": "stream",
     "text": [
      "  Building slate features...\n"
     ]
    },
    {
     "name": "stderr",
     "output_type": "stream",
     "text": [
      "2025-10-07 01:32:46,815 - src.feature_builder_v2 - INFO - Built slate features for 2450 players\n",
      "2025-10-07 01:32:46,841 - src.walk_forward_backtest - INFO - Processing slate 5/31: 20240105\n",
      "2025-10-07 01:32:46,842 - src.historical_data_loader - INFO - Loading slate data for 20240105\n",
      "2025-10-07 01:32:46,937 - src.historical_data_loader - INFO - Loaded slate data: 21136 salaries, 28 games\n",
      "2025-10-07 01:32:46,938 - src.historical_data_loader - INFO - Loading historical player logs (up to 20240105, lookback: 90 days)\n",
      "2025-10-07 01:32:47,003 - src.historical_data_loader - INFO - Loaded 10979 player logs from 20231024 to 20240104\n",
      "2025-10-07 01:32:47,006 - src.feature_builder_v2 - INFO - Building training features with strict temporal ordering\n",
      "2025-10-07 01:32:47,021 - src.feature_builder_v2 - INFO - Calculating DK fantasy points for training data\n"
     ]
    },
    {
     "name": "stdout",
     "output_type": "stream",
     "text": [
      "  Generating projections for 2450 players...\n",
      "  Loading actual results...\n",
      "  Evaluating...\n",
      "  MAPE: 77.6%  |  RMSE: 11.23  |  Corr: 0.868\n",
      "\n",
      "[5/31] Processing 20240105...\n",
      "  Building features from 10979 training games...\n"
     ]
    },
    {
     "name": "stderr",
     "output_type": "stream",
     "text": [
      "2025-10-07 01:32:47,144 - src.feature_builder_v2 - INFO - Calculating rolling features for each player\n",
      "2025-10-07 01:33:18,923 - src.feature_builder_v2 - INFO - Built training features: 9458 samples, 118 features\n"
     ]
    },
    {
     "name": "stdout",
     "output_type": "stream",
     "text": [
      "  Training xgboost model...\n"
     ]
    },
    {
     "name": "stderr",
     "output_type": "stream",
     "text": [
      "2025-10-07 01:33:19,492 - src.feature_builder_v2 - INFO - Building features for slate players\n"
     ]
    },
    {
     "name": "stdout",
     "output_type": "stream",
     "text": [
      "  Building slate features...\n"
     ]
    },
    {
     "name": "stderr",
     "output_type": "stream",
     "text": [
      "2025-10-07 01:34:31,514 - src.feature_builder_v2 - INFO - Built slate features for 15460 players\n",
      "2025-10-07 01:34:31,590 - src.walk_forward_backtest - INFO - Processing slate 6/31: 20240106\n",
      "2025-10-07 01:34:31,590 - src.historical_data_loader - INFO - Loading slate data for 20240106\n",
      "2025-10-07 01:34:31,668 - src.historical_data_loader - INFO - Loaded slate data: 6038 salaries, 8 games\n",
      "2025-10-07 01:34:31,672 - src.historical_data_loader - INFO - Loading historical player logs (up to 20240106, lookback: 90 days)\n",
      "2025-10-07 01:34:31,742 - src.historical_data_loader - INFO - Loaded 11299 player logs from 20231024 to 20240105\n",
      "2025-10-07 01:34:31,745 - src.feature_builder_v2 - INFO - Building training features with strict temporal ordering\n",
      "2025-10-07 01:34:31,759 - src.feature_builder_v2 - INFO - Calculating DK fantasy points for training data\n"
     ]
    },
    {
     "name": "stdout",
     "output_type": "stream",
     "text": [
      "  Generating projections for 15460 players...\n",
      "  Loading actual results...\n",
      "  Evaluating...\n",
      "  MAPE: 70.6%  |  RMSE: 9.65  |  Corr: 0.741\n",
      "\n",
      "[6/31] Processing 20240106...\n",
      "  Building features from 11299 training games...\n"
     ]
    },
    {
     "name": "stderr",
     "output_type": "stream",
     "text": [
      "2025-10-07 01:34:31,888 - src.feature_builder_v2 - INFO - Calculating rolling features for each player\n",
      "2025-10-07 01:35:03,849 - src.feature_builder_v2 - INFO - Built training features: 9774 samples, 118 features\n"
     ]
    },
    {
     "name": "stdout",
     "output_type": "stream",
     "text": [
      "  Training xgboost model...\n"
     ]
    },
    {
     "name": "stderr",
     "output_type": "stream",
     "text": [
      "2025-10-07 01:35:04,469 - src.feature_builder_v2 - INFO - Building features for slate players\n"
     ]
    },
    {
     "name": "stdout",
     "output_type": "stream",
     "text": [
      "  Building slate features...\n"
     ]
    },
    {
     "name": "stderr",
     "output_type": "stream",
     "text": [
      "2025-10-07 01:35:25,299 - src.feature_builder_v2 - INFO - Built slate features for 4317 players\n",
      "2025-10-07 01:35:25,338 - src.walk_forward_backtest - INFO - Processing slate 7/31: 20240107\n",
      "2025-10-07 01:35:25,339 - src.historical_data_loader - INFO - Loading slate data for 20240107\n",
      "2025-10-07 01:35:25,429 - src.historical_data_loader - INFO - Loaded slate data: 13556 salaries, 18 games\n",
      "2025-10-07 01:35:25,431 - src.historical_data_loader - INFO - Loading historical player logs (up to 20240107, lookback: 90 days)\n",
      "2025-10-07 01:35:25,503 - src.historical_data_loader - INFO - Loaded 11388 player logs from 20231024 to 20240106\n",
      "2025-10-07 01:35:25,506 - src.feature_builder_v2 - INFO - Building training features with strict temporal ordering\n",
      "2025-10-07 01:35:25,524 - src.feature_builder_v2 - INFO - Calculating DK fantasy points for training data\n"
     ]
    },
    {
     "name": "stdout",
     "output_type": "stream",
     "text": [
      "  Generating projections for 4317 players...\n",
      "  Loading actual results...\n",
      "  Evaluating...\n",
      "  MAPE: 63.0%  |  RMSE: 8.80  |  Corr: 0.843\n",
      "\n",
      "[7/31] Processing 20240107...\n",
      "  Building features from 11388 training games...\n"
     ]
    },
    {
     "name": "stderr",
     "output_type": "stream",
     "text": [
      "2025-10-07 01:35:25,666 - src.feature_builder_v2 - INFO - Calculating rolling features for each player\n",
      "2025-10-07 01:35:57,658 - src.feature_builder_v2 - INFO - Built training features: 9862 samples, 118 features\n"
     ]
    },
    {
     "name": "stdout",
     "output_type": "stream",
     "text": [
      "  Training xgboost model...\n"
     ]
    },
    {
     "name": "stderr",
     "output_type": "stream",
     "text": [
      "2025-10-07 01:35:58,083 - src.feature_builder_v2 - INFO - Building features for slate players\n"
     ]
    },
    {
     "name": "stdout",
     "output_type": "stream",
     "text": [
      "  Building slate features...\n"
     ]
    },
    {
     "name": "stderr",
     "output_type": "stream",
     "text": [
      "2025-10-07 01:36:43,272 - src.feature_builder_v2 - INFO - Built slate features for 10169 players\n",
      "2025-10-07 01:36:43,326 - src.walk_forward_backtest - INFO - Processing slate 8/31: 20240108\n",
      "2025-10-07 01:36:43,326 - src.historical_data_loader - INFO - Loading slate data for 20240108\n",
      "2025-10-07 01:36:43,392 - src.historical_data_loader - INFO - Loaded slate data: 9145 salaries, 12 games\n",
      "2025-10-07 01:36:43,395 - src.historical_data_loader - INFO - Loading historical player logs (up to 20240108, lookback: 90 days)\n",
      "2025-10-07 01:36:43,457 - src.historical_data_loader - INFO - Loaded 11578 player logs from 20231024 to 20240107\n",
      "2025-10-07 01:36:43,460 - src.feature_builder_v2 - INFO - Building training features with strict temporal ordering\n",
      "2025-10-07 01:36:43,475 - src.feature_builder_v2 - INFO - Calculating DK fantasy points for training data\n"
     ]
    },
    {
     "name": "stdout",
     "output_type": "stream",
     "text": [
      "  Generating projections for 10169 players...\n",
      "  Loading actual results...\n",
      "  Evaluating...\n",
      "  MAPE: 91.6%  |  RMSE: 11.12  |  Corr: 0.690\n",
      "\n",
      "[8/31] Processing 20240108...\n",
      "  Building features from 11578 training games...\n"
     ]
    },
    {
     "name": "stderr",
     "output_type": "stream",
     "text": [
      "2025-10-07 01:36:43,603 - src.feature_builder_v2 - INFO - Calculating rolling features for each player\n",
      "2025-10-07 01:37:15,867 - src.feature_builder_v2 - INFO - Built training features: 10050 samples, 118 features\n"
     ]
    },
    {
     "name": "stdout",
     "output_type": "stream",
     "text": [
      "  Training xgboost model...\n"
     ]
    },
    {
     "name": "stderr",
     "output_type": "stream",
     "text": [
      "2025-10-07 01:37:16,302 - src.feature_builder_v2 - INFO - Building features for slate players\n"
     ]
    },
    {
     "name": "stdout",
     "output_type": "stream",
     "text": [
      "  Building slate features...\n"
     ]
    },
    {
     "name": "stderr",
     "output_type": "stream",
     "text": [
      "2025-10-07 01:37:46,877 - src.feature_builder_v2 - INFO - Built slate features for 6771 players\n",
      "2025-10-07 01:37:46,922 - src.walk_forward_backtest - INFO - Processing slate 9/31: 20240109\n",
      "2025-10-07 01:37:46,923 - src.historical_data_loader - INFO - Loading slate data for 20240109\n",
      "2025-10-07 01:37:46,988 - src.historical_data_loader - INFO - Loaded slate data: 7592 salaries, 10 games\n",
      "2025-10-07 01:37:46,990 - src.historical_data_loader - INFO - Loading historical player logs (up to 20240109, lookback: 90 days)\n",
      "2025-10-07 01:37:47,060 - src.historical_data_loader - INFO - Loaded 11703 player logs from 20231024 to 20240108\n",
      "2025-10-07 01:37:47,063 - src.feature_builder_v2 - INFO - Building training features with strict temporal ordering\n",
      "2025-10-07 01:37:47,078 - src.feature_builder_v2 - INFO - Calculating DK fantasy points for training data\n"
     ]
    },
    {
     "name": "stdout",
     "output_type": "stream",
     "text": [
      "  Generating projections for 6771 players...\n",
      "  Loading actual results...\n",
      "  Evaluating...\n",
      "  MAPE: 43.2%  |  RMSE: 9.56  |  Corr: 0.735\n",
      "\n",
      "[9/31] Processing 20240109...\n",
      "  Building features from 11703 training games...\n"
     ]
    },
    {
     "name": "stderr",
     "output_type": "stream",
     "text": [
      "2025-10-07 01:37:47,208 - src.feature_builder_v2 - INFO - Calculating rolling features for each player\n",
      "2025-10-07 01:38:19,630 - src.feature_builder_v2 - INFO - Built training features: 10175 samples, 118 features\n"
     ]
    },
    {
     "name": "stdout",
     "output_type": "stream",
     "text": [
      "  Training xgboost model...\n"
     ]
    },
    {
     "name": "stderr",
     "output_type": "stream",
     "text": [
      "2025-10-07 01:38:20,069 - src.feature_builder_v2 - INFO - Building features for slate players\n"
     ]
    },
    {
     "name": "stdout",
     "output_type": "stream",
     "text": [
      "  Building slate features...\n"
     ]
    },
    {
     "name": "stderr",
     "output_type": "stream",
     "text": [
      "2025-10-07 01:38:46,159 - src.feature_builder_v2 - INFO - Built slate features for 5874 players\n",
      "2025-10-07 01:38:46,197 - src.walk_forward_backtest - INFO - Processing slate 10/31: 20240110\n",
      "2025-10-07 01:38:46,198 - src.historical_data_loader - INFO - Loading slate data for 20240110\n",
      "2025-10-07 01:38:46,269 - src.historical_data_loader - INFO - Loaded slate data: 15077 salaries, 20 games\n",
      "2025-10-07 01:38:46,271 - src.historical_data_loader - INFO - Loading historical player logs (up to 20240110, lookback: 90 days)\n",
      "2025-10-07 01:38:46,338 - src.historical_data_loader - INFO - Loaded 11814 player logs from 20231024 to 20240109\n",
      "2025-10-07 01:38:46,341 - src.feature_builder_v2 - INFO - Building training features with strict temporal ordering\n",
      "2025-10-07 01:38:46,357 - src.feature_builder_v2 - INFO - Calculating DK fantasy points for training data\n"
     ]
    },
    {
     "name": "stdout",
     "output_type": "stream",
     "text": [
      "  Generating projections for 5874 players...\n",
      "  Loading actual results...\n",
      "  Evaluating...\n",
      "  MAPE: 72.6%  |  RMSE: 11.65  |  Corr: 0.713\n",
      "\n",
      "[10/31] Processing 20240110...\n",
      "  Building features from 11814 training games...\n"
     ]
    },
    {
     "name": "stderr",
     "output_type": "stream",
     "text": [
      "2025-10-07 01:38:46,487 - src.feature_builder_v2 - INFO - Calculating rolling features for each player\n",
      "2025-10-07 01:39:19,091 - src.feature_builder_v2 - INFO - Built training features: 10285 samples, 118 features\n"
     ]
    },
    {
     "name": "stdout",
     "output_type": "stream",
     "text": [
      "  Training xgboost model...\n"
     ]
    },
    {
     "name": "stderr",
     "output_type": "stream",
     "text": [
      "2025-10-07 01:39:19,530 - src.feature_builder_v2 - INFO - Building features for slate players\n"
     ]
    },
    {
     "name": "stdout",
     "output_type": "stream",
     "text": [
      "  Building slate features...\n"
     ]
    },
    {
     "name": "stderr",
     "output_type": "stream",
     "text": [
      "2025-10-07 01:40:09,747 - src.feature_builder_v2 - INFO - Built slate features for 11031 players\n",
      "2025-10-07 01:40:09,803 - src.walk_forward_backtest - INFO - Processing slate 11/31: 20240111\n",
      "2025-10-07 01:40:09,803 - src.historical_data_loader - INFO - Loading slate data for 20240111\n",
      "2025-10-07 01:40:09,872 - src.historical_data_loader - INFO - Loaded slate data: 7514 salaries, 10 games\n",
      "2025-10-07 01:40:09,874 - src.historical_data_loader - INFO - Loading historical player logs (up to 20240111, lookback: 90 days)\n",
      "2025-10-07 01:40:09,938 - src.historical_data_loader - INFO - Loaded 12031 player logs from 20231024 to 20240110\n",
      "2025-10-07 01:40:09,942 - src.feature_builder_v2 - INFO - Building training features with strict temporal ordering\n",
      "2025-10-07 01:40:09,958 - src.feature_builder_v2 - INFO - Calculating DK fantasy points for training data\n"
     ]
    },
    {
     "name": "stdout",
     "output_type": "stream",
     "text": [
      "  Generating projections for 11031 players...\n",
      "  Loading actual results...\n",
      "  Evaluating...\n",
      "  MAPE: 60.9%  |  RMSE: 9.89  |  Corr: 0.774\n",
      "\n",
      "[11/31] Processing 20240111...\n",
      "  Building features from 12031 training games...\n"
     ]
    },
    {
     "name": "stderr",
     "output_type": "stream",
     "text": [
      "2025-10-07 01:40:10,088 - src.feature_builder_v2 - INFO - Calculating rolling features for each player\n",
      "2025-10-07 01:40:43,958 - src.feature_builder_v2 - INFO - Built training features: 10499 samples, 118 features\n"
     ]
    },
    {
     "name": "stdout",
     "output_type": "stream",
     "text": [
      "  Training xgboost model...\n"
     ]
    },
    {
     "name": "stderr",
     "output_type": "stream",
     "text": [
      "2025-10-07 01:40:44,392 - src.feature_builder_v2 - INFO - Building features for slate players\n"
     ]
    },
    {
     "name": "stdout",
     "output_type": "stream",
     "text": [
      "  Building slate features...\n"
     ]
    },
    {
     "name": "stderr",
     "output_type": "stream",
     "text": [
      "2025-10-07 01:41:10,572 - src.feature_builder_v2 - INFO - Built slate features for 5729 players\n",
      "2025-10-07 01:41:10,612 - src.walk_forward_backtest - INFO - Processing slate 12/31: 20240112\n",
      "2025-10-07 01:41:10,613 - src.historical_data_loader - INFO - Loading slate data for 20240112\n",
      "2025-10-07 01:41:10,684 - src.historical_data_loader - INFO - Loaded slate data: 15166 salaries, 20 games\n",
      "2025-10-07 01:41:10,687 - src.historical_data_loader - INFO - Loading historical player logs (up to 20240112, lookback: 90 days)\n",
      "2025-10-07 01:41:10,754 - src.historical_data_loader - INFO - Loaded 12147 player logs from 20231024 to 20240111\n",
      "2025-10-07 01:41:10,758 - src.feature_builder_v2 - INFO - Building training features with strict temporal ordering\n",
      "2025-10-07 01:41:10,775 - src.feature_builder_v2 - INFO - Calculating DK fantasy points for training data\n"
     ]
    },
    {
     "name": "stdout",
     "output_type": "stream",
     "text": [
      "  Generating projections for 5729 players...\n",
      "  Loading actual results...\n",
      "  Evaluating...\n",
      "  MAPE: 113.6%  |  RMSE: 12.66  |  Corr: 0.611\n",
      "\n",
      "[12/31] Processing 20240112...\n",
      "  Building features from 12147 training games...\n"
     ]
    },
    {
     "name": "stderr",
     "output_type": "stream",
     "text": [
      "2025-10-07 01:41:10,909 - src.feature_builder_v2 - INFO - Calculating rolling features for each player\n",
      "2025-10-07 01:41:45,615 - src.feature_builder_v2 - INFO - Built training features: 10614 samples, 118 features\n"
     ]
    },
    {
     "name": "stdout",
     "output_type": "stream",
     "text": [
      "  Training xgboost model...\n"
     ]
    },
    {
     "name": "stderr",
     "output_type": "stream",
     "text": [
      "2025-10-07 01:41:46,059 - src.feature_builder_v2 - INFO - Building features for slate players\n"
     ]
    },
    {
     "name": "stdout",
     "output_type": "stream",
     "text": [
      "  Building slate features...\n"
     ]
    },
    {
     "name": "stderr",
     "output_type": "stream",
     "text": [
      "2025-10-07 01:42:36,828 - src.feature_builder_v2 - INFO - Built slate features for 11398 players\n",
      "2025-10-07 01:42:36,887 - src.walk_forward_backtest - INFO - Processing slate 13/31: 20240113\n",
      "2025-10-07 01:42:36,887 - src.historical_data_loader - INFO - Loading slate data for 20240113\n",
      "2025-10-07 01:42:36,953 - src.historical_data_loader - INFO - Loaded slate data: 12164 salaries, 16 games\n",
      "2025-10-07 01:42:36,955 - src.historical_data_loader - INFO - Loading historical player logs (up to 20240113, lookback: 90 days)\n",
      "2025-10-07 01:42:37,026 - src.historical_data_loader - INFO - Loaded 12385 player logs from 20231024 to 20240112\n",
      "2025-10-07 01:42:37,030 - src.feature_builder_v2 - INFO - Building training features with strict temporal ordering\n",
      "2025-10-07 01:42:37,047 - src.feature_builder_v2 - INFO - Calculating DK fantasy points for training data\n"
     ]
    },
    {
     "name": "stdout",
     "output_type": "stream",
     "text": [
      "  Generating projections for 11398 players...\n",
      "  Loading actual results...\n",
      "  Evaluating...\n",
      "  MAPE: 67.3%  |  RMSE: 9.60  |  Corr: 0.728\n",
      "\n",
      "[13/31] Processing 20240113...\n",
      "  Building features from 12385 training games...\n"
     ]
    },
    {
     "name": "stderr",
     "output_type": "stream",
     "text": [
      "2025-10-07 01:42:37,183 - src.feature_builder_v2 - INFO - Calculating rolling features for each player\n",
      "2025-10-07 01:43:12,034 - src.feature_builder_v2 - INFO - Built training features: 10850 samples, 118 features\n"
     ]
    },
    {
     "name": "stdout",
     "output_type": "stream",
     "text": [
      "  Training xgboost model...\n"
     ]
    },
    {
     "name": "stderr",
     "output_type": "stream",
     "text": [
      "2025-10-07 01:43:12,529 - src.feature_builder_v2 - INFO - Building features for slate players\n"
     ]
    },
    {
     "name": "stdout",
     "output_type": "stream",
     "text": [
      "  Building slate features...\n"
     ]
    },
    {
     "name": "stderr",
     "output_type": "stream",
     "text": [
      "2025-10-07 01:43:53,456 - src.feature_builder_v2 - INFO - Built slate features for 9099 players\n",
      "2025-10-07 01:43:53,505 - src.walk_forward_backtest - INFO - Processing slate 14/31: 20240114\n",
      "2025-10-07 01:43:53,506 - src.historical_data_loader - INFO - Loading slate data for 20240114\n",
      "2025-10-07 01:43:53,569 - src.historical_data_loader - INFO - Loaded slate data: 7705 salaries, 10 games\n",
      "2025-10-07 01:43:53,571 - src.historical_data_loader - INFO - Loading historical player logs (up to 20240114, lookback: 90 days)\n",
      "2025-10-07 01:43:53,654 - src.historical_data_loader - INFO - Loaded 12549 player logs from 20231024 to 20240113\n",
      "2025-10-07 01:43:53,658 - src.feature_builder_v2 - INFO - Building training features with strict temporal ordering\n",
      "2025-10-07 01:43:53,674 - src.feature_builder_v2 - INFO - Calculating DK fantasy points for training data\n"
     ]
    },
    {
     "name": "stdout",
     "output_type": "stream",
     "text": [
      "  Generating projections for 9099 players...\n",
      "  Loading actual results...\n",
      "  Evaluating...\n",
      "  MAPE: 71.5%  |  RMSE: 11.62  |  Corr: 0.645\n",
      "\n",
      "[14/31] Processing 20240114...\n",
      "  Building features from 12549 training games...\n"
     ]
    },
    {
     "name": "stderr",
     "output_type": "stream",
     "text": [
      "2025-10-07 01:43:53,808 - src.feature_builder_v2 - INFO - Calculating rolling features for each player\n",
      "2025-10-07 01:44:28,560 - src.feature_builder_v2 - INFO - Built training features: 11012 samples, 118 features\n"
     ]
    },
    {
     "name": "stdout",
     "output_type": "stream",
     "text": [
      "  Training xgboost model...\n"
     ]
    },
    {
     "name": "stderr",
     "output_type": "stream",
     "text": [
      "2025-10-07 01:44:28,996 - src.feature_builder_v2 - INFO - Building features for slate players\n"
     ]
    },
    {
     "name": "stdout",
     "output_type": "stream",
     "text": [
      "  Building slate features...\n"
     ]
    },
    {
     "name": "stderr",
     "output_type": "stream",
     "text": [
      "2025-10-07 01:44:55,340 - src.feature_builder_v2 - INFO - Built slate features for 5945 players\n",
      "2025-10-07 01:44:55,376 - src.walk_forward_backtest - INFO - Processing slate 15/31: 20240115\n",
      "2025-10-07 01:44:55,377 - src.historical_data_loader - INFO - Loading slate data for 20240115\n",
      "2025-10-07 01:44:55,448 - src.historical_data_loader - INFO - Loaded slate data: 16533 salaries, 22 games\n",
      "2025-10-07 01:44:55,449 - src.historical_data_loader - INFO - Loading historical player logs (up to 20240115, lookback: 90 days)\n",
      "2025-10-07 01:44:55,520 - src.historical_data_loader - INFO - Loaded 12645 player logs from 20231024 to 20240114\n",
      "2025-10-07 01:44:55,523 - src.feature_builder_v2 - INFO - Building training features with strict temporal ordering\n",
      "2025-10-07 01:44:55,541 - src.feature_builder_v2 - INFO - Calculating DK fantasy points for training data\n"
     ]
    },
    {
     "name": "stdout",
     "output_type": "stream",
     "text": [
      "  Generating projections for 5945 players...\n",
      "  Loading actual results...\n",
      "  Evaluating...\n",
      "  MAPE: 132.0%  |  RMSE: 10.55  |  Corr: 0.808\n",
      "\n",
      "[15/31] Processing 20240115...\n",
      "  Building features from 12645 training games...\n"
     ]
    },
    {
     "name": "stderr",
     "output_type": "stream",
     "text": [
      "2025-10-07 01:44:55,679 - src.feature_builder_v2 - INFO - Calculating rolling features for each player\n",
      "2025-10-07 01:45:31,104 - src.feature_builder_v2 - INFO - Built training features: 11108 samples, 118 features\n"
     ]
    },
    {
     "name": "stdout",
     "output_type": "stream",
     "text": [
      "  Training xgboost model...\n"
     ]
    },
    {
     "name": "stderr",
     "output_type": "stream",
     "text": [
      "2025-10-07 01:45:31,713 - src.feature_builder_v2 - INFO - Building features for slate players\n"
     ]
    },
    {
     "name": "stdout",
     "output_type": "stream",
     "text": [
      "  Building slate features...\n"
     ]
    },
    {
     "name": "stderr",
     "output_type": "stream",
     "text": [
      "2025-10-07 01:46:27,047 - src.feature_builder_v2 - INFO - Built slate features for 12111 players\n",
      "2025-10-07 01:46:27,137 - src.walk_forward_backtest - INFO - Processing slate 16/31: 20240116\n",
      "2025-10-07 01:46:27,138 - src.historical_data_loader - INFO - Loading slate data for 20240116\n",
      "2025-10-07 01:46:27,219 - src.historical_data_loader - INFO - Loaded slate data: 4577 salaries, 6 games\n",
      "2025-10-07 01:46:27,221 - src.historical_data_loader - INFO - Loading historical player logs (up to 20240116, lookback: 90 days)\n",
      "2025-10-07 01:46:27,306 - src.historical_data_loader - INFO - Loaded 12878 player logs from 20231024 to 20240115\n"
     ]
    },
    {
     "name": "stdout",
     "output_type": "stream",
     "text": [
      "  Generating projections for 12111 players...\n",
      "  Loading actual results...\n",
      "  Evaluating...\n",
      "  MAPE: 73.9%  |  RMSE: 9.86  |  Corr: 0.735\n",
      "\n",
      "[16/31] Processing 20240116...\n"
     ]
    },
    {
     "name": "stderr",
     "output_type": "stream",
     "text": [
      "2025-10-07 01:46:27,309 - src.feature_builder_v2 - INFO - Building training features with strict temporal ordering\n",
      "2025-10-07 01:46:27,326 - src.feature_builder_v2 - INFO - Calculating DK fantasy points for training data\n",
      "2025-10-07 01:46:27,465 - src.feature_builder_v2 - INFO - Calculating rolling features for each player\n"
     ]
    },
    {
     "name": "stdout",
     "output_type": "stream",
     "text": [
      "  Building features from 12878 training games...\n"
     ]
    },
    {
     "name": "stderr",
     "output_type": "stream",
     "text": [
      "2025-10-07 01:47:04,566 - src.feature_builder_v2 - INFO - Built training features: 11338 samples, 118 features\n"
     ]
    },
    {
     "name": "stdout",
     "output_type": "stream",
     "text": [
      "  Training xgboost model...\n"
     ]
    },
    {
     "name": "stderr",
     "output_type": "stream",
     "text": [
      "2025-10-07 01:47:05,043 - src.feature_builder_v2 - INFO - Building features for slate players\n"
     ]
    },
    {
     "name": "stdout",
     "output_type": "stream",
     "text": [
      "  Building slate features...\n"
     ]
    },
    {
     "name": "stderr",
     "output_type": "stream",
     "text": [
      "2025-10-07 01:47:19,911 - src.feature_builder_v2 - INFO - Built slate features for 3254 players\n",
      "2025-10-07 01:47:19,940 - src.walk_forward_backtest - INFO - Processing slate 17/31: 20240117\n",
      "2025-10-07 01:47:19,940 - src.historical_data_loader - INFO - Loading slate data for 20240117\n",
      "2025-10-07 01:47:20,010 - src.historical_data_loader - INFO - Loaded slate data: 15150 salaries, 20 games\n",
      "2025-10-07 01:47:20,011 - src.historical_data_loader - INFO - Loading historical player logs (up to 20240117, lookback: 90 days)\n",
      "2025-10-07 01:47:20,082 - src.historical_data_loader - INFO - Loaded 12935 player logs from 20231024 to 20240116\n",
      "2025-10-07 01:47:20,086 - src.feature_builder_v2 - INFO - Building training features with strict temporal ordering\n",
      "2025-10-07 01:47:20,103 - src.feature_builder_v2 - INFO - Calculating DK fantasy points for training data\n"
     ]
    },
    {
     "name": "stdout",
     "output_type": "stream",
     "text": [
      "  Generating projections for 3254 players...\n",
      "  Loading actual results...\n",
      "  Evaluating...\n",
      "  MAPE: 72.9%  |  RMSE: 9.23  |  Corr: 0.821\n",
      "\n",
      "[17/31] Processing 20240117...\n",
      "  Building features from 12935 training games...\n"
     ]
    },
    {
     "name": "stderr",
     "output_type": "stream",
     "text": [
      "2025-10-07 01:47:20,248 - src.feature_builder_v2 - INFO - Calculating rolling features for each player\n",
      "2025-10-07 01:47:57,058 - src.feature_builder_v2 - INFO - Built training features: 11395 samples, 118 features\n"
     ]
    },
    {
     "name": "stdout",
     "output_type": "stream",
     "text": [
      "  Training xgboost model...\n"
     ]
    },
    {
     "name": "stderr",
     "output_type": "stream",
     "text": [
      "2025-10-07 01:47:57,495 - src.feature_builder_v2 - INFO - Building features for slate players\n"
     ]
    },
    {
     "name": "stdout",
     "output_type": "stream",
     "text": [
      "  Building slate features...\n"
     ]
    },
    {
     "name": "stderr",
     "output_type": "stream",
     "text": [
      "2025-10-07 01:48:50,996 - src.feature_builder_v2 - INFO - Built slate features for 11625 players\n",
      "2025-10-07 01:48:51,057 - src.walk_forward_backtest - INFO - Processing slate 18/31: 20240118\n",
      "2025-10-07 01:48:51,057 - src.historical_data_loader - INFO - Loading slate data for 20240118\n",
      "2025-10-07 01:48:51,119 - src.historical_data_loader - INFO - Loaded slate data: 7388 salaries, 10 games\n",
      "2025-10-07 01:48:51,122 - src.historical_data_loader - INFO - Loading historical player logs (up to 20240118, lookback: 90 days)\n",
      "2025-10-07 01:48:51,200 - src.historical_data_loader - INFO - Loaded 13141 player logs from 20231024 to 20240117\n",
      "2025-10-07 01:48:51,203 - src.feature_builder_v2 - INFO - Building training features with strict temporal ordering\n",
      "2025-10-07 01:48:51,222 - src.feature_builder_v2 - INFO - Calculating DK fantasy points for training data\n"
     ]
    },
    {
     "name": "stdout",
     "output_type": "stream",
     "text": [
      "  Generating projections for 11625 players...\n",
      "  Loading actual results...\n",
      "  Evaluating...\n",
      "  MAPE: 82.5%  |  RMSE: 9.32  |  Corr: 0.778\n",
      "\n",
      "[18/31] Processing 20240118...\n",
      "  Building features from 13141 training games...\n"
     ]
    },
    {
     "name": "stderr",
     "output_type": "stream",
     "text": [
      "2025-10-07 01:48:51,366 - src.feature_builder_v2 - INFO - Calculating rolling features for each player\n",
      "2025-10-07 01:49:28,232 - src.feature_builder_v2 - INFO - Built training features: 11596 samples, 118 features\n"
     ]
    },
    {
     "name": "stdout",
     "output_type": "stream",
     "text": [
      "  Training xgboost model...\n"
     ]
    },
    {
     "name": "stderr",
     "output_type": "stream",
     "text": [
      "2025-10-07 01:49:28,834 - src.feature_builder_v2 - INFO - Building features for slate players\n"
     ]
    },
    {
     "name": "stdout",
     "output_type": "stream",
     "text": [
      "  Building slate features...\n"
     ]
    },
    {
     "name": "stderr",
     "output_type": "stream",
     "text": [
      "2025-10-07 01:49:53,617 - src.feature_builder_v2 - INFO - Built slate features for 5215 players\n",
      "2025-10-07 01:49:53,653 - src.walk_forward_backtest - INFO - Processing slate 19/31: 20240119\n",
      "2025-10-07 01:49:53,654 - src.historical_data_loader - INFO - Loading slate data for 20240119\n",
      "2025-10-07 01:49:53,727 - src.historical_data_loader - INFO - Loaded slate data: 11988 salaries, 16 games\n",
      "2025-10-07 01:49:53,729 - src.historical_data_loader - INFO - Loading historical player logs (up to 20240119, lookback: 90 days)\n",
      "2025-10-07 01:49:53,821 - src.historical_data_loader - INFO - Loaded 13244 player logs from 20231024 to 20240118\n",
      "2025-10-07 01:49:53,824 - src.feature_builder_v2 - INFO - Building training features with strict temporal ordering\n"
     ]
    },
    {
     "name": "stdout",
     "output_type": "stream",
     "text": [
      "  Generating projections for 5215 players...\n",
      "  Loading actual results...\n",
      "  Evaluating...\n",
      "  MAPE: 54.0%  |  RMSE: 11.15  |  Corr: 0.739\n",
      "\n",
      "[19/31] Processing 20240119...\n",
      "  Building features from 13244 training games...\n"
     ]
    },
    {
     "name": "stderr",
     "output_type": "stream",
     "text": [
      "2025-10-07 01:49:53,843 - src.feature_builder_v2 - INFO - Calculating DK fantasy points for training data\n",
      "2025-10-07 01:49:53,987 - src.feature_builder_v2 - INFO - Calculating rolling features for each player\n",
      "2025-10-07 01:50:42,805 - src.feature_builder_v2 - INFO - Built training features: 11697 samples, 118 features\n"
     ]
    },
    {
     "name": "stdout",
     "output_type": "stream",
     "text": [
      "  Training xgboost model...\n"
     ]
    },
    {
     "name": "stderr",
     "output_type": "stream",
     "text": [
      "2025-10-07 01:50:43,607 - src.feature_builder_v2 - INFO - Building features for slate players\n"
     ]
    },
    {
     "name": "stdout",
     "output_type": "stream",
     "text": [
      "  Building slate features...\n"
     ]
    },
    {
     "name": "stderr",
     "output_type": "stream",
     "text": [
      "2025-10-07 01:51:43,002 - src.feature_builder_v2 - INFO - Built slate features for 8992 players\n",
      "2025-10-07 01:51:43,049 - src.walk_forward_backtest - INFO - Processing slate 20/31: 20240120\n",
      "2025-10-07 01:51:43,050 - src.historical_data_loader - INFO - Loading slate data for 20240120\n",
      "2025-10-07 01:51:43,118 - src.historical_data_loader - INFO - Loaded slate data: 12171 salaries, 16 games\n",
      "2025-10-07 01:51:43,120 - src.historical_data_loader - INFO - Loading historical player logs (up to 20240120, lookback: 90 days)\n",
      "2025-10-07 01:51:43,192 - src.historical_data_loader - INFO - Loaded 13396 player logs from 20231024 to 20240119\n",
      "2025-10-07 01:51:43,196 - src.feature_builder_v2 - INFO - Building training features with strict temporal ordering\n",
      "2025-10-07 01:51:43,216 - src.feature_builder_v2 - INFO - Calculating DK fantasy points for training data\n"
     ]
    },
    {
     "name": "stdout",
     "output_type": "stream",
     "text": [
      "  Generating projections for 8992 players...\n",
      "  Loading actual results...\n",
      "  Evaluating...\n",
      "  MAPE: 98.0%  |  RMSE: 10.55  |  Corr: 0.771\n",
      "\n",
      "[20/31] Processing 20240120...\n",
      "  Building features from 13396 training games...\n"
     ]
    },
    {
     "name": "stderr",
     "output_type": "stream",
     "text": [
      "2025-10-07 01:51:43,362 - src.feature_builder_v2 - INFO - Calculating rolling features for each player\n",
      "2025-10-07 01:52:21,223 - src.feature_builder_v2 - INFO - Built training features: 11846 samples, 118 features\n"
     ]
    },
    {
     "name": "stdout",
     "output_type": "stream",
     "text": [
      "  Training xgboost model...\n"
     ]
    },
    {
     "name": "stderr",
     "output_type": "stream",
     "text": [
      "2025-10-07 01:52:21,661 - src.feature_builder_v2 - INFO - Building features for slate players\n"
     ]
    },
    {
     "name": "stdout",
     "output_type": "stream",
     "text": [
      "  Building slate features...\n"
     ]
    },
    {
     "name": "stderr",
     "output_type": "stream",
     "text": [
      "2025-10-07 01:53:03,182 - src.feature_builder_v2 - INFO - Built slate features for 8890 players\n",
      "2025-10-07 01:53:03,235 - src.walk_forward_backtest - INFO - Processing slate 21/31: 20240121\n",
      "2025-10-07 01:53:03,235 - src.historical_data_loader - INFO - Loading slate data for 20240121\n",
      "2025-10-07 01:53:03,303 - src.historical_data_loader - INFO - Loaded slate data: 9196 salaries, 12 games\n",
      "2025-10-07 01:53:03,304 - src.historical_data_loader - INFO - Loading historical player logs (up to 20240121, lookback: 90 days)\n",
      "2025-10-07 01:53:03,380 - src.historical_data_loader - INFO - Loaded 13568 player logs from 20231024 to 20240120\n",
      "2025-10-07 01:53:03,384 - src.feature_builder_v2 - INFO - Building training features with strict temporal ordering\n",
      "2025-10-07 01:53:03,404 - src.feature_builder_v2 - INFO - Calculating DK fantasy points for training data\n"
     ]
    },
    {
     "name": "stdout",
     "output_type": "stream",
     "text": [
      "  Generating projections for 8890 players...\n",
      "  Loading actual results...\n",
      "  Evaluating...\n",
      "  MAPE: 60.3%  |  RMSE: 10.42  |  Corr: 0.726\n",
      "\n",
      "[21/31] Processing 20240121...\n",
      "  Building features from 13568 training games...\n"
     ]
    },
    {
     "name": "stderr",
     "output_type": "stream",
     "text": [
      "2025-10-07 01:53:03,551 - src.feature_builder_v2 - INFO - Calculating rolling features for each player\n",
      "2025-10-07 01:53:42,347 - src.feature_builder_v2 - INFO - Built training features: 12014 samples, 118 features\n"
     ]
    },
    {
     "name": "stdout",
     "output_type": "stream",
     "text": [
      "  Training xgboost model...\n"
     ]
    },
    {
     "name": "stderr",
     "output_type": "stream",
     "text": [
      "2025-10-07 01:53:42,998 - src.feature_builder_v2 - INFO - Building features for slate players\n"
     ]
    },
    {
     "name": "stdout",
     "output_type": "stream",
     "text": [
      "  Building slate features...\n"
     ]
    },
    {
     "name": "stderr",
     "output_type": "stream",
     "text": [
      "2025-10-07 01:54:16,297 - src.feature_builder_v2 - INFO - Built slate features for 6931 players\n",
      "2025-10-07 01:54:16,341 - src.walk_forward_backtest - INFO - Processing slate 22/31: 20240122\n",
      "2025-10-07 01:54:16,341 - src.historical_data_loader - INFO - Loading slate data for 20240122\n",
      "2025-10-07 01:54:16,433 - src.historical_data_loader - INFO - Loaded slate data: 12016 salaries, 16 games\n",
      "2025-10-07 01:54:16,435 - src.historical_data_loader - INFO - Loading historical player logs (up to 20240122, lookback: 90 days)\n",
      "2025-10-07 01:54:16,524 - src.historical_data_loader - INFO - Loaded 13697 player logs from 20231024 to 20240121\n"
     ]
    },
    {
     "name": "stdout",
     "output_type": "stream",
     "text": [
      "  Generating projections for 6931 players...\n",
      "  Loading actual results...\n",
      "  Evaluating...\n",
      "  MAPE: 70.2%  |  RMSE: 10.30  |  Corr: 0.757\n",
      "\n",
      "[22/31] Processing 20240122...\n"
     ]
    },
    {
     "name": "stderr",
     "output_type": "stream",
     "text": [
      "2025-10-07 01:54:16,529 - src.feature_builder_v2 - INFO - Building training features with strict temporal ordering\n",
      "2025-10-07 01:54:16,551 - src.feature_builder_v2 - INFO - Calculating DK fantasy points for training data\n",
      "2025-10-07 01:54:16,710 - src.feature_builder_v2 - INFO - Calculating rolling features for each player\n"
     ]
    },
    {
     "name": "stdout",
     "output_type": "stream",
     "text": [
      "  Building features from 13697 training games...\n"
     ]
    },
    {
     "name": "stderr",
     "output_type": "stream",
     "text": [
      "2025-10-07 01:54:56,915 - src.feature_builder_v2 - INFO - Built training features: 12142 samples, 118 features\n"
     ]
    },
    {
     "name": "stdout",
     "output_type": "stream",
     "text": [
      "  Training xgboost model...\n"
     ]
    },
    {
     "name": "stderr",
     "output_type": "stream",
     "text": [
      "2025-10-07 01:54:57,459 - src.feature_builder_v2 - INFO - Building features for slate players\n"
     ]
    },
    {
     "name": "stdout",
     "output_type": "stream",
     "text": [
      "  Building slate features...\n"
     ]
    },
    {
     "name": "stderr",
     "output_type": "stream",
     "text": [
      "2025-10-07 01:55:41,938 - src.feature_builder_v2 - INFO - Built slate features for 9042 players\n",
      "2025-10-07 01:55:41,990 - src.walk_forward_backtest - INFO - Processing slate 23/31: 20240123\n",
      "2025-10-07 01:55:41,990 - src.historical_data_loader - INFO - Loading slate data for 20240123\n",
      "2025-10-07 01:55:42,072 - src.historical_data_loader - INFO - Loaded slate data: 7485 salaries, 10 games\n",
      "2025-10-07 01:55:42,075 - src.historical_data_loader - INFO - Loading historical player logs (up to 20240123, lookback: 90 days)\n",
      "2025-10-07 01:55:42,161 - src.historical_data_loader - INFO - Loaded 13812 player logs from 20231025 to 20240122\n",
      "2025-10-07 01:55:42,165 - src.feature_builder_v2 - INFO - Building training features with strict temporal ordering\n"
     ]
    },
    {
     "name": "stdout",
     "output_type": "stream",
     "text": [
      "  Generating projections for 9042 players...\n",
      "  Loading actual results...\n",
      "  Evaluating...\n",
      "  MAPE: 60.8%  |  RMSE: 11.13  |  Corr: 0.772\n",
      "\n",
      "[23/31] Processing 20240123...\n",
      "  Building features from 13812 training games...\n"
     ]
    },
    {
     "name": "stderr",
     "output_type": "stream",
     "text": [
      "2025-10-07 01:55:42,187 - src.feature_builder_v2 - INFO - Calculating DK fantasy points for training data\n",
      "2025-10-07 01:55:42,353 - src.feature_builder_v2 - INFO - Calculating rolling features for each player\n",
      "2025-10-07 01:56:24,757 - src.feature_builder_v2 - INFO - Built training features: 12256 samples, 118 features\n"
     ]
    },
    {
     "name": "stdout",
     "output_type": "stream",
     "text": [
      "  Training xgboost model...\n"
     ]
    },
    {
     "name": "stderr",
     "output_type": "stream",
     "text": [
      "2025-10-07 01:56:25,448 - src.feature_builder_v2 - INFO - Building features for slate players\n"
     ]
    },
    {
     "name": "stdout",
     "output_type": "stream",
     "text": [
      "  Building slate features...\n"
     ]
    },
    {
     "name": "stderr",
     "output_type": "stream",
     "text": [
      "2025-10-07 01:56:53,135 - src.feature_builder_v2 - INFO - Built slate features for 5607 players\n",
      "2025-10-07 01:56:53,170 - src.walk_forward_backtest - INFO - Processing slate 24/31: 20240124\n",
      "2025-10-07 01:56:53,170 - src.historical_data_loader - INFO - Loading slate data for 20240124\n",
      "2025-10-07 01:56:53,266 - src.historical_data_loader - INFO - Loaded slate data: 12311 salaries, 16 games\n",
      "2025-10-07 01:56:53,269 - src.historical_data_loader - INFO - Loading historical player logs (up to 20240124, lookback: 90 days)\n",
      "2025-10-07 01:56:53,357 - src.historical_data_loader - INFO - Loaded 13645 player logs from 20231026 to 20240123\n"
     ]
    },
    {
     "name": "stdout",
     "output_type": "stream",
     "text": [
      "  Generating projections for 5607 players...\n",
      "  Loading actual results...\n",
      "  Evaluating...\n",
      "  MAPE: 40.0%  |  RMSE: 9.13  |  Corr: 0.797\n",
      "\n",
      "[24/31] Processing 20240124...\n"
     ]
    },
    {
     "name": "stderr",
     "output_type": "stream",
     "text": [
      "2025-10-07 01:56:53,361 - src.feature_builder_v2 - INFO - Building training features with strict temporal ordering\n",
      "2025-10-07 01:56:53,380 - src.feature_builder_v2 - INFO - Calculating DK fantasy points for training data\n",
      "2025-10-07 01:56:53,547 - src.feature_builder_v2 - INFO - Calculating rolling features for each player\n"
     ]
    },
    {
     "name": "stdout",
     "output_type": "stream",
     "text": [
      "  Building features from 13645 training games...\n"
     ]
    },
    {
     "name": "stderr",
     "output_type": "stream",
     "text": [
      "2025-10-07 01:57:34,421 - src.feature_builder_v2 - INFO - Built training features: 12089 samples, 118 features\n"
     ]
    },
    {
     "name": "stdout",
     "output_type": "stream",
     "text": [
      "  Training xgboost model...\n"
     ]
    },
    {
     "name": "stderr",
     "output_type": "stream",
     "text": [
      "2025-10-07 01:57:35,088 - src.feature_builder_v2 - INFO - Building features for slate players\n"
     ]
    },
    {
     "name": "stdout",
     "output_type": "stream",
     "text": [
      "  Building slate features...\n"
     ]
    },
    {
     "name": "stderr",
     "output_type": "stream",
     "text": [
      "2025-10-07 01:58:20,248 - src.feature_builder_v2 - INFO - Built slate features for 9314 players\n",
      "2025-10-07 01:58:20,298 - src.walk_forward_backtest - INFO - Processing slate 25/31: 20240125\n",
      "2025-10-07 01:58:20,299 - src.historical_data_loader - INFO - Loading slate data for 20240125\n",
      "2025-10-07 01:58:20,365 - src.historical_data_loader - INFO - Loaded slate data: 10516 salaries, 14 games\n",
      "2025-10-07 01:58:20,367 - src.historical_data_loader - INFO - Loading historical player logs (up to 20240125, lookback: 90 days)\n",
      "2025-10-07 01:58:20,448 - src.historical_data_loader - INFO - Loaded 13790 player logs from 20231027 to 20240124\n",
      "2025-10-07 01:58:20,451 - src.feature_builder_v2 - INFO - Building training features with strict temporal ordering\n",
      "2025-10-07 01:58:20,471 - src.feature_builder_v2 - INFO - Calculating DK fantasy points for training data\n"
     ]
    },
    {
     "name": "stdout",
     "output_type": "stream",
     "text": [
      "  Generating projections for 9314 players...\n",
      "  Loading actual results...\n",
      "  Evaluating...\n",
      "  MAPE: 69.8%  |  RMSE: 9.96  |  Corr: 0.771\n",
      "\n",
      "[25/31] Processing 20240125...\n",
      "  Building features from 13790 training games...\n"
     ]
    },
    {
     "name": "stderr",
     "output_type": "stream",
     "text": [
      "2025-10-07 01:58:20,622 - src.feature_builder_v2 - INFO - Calculating rolling features for each player\n",
      "2025-10-07 01:59:00,578 - src.feature_builder_v2 - INFO - Built training features: 12229 samples, 118 features\n"
     ]
    },
    {
     "name": "stdout",
     "output_type": "stream",
     "text": [
      "  Training xgboost model...\n"
     ]
    },
    {
     "name": "stderr",
     "output_type": "stream",
     "text": [
      "2025-10-07 01:59:01,240 - src.feature_builder_v2 - INFO - Building features for slate players\n"
     ]
    },
    {
     "name": "stdout",
     "output_type": "stream",
     "text": [
      "  Building slate features...\n"
     ]
    },
    {
     "name": "stderr",
     "output_type": "stream",
     "text": [
      "2025-10-07 07:02:09,150 - src.feature_builder_v2 - INFO - Built slate features for 7584 players\n",
      "2025-10-07 07:02:09,192 - src.walk_forward_backtest - INFO - Processing slate 26/31: 20240126\n",
      "2025-10-07 07:02:09,192 - src.historical_data_loader - INFO - Loading slate data for 20240126\n",
      "2025-10-07 07:02:09,262 - src.historical_data_loader - INFO - Loaded slate data: 12110 salaries, 16 games\n",
      "2025-10-07 07:02:09,263 - src.historical_data_loader - INFO - Loading historical player logs (up to 20240126, lookback: 90 days)\n",
      "2025-10-07 07:02:09,352 - src.historical_data_loader - INFO - Loaded 13732 player logs from 20231028 to 20240125\n",
      "2025-10-07 07:02:09,356 - src.feature_builder_v2 - INFO - Building training features with strict temporal ordering\n"
     ]
    },
    {
     "name": "stdout",
     "output_type": "stream",
     "text": [
      "  Generating projections for 7584 players...\n",
      "  Loading actual results...\n",
      "  Evaluating...\n",
      "  MAPE: 64.2%  |  RMSE: 9.09  |  Corr: 0.769\n",
      "\n",
      "[26/31] Processing 20240126...\n",
      "  Building features from 13732 training games...\n"
     ]
    },
    {
     "name": "stderr",
     "output_type": "stream",
     "text": [
      "2025-10-07 07:02:09,377 - src.feature_builder_v2 - INFO - Calculating DK fantasy points for training data\n",
      "2025-10-07 07:02:09,526 - src.feature_builder_v2 - INFO - Calculating rolling features for each player\n",
      "2025-10-07 07:02:47,877 - src.feature_builder_v2 - INFO - Built training features: 12170 samples, 118 features\n"
     ]
    },
    {
     "name": "stdout",
     "output_type": "stream",
     "text": [
      "  Training xgboost model...\n"
     ]
    },
    {
     "name": "stderr",
     "output_type": "stream",
     "text": [
      "2025-10-07 07:02:48,296 - src.feature_builder_v2 - INFO - Building features for slate players\n"
     ]
    },
    {
     "name": "stdout",
     "output_type": "stream",
     "text": [
      "  Building slate features...\n"
     ]
    },
    {
     "name": "stderr",
     "output_type": "stream",
     "text": [
      "2025-10-07 07:03:28,737 - src.feature_builder_v2 - INFO - Built slate features for 9306 players\n",
      "2025-10-07 07:03:28,793 - src.walk_forward_backtest - INFO - Processing slate 27/31: 20240127\n",
      "2025-10-07 07:03:28,793 - src.historical_data_loader - INFO - Loading slate data for 20240127\n",
      "2025-10-07 07:03:28,864 - src.historical_data_loader - INFO - Loaded slate data: 15223 salaries, 20 games\n",
      "2025-10-07 07:03:28,866 - src.historical_data_loader - INFO - Loading historical player logs (up to 20240127, lookback: 90 days)\n",
      "2025-10-07 07:03:28,939 - src.historical_data_loader - INFO - Loaded 13750 player logs from 20231029 to 20240126\n",
      "2025-10-07 07:03:28,944 - src.feature_builder_v2 - INFO - Building training features with strict temporal ordering\n",
      "2025-10-07 07:03:28,962 - src.feature_builder_v2 - INFO - Calculating DK fantasy points for training data\n"
     ]
    },
    {
     "name": "stdout",
     "output_type": "stream",
     "text": [
      "  Generating projections for 9306 players...\n",
      "  Loading actual results...\n",
      "  Evaluating...\n",
      "  MAPE: 69.5%  |  RMSE: 10.66  |  Corr: 0.753\n",
      "\n",
      "[27/31] Processing 20240127...\n",
      "  Building features from 13750 training games...\n"
     ]
    },
    {
     "name": "stderr",
     "output_type": "stream",
     "text": [
      "2025-10-07 07:03:29,106 - src.feature_builder_v2 - INFO - Calculating rolling features for each player\n",
      "2025-10-07 10:34:20,902 - src.feature_builder_v2 - INFO - Built training features: 12186 samples, 118 features\n"
     ]
    },
    {
     "name": "stdout",
     "output_type": "stream",
     "text": [
      "  Training xgboost model...\n"
     ]
    },
    {
     "name": "stderr",
     "output_type": "stream",
     "text": [
      "2025-10-07 10:34:21,577 - src.feature_builder_v2 - INFO - Building features for slate players\n"
     ]
    },
    {
     "name": "stdout",
     "output_type": "stream",
     "text": [
      "  Building slate features...\n"
     ]
    }
   ],
   "source": [
    "results = backtest.run()"
   ]
  },
  {
   "cell_type": "markdown",
   "metadata": {},
   "source": [
    "## Results Summary"
   ]
  },
  {
   "cell_type": "code",
   "execution_count": null,
   "metadata": {},
   "outputs": [],
   "source": [
    "if 'error' not in results:\n",
    "    print('='*80)\n",
    "    print('BACKTEST RESULTS SUMMARY')\n",
    "    print('='*80)\n",
    "    print(f\"\\nNumber of Slates: {results['num_slates']}\")\n",
    "    print(f\"Date Range: {results['date_range']}\")\n",
    "    print(f\"\\nTotal Players Evaluated: {results['total_players_evaluated']:.0f}\")\n",
    "    print(f\"Average Players per Slate: {results['avg_players_per_slate']:.1f}\")\n",
    "    print(f\"\\nMean MAPE: {results['mean_mape']:.2f}%\")\n",
    "    print(f\"Median MAPE: {results['median_mape']:.2f}%\")\n",
    "    print(f\"Std MAPE: {results['std_mape']:.2f}%\")\n",
    "    print(f\"\\nMean RMSE: {results['mean_rmse']:.2f}\")\n",
    "    print(f\"Std RMSE: {results['std_rmse']:.2f}\")\n",
    "    print(f\"\\nMean Correlation: {results['mean_correlation']:.3f}\")\n",
    "    print(f\"Std Correlation: {results['std_correlation']:.3f}\")\n",
    "    print('='*80)\n",
    "else:\n",
    "    print(f\"ERROR: {results['error']}\")"
   ]
  },
  {
   "cell_type": "markdown",
   "metadata": {},
   "source": [
    "## Daily Results Table"
   ]
  },
  {
   "cell_type": "code",
   "execution_count": null,
   "metadata": {},
   "outputs": [],
   "source": [
    "if 'error' not in results and 'daily_results' in results:\n",
    "    daily_df = results['daily_results']\n",
    "    display(daily_df[['date', 'num_players', 'mape', 'rmse', 'correlation', 'mean_projected', 'mean_actual']])\n",
    "else:\n",
    "    print('No daily results available')"
   ]
  },
  {
   "cell_type": "markdown",
   "metadata": {},
   "source": [
    "## Visualizations"
   ]
  },
  {
   "cell_type": "code",
   "execution_count": null,
   "metadata": {},
   "outputs": [],
   "source": [
    "if 'error' not in results and 'daily_results' in results:\n",
    "    daily_df = results['daily_results']\n",
    "    \n",
    "    fig, axes = plt.subplots(2, 2, figsize=(16, 12))\n",
    "    \n",
    "    axes[0, 0].plot(daily_df['date'], daily_df['mape'], marker='o', linewidth=2)\n",
    "    axes[0, 0].axhline(y=daily_df['mape'].mean(), color='r', linestyle='--', label=f'Mean: {daily_df[\"mape\"].mean():.1f}%')\n",
    "    axes[0, 0].set_title('MAPE Over Time', fontsize=14, fontweight='bold')\n",
    "    axes[0, 0].set_xlabel('Date')\n",
    "    axes[0, 0].set_ylabel('MAPE (%)')\n",
    "    axes[0, 0].legend()\n",
    "    axes[0, 0].grid(True, alpha=0.3)\n",
    "    axes[0, 0].tick_params(axis='x', rotation=45)\n",
    "    \n",
    "    axes[0, 1].plot(daily_df['date'], daily_df['rmse'], marker='o', linewidth=2, color='orange')\n",
    "    axes[0, 1].axhline(y=daily_df['rmse'].mean(), color='r', linestyle='--', label=f'Mean: {daily_df[\"rmse\"].mean():.2f}')\n",
    "    axes[0, 1].set_title('RMSE Over Time', fontsize=14, fontweight='bold')\n",
    "    axes[0, 1].set_xlabel('Date')\n",
    "    axes[0, 1].set_ylabel('RMSE')\n",
    "    axes[0, 1].legend()\n",
    "    axes[0, 1].grid(True, alpha=0.3)\n",
    "    axes[0, 1].tick_params(axis='x', rotation=45)\n",
    "    \n",
    "    axes[1, 0].plot(daily_df['date'], daily_df['correlation'], marker='o', linewidth=2, color='green')\n",
    "    axes[1, 0].axhline(y=daily_df['correlation'].mean(), color='r', linestyle='--', label=f'Mean: {daily_df[\"correlation\"].mean():.3f}')\n",
    "    axes[1, 0].set_title('Correlation Over Time', fontsize=14, fontweight='bold')\n",
    "    axes[1, 0].set_xlabel('Date')\n",
    "    axes[1, 0].set_ylabel('Correlation')\n",
    "    axes[1, 0].legend()\n",
    "    axes[1, 0].grid(True, alpha=0.3)\n",
    "    axes[1, 0].tick_params(axis='x', rotation=45)\n",
    "    \n",
    "    axes[1, 1].bar(daily_df['date'], daily_df['num_players'], color='purple', alpha=0.7)\n",
    "    axes[1, 1].axhline(y=daily_df['num_players'].mean(), color='r', linestyle='--', label=f'Mean: {daily_df[\"num_players\"].mean():.1f}')\n",
    "    axes[1, 1].set_title('Players Evaluated Per Slate', fontsize=14, fontweight='bold')\n",
    "    axes[1, 1].set_xlabel('Date')\n",
    "    axes[1, 1].set_ylabel('Number of Players')\n",
    "    axes[1, 1].legend()\n",
    "    axes[1, 1].grid(True, alpha=0.3)\n",
    "    axes[1, 1].tick_params(axis='x', rotation=45)\n",
    "    \n",
    "    plt.tight_layout()\n",
    "    plt.show()\n",
    "else:\n",
    "    print('No data available for visualization')"
   ]
  },
  {
   "cell_type": "markdown",
   "metadata": {},
   "source": [
    "## Distribution Analysis"
   ]
  },
  {
   "cell_type": "code",
   "execution_count": null,
   "metadata": {},
   "outputs": [],
   "source": [
    "if 'error' not in results and 'daily_results' in results:\n",
    "    daily_df = results['daily_results']\n",
    "    \n",
    "    fig, axes = plt.subplots(1, 3, figsize=(18, 5))\n",
    "    \n",
    "    axes[0].hist(daily_df['mape'], bins=15, color='skyblue', edgecolor='black', alpha=0.7)\n",
    "    axes[0].axvline(x=daily_df['mape'].mean(), color='red', linestyle='--', linewidth=2, label=f'Mean: {daily_df[\"mape\"].mean():.1f}%')\n",
    "    axes[0].set_title('MAPE Distribution', fontsize=14, fontweight='bold')\n",
    "    axes[0].set_xlabel('MAPE (%)')\n",
    "    axes[0].set_ylabel('Frequency')\n",
    "    axes[0].legend()\n",
    "    axes[0].grid(True, alpha=0.3)\n",
    "    \n",
    "    axes[1].hist(daily_df['rmse'], bins=15, color='lightcoral', edgecolor='black', alpha=0.7)\n",
    "    axes[1].axvline(x=daily_df['rmse'].mean(), color='red', linestyle='--', linewidth=2, label=f'Mean: {daily_df[\"rmse\"].mean():.2f}')\n",
    "    axes[1].set_title('RMSE Distribution', fontsize=14, fontweight='bold')\n",
    "    axes[1].set_xlabel('RMSE')\n",
    "    axes[1].set_ylabel('Frequency')\n",
    "    axes[1].legend()\n",
    "    axes[1].grid(True, alpha=0.3)\n",
    "    \n",
    "    axes[2].hist(daily_df['correlation'], bins=15, color='lightgreen', edgecolor='black', alpha=0.7)\n",
    "    axes[2].axvline(x=daily_df['correlation'].mean(), color='red', linestyle='--', linewidth=2, label=f'Mean: {daily_df[\"correlation\"].mean():.3f}')\n",
    "    axes[2].set_title('Correlation Distribution', fontsize=14, fontweight='bold')\n",
    "    axes[2].set_xlabel('Correlation')\n",
    "    axes[2].set_ylabel('Frequency')\n",
    "    axes[2].legend()\n",
    "    axes[2].grid(True, alpha=0.3)\n",
    "    \n",
    "    plt.tight_layout()\n",
    "    plt.show()\n",
    "else:\n",
    "    print('No data available for visualization')"
   ]
  },
  {
   "cell_type": "markdown",
   "metadata": {},
   "source": [
    "## Statistical Summary"
   ]
  },
  {
   "cell_type": "code",
   "execution_count": null,
   "metadata": {},
   "outputs": [],
   "source": [
    "if 'error' not in results and 'daily_results' in results:\n",
    "    daily_df = results['daily_results']\n",
    "    \n",
    "    print('Statistical Summary of Metrics')\n",
    "    print('='*80)\n",
    "    \n",
    "    metrics_summary = daily_df[['mape', 'rmse', 'correlation']].describe()\n",
    "    display(metrics_summary)\n",
    "    \n",
    "    print('\\nCorrelation Matrix')\n",
    "    print('='*80)\n",
    "    corr_matrix = daily_df[['mape', 'rmse', 'correlation', 'num_players']].corr()\n",
    "    display(corr_matrix)\n",
    "    \n",
    "    plt.figure(figsize=(8, 6))\n",
    "    sns.heatmap(corr_matrix, annot=True, cmap='coolwarm', center=0, square=True, linewidths=1)\n",
    "    plt.title('Correlation Matrix of Metrics', fontsize=14, fontweight='bold')\n",
    "    plt.tight_layout()\n",
    "    plt.show()\n",
    "else:\n",
    "    print('No data available for statistical summary')"
   ]
  },
  {
   "cell_type": "markdown",
   "metadata": {},
   "source": [
    "## Export Results"
   ]
  },
  {
   "cell_type": "code",
   "execution_count": null,
   "metadata": {},
   "outputs": [],
   "source": [
    "if 'error' not in results and 'daily_results' in results:\n",
    "    OUTPUT_DIR.mkdir(parents=True, exist_ok=True)\n",
    "    \n",
    "    csv_path = OUTPUT_DIR / f'backtest_results_{START_DATE}_to_{END_DATE}.csv'\n",
    "    daily_df.to_csv(csv_path, index=False)\n",
    "    print(f'Results exported to: {csv_path}')\n",
    "    \n",
    "    summary_path = OUTPUT_DIR / f'summary_{START_DATE}_to_{END_DATE}.txt'\n",
    "    with open(summary_path, 'w') as f:\n",
    "        f.write('='*80 + '\\n')\n",
    "        f.write('BACKTEST RESULTS SUMMARY\\n')\n",
    "        f.write('='*80 + '\\n\\n')\n",
    "        f.write(f\"Date Range: {results['date_range']}\\n\")\n",
    "        f.write(f\"Number of Slates: {results['num_slates']}\\n\")\n",
    "        f.write(f\"Total Players Evaluated: {results['total_players_evaluated']:.0f}\\n\")\n",
    "        f.write(f\"Average Players per Slate: {results['avg_players_per_slate']:.1f}\\n\\n\")\n",
    "        f.write(f\"Mean MAPE: {results['mean_mape']:.2f}%\\n\")\n",
    "        f.write(f\"Median MAPE: {results['median_mape']:.2f}%\\n\")\n",
    "        f.write(f\"Std MAPE: {results['std_mape']:.2f}%\\n\\n\")\n",
    "        f.write(f\"Mean RMSE: {results['mean_rmse']:.2f}\\n\")\n",
    "        f.write(f\"Std RMSE: {results['std_rmse']:.2f}\\n\\n\")\n",
    "        f.write(f\"Mean Correlation: {results['mean_correlation']:.3f}\\n\")\n",
    "        f.write(f\"Std Correlation: {results['std_correlation']:.3f}\\n\")\n",
    "    \n",
    "    print(f'Summary exported to: {summary_path}')\n",
    "else:\n",
    "    print('No results to export')"
   ]
  },
  {
   "cell_type": "markdown",
   "metadata": {},
   "source": [
    "## Test Individual Components"
   ]
  },
  {
   "cell_type": "code",
   "execution_count": null,
   "metadata": {},
   "outputs": [],
   "source": [
    "loader = HistoricalDataLoader(str(DB_PATH))\n",
    "\n",
    "slate_dates = loader.load_slate_dates(START_DATE, END_DATE)\n",
    "print(f'Found {len(slate_dates)} slate dates')\n",
    "print(f'First 5: {slate_dates[:5]}')"
   ]
  },
  {
   "cell_type": "code",
   "execution_count": null,
   "metadata": {},
   "outputs": [],
   "source": [
    "if slate_dates:\n",
    "    test_date = slate_dates[0]\n",
    "    print(f'Testing with date: {test_date}')\n",
    "    \n",
    "    slate_data = loader.load_slate_data(test_date)\n",
    "    print(f\"\\nSalaries: {len(slate_data['salaries'])} players\")\n",
    "    print(f\"Schedule: {len(slate_data['schedule'])} games\")\n",
    "    \n",
    "    if not slate_data['salaries'].empty:\n",
    "        display(slate_data['salaries'].head())"
   ]
  },
  {
   "cell_type": "code",
   "execution_count": null,
   "metadata": {},
   "outputs": [],
   "source": [
    "if slate_dates:\n",
    "    test_date = slate_dates[0]\n",
    "    \n",
    "    training_data = loader.load_historical_player_logs(test_date, lookback_days=90)\n",
    "    print(f'Training data: {len(training_data)} rows')\n",
    "    print(f'Date range: {training_data[\"gameDate\"].min()} to {training_data[\"gameDate\"].max()}')\n",
    "    print(f'Unique players: {training_data[\"playerID\"].nunique()}')\n",
    "    \n",
    "    display(training_data.head())"
   ]
  },
  {
   "cell_type": "code",
   "execution_count": null,
   "metadata": {},
   "outputs": [],
   "source": [
    "builder = FeatureBuilder()\n",
    "\n",
    "test_stats = pd.Series({\n",
    "    'pts': 25,\n",
    "    'reb': 10,\n",
    "    'ast': 8,\n",
    "    'stl': 2,\n",
    "    'blk': 1,\n",
    "    'TOV': 3\n",
    "})\n",
    "\n",
    "fpts = builder.calculate_dk_fantasy_points(test_stats)\n",
    "print(f'DK Fantasy Points: {fpts}')"
   ]
  },
  {
   "cell_type": "code",
   "execution_count": null,
   "metadata": {},
   "outputs": [],
   "source": [
    "if models_base_dir.exists() and len(all_metadata_files) > 0:\n",
    "    metadata_list = []\n",
    "    \n",
    "    for metadata_file in all_metadata_files[:50]:\n",
    "        with open(metadata_file, 'r') as f:\n",
    "            metadata = json.load(f)\n",
    "            metadata_list.append(metadata)\n",
    "    \n",
    "    metadata_df = pd.DataFrame(metadata_list)\n",
    "    \n",
    "    print(f'Sample of Player Model Metadata ({len(metadata_df)} models):')\n",
    "    print('='*80)\n",
    "    display(metadata_df[['player_name', 'player_id', 'num_training_samples', 'model_type']].head(10))\n",
    "    \n",
    "    print(f'\\nTraining Sample Statistics:')\n",
    "    print(metadata_df['num_training_samples'].describe())\n",
    "    \n",
    "    plt.figure(figsize=(10, 6))\n",
    "    plt.hist(metadata_df['num_training_samples'], bins=20, color='steelblue', edgecolor='black', alpha=0.7)\n",
    "    plt.axvline(x=metadata_df['num_training_samples'].mean(), color='red', linestyle='--', linewidth=2, \n",
    "                label=f'Mean: {metadata_df[\"num_training_samples\"].mean():.0f}')\n",
    "    plt.xlabel('Number of Training Samples', fontsize=12)\n",
    "    plt.ylabel('Frequency', fontsize=12)\n",
    "    plt.title('Distribution of Training Samples per Player Model', fontsize=14, fontweight='bold')\n",
    "    plt.legend()\n",
    "    plt.grid(True, alpha=0.3)\n",
    "    plt.tight_layout()\n",
    "    plt.show()"
   ]
  },
  {
   "cell_type": "code",
   "execution_count": null,
   "metadata": {},
   "outputs": [],
   "source": [
    "if models_base_dir.exists() and len(all_model_files) > 0:\n",
    "    sample_model_file = all_model_files[0]\n",
    "    sample_metadata_file = sample_model_file.with_suffix('.json')\n",
    "    \n",
    "    print(f'Loading sample model: {sample_model_file.name}')\n",
    "    print(f'Path: {sample_model_file}')\n",
    "    \n",
    "    with open(sample_metadata_file, 'r') as f:\n",
    "        metadata = json.load(f)\n",
    "    \n",
    "    print(f'\\nModel Metadata:')\n",
    "    for key, value in metadata.items():\n",
    "        print(f'  {key}: {value}')\n",
    "    \n",
    "    with open(sample_model_file, 'rb') as f:\n",
    "        model_data = pickle.load(f)\n",
    "    \n",
    "    print(f'\\nModel Data Keys: {list(model_data.keys())}')\n",
    "    print(f'Model Type: {type(model_data[\"model\"]).__name__}')\n",
    "    print(f'Training Samples: {model_data[\"num_training_samples\"]}')"
   ]
  },
  {
   "cell_type": "code",
   "execution_count": null,
   "metadata": {},
   "outputs": [],
   "source": [
    "import pickle\n",
    "import json\n",
    "from pathlib import Path\n",
    "\n",
    "models_base_dir = Path('data/models')\n",
    "\n",
    "if models_base_dir.exists():\n",
    "    all_model_files = list(models_base_dir.rglob('*.pkl'))\n",
    "    all_metadata_files = list(models_base_dir.rglob('*.json'))\n",
    "    \n",
    "    print(f'Total models saved: {len(all_model_files)}')\n",
    "    print(f'Total metadata files: {len(all_metadata_files)}')\n",
    "    print(f'\\nModel directory structure:')\n",
    "    \n",
    "    for year_dir in sorted(models_base_dir.iterdir()):\n",
    "        if year_dir.is_dir():\n",
    "            for month_dir in sorted(year_dir.iterdir()):\n",
    "                if month_dir.is_dir():\n",
    "                    for day_dir in sorted(month_dir.iterdir()):\n",
    "                        if day_dir.is_dir():\n",
    "                            model_count = len(list(day_dir.glob('*.pkl')))\n",
    "                            if model_count > 0:\n",
    "                                print(f'  {year_dir.name}/{month_dir.name}/{day_dir.name}: {model_count} models')\n",
    "else:\n",
    "    print('No models directory found. Run backtest with per_player_models=True first.')"
   ]
  },
  {
   "cell_type": "markdown",
   "metadata": {},
   "source": [
    "## Inspect Per-Player Models"
   ]
  }
 ],
 "metadata": {
  "kernelspec": {
   "display_name": "datascience",
   "language": "python",
   "name": "python3"
  },
  "language_info": {
   "codemirror_mode": {
    "name": "ipython",
    "version": 3
   },
   "file_extension": ".py",
   "mimetype": "text/x-python",
   "name": "python",
   "nbconvert_exporter": "python",
   "pygments_lexer": "ipython3",
   "version": "3.13.5"
  }
 },
 "nbformat": 4,
 "nbformat_minor": 4
}
