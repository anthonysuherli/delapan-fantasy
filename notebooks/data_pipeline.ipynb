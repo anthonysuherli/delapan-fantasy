{
 "cells": [
  {
   "cell_type": "code",
   "execution_count": 13,
   "id": "74cf07fd",
   "metadata": {},
   "outputs": [],
   "source": [
    "import os\n",
    "import sys\n",
    "import pandas as pd\n",
    "from datetime import datetime\n",
    "from dotenv import load_dotenv\n",
    "\n",
    "sys.path.append('..')\n",
    "from src.data import Tank01Client\n",
    "\n",
    "load_dotenv()\n",
    "\n",
    "api_key = os.getenv('TANK01_API_KEY')\n",
    "if not api_key:\n",
    "    raise ValueError('TANK01_API_KEY not found in .env file')\n",
    "\n",
    "client = Tank01Client(api_key=api_key)\n"
   ]
  },
  {
   "cell_type": "code",
   "execution_count": 24,
   "id": "541f0e5d",
   "metadata": {},
   "outputs": [
    {
     "data": {
      "application/vnd.microsoft.datawrangler.viewer.v0+json": {
       "columns": [
        {
         "name": "index",
         "rawType": "int64",
         "type": "integer"
        },
        {
         "name": "pos",
         "rawType": "object",
         "type": "string"
        },
        {
         "name": "playerID",
         "rawType": "object",
         "type": "string"
        },
        {
         "name": "team",
         "rawType": "object",
         "type": "string"
        },
        {
         "name": "longName",
         "rawType": "object",
         "type": "string"
        },
        {
         "name": "teamID",
         "rawType": "object",
         "type": "string"
        }
       ],
       "ref": "38ac4606-7d58-4baa-9d94-f4d76f86090f",
       "rows": [
        [
         "0",
         "PF",
         "28368569499",
         "",
         "Aric Holman",
         ""
        ],
        [
         "1",
         "PG",
         "94914298027",
         "CHA",
         "LaMelo Ball",
         "4"
        ],
        [
         "2",
         "PG",
         "94914479047",
         "MIA",
         "Tyler Herro",
         "16"
        ],
        [
         "3",
         "PG",
         "28798327499",
         "ORL",
         "Devin Cannady",
         "22"
        ],
        [
         "4",
         "PF",
         "28456813032",
         "LAL",
         "Markieff Morris",
         "14"
        ],
        [
         "5",
         "C",
         "94404412027",
         "ORL",
         "Orlando Robinson",
         "22"
        ],
        [
         "6",
         "PF",
         "94614279027",
         "ORL",
         "Franz Wagner",
         "22"
        ],
        [
         "7",
         "SF",
         "941942737289",
         "MEM",
         "Tarik Biberovic",
         "15"
        ],
        [
         "8",
         "SF",
         "28038159069",
         "MIN",
         "Justin Jackson",
         "18"
        ],
        [
         "9",
         "PG",
         "28598307499",
         "HOU",
         "Aaron Holiday",
         "11"
        ],
        [
         "10",
         "PF",
         "28856821152",
         "CLE",
         "Ed Davis",
         "6"
        ],
        [
         "11",
         "C",
         "28648982369",
         "OKC",
         "Daniel Theis",
         "21"
        ],
        [
         "12",
         "SG",
         "945047148539",
         "ATL",
         "Kobe Johnson",
         "1"
        ],
        [
         "13",
         "PF",
         "94054426027",
         "GS",
         "Quinten Post",
         "10"
        ],
        [
         "14",
         "SF",
         "28598978169",
         "",
         "Alfonzo McKinnie",
         ""
        ],
        [
         "15",
         "SF",
         "94274285027",
         "BOS",
         "Jalen Bridges",
         "2"
        ],
        [
         "16",
         "C",
         "28498852047",
         "NY",
         "Trey Jemison",
         "20"
        ],
        [
         "17",
         "C",
         "28378697869",
         "UTA",
         "Mo Bamba",
         "29"
        ],
        [
         "18",
         "SG",
         "28048379499",
         "ATL",
         "Dylan Windler",
         "1"
        ],
        [
         "19",
         "C",
         "28608207772",
         "CLE",
         "Tristan Thompson",
         "6"
        ]
       ],
       "shape": {
        "columns": 5,
        "rows": 20
       }
      },
      "text/html": [
       "<div>\n",
       "<style scoped>\n",
       "    .dataframe tbody tr th:only-of-type {\n",
       "        vertical-align: middle;\n",
       "    }\n",
       "\n",
       "    .dataframe tbody tr th {\n",
       "        vertical-align: top;\n",
       "    }\n",
       "\n",
       "    .dataframe thead th {\n",
       "        text-align: right;\n",
       "    }\n",
       "</style>\n",
       "<table border=\"1\" class=\"dataframe\">\n",
       "  <thead>\n",
       "    <tr style=\"text-align: right;\">\n",
       "      <th></th>\n",
       "      <th>pos</th>\n",
       "      <th>playerID</th>\n",
       "      <th>team</th>\n",
       "      <th>longName</th>\n",
       "      <th>teamID</th>\n",
       "    </tr>\n",
       "  </thead>\n",
       "  <tbody>\n",
       "    <tr>\n",
       "      <th>0</th>\n",
       "      <td>PF</td>\n",
       "      <td>28368569499</td>\n",
       "      <td></td>\n",
       "      <td>Aric Holman</td>\n",
       "      <td></td>\n",
       "    </tr>\n",
       "    <tr>\n",
       "      <th>1</th>\n",
       "      <td>PG</td>\n",
       "      <td>94914298027</td>\n",
       "      <td>CHA</td>\n",
       "      <td>LaMelo Ball</td>\n",
       "      <td>4</td>\n",
       "    </tr>\n",
       "    <tr>\n",
       "      <th>2</th>\n",
       "      <td>PG</td>\n",
       "      <td>94914479047</td>\n",
       "      <td>MIA</td>\n",
       "      <td>Tyler Herro</td>\n",
       "      <td>16</td>\n",
       "    </tr>\n",
       "    <tr>\n",
       "      <th>3</th>\n",
       "      <td>PG</td>\n",
       "      <td>28798327499</td>\n",
       "      <td>ORL</td>\n",
       "      <td>Devin Cannady</td>\n",
       "      <td>22</td>\n",
       "    </tr>\n",
       "    <tr>\n",
       "      <th>4</th>\n",
       "      <td>PF</td>\n",
       "      <td>28456813032</td>\n",
       "      <td>LAL</td>\n",
       "      <td>Markieff Morris</td>\n",
       "      <td>14</td>\n",
       "    </tr>\n",
       "    <tr>\n",
       "      <th>5</th>\n",
       "      <td>C</td>\n",
       "      <td>94404412027</td>\n",
       "      <td>ORL</td>\n",
       "      <td>Orlando Robinson</td>\n",
       "      <td>22</td>\n",
       "    </tr>\n",
       "    <tr>\n",
       "      <th>6</th>\n",
       "      <td>PF</td>\n",
       "      <td>94614279027</td>\n",
       "      <td>ORL</td>\n",
       "      <td>Franz Wagner</td>\n",
       "      <td>22</td>\n",
       "    </tr>\n",
       "    <tr>\n",
       "      <th>7</th>\n",
       "      <td>SF</td>\n",
       "      <td>941942737289</td>\n",
       "      <td>MEM</td>\n",
       "      <td>Tarik Biberovic</td>\n",
       "      <td>15</td>\n",
       "    </tr>\n",
       "    <tr>\n",
       "      <th>8</th>\n",
       "      <td>SF</td>\n",
       "      <td>28038159069</td>\n",
       "      <td>MIN</td>\n",
       "      <td>Justin Jackson</td>\n",
       "      <td>18</td>\n",
       "    </tr>\n",
       "    <tr>\n",
       "      <th>9</th>\n",
       "      <td>PG</td>\n",
       "      <td>28598307499</td>\n",
       "      <td>HOU</td>\n",
       "      <td>Aaron Holiday</td>\n",
       "      <td>11</td>\n",
       "    </tr>\n",
       "    <tr>\n",
       "      <th>10</th>\n",
       "      <td>PF</td>\n",
       "      <td>28856821152</td>\n",
       "      <td>CLE</td>\n",
       "      <td>Ed Davis</td>\n",
       "      <td>6</td>\n",
       "    </tr>\n",
       "    <tr>\n",
       "      <th>11</th>\n",
       "      <td>C</td>\n",
       "      <td>28648982369</td>\n",
       "      <td>OKC</td>\n",
       "      <td>Daniel Theis</td>\n",
       "      <td>21</td>\n",
       "    </tr>\n",
       "    <tr>\n",
       "      <th>12</th>\n",
       "      <td>SG</td>\n",
       "      <td>945047148539</td>\n",
       "      <td>ATL</td>\n",
       "      <td>Kobe Johnson</td>\n",
       "      <td>1</td>\n",
       "    </tr>\n",
       "    <tr>\n",
       "      <th>13</th>\n",
       "      <td>PF</td>\n",
       "      <td>94054426027</td>\n",
       "      <td>GS</td>\n",
       "      <td>Quinten Post</td>\n",
       "      <td>10</td>\n",
       "    </tr>\n",
       "    <tr>\n",
       "      <th>14</th>\n",
       "      <td>SF</td>\n",
       "      <td>28598978169</td>\n",
       "      <td></td>\n",
       "      <td>Alfonzo McKinnie</td>\n",
       "      <td></td>\n",
       "    </tr>\n",
       "    <tr>\n",
       "      <th>15</th>\n",
       "      <td>SF</td>\n",
       "      <td>94274285027</td>\n",
       "      <td>BOS</td>\n",
       "      <td>Jalen Bridges</td>\n",
       "      <td>2</td>\n",
       "    </tr>\n",
       "    <tr>\n",
       "      <th>16</th>\n",
       "      <td>C</td>\n",
       "      <td>28498852047</td>\n",
       "      <td>NY</td>\n",
       "      <td>Trey Jemison</td>\n",
       "      <td>20</td>\n",
       "    </tr>\n",
       "    <tr>\n",
       "      <th>17</th>\n",
       "      <td>C</td>\n",
       "      <td>28378697869</td>\n",
       "      <td>UTA</td>\n",
       "      <td>Mo Bamba</td>\n",
       "      <td>29</td>\n",
       "    </tr>\n",
       "    <tr>\n",
       "      <th>18</th>\n",
       "      <td>SG</td>\n",
       "      <td>28048379499</td>\n",
       "      <td>ATL</td>\n",
       "      <td>Dylan Windler</td>\n",
       "      <td>1</td>\n",
       "    </tr>\n",
       "    <tr>\n",
       "      <th>19</th>\n",
       "      <td>C</td>\n",
       "      <td>28608207772</td>\n",
       "      <td>CLE</td>\n",
       "      <td>Tristan Thompson</td>\n",
       "      <td>6</td>\n",
       "    </tr>\n",
       "  </tbody>\n",
       "</table>\n",
       "</div>"
      ],
      "text/plain": [
       "   pos      playerID team          longName teamID\n",
       "0   PF   28368569499            Aric Holman       \n",
       "1   PG   94914298027  CHA       LaMelo Ball      4\n",
       "2   PG   94914479047  MIA       Tyler Herro     16\n",
       "3   PG   28798327499  ORL     Devin Cannady     22\n",
       "4   PF   28456813032  LAL   Markieff Morris     14\n",
       "5    C   94404412027  ORL  Orlando Robinson     22\n",
       "6   PF   94614279027  ORL      Franz Wagner     22\n",
       "7   SF  941942737289  MEM   Tarik Biberovic     15\n",
       "8   SF   28038159069  MIN    Justin Jackson     18\n",
       "9   PG   28598307499  HOU     Aaron Holiday     11\n",
       "10  PF   28856821152  CLE          Ed Davis      6\n",
       "11   C   28648982369  OKC      Daniel Theis     21\n",
       "12  SG  945047148539  ATL      Kobe Johnson      1\n",
       "13  PF   94054426027   GS      Quinten Post     10\n",
       "14  SF   28598978169       Alfonzo McKinnie       \n",
       "15  SF   94274285027  BOS     Jalen Bridges      2\n",
       "16   C   28498852047   NY      Trey Jemison     20\n",
       "17   C   28378697869  UTA          Mo Bamba     29\n",
       "18  SG   28048379499  ATL     Dylan Windler      1\n",
       "19   C   28608207772  CLE  Tristan Thompson      6"
      ]
     },
     "metadata": {},
     "output_type": "display_data"
    }
   ],
   "source": [
    "players_list = client.get_player_list()  # Example usage\n",
    "players_list= pd.DataFrame(players_list['body'])\n",
    "display(players_list.head(20))"
   ]
  },
  {
   "cell_type": "code",
   "execution_count": null,
   "id": "f0ba242e",
   "metadata": {},
   "outputs": [
    {
     "ename": "NameError",
     "evalue": "name 'client' is not defined",
     "output_type": "error",
     "traceback": [
      "\u001b[31m---------------------------------------------------------------------------\u001b[39m",
      "\u001b[31mNameError\u001b[39m                                 Traceback (most recent call last)",
      "\u001b[36mCell\u001b[39m\u001b[36m \u001b[39m\u001b[32mIn[1]\u001b[39m\u001b[32m, line 1\u001b[39m\n\u001b[32m----> \u001b[39m\u001b[32m1\u001b[39m scores = \u001b[43mclient\u001b[49m.get_scores_only(game_date=\u001b[33m'\u001b[39m\u001b[33m20250102\u001b[39m\u001b[33m'\u001b[39m)  \u001b[38;5;66;03m# Example usage\u001b[39;00m\n\u001b[32m      2\u001b[39m scores= pd.DataFrame(scores[\u001b[33m'\u001b[39m\u001b[33mbody\u001b[39m\u001b[33m'\u001b[39m]).T\n\u001b[32m      3\u001b[39m display(scores.head(\u001b[32m20\u001b[39m))\n",
      "\u001b[31mNameError\u001b[39m: name 'client' is not defined"
     ]
    }
   ],
   "source": [
    "scores = client.get_scores_only(game_date='20250102')  # Example usage\n",
    "scores= pd.DataFrame(scores['body']).T\n",
    "display(scores.head(20))\n",
    "\n",
    "gameIDs = scores['gameID'].tolist()\n",
    "print(gameIDs)\n",
    "\n",
    "d"
   ]
  },
  {
   "cell_type": "code",
   "execution_count": 38,
   "id": "46bc151f",
   "metadata": {},
   "outputs": [],
   "source": [
    "game_log = client.get_box_score(game_id='BOS@MIN_20250102')"
   ]
  },
  {
   "cell_type": "code",
   "execution_count": 40,
   "id": "5996a2e4",
   "metadata": {},
   "outputs": [
    {
     "data": {
      "text/plain": [
       "{'statusCode': 200, 'body': {}, 'error': 'Need valid gameID'}"
      ]
     },
     "execution_count": 40,
     "metadata": {},
     "output_type": "execute_result"
    }
   ],
   "source": [
    "game_log"
   ]
  },
  {
   "cell_type": "code",
   "execution_count": 51,
   "id": "fd6ca5e1",
   "metadata": {},
   "outputs": [],
   "source": [
    "date = '20250102'\n",
    "\n",
    "schedules = client.get_schedule(game_date=date)\n",
    "schedules = pd.DataFrame(schedules.get('body'))\n"
   ]
  },
  {
   "cell_type": "code",
   "execution_count": null,
   "id": "8c5872b1",
   "metadata": {},
   "outputs": [
    {
     "ename": "ValidationError",
     "evalue": "Invalid gameID format: 20250102_BOS@MIN. Expected: awayTeamAbv@homeTeamAbv_YYYYMMDD",
     "output_type": "error",
     "traceback": [
      "\u001b[31m---------------------------------------------------------------------------\u001b[39m",
      "\u001b[31mValidationError\u001b[39m                           Traceback (most recent call last)",
      "\u001b[36mCell\u001b[39m\u001b[36m \u001b[39m\u001b[32mIn[54]\u001b[39m\u001b[32m, line 1\u001b[39m\n\u001b[32m----> \u001b[39m\u001b[32m1\u001b[39m \u001b[43mclient\u001b[49m\u001b[43m.\u001b[49m\u001b[43mget_box_score\u001b[49m\u001b[43m(\u001b[49m\u001b[43mgame_id\u001b[49m\u001b[43m=\u001b[49m\u001b[33;43m'\u001b[39;49m\u001b[33;43m20250102_BOS@MIN\u001b[39;49m\u001b[33;43m'\u001b[39;49m\u001b[43m)\u001b[49m\n",
      "\u001b[36mFile \u001b[39m\u001b[32mc:\\Users\\antho\\OneDrive\\Documents\\Repositories\\delapan-fantasy\\notebooks\\..\\src\\data\\collectors\\tank01_client.py:130\u001b[39m, in \u001b[36mget_box_score\u001b[39m\u001b[34m(self, game_id, **kwargs)\u001b[39m\n\u001b[32m    127\u001b[39m \u001b[38;5;28;01mif\u001b[39;00m \u001b[38;5;129;01mnot\u001b[39;00m kwargs.get(\u001b[33m'\u001b[39m\u001b[33mteam_abv\u001b[39m\u001b[33m'\u001b[39m) \u001b[38;5;129;01mand\u001b[39;00m \u001b[38;5;129;01mnot\u001b[39;00m kwargs.get(\u001b[33m'\u001b[39m\u001b[33mteam_id\u001b[39m\u001b[33m'\u001b[39m):\n\u001b[32m    128\u001b[39m     \u001b[38;5;28;01mraise\u001b[39;00m ValidationError(\u001b[33m\"\u001b[39m\u001b[33mMust provide either team_abv or team_id\u001b[39m\u001b[33m\"\u001b[39m)\n\u001b[32m--> \u001b[39m\u001b[32m130\u001b[39m param_map = {\n\u001b[32m    131\u001b[39m     \u001b[33m'\u001b[39m\u001b[33mteam_abv\u001b[39m\u001b[33m'\u001b[39m: \u001b[33m'\u001b[39m\u001b[33mteamAbv\u001b[39m\u001b[33m'\u001b[39m, \u001b[33m'\u001b[39m\u001b[33mteam_id\u001b[39m\u001b[33m'\u001b[39m: \u001b[33m'\u001b[39m\u001b[33mteamID\u001b[39m\u001b[33m'\u001b[39m,\n\u001b[32m    132\u001b[39m     \u001b[33m'\u001b[39m\u001b[33marchive_date\u001b[39m\u001b[33m'\u001b[39m: \u001b[33m'\u001b[39m\u001b[33marchiveDate\u001b[39m\u001b[33m'\u001b[39m, \u001b[33m'\u001b[39m\u001b[33mstats_to_get\u001b[39m\u001b[33m'\u001b[39m: \u001b[33m'\u001b[39m\u001b[33mstatsToGet\u001b[39m\u001b[33m'\u001b[39m\n\u001b[32m    133\u001b[39m }\n\u001b[32m    134\u001b[39m \u001b[38;5;28;01mreturn\u001b[39;00m \u001b[38;5;28mself\u001b[39m._make_request(\u001b[33m'\u001b[39m\u001b[33mteam_roster\u001b[39m\u001b[33m'\u001b[39m, \u001b[38;5;28mself\u001b[39m._build_params(param_map, **kwargs))\n",
      "\u001b[36mFile \u001b[39m\u001b[32mc:\\Users\\antho\\OneDrive\\Documents\\Repositories\\delapan-fantasy\\notebooks\\..\\src\\data\\collectors\\tank01_client.py:61\u001b[39m, in \u001b[36m_make_request\u001b[39m\u001b[34m(self, endpoint_name, params, max_retries)\u001b[39m\n\u001b[32m     58\u001b[39m retry_count = \u001b[32m0\u001b[39m\n\u001b[32m     59\u001b[39m backoff_time = \u001b[32m1\u001b[39m\n\u001b[32m---> \u001b[39m\u001b[32m61\u001b[39m \u001b[38;5;28;01mwhile\u001b[39;00m retry_count < max_retries:\n\u001b[32m     62\u001b[39m     \u001b[38;5;28;01mtry\u001b[39;00m:\n\u001b[32m     63\u001b[39m         response = requests.get(\n\u001b[32m     64\u001b[39m             url,\n\u001b[32m     65\u001b[39m             headers=\u001b[38;5;28mself\u001b[39m.headers,\n\u001b[32m     66\u001b[39m             params=params,\n\u001b[32m     67\u001b[39m             timeout=\u001b[32m30\u001b[39m\n\u001b[32m     68\u001b[39m         )\n",
      "\u001b[36mFile \u001b[39m\u001b[32mc:\\Users\\antho\\OneDrive\\Documents\\Repositories\\delapan-fantasy\\notebooks\\..\\src\\data\\collectors\\validators.py:130\u001b[39m, in \u001b[36msanitize_params\u001b[39m\u001b[34m(params)\u001b[39m\n\u001b[32m    127\u001b[39m     clean_params[key] = \u001b[38;5;28mstr\u001b[39m(value)\n\u001b[32m    129\u001b[39m \u001b[38;5;28;01melif\u001b[39;00m key == \u001b[33m'\u001b[39m\u001b[33mgameID\u001b[39m\u001b[33m'\u001b[39m:\n\u001b[32m--> \u001b[39m\u001b[32m130\u001b[39m     \u001b[43mparse_game_id\u001b[49m\u001b[43m(\u001b[49m\u001b[38;5;28;43mstr\u001b[39;49m\u001b[43m(\u001b[49m\u001b[43mvalue\u001b[49m\u001b[43m)\u001b[49m\u001b[43m)\u001b[49m\n\u001b[32m    131\u001b[39m     clean_params[key] = \u001b[38;5;28mstr\u001b[39m(value)\n\u001b[32m    133\u001b[39m \u001b[38;5;28;01melif\u001b[39;00m key == \u001b[33m'\u001b[39m\u001b[33mlineupType\u001b[39m\u001b[33m'\u001b[39m:\n",
      "\u001b[36mFile \u001b[39m\u001b[32mc:\\Users\\antho\\OneDrive\\Documents\\Repositories\\delapan-fantasy\\notebooks\\..\\src\\data\\collectors\\validators.py:29\u001b[39m, in \u001b[36mparse_game_id\u001b[39m\u001b[34m(game_id)\u001b[39m\n\u001b[32m     26\u001b[39m match = re.match(pattern, game_id)\n\u001b[32m     28\u001b[39m \u001b[38;5;28;01mif\u001b[39;00m \u001b[38;5;129;01mnot\u001b[39;00m match:\n\u001b[32m---> \u001b[39m\u001b[32m29\u001b[39m     \u001b[38;5;28;01mraise\u001b[39;00m ValidationError(\n\u001b[32m     30\u001b[39m         \u001b[33mf\u001b[39m\u001b[33m\"\u001b[39m\u001b[33mInvalid gameID format: \u001b[39m\u001b[38;5;132;01m{\u001b[39;00mgame_id\u001b[38;5;132;01m}\u001b[39;00m\u001b[33m. Expected: awayTeamAbv@homeTeamAbv_YYYYMMDD\u001b[39m\u001b[33m\"\u001b[39m\n\u001b[32m     31\u001b[39m     )\n\u001b[32m     33\u001b[39m away_team, home_team, game_date = match.groups()\n\u001b[32m     34\u001b[39m validate_date_format(game_date)\n",
      "\u001b[31mValidationError\u001b[39m: Invalid gameID format: 20250102_BOS@MIN. Expected: awayTeamAbv@homeTeamAbv_YYYYMMDD"
     ]
    }
   ],
   "source": [
    "client.get_box_score(game_id='BOS@MIN20250102')"
   ]
  },
  {
   "cell_type": "code",
   "execution_count": 50,
   "id": "ce8a73de",
   "metadata": {},
   "outputs": [
    {
     "data": {
      "text/plain": [
       "[{'gameID': '20250102_BKN@MIL',\n",
       "  'teamIDAway': '3',\n",
       "  'away': 'BKN',\n",
       "  'gameDate': '20250102',\n",
       "  'teamIDHome': '17',\n",
       "  'home': 'MIL'},\n",
       " {'gameID': '20250102_BOS@MIN',\n",
       "  'teamIDAway': '2',\n",
       "  'away': 'BOS',\n",
       "  'gameDate': '20250102',\n",
       "  'teamIDHome': '18',\n",
       "  'home': 'MIN'},\n",
       " {'gameID': '20250102_IND@MIA',\n",
       "  'teamIDAway': '12',\n",
       "  'away': 'IND',\n",
       "  'gameDate': '20250102',\n",
       "  'teamIDHome': '16',\n",
       "  'home': 'MIA'},\n",
       " {'gameID': '20250102_POR@LAL',\n",
       "  'teamIDAway': '25',\n",
       "  'away': 'POR',\n",
       "  'gameDate': '20250102',\n",
       "  'teamIDHome': '14',\n",
       "  'home': 'LAL'},\n",
       " {'gameID': '20250102_PHI@GS',\n",
       "  'teamIDAway': '23',\n",
       "  'away': 'PHI',\n",
       "  'gameDate': '20250102',\n",
       "  'teamIDHome': '10',\n",
       "  'home': 'GS'},\n",
       " {'gameID': '20250102_LAC@OKC',\n",
       "  'teamIDAway': '13',\n",
       "  'away': 'LAC',\n",
       "  'gameDate': '20250102',\n",
       "  'teamIDHome': '21',\n",
       "  'home': 'OKC'}]"
      ]
     },
     "execution_count": 50,
     "metadata": {},
     "output_type": "execute_result"
    }
   ],
   "source": [
    "schedules"
   ]
  },
  {
   "cell_type": "code",
   "execution_count": 45,
   "id": "bc727371",
   "metadata": {},
   "outputs": [
    {
     "ename": "NameError",
     "evalue": "name 'schedule_body' is not defined",
     "output_type": "error",
     "traceback": [
      "\u001b[31m---------------------------------------------------------------------------\u001b[39m",
      "\u001b[31mNameError\u001b[39m                                 Traceback (most recent call last)",
      "\u001b[36mCell\u001b[39m\u001b[36m \u001b[39m\u001b[32mIn[45]\u001b[39m\u001b[32m, line 1\u001b[39m\n\u001b[32m----> \u001b[39m\u001b[32m1\u001b[39m pd.DataFrame(\u001b[43mschedule_body\u001b[49m)\n",
      "\u001b[31mNameError\u001b[39m: name 'schedule_body' is not defined"
     ]
    }
   ],
   "source": [
    "pd.DataFrame(schedule_body)"
   ]
  },
  {
   "cell_type": "code",
   "execution_count": null,
   "id": "d1638a9e",
   "metadata": {},
   "outputs": [],
   "source": []
  },
  {
   "cell_type": "code",
   "execution_count": null,
   "id": "9f1e3b3e",
   "metadata": {},
   "outputs": [],
   "source": []
  }
 ],
 "metadata": {
  "kernelspec": {
   "display_name": "datascience",
   "language": "python",
   "name": "python3"
  },
  "language_info": {
   "codemirror_mode": {
    "name": "ipython",
    "version": 3
   },
   "file_extension": ".py",
   "mimetype": "text/x-python",
   "name": "python",
   "nbconvert_exporter": "python",
   "pygments_lexer": "ipython3",
   "version": "3.13.5"
  }
 },
 "nbformat": 4,
 "nbformat_minor": 5
}
